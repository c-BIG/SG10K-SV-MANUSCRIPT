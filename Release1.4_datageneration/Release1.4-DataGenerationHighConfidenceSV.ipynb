{
 "cells": [
  {
   "cell_type": "markdown",
   "id": "f2efbbfa-cd01-472f-871d-1308c87538da",
   "metadata": {},
   "source": [
    "## This notebook focus on adding the END of the SV and extracting high confidence SVs using GT2 recommended filters"
   ]
  },
  {
   "cell_type": "code",
   "execution_count": 1,
   "id": "c1bee984-d044-47e1-a43f-9f61c89f84c4",
   "metadata": {},
   "outputs": [
    {
     "data": {
      "text/html": [
       "Current session configs: <tt>{'driverMemory': '6000M', 'proxyUser': 'jovyan', 'kind': 'pyspark'}</tt><br>"
      ],
      "text/plain": [
       "<IPython.core.display.HTML object>"
      ]
     },
     "metadata": {},
     "output_type": "display_data"
    },
    {
     "data": {
      "text/html": [
       "No active sessions."
      ],
      "text/plain": [
       "<IPython.core.display.HTML object>"
      ]
     },
     "metadata": {},
     "output_type": "display_data"
    }
   ],
   "source": [
    "%%configure -f\n",
    "{\"driverMemory\": \"6000M\"}"
   ]
  },
  {
   "cell_type": "code",
   "execution_count": 2,
   "id": "c5ab84ad-bd27-4a84-819a-ad2e390b618e",
   "metadata": {},
   "outputs": [
    {
     "name": "stdout",
     "output_type": "stream",
     "text": [
      "Starting Spark application\n"
     ]
    },
    {
     "data": {
      "text/html": [],
      "text/plain": [
       "<IPython.core.display.HTML object>"
      ]
     },
     "metadata": {},
     "output_type": "display_data"
    },
    {
     "data": {
      "application/vnd.jupyter.widget-view+json": {
       "model_id": "",
       "version_major": 2,
       "version_minor": 0
      },
      "text/plain": [
       "FloatProgress(value=0.0, bar_style='info', description='Progress:', layout=Layout(height='25px', width='50%'),…"
      ]
     },
     "metadata": {},
     "output_type": "display_data"
    },
    {
     "name": "stdout",
     "output_type": "stream",
     "text": [
      "SparkSession available as 'spark'.\n"
     ]
    },
    {
     "data": {
      "application/vnd.jupyter.widget-view+json": {
       "model_id": "",
       "version_major": 2,
       "version_minor": 0
      },
      "text/plain": [
       "FloatProgress(value=0.0, bar_style='info', description='Progress:', layout=Layout(height='25px', width='50%'),…"
      ]
     },
     "metadata": {},
     "output_type": "display_data"
    },
    {
     "name": "stdout",
     "output_type": "stream",
     "text": [
      "pip-installed Hail requires additional configuration options in Spark referring\n",
      "  to the path to the Hail Python module directory HAIL_DIR,\n",
      "  e.g. /path/to/python/site-packages/hail:\n",
      "    spark.jars=HAIL_DIR/hail-all-spark.jar\n",
      "    spark.driver.extraClassPath=HAIL_DIR/hail-all-spark.jar\n",
      "    spark.executor.extraClassPath=./hail-all-spark.jarRunning on Apache Spark version 3.1.2-amzn-0\n",
      "SparkUI available at\n",
      "Welcome to\n",
      "     __  __     <>__\n",
      "    / /_/ /__  __/ /\n",
      "   / __  / _ `/ / /\n",
      "  /_/ /_/\\_,_/_/_/   version 0.2.80-4ccfae1ff293\n",
      "LOGGING: writing to "
     ]
    }
   ],
   "source": [
    "import hail as hl\n",
    "hl.init(sc)"
   ]
  },
  {
   "cell_type": "code",
   "execution_count": 3,
   "id": "171a3c59-c39a-4ebe-8b77-9f4d66591207",
   "metadata": {},
   "outputs": [
    {
     "data": {
      "application/vnd.jupyter.widget-view+json": {
       "model_id": "",
       "version_major": 2,
       "version_minor": 0
      },
      "text/plain": [
       "FloatProgress(value=0.0, bar_style='info', description='Progress:', layout=Layout(height='25px', width='50%'),…"
      ]
     },
     "metadata": {},
     "output_type": "display_data"
    }
   ],
   "source": [
    "## list all resources  used in this notebook \n",
    "release14_mt_uri =   \"SG10K-SV-Release-1.4.mt\"\n"
   ]
  },
  {
   "cell_type": "code",
   "execution_count": 4,
   "id": "a7867bb7-c6dc-4403-9137-12471a9acd18",
   "metadata": {},
   "outputs": [
    {
     "data": {
      "application/vnd.jupyter.widget-view+json": {
       "model_id": "",
       "version_major": 2,
       "version_minor": 0
      },
      "text/plain": [
       "FloatProgress(value=0.0, bar_style='info', description='Progress:', layout=Layout(height='25px', width='50%'),…"
      ]
     },
     "metadata": {},
     "output_type": "display_data"
    },
    {
     "name": "stdout",
     "output_type": "stream",
     "text": [
      "Samples: 5487; Variants: 93284; Entries: 511849308\n",
      "2024-04-17 02:39:56 Hail: WARN: entries(): Resulting entries table is sorted by '(row_key, col_key)'.\n",
      "    To preserve row-major matrix table order, first unkey columns with 'key_cols_by()'"
     ]
    }
   ],
   "source": [
    "# Read the matrix table\n",
    "mt = hl.read_matrix_table(release14_mt_uri)\n",
    "print(\"Samples: %d; Variants: %d; Entries: %d\" % (mt.count_cols(), mt.count_rows(), mt.entries().count()))"
   ]
  },
  {
   "cell_type": "code",
   "execution_count": 5,
   "id": "13983c9a-b548-477b-b5b8-c8c6bb28859c",
   "metadata": {},
   "outputs": [
    {
     "data": {
      "application/vnd.jupyter.widget-view+json": {
       "model_id": "",
       "version_major": 2,
       "version_minor": 0
      },
      "text/plain": [
       "FloatProgress(value=0.0, bar_style='info', description='Progress:', layout=Layout(height='25px', width='50%'),…"
      ]
     },
     "metadata": {},
     "output_type": "display_data"
    }
   ],
   "source": [
    "# add the END \n",
    "mt = mt.annotate_rows(\n",
    "    info = mt.info.annotate(\n",
    "        END = hl.coalesce(\n",
    "            hl.if_else(mt.info.manta.END > 0, mt.info.manta.END, hl.missing(hl.tint32)),\n",
    "            hl.if_else(mt.info.survindel2.END > 0, mt.info.survindel2.END, hl.missing(hl.tint32)),\n",
    "        ),\n",
    "    )\n",
    ")"
   ]
  },
  {
   "cell_type": "code",
   "execution_count": 6,
   "id": "3008914c-b763-47cf-aab6-23265b58f27b",
   "metadata": {
    "tags": []
   },
   "outputs": [
    {
     "data": {
      "application/vnd.jupyter.widget-view+json": {
       "model_id": "",
       "version_major": 2,
       "version_minor": 0
      },
      "text/plain": [
       "FloatProgress(value=0.0, bar_style='info', description='Progress:', layout=Layout(height='25px', width='50%'),…"
      ]
     },
     "metadata": {},
     "output_type": "display_data"
    },
    {
     "name": "stdout",
     "output_type": "stream",
     "text": [
      "+---------------+----------------------------------------+\n",
      "| locus         | alleles                                |\n",
      "+---------------+----------------------------------------+\n",
      "| locus<GRCh38> | array<str>                             |\n",
      "+---------------+----------------------------------------+\n",
      "| chr1:10546    | [\"N\",\"<DEL:SVSIZE=170464:AGGREGATED>\"] |\n",
      "| chr1:54720    | [\"C\",\"<DUP>\"]                          |\n",
      "| chr1:66224    | [\"N\",\"<DEL:SVSIZE=51:AGGREGATED>\"]     |\n",
      "| chr1:66534    | [\"T\",\"<DUP>\"]                          |\n",
      "| chr1:83963    | [\"A\",\"<DUP>\"]                          |\n",
      "| chr1:99061    | [\"C\",\"<DUP>\"]                          |\n",
      "| chr1:109468   | [\"N\",\"<DEL:SVSIZE=141:AGGREGATED>\"]    |\n",
      "| chr1:187139   | [\"C\",\"<INS:ME:LINE1>\"]                 |\n",
      "| chr1:600342   | [\"T\",\"<DUP>\"]                          |\n",
      "| chr1:600743   | [\"T\",\"<DUP>\"]                          |\n",
      "+---------------+----------------------------------------+\n",
      "\n",
      "+----------------------------------+-----------+----------+------------------+\n",
      "| rsid                             |      qual | filters  | info.manta.ABHet |\n",
      "+----------------------------------+-----------+----------+------------------+\n",
      "| str                              |   float64 | set<str> |          float64 |\n",
      "+----------------------------------+-----------+----------+------------------+\n",
      "| \"SG10K_SV_DEL_chr1_10546_170464\" |  2.88e+03 | {}       |         4.18e-01 |\n",
      "| \"SG10K_SV_DUP_chr1_54720_54\"     | -1.00e+01 | {}       |               NA |\n",
      "| \"SG10K_SV_DEL_chr1_66224_51\"     |  5.71e+05 | {}       |         5.91e-01 |\n",
      "| \"SG10K_SV_DUP_chr1_66534_58\"     | -1.00e+01 | {}       |               NA |\n",
      "| \"SG10K_SV_DUP_chr1_83963_75\"     | -1.00e+01 | {}       |               NA |\n",
      "| \"SG10K_SV_DUP_chr1_99061_52\"     | -1.00e+01 | {}       |               NA |\n",
      "| \"SG10K_SV_DEL_chr1_109468_141\"   |  3.36e+04 | {}       |         4.85e-01 |\n",
      "| \"SG10K_SV_INS_chr1_187139_3026\"  | -1.00e+01 | {}       |               NA |\n",
      "| \"SG10K_SV_DUP_chr1_600342_474\"   | -1.00e+01 | {}       |               NA |\n",
      "| \"SG10K_SV_DUP_chr1_600743_131\"   | -1.00e+01 | {}       |               NA |\n",
      "+----------------------------------+-----------+----------+------------------+\n",
      "\n",
      "+------------------+-----------------------+-----------------------+\n",
      "| info.manta.ABHom | info.manta.ABHetMulti | info.manta.ABHomMulti |\n",
      "+------------------+-----------------------+-----------------------+\n",
      "|          float64 | array<float64>        | array<float64>        |\n",
      "+------------------+-----------------------+-----------------------+\n",
      "|         9.97e-01 | NA                    | NA                    |\n",
      "|               NA | NA                    | NA                    |\n",
      "|         9.33e-01 | NA                    | NA                    |\n",
      "|               NA | NA                    | NA                    |\n",
      "|               NA | NA                    | NA                    |\n",
      "|               NA | NA                    | NA                    |\n",
      "|         1.00e+00 | NA                    | NA                    |\n",
      "|               NA | NA                    | NA                    |\n",
      "|               NA | NA                    | NA                    |\n",
      "|               NA | NA                    | NA                    |\n",
      "+------------------+-----------------------+-----------------------+\n",
      "\n",
      "+---------------+----------------+---------------+---------------+\n",
      "| info.manta.AC | info.manta.AF  | info.manta.AN | info.manta.CR |\n",
      "+---------------+----------------+---------------+---------------+\n",
      "| array<int32>  | array<float64> |         int32 |         int32 |\n",
      "+---------------+----------------+---------------+---------------+\n",
      "| [28]          | [2.51e-03]     |         11140 |             0 |\n",
      "| NA            | NA             |            NA |            NA |\n",
      "| [8982]        | [8.07e-01]     |         11134 |             0 |\n",
      "| NA            | NA             |            NA |            NA |\n",
      "| NA            | NA             |            NA |            NA |\n",
      "| NA            | NA             |            NA |            NA |\n",
      "| [302]         | [2.71e-02]     |         11140 |             0 |\n",
      "| NA            | NA             |            NA |            NA |\n",
      "| NA            | NA             |            NA |            NA |\n",
      "| NA            | NA             |            NA |            NA |\n",
      "+---------------+----------------+---------------+---------------+\n",
      "\n",
      "+----------------+-------------------+-----------------+-----------------+\n",
      "| info.manta.END | info.manta.HOMSEQ | info.manta.INV3 | info.manta.INV5 |\n",
      "+----------------+-------------------+-----------------+-----------------+\n",
      "|          int32 | array<str>        |            bool |            bool |\n",
      "+----------------+-------------------+-----------------+-----------------+\n",
      "|         181010 | NA                |           False |           False |\n",
      "|             NA | NA                |              NA |              NA |\n",
      "|          66275 | NA                |           False |           False |\n",
      "|             NA | NA                |              NA |              NA |\n",
      "|             NA | NA                |              NA |              NA |\n",
      "|             NA | NA                |              NA |              NA |\n",
      "|         109609 | NA                |           False |           False |\n",
      "|             NA | NA                |              NA |              NA |\n",
      "|             NA | NA                |              NA |              NA |\n",
      "|             NA | NA                |              NA |              NA |\n",
      "+----------------+-------------------+-----------------+-----------------+\n",
      "\n",
      "+--------------------------+-----------------+-------------------+\n",
      "| info.manta.LEFT_SVINSSEQ | info.manta.LOGF | info.manta.MaxAAS |\n",
      "+--------------------------+-----------------+-------------------+\n",
      "| array<str>               |         float64 | array<int32>      |\n",
      "+--------------------------+-----------------+-------------------+\n",
      "| NA                       |        2.45e-01 | [19]              |\n",
      "| NA                       |              NA | NA                |\n",
      "| NA                       |        7.46e-02 | [44]              |\n",
      "| NA                       |              NA | NA                |\n",
      "| NA                       |              NA | NA                |\n",
      "| NA                       |              NA | NA                |\n",
      "| NA                       |        3.63e-01 | [32]              |\n",
      "| NA                       |              NA | NA                |\n",
      "| NA                       |              NA | NA                |\n",
      "| NA                       |              NA | NA                |\n",
      "+--------------------------+-----------------+-------------------+\n",
      "\n",
      "+--------------------+---------------------+---------------+\n",
      "| info.manta.MaxAASR | info.manta.MaxAltPP | info.manta.MQ |\n",
      "+--------------------+---------------------+---------------+\n",
      "| array<float64>     |               int32 |         int32 |\n",
      "+--------------------+---------------------+---------------+\n",
      "| [5.29e-01]         |                   0 |             0 |\n",
      "| NA                 |                  NA |            NA |\n",
      "| [1.00e+00]         |                   4 |             0 |\n",
      "| NA                 |                  NA |            NA |\n",
      "| NA                 |                  NA |            NA |\n",
      "| NA                 |                  NA |            NA |\n",
      "| [6.67e-01]         |                   1 |             0 |\n",
      "| NA                 |                  NA |            NA |\n",
      "| NA                 |                  NA |            NA |\n",
      "| NA                 |                  NA |            NA |\n",
      "+--------------------+---------------------+---------------+\n",
      "\n",
      "+----------------------+----------------------+----------------+\n",
      "| info.manta.MQsquared | info.manta.NCLUSTERS | info.manta.NGT |\n",
      "+----------------------+----------------------+----------------+\n",
      "|                int32 |                int32 | array<int32>   |\n",
      "+----------------------+----------------------+----------------+\n",
      "|                    0 |                   NA | NA             |\n",
      "|                   NA |                   NA | NA             |\n",
      "|                    0 |                   NA | NA             |\n",
      "|                   NA |                   NA | NA             |\n",
      "|                   NA |                   NA | NA             |\n",
      "|                   NA |                   NA | NA             |\n",
      "|                    0 |                   NA | NA             |\n",
      "|                   NA |                   NA | NA             |\n",
      "|                   NA |                   NA | NA             |\n",
      "|                   NA |                   NA | NA             |\n",
      "+----------------------+----------------------+----------------+\n",
      "\n",
      "+-----------------+--------------------+--------------------+\n",
      "| info.manta.NHet | info.manta.NHomRef | info.manta.NHomAlt |\n",
      "+-----------------+--------------------+--------------------+\n",
      "|           int32 |              int32 |              int32 |\n",
      "+-----------------+--------------------+--------------------+\n",
      "|              28 |               5542 |                  0 |\n",
      "|              NA |                 NA |                 NA |\n",
      "|             234 |                959 |               4374 |\n",
      "|              NA |                 NA |                 NA |\n",
      "|              NA |                 NA |                 NA |\n",
      "|              NA |                 NA |                 NA |\n",
      "|             302 |               5268 |                  0 |\n",
      "|              NA |                 NA |                 NA |\n",
      "|              NA |                 NA |                 NA |\n",
      "|              NA |                 NA |                 NA |\n",
      "+-----------------+--------------------+--------------------+\n",
      "\n",
      "+---------------------------+---------------------------+--------------------+\n",
      "| info.manta.NUM_MERGED_SVS | info.manta.OLD_VARIANT_ID | info.manta.ORSTART |\n",
      "+---------------------------+---------------------------+--------------------+\n",
      "|                     int32 | str                       |              int32 |\n",
      "+---------------------------+---------------------------+--------------------+\n",
      "|                         1 | NA                        |                 NA |\n",
      "|                        NA | NA                        |                 NA |\n",
      "|                         1 | NA                        |                 NA |\n",
      "|                        NA | NA                        |                 NA |\n",
      "|                        NA | NA                        |                 NA |\n",
      "|                        NA | NA                        |                 NA |\n",
      "|                         1 | NA                        |                 NA |\n",
      "|                        NA | NA                        |                 NA |\n",
      "|                        NA | NA                        |                 NA |\n",
      "|                        NA | NA                        |                 NA |\n",
      "+---------------------------+---------------------------+--------------------+\n",
      "\n",
      "+------------------+---------------+--------------------+--------------------+\n",
      "| info.manta.OREND | info.manta.QD | info.manta.PASS_AC | info.manta.PASS_AN |\n",
      "+------------------+---------------+--------------------+--------------------+\n",
      "|            int32 |       float64 | array<int32>       |              int32 |\n",
      "+------------------+---------------+--------------------+--------------------+\n",
      "|               NA |      1.04e+01 | [27]               |              11092 |\n",
      "|               NA |            NA | NA                 |                 NA |\n",
      "|               NA |      1.28e+01 | [1105]             |               1138 |\n",
      "|               NA |            NA | NA                 |                 NA |\n",
      "|               NA |            NA | NA                 |                 NA |\n",
      "|               NA |            NA | NA                 |                 NA |\n",
      "|               NA |      1.11e+01 | [298]              |              11090 |\n",
      "|               NA |            NA | NA                 |                 NA |\n",
      "|               NA |            NA | NA                 |                 NA |\n",
      "|               NA |            NA | NA                 |                 NA |\n",
      "+------------------+---------------+--------------------+--------------------+\n",
      "\n",
      "+-----------------------+---------------+-------------------+\n",
      "| info.manta.PASS_ratio | info.manta.PS | info.manta.RefLen |\n",
      "+-----------------------+---------------+-------------------+\n",
      "|               float64 |         int32 |             int32 |\n",
      "+-----------------------+---------------+-------------------+\n",
      "|              9.96e-01 |            NA |                 1 |\n",
      "|                    NA |            NA |                NA |\n",
      "|              1.02e-01 |            NA |                 1 |\n",
      "|                    NA |            NA |                NA |\n",
      "|                    NA |            NA |                NA |\n",
      "|                    NA |            NA |                NA |\n",
      "|              9.96e-01 |            NA |                 1 |\n",
      "|                    NA |            NA |                NA |\n",
      "|                    NA |            NA |                NA |\n",
      "|                    NA |            NA |                NA |\n",
      "+-----------------------+---------------+-------------------+\n",
      "\n",
      "+--------------------------+---------------------------+---------------+\n",
      "| info.manta.RELATED_SV_ID | info.manta.RIGHT_SVINSSEQ | info.manta.SB |\n",
      "+--------------------------+---------------------------+---------------+\n",
      "|                    int32 | array<str>                |       float64 |\n",
      "+--------------------------+---------------------------+---------------+\n",
      "|                       NA | NA                        |      9.18e-01 |\n",
      "|                       NA | NA                        |            NA |\n",
      "|                       NA | NA                        |      1.16e-01 |\n",
      "|                       NA | NA                        |            NA |\n",
      "|                       NA | NA                        |            NA |\n",
      "|                       NA | NA                        |            NA |\n",
      "|                       NA | NA                        |      4.67e-01 |\n",
      "|                       NA | NA                        |            NA |\n",
      "|                       NA | NA                        |            NA |\n",
      "|                       NA | NA                        |            NA |\n",
      "+--------------------------+---------------------------+---------------+\n",
      "\n",
      "+------------------+----------------+-----------------+-----------------+\n",
      "| info.manta.SBAlt | info.manta.SBF | info.manta.SBF1 | info.manta.SBF2 |\n",
      "+------------------+----------------+-----------------+-----------------+\n",
      "|          float64 | array<int32>   | array<int32>    | array<int32>    |\n",
      "+------------------+----------------+-----------------+-----------------+\n",
      "|        -1.00e+00 | [88204,0]      | [37783,0]       | [50421,0]       |\n",
      "|               NA | NA             | NA              | NA              |\n",
      "|         1.39e-01 | [1218,32]      | [589,16]        | [629,16]        |\n",
      "|               NA | NA             | NA              | NA              |\n",
      "|               NA | NA             | NA              | NA              |\n",
      "|               NA | NA             | NA              | NA              |\n",
      "|         5.56e-01 | [115197,5]     | [58988,1]       | [56209,4]       |\n",
      "|               NA | NA             | NA              | NA              |\n",
      "|               NA | NA             | NA              | NA              |\n",
      "|               NA | NA             | NA              | NA              |\n",
      "+------------------+----------------+-----------------+-----------------+\n",
      "\n",
      "+----------------+-----------------+-----------------+----------------+\n",
      "| info.manta.SBR | info.manta.SBR1 | info.manta.SBR2 | info.manta.SEQ |\n",
      "+----------------+-----------------+-----------------+----------------+\n",
      "| array<int32>   | array<int32>    | array<int32>    | str            |\n",
      "+----------------+-----------------+-----------------+----------------+\n",
      "| [7882,0]       | [4319,0]        | [3563,0]        | NA             |\n",
      "| NA             | NA              | NA              | NA             |\n",
      "| [9371,198]     | [5131,109]      | [4240,89]       | NA             |\n",
      "| NA             | NA              | NA              | NA             |\n",
      "| NA             | NA              | NA              | NA             |\n",
      "| NA             | NA              | NA              | NA             |\n",
      "| [131270,4]     | [67204,3]       | [64066,1]       | NA             |\n",
      "| NA             | NA              | NA              | NA             |\n",
      "| NA             | NA              | NA              | NA             |\n",
      "| NA             | NA              | NA              | NA             |\n",
      "+----------------+-----------------+-----------------+----------------+\n",
      "\n",
      "+---------------------+------------------+---------------------+\n",
      "| info.manta.SeqDepth | info.manta.SV_ID | info.manta.SVINSSEQ |\n",
      "+---------------------+------------------+---------------------+\n",
      "|               int32 |            int32 | array<str>          |\n",
      "+---------------------+------------------+---------------------+\n",
      "|              142575 |                0 | NA                  |\n",
      "|                  NA |               NA | NA                  |\n",
      "|               90533 |                3 | NA                  |\n",
      "|                  NA |               NA | NA                  |\n",
      "|                  NA |               NA | NA                  |\n",
      "|                  NA |               NA | NA                  |\n",
      "|              253308 |                8 | NA                  |\n",
      "|                  NA |               NA | NA                  |\n",
      "|                  NA |               NA | NA                  |\n",
      "|                  NA |               NA | NA                  |\n",
      "+---------------------+------------------+---------------------+\n",
      "\n",
      "+------------------+--------------------+-------------------+\n",
      "| info.manta.SVLEN | info.manta.SVMODEL | info.manta.SVSIZE |\n",
      "+------------------+--------------------+-------------------+\n",
      "|            int32 | str                |             int32 |\n",
      "+------------------+--------------------+-------------------+\n",
      "|           170464 | \"AGGREGATED\"       |            170464 |\n",
      "|               NA | NA                 |                NA |\n",
      "|               51 | \"AGGREGATED\"       |                51 |\n",
      "|               NA | NA                 |                NA |\n",
      "|               NA | NA                 |                NA |\n",
      "|               NA | NA                 |                NA |\n",
      "|              141 | \"AGGREGATED\"       |               141 |\n",
      "|               NA | NA                 |                NA |\n",
      "|               NA | NA                 |                NA |\n",
      "|               NA | NA                 |                NA |\n",
      "+------------------+--------------------+-------------------+\n",
      "\n",
      "+-------------------+--------------------+----------------------------+\n",
      "| info.manta.SVTYPE | info.manta.VarType | info.manta.PASS_GT2_filter |\n",
      "+-------------------+--------------------+----------------------------+\n",
      "| str               | str                | str                        |\n",
      "+-------------------+--------------------+----------------------------+\n",
      "| \"DEL\"             | \"DG\"               | \"FAIL\"                     |\n",
      "| NA                | NA                 | NA                         |\n",
      "| \"DEL\"             | \"DG\"               | \"FAIL\"                     |\n",
      "| NA                | NA                 | NA                         |\n",
      "| NA                | NA                 | NA                         |\n",
      "| NA                | NA                 | NA                         |\n",
      "| \"DEL\"             | \"DG\"               | \"FAIL\"                     |\n",
      "| NA                | NA                 | NA                         |\n",
      "| NA                | NA                 | NA                         |\n",
      "| NA                | NA                 | NA                         |\n",
      "+-------------------+--------------------+----------------------------+\n",
      "\n",
      "+----------------------------------------+------------------+------------------+\n",
      "| info.manta.alleles                     | info.manta.rsid  | info.melt.ASSESS |\n",
      "+----------------------------------------+------------------+------------------+\n",
      "| array<str>                             | str              |            int32 |\n",
      "+----------------------------------------+------------------+------------------+\n",
      "| [\"N\",\"<DEL:SVSIZE=170464:AGGREGATED>\"] | \"chr1:10546:DG\"  |               NA |\n",
      "| NA                                     | NA               |               NA |\n",
      "| [\"N\",\"<DEL:SVSIZE=51:AGGREGATED>\"]     | \"chr1:66224:DG\"  |               NA |\n",
      "| NA                                     | NA               |               NA |\n",
      "| NA                                     | NA               |               NA |\n",
      "| NA                                     | NA               |               NA |\n",
      "| [\"N\",\"<DEL:SVSIZE=141:AGGREGATED>\"]    | \"chr1:109468:DG\" |               NA |\n",
      "| NA                                     | NA               |                1 |\n",
      "| NA                                     | NA               |               NA |\n",
      "| NA                                     | NA               |               NA |\n",
      "+----------------------------------------+------------------+------------------+\n",
      "\n",
      "+---------------+----------------------------+------------------+\n",
      "| info.melt.TSD | info.melt.INTERNAL         | info.melt.SVTYPE |\n",
      "+---------------+----------------------------+------------------+\n",
      "| str           | array<str>                 | str              |\n",
      "+---------------+----------------------------+------------------+\n",
      "| NA            | NA                         | NA               |\n",
      "| NA            | NA                         | NA               |\n",
      "| NA            | NA                         | NA               |\n",
      "| NA            | NA                         | NA               |\n",
      "| NA            | NA                         | NA               |\n",
      "| NA            | NA                         | NA               |\n",
      "| NA            | NA                         | NA               |\n",
      "| \"null\"        | [\"NR_107062\",\"TERMINATOR\"] | \"LINE1\"          |\n",
      "| NA            | NA                         | NA               |\n",
      "| NA            | NA                         | NA               |\n",
      "+---------------+----------------------------+------------------+\n",
      "\n",
      "+-----------------+-------------------------------+\n",
      "| info.melt.SVLEN | info.melt.MEINFO              |\n",
      "+-----------------+-------------------------------+\n",
      "|           int32 | array<str>                    |\n",
      "+-----------------+-------------------------------+\n",
      "|              NA | NA                            |\n",
      "|              NA | NA                            |\n",
      "|              NA | NA                            |\n",
      "|              NA | NA                            |\n",
      "|              NA | NA                            |\n",
      "|              NA | NA                            |\n",
      "|              NA | NA                            |\n",
      "|            3026 | [\"L1Ambig\",\"2992\",\"6018\",\"-\"] |\n",
      "|              NA | NA                            |\n",
      "|              NA | NA                            |\n",
      "+-----------------+-------------------------------+\n",
      "\n",
      "+------------------------------------------------------------------------------+\n",
      "| info.melt.DIFF                                                               |\n",
      "+------------------------------------------------------------------------------+\n",
      "| array<str>                                                                   |\n",
      "+------------------------------------------------------------------------------+\n",
      "| NA                                                                           |\n",
      "| NA                                                                           |\n",
      "| NA                                                                           |\n",
      "| NA                                                                           |\n",
      "| NA                                                                           |\n",
      "| NA                                                                           |\n",
      "| NA                                                                           |\n",
      "| [\"0.02:n1-4851\",\"c4866t\",\"g4878a\",\"t4887c\",\"c4893t\",\"a4898g\",\"g4957a\",\"c5... |\n",
      "| NA                                                                           |\n",
      "| NA                                                                           |\n",
      "+------------------------------------------------------------------------------+\n",
      "\n",
      "+--------------+--------------+--------------+-----------------+--------------+\n",
      "| info.melt.LP | info.melt.RP | info.melt.RA | info.melt.PRIOR | info.melt.SR |\n",
      "+--------------+--------------+--------------+-----------------+--------------+\n",
      "|        int32 |        int32 |      float64 | str             |        int32 |\n",
      "+--------------+--------------+--------------+-----------------+--------------+\n",
      "|           NA |           NA |           NA | NA              |           NA |\n",
      "|           NA |           NA |           NA | NA              |           NA |\n",
      "|           NA |           NA |           NA | NA              |           NA |\n",
      "|           NA |           NA |           NA | NA              |           NA |\n",
      "|           NA |           NA |           NA | NA              |           NA |\n",
      "|           NA |           NA |           NA | NA              |           NA |\n",
      "|           NA |           NA |           NA | NA              |           NA |\n",
      "|            3 |            5 |    -7.37e-01 | \"false\"         |            0 |\n",
      "|           NA |           NA |           NA | NA              |           NA |\n",
      "|           NA |           NA |           NA | NA              |           NA |\n",
      "+--------------+--------------+--------------+-----------------+--------------+\n",
      "\n",
      "+------------------------+----------------+------------------------+\n",
      "| info.melt.alleles      | info.melt.rsid | info.survindel2.SVTYPE |\n",
      "+------------------------+----------------+------------------------+\n",
      "| array<str>             | str            | str                    |\n",
      "+------------------------+----------------+------------------------+\n",
      "| NA                     | NA             | NA                     |\n",
      "| NA                     | NA             | \"DUP\"                  |\n",
      "| NA                     | NA             | NA                     |\n",
      "| NA                     | NA             | \"DUP\"                  |\n",
      "| NA                     | NA             | \"DUP\"                  |\n",
      "| NA                     | NA             | \"DUP\"                  |\n",
      "| NA                     | NA             | NA                     |\n",
      "| [\"C\",\"<INS:ME:LINE1>\"] | NA             | NA                     |\n",
      "| NA                     | NA             | \"DUP\"                  |\n",
      "| NA                     | NA             | \"DUP\"                  |\n",
      "+------------------------+----------------+------------------------+\n",
      "\n",
      "+---------------------+---------------------------+-----------------------+\n",
      "| info.survindel2.END | info.survindel2.N_SAMPLES | info.survindel2.N_SVS |\n",
      "+---------------------+---------------------------+-----------------------+\n",
      "|               int32 |                     int32 |                 int32 |\n",
      "+---------------------+---------------------------+-----------------------+\n",
      "|                  NA |                        NA |                    NA |\n",
      "|               54774 |                         2 |                     2 |\n",
      "|                  NA |                        NA |                    NA |\n",
      "|               66592 |                         1 |                     1 |\n",
      "|               84038 |                         1 |                     1 |\n",
      "|               99113 |                        12 |                    12 |\n",
      "|                  NA |                        NA |                    NA |\n",
      "|                  NA |                        NA |                    NA |\n",
      "|              600816 |                        12 |                    12 |\n",
      "|              600874 |                       203 |                   207 |\n",
      "+---------------------+---------------------------+-----------------------+\n",
      "\n",
      "+---------------------+------------------------+-------------------------+\n",
      "| info.survindel2.GCF | info.survindel2.SVSIZE | info.survindel2.alleles |\n",
      "+---------------------+------------------------+-------------------------+\n",
      "|             float64 |                  int32 | array<str>              |\n",
      "+---------------------+------------------------+-------------------------+\n",
      "|                  NA |                     NA | NA                      |\n",
      "|            2.55e-01 |                     54 | [\"C\",\"<DUP>\"]           |\n",
      "|                  NA |                     NA | NA                      |\n",
      "|            3.39e-02 |                     58 | [\"T\",\"<DUP>\"]           |\n",
      "|            2.37e-01 |                     75 | [\"A\",\"<DUP>\"]           |\n",
      "|            1.13e-01 |                     52 | [\"C\",\"<DUP>\"]           |\n",
      "|                  NA |                     NA | NA                      |\n",
      "|                  NA |                     NA | NA                      |\n",
      "|            4.15e-01 |                    474 | [\"T\",\"<DUP>\"]           |\n",
      "|            3.64e-01 |                    131 | [\"T\",\"<DUP>\"]           |\n",
      "+---------------------+------------------------+-------------------------+\n",
      "\n",
      "+----------------------+-------------+-------------+----------+\n",
      "| info.survindel2.rsid | info.SVTYPE | info.SVSIZE | info.END |\n",
      "+----------------------+-------------+-------------+----------+\n",
      "| str                  | str         |       int32 |    int32 |\n",
      "+----------------------+-------------+-------------+----------+\n",
      "| NA                   | \"DEL\"       |      170464 |   181010 |\n",
      "| \"CLUSTER_1\"          | \"DUP\"       |          54 |    54774 |\n",
      "| NA                   | \"DEL\"       |          51 |    66275 |\n",
      "| \"CLUSTER_2\"          | \"DUP\"       |          58 |    66592 |\n",
      "| \"CLUSTER_3\"          | \"DUP\"       |          75 |    84038 |\n",
      "| \"CLUSTER_4\"          | \"DUP\"       |          52 |    99113 |\n",
      "| NA                   | \"DEL\"       |         141 |   109609 |\n",
      "| NA                   | \"INS\"       |        3026 |       NA |\n",
      "| \"CLUSTER_5\"          | \"DUP\"       |         474 |   600816 |\n",
      "| \"CLUSTER_6\"          | \"DUP\"       |         131 |   600874 |\n",
      "+----------------------+-------------+-------------+----------+\n",
      "showing top 10 rows"
     ]
    }
   ],
   "source": [
    "mt.rows().show(10)"
   ]
  },
  {
   "cell_type": "code",
   "execution_count": 7,
   "id": "653c515a-2161-4c39-8f19-60c72f2031c9",
   "metadata": {},
   "outputs": [
    {
     "data": {
      "application/vnd.jupyter.widget-view+json": {
       "model_id": "",
       "version_major": 2,
       "version_minor": 0
      },
      "text/plain": [
       "FloatProgress(value=0.0, bar_style='info', description='Progress:', layout=Layout(height='25px', width='50%'),…"
      ]
     },
     "metadata": {},
     "output_type": "display_data"
    },
    {
     "name": "stdout",
     "output_type": "stream",
     "text": [
      "Samples: 5487; Variants: 73036; Entries: 400748532"
     ]
    }
   ],
   "source": [
    "# Extract Variants that PASS GT2 filters\n",
    "mt2 = mt.filter_rows((hl.is_missing(mt.info.manta.PASS_GT2_filter)) | (mt.info.manta.PASS_GT2_filter==\"PASS\"), keep=True)\n",
    "print(\"Samples: %d; Variants: %d; Entries: %d\" % (mt2.count_cols(), mt2.count_rows(), mt2.entries().count()))"
   ]
  },
  {
   "cell_type": "code",
   "execution_count": 11,
   "id": "3edd05f6-6353-46dc-b41d-3befc5608398",
   "metadata": {},
   "outputs": [
    {
     "data": {
      "application/vnd.jupyter.widget-view+json": {
       "model_id": "",
       "version_major": 2,
       "version_minor": 0
      },
      "text/plain": [
       "FloatProgress(value=0.0, bar_style='info', description='Progress:', layout=Layout(height='25px', width='50%'),…"
      ]
     },
     "metadata": {},
     "output_type": "display_data"
    },
    {
     "name": "stdout",
     "output_type": "stream",
     "text": [
      "+----------------+---------------+-----------------------------------+\n",
      "| locus          | alleles       | rsid                              |\n",
      "+----------------+---------------+-----------------------------------+\n",
      "| locus<GRCh38>  | array<str>    | str                               |\n",
      "+----------------+---------------+-----------------------------------+\n",
      "| chr18:76585529 | [\"C\",\"<DUP>\"] | \"SG10K_SV_DUP_chr18_76585529_284\" |\n",
      "| chr18:76585529 | [\"C\",\"<DUP>\"] | \"SG10K_SV_DUP_chr18_76585529_284\" |\n",
      "+----------------+---------------+-----------------------------------+\n",
      "\n",
      "+-----------+----------+------------------+------------------+\n",
      "|      qual | filters  | info.manta.ABHet | info.manta.ABHom |\n",
      "+-----------+----------+------------------+------------------+\n",
      "|   float64 | set<str> |          float64 |          float64 |\n",
      "+-----------+----------+------------------+------------------+\n",
      "| -1.00e+01 | {}       |               NA |               NA |\n",
      "| -1.00e+01 | {}       |               NA |               NA |\n",
      "+-----------+----------+------------------+------------------+\n",
      "\n",
      "+-----------------------+-----------------------+---------------+\n",
      "| info.manta.ABHetMulti | info.manta.ABHomMulti | info.manta.AC |\n",
      "+-----------------------+-----------------------+---------------+\n",
      "| array<float64>        | array<float64>        | array<int32>  |\n",
      "+-----------------------+-----------------------+---------------+\n",
      "| NA                    | NA                    | NA            |\n",
      "| NA                    | NA                    | NA            |\n",
      "+-----------------------+-----------------------+---------------+\n",
      "\n",
      "+----------------+---------------+---------------+----------------+\n",
      "| info.manta.AF  | info.manta.AN | info.manta.CR | info.manta.END |\n",
      "+----------------+---------------+---------------+----------------+\n",
      "| array<float64> |         int32 |         int32 |          int32 |\n",
      "+----------------+---------------+---------------+----------------+\n",
      "| NA             |            NA |            NA |             NA |\n",
      "| NA             |            NA |            NA |             NA |\n",
      "+----------------+---------------+---------------+----------------+\n",
      "\n",
      "+-------------------+-----------------+-----------------+\n",
      "| info.manta.HOMSEQ | info.manta.INV3 | info.manta.INV5 |\n",
      "+-------------------+-----------------+-----------------+\n",
      "| array<str>        |            bool |            bool |\n",
      "+-------------------+-----------------+-----------------+\n",
      "| NA                |              NA |              NA |\n",
      "| NA                |              NA |              NA |\n",
      "+-------------------+-----------------+-----------------+\n",
      "\n",
      "+--------------------------+-----------------+-------------------+\n",
      "| info.manta.LEFT_SVINSSEQ | info.manta.LOGF | info.manta.MaxAAS |\n",
      "+--------------------------+-----------------+-------------------+\n",
      "| array<str>               |         float64 | array<int32>      |\n",
      "+--------------------------+-----------------+-------------------+\n",
      "| NA                       |              NA | NA                |\n",
      "| NA                       |              NA | NA                |\n",
      "+--------------------------+-----------------+-------------------+\n",
      "\n",
      "+--------------------+---------------------+---------------+\n",
      "| info.manta.MaxAASR | info.manta.MaxAltPP | info.manta.MQ |\n",
      "+--------------------+---------------------+---------------+\n",
      "| array<float64>     |               int32 |         int32 |\n",
      "+--------------------+---------------------+---------------+\n",
      "| NA                 |                  NA |            NA |\n",
      "| NA                 |                  NA |            NA |\n",
      "+--------------------+---------------------+---------------+\n",
      "\n",
      "+----------------------+----------------------+----------------+\n",
      "| info.manta.MQsquared | info.manta.NCLUSTERS | info.manta.NGT |\n",
      "+----------------------+----------------------+----------------+\n",
      "|                int32 |                int32 | array<int32>   |\n",
      "+----------------------+----------------------+----------------+\n",
      "|                   NA |                   NA | NA             |\n",
      "|                   NA |                   NA | NA             |\n",
      "+----------------------+----------------------+----------------+\n",
      "\n",
      "+-----------------+--------------------+--------------------+\n",
      "| info.manta.NHet | info.manta.NHomRef | info.manta.NHomAlt |\n",
      "+-----------------+--------------------+--------------------+\n",
      "|           int32 |              int32 |              int32 |\n",
      "+-----------------+--------------------+--------------------+\n",
      "|              NA |                 NA |                 NA |\n",
      "|              NA |                 NA |                 NA |\n",
      "+-----------------+--------------------+--------------------+\n",
      "\n",
      "+---------------------------+---------------------------+--------------------+\n",
      "| info.manta.NUM_MERGED_SVS | info.manta.OLD_VARIANT_ID | info.manta.ORSTART |\n",
      "+---------------------------+---------------------------+--------------------+\n",
      "|                     int32 | str                       |              int32 |\n",
      "+---------------------------+---------------------------+--------------------+\n",
      "|                        NA | NA                        |                 NA |\n",
      "|                        NA | NA                        |                 NA |\n",
      "+---------------------------+---------------------------+--------------------+\n",
      "\n",
      "+------------------+---------------+--------------------+--------------------+\n",
      "| info.manta.OREND | info.manta.QD | info.manta.PASS_AC | info.manta.PASS_AN |\n",
      "+------------------+---------------+--------------------+--------------------+\n",
      "|            int32 |       float64 | array<int32>       |              int32 |\n",
      "+------------------+---------------+--------------------+--------------------+\n",
      "|               NA |            NA | NA                 |                 NA |\n",
      "|               NA |            NA | NA                 |                 NA |\n",
      "+------------------+---------------+--------------------+--------------------+\n",
      "\n",
      "+-----------------------+---------------+-------------------+\n",
      "| info.manta.PASS_ratio | info.manta.PS | info.manta.RefLen |\n",
      "+-----------------------+---------------+-------------------+\n",
      "|               float64 |         int32 |             int32 |\n",
      "+-----------------------+---------------+-------------------+\n",
      "|                    NA |            NA |                NA |\n",
      "|                    NA |            NA |                NA |\n",
      "+-----------------------+---------------+-------------------+\n",
      "\n",
      "+--------------------------+---------------------------+---------------+\n",
      "| info.manta.RELATED_SV_ID | info.manta.RIGHT_SVINSSEQ | info.manta.SB |\n",
      "+--------------------------+---------------------------+---------------+\n",
      "|                    int32 | array<str>                |       float64 |\n",
      "+--------------------------+---------------------------+---------------+\n",
      "|                       NA | NA                        |            NA |\n",
      "|                       NA | NA                        |            NA |\n",
      "+--------------------------+---------------------------+---------------+\n",
      "\n",
      "+------------------+----------------+-----------------+-----------------+\n",
      "| info.manta.SBAlt | info.manta.SBF | info.manta.SBF1 | info.manta.SBF2 |\n",
      "+------------------+----------------+-----------------+-----------------+\n",
      "|          float64 | array<int32>   | array<int32>    | array<int32>    |\n",
      "+------------------+----------------+-----------------+-----------------+\n",
      "|               NA | NA             | NA              | NA              |\n",
      "|               NA | NA             | NA              | NA              |\n",
      "+------------------+----------------+-----------------+-----------------+\n",
      "\n",
      "+----------------+-----------------+-----------------+----------------+\n",
      "| info.manta.SBR | info.manta.SBR1 | info.manta.SBR2 | info.manta.SEQ |\n",
      "+----------------+-----------------+-----------------+----------------+\n",
      "| array<int32>   | array<int32>    | array<int32>    | str            |\n",
      "+----------------+-----------------+-----------------+----------------+\n",
      "| NA             | NA              | NA              | NA             |\n",
      "| NA             | NA              | NA              | NA             |\n",
      "+----------------+-----------------+-----------------+----------------+\n",
      "\n",
      "+---------------------+------------------+---------------------+\n",
      "| info.manta.SeqDepth | info.manta.SV_ID | info.manta.SVINSSEQ |\n",
      "+---------------------+------------------+---------------------+\n",
      "|               int32 |            int32 | array<str>          |\n",
      "+---------------------+------------------+---------------------+\n",
      "|                  NA |               NA | NA                  |\n",
      "|                  NA |               NA | NA                  |\n",
      "+---------------------+------------------+---------------------+\n",
      "\n",
      "+------------------+--------------------+-------------------+\n",
      "| info.manta.SVLEN | info.manta.SVMODEL | info.manta.SVSIZE |\n",
      "+------------------+--------------------+-------------------+\n",
      "|            int32 | str                |             int32 |\n",
      "+------------------+--------------------+-------------------+\n",
      "|               NA | NA                 |                NA |\n",
      "|               NA | NA                 |                NA |\n",
      "+------------------+--------------------+-------------------+\n",
      "\n",
      "+-------------------+--------------------+----------------------------+\n",
      "| info.manta.SVTYPE | info.manta.VarType | info.manta.PASS_GT2_filter |\n",
      "+-------------------+--------------------+----------------------------+\n",
      "| str               | str                | str                        |\n",
      "+-------------------+--------------------+----------------------------+\n",
      "| NA                | NA                 | NA                         |\n",
      "| NA                | NA                 | NA                         |\n",
      "+-------------------+--------------------+----------------------------+\n",
      "\n",
      "+--------------------+-----------------+------------------+---------------+\n",
      "| info.manta.alleles | info.manta.rsid | info.melt.ASSESS | info.melt.TSD |\n",
      "+--------------------+-----------------+------------------+---------------+\n",
      "| array<str>         | str             |            int32 | str           |\n",
      "+--------------------+-----------------+------------------+---------------+\n",
      "| NA                 | NA              |               NA | NA            |\n",
      "| NA                 | NA              |               NA | NA            |\n",
      "+--------------------+-----------------+------------------+---------------+\n",
      "\n",
      "+--------------------+------------------+-----------------+------------------+\n",
      "| info.melt.INTERNAL | info.melt.SVTYPE | info.melt.SVLEN | info.melt.MEINFO |\n",
      "+--------------------+------------------+-----------------+------------------+\n",
      "| array<str>         | str              |           int32 | array<str>       |\n",
      "+--------------------+------------------+-----------------+------------------+\n",
      "| NA                 | NA               |              NA | NA               |\n",
      "| NA                 | NA               |              NA | NA               |\n",
      "+--------------------+------------------+-----------------+------------------+\n",
      "\n",
      "+----------------+--------------+--------------+--------------+\n",
      "| info.melt.DIFF | info.melt.LP | info.melt.RP | info.melt.RA |\n",
      "+----------------+--------------+--------------+--------------+\n",
      "| array<str>     |        int32 |        int32 |      float64 |\n",
      "+----------------+--------------+--------------+--------------+\n",
      "| NA             |           NA |           NA |           NA |\n",
      "| NA             |           NA |           NA |           NA |\n",
      "+----------------+--------------+--------------+--------------+\n",
      "\n",
      "+-----------------+--------------+-------------------+----------------+\n",
      "| info.melt.PRIOR | info.melt.SR | info.melt.alleles | info.melt.rsid |\n",
      "+-----------------+--------------+-------------------+----------------+\n",
      "| str             |        int32 | array<str>        | str            |\n",
      "+-----------------+--------------+-------------------+----------------+\n",
      "| NA              |           NA | NA                | NA             |\n",
      "| NA              |           NA | NA                | NA             |\n",
      "+-----------------+--------------+-------------------+----------------+\n",
      "\n",
      "+------------------------+---------------------+---------------------------+\n",
      "| info.survindel2.SVTYPE | info.survindel2.END | info.survindel2.N_SAMPLES |\n",
      "+------------------------+---------------------+---------------------------+\n",
      "| str                    |               int32 |                     int32 |\n",
      "+------------------------+---------------------+---------------------------+\n",
      "| \"DUP\"                  |            76585813 |                         7 |\n",
      "| \"DUP\"                  |            76585813 |                        16 |\n",
      "+------------------------+---------------------+---------------------------+\n",
      "\n",
      "+-----------------------+---------------------+------------------------+\n",
      "| info.survindel2.N_SVS | info.survindel2.GCF | info.survindel2.SVSIZE |\n",
      "+-----------------------+---------------------+------------------------+\n",
      "|                 int32 |             float64 |                  int32 |\n",
      "+-----------------------+---------------------+------------------------+\n",
      "|                     7 |            3.93e-01 |                    284 |\n",
      "|                    16 |            3.93e-01 |                    284 |\n",
      "+-----------------------+---------------------+------------------------+\n",
      "\n",
      "+-------------------------+----------------------+-------------+-------------+\n",
      "| info.survindel2.alleles | info.survindel2.rsid | info.SVTYPE | info.SVSIZE |\n",
      "+-------------------------+----------------------+-------------+-------------+\n",
      "| array<str>              | str                  | str         |       int32 |\n",
      "+-------------------------+----------------------+-------------+-------------+\n",
      "| [\"C\",\"<DUP>\"]           | \"CLUSTER_19017\"      | \"DUP\"       |         284 |\n",
      "| [\"C\",\"<DUP>\"]           | \"CLUSTER_19018\"      | \"DUP\"       |         284 |\n",
      "+-------------------------+----------------------+-------------+-------------+\n",
      "\n",
      "+----------+\n",
      "| info.END |\n",
      "+----------+\n",
      "|    int32 |\n",
      "+----------+\n",
      "| 76585813 |\n",
      "| 76585813 |\n",
      "+----------+"
     ]
    }
   ],
   "source": [
    "# Check for duplicated duplication mt.filter_rows( (mt.row.rsid == \"SG10K_SV_DUP_chr18_76585529_284\")\n",
    "mt2.filter_rows(mt2.rsid == \"SG10K_SV_DUP_chr18_76585529_284\").rows().show()"
   ]
  },
  {
   "cell_type": "code",
   "execution_count": 12,
   "id": "8d558719-c156-4f42-8af2-8fec253ad1fd",
   "metadata": {},
   "outputs": [
    {
     "data": {
      "application/vnd.jupyter.widget-view+json": {
       "model_id": "",
       "version_major": 2,
       "version_minor": 0
      },
      "text/plain": [
       "FloatProgress(value=0.0, bar_style='info', description='Progress:', layout=Layout(height='25px', width='50%'),…"
      ]
     },
     "metadata": {},
     "output_type": "display_data"
    },
    {
     "name": "stdout",
     "output_type": "stream",
     "text": [
      "Samples: 5487; Variants: 73035; Entries: 400743045"
     ]
    }
   ],
   "source": [
    "## Remove the duplicated Duplication with N-Sample = 7\n",
    "mt2 = mt2.filter_rows( (mt2.rsid == \"SG10K_SV_DUP_chr18_76585529_284\") & (mt2.info.survindel2.N_SAMPLES == 7) , keep=False)\n",
    "print(\"Samples: %d; Variants: %d; Entries: %d\" % (mt2.count_cols(), mt2.count_rows(), mt2.entries().count()))"
   ]
  },
  {
   "cell_type": "code",
   "execution_count": 13,
   "id": "0ab1aca7-2d1d-4932-bed0-03fdcd1b40b4",
   "metadata": {},
   "outputs": [
    {
     "data": {
      "application/vnd.jupyter.widget-view+json": {
       "model_id": "",
       "version_major": 2,
       "version_minor": 0
      },
      "text/plain": [
       "FloatProgress(value=0.0, bar_style='info', description='Progress:', layout=Layout(height='25px', width='50%'),…"
      ]
     },
     "metadata": {},
     "output_type": "display_data"
    },
    {
     "name": "stdout",
     "output_type": "stream",
     "text": [
      "frozendict({'DEL': 11560, 'DUP': 32464, 'INS': 29011})"
     ]
    }
   ],
   "source": [
    "svtype_stats = mt2.aggregate_rows(hl.struct( svtype_stat = hl.agg.counter(mt2.info.SVTYPE)))\n",
    "print(svtype_stats.svtype_stat)"
   ]
  },
  {
   "cell_type": "code",
   "execution_count": 14,
   "id": "4feb9099-aa4e-4a67-b86b-142e74af56a1",
   "metadata": {},
   "outputs": [
    {
     "data": {
      "application/vnd.jupyter.widget-view+json": {
       "model_id": "",
       "version_major": 2,
       "version_minor": 0
      },
      "text/plain": [
       "FloatProgress(value=0.0, bar_style='info', description='Progress:', layout=Layout(height='25px', width='50%'),…"
      ]
     },
     "metadata": {},
     "output_type": "display_data"
    },
    {
     "name": "stdout",
     "output_type": "stream",
     "text": [
      "frozendict({'DEL': 24561, 'DUP': 32465, 'INS': 36258})"
     ]
    }
   ],
   "source": [
    "# check the numbers before applying GT2 filters\n",
    "svtype_stats = mt.aggregate_rows(hl.struct( svtype_stat = hl.agg.counter(mt.info.SVTYPE)))\n",
    "print(svtype_stats.svtype_stat)"
   ]
  },
  {
   "cell_type": "code",
   "execution_count": 15,
   "id": "c4f3db37-5105-4c04-9874-aaacab5571e0",
   "metadata": {},
   "outputs": [
    {
     "data": {
      "application/vnd.jupyter.widget-view+json": {
       "model_id": "",
       "version_major": 2,
       "version_minor": 0
      },
      "text/plain": [
       "FloatProgress(value=0.0, bar_style='info', description='Progress:', layout=Layout(height='25px', width='50%'),…"
      ]
     },
     "metadata": {},
     "output_type": "display_data"
    },
    {
     "name": "stdout",
     "output_type": "stream",
     "text": [
      "2024-04-17 02:44:53 Hail: INFO: wrote matrix table with 73035 rows and 5487 columns in 91 partitions to SG10K-SV-Release-1.4-HighConfidenceSV.mt"
     ]
    }
   ],
   "source": [
    "## write the resulting mt\n",
    "release14_hc_mt_uri =   \"SG10K-SV-Release-1.4-HighConfidenceSV.mt\"\n",
    "mt2.write(release14_hc_mt_uri, overwrite=True)"
   ]
  },
  {
   "cell_type": "code",
   "execution_count": null,
   "id": "10e568bf-c96a-4593-881c-c647f2ce98a2",
   "metadata": {},
   "outputs": [],
   "source": []
  }
 ],
 "metadata": {
  "kernelspec": {
   "display_name": "PySpark",
   "language": "python",
   "name": "pysparkkernel"
  },
  "language_info": {
   "codemirror_mode": {
    "name": "python",
    "version": 3
   },
   "file_extension": ".py",
   "mimetype": "text/x-python",
   "name": "pyspark",
   "pygments_lexer": "python3"
  }
 },
 "nbformat": 4,
 "nbformat_minor": 5
}

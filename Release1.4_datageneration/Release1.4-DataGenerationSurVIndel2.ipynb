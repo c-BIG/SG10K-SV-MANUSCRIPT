{
 "cells": [
  {
   "cell_type": "markdown",
   "id": "0f695da7-8813-4a76-a674-36b46d56e0be",
   "metadata": {},
   "source": [
    "### This notebook focus on generating a SurvIndel matrix table from MELT VCFs¶\n"
   ]
  },
  {
   "cell_type": "code",
   "execution_count": 1,
   "id": "e0261598-cc46-4725-92dd-e274a46d09d2",
   "metadata": {},
   "outputs": [
    {
     "data": {
      "text/html": [
       "Current session configs: <tt>{'driverMemory': '6000M', 'proxyUser': 'jovyan', 'kind': 'pyspark'}</tt><br>"
      ],
      "text/plain": [
       "<IPython.core.display.HTML object>"
      ]
     },
     "metadata": {},
     "output_type": "display_data"
    },
    {
     "data": {
      "text/html": [],
      "text/plain": [
       "<IPython.core.display.HTML object>"
      ]
     },
     "metadata": {},
     "output_type": "display_data"
    }
   ],
   "source": [
    "%%configure -f\n",
    "{\"driverMemory\": \"6000M\"}"
   ]
  },
  {
   "cell_type": "code",
   "execution_count": 2,
   "id": "663a0b47-d1cb-46b2-bbfd-8da6e7135a0b",
   "metadata": {},
   "outputs": [
    {
     "name": "stdout",
     "output_type": "stream",
     "text": [
      "Starting Spark application\n"
     ]
    },
    {
     "data": {
      "text/html": [],
      "text/plain": [
       "<IPython.core.display.HTML object>"
      ]
     },
     "metadata": {},
     "output_type": "display_data"
    },
    {
     "data": {
      "application/vnd.jupyter.widget-view+json": {
       "model_id": "",
       "version_major": 2,
       "version_minor": 0
      },
      "text/plain": [
       "FloatProgress(value=0.0, bar_style='info', description='Progress:', layout=Layout(height='25px', width='50%'),…"
      ]
     },
     "metadata": {},
     "output_type": "display_data"
    },
    {
     "name": "stdout",
     "output_type": "stream",
     "text": [
      "SparkSession available as 'spark'.\n"
     ]
    },
    {
     "data": {
      "application/vnd.jupyter.widget-view+json": {
       "model_id": "",
       "version_major": 2,
       "version_minor": 0
      },
      "text/plain": [
       "FloatProgress(value=0.0, bar_style='info', description='Progress:', layout=Layout(height='25px', width='50%'),…"
      ]
     },
     "metadata": {},
     "output_type": "display_data"
    },
    {
     "name": "stdout",
     "output_type": "stream",
     "text": [
      "pip-installed Hail requires additional configuration options in Spark referring\n",
      "  to the path to the Hail Python module directory HAIL_DIR,\n",
      "  e.g. /path/to/python/site-packages/hail:\n",
      "    spark.jars=HAIL_DIR/hail-all-spark.jar\n",
      "    spark.driver.extraClassPath=HAIL_DIR/hail-all-spark.jar\n",
      "    spark.executor.extraClassPath=./hail-all-spark.jarRunning on Apache Spark version 3.1.2-amzn-0\n",
      "SparkUI available at\n",
      "Welcome to\n",
      "     __  __     <>__\n",
      "    / /_/ /__  __/ /\n",
      "   / __  / _ `/ / /\n",
      "  /_/ /_/\\_,_/_/_/   version 0.2.80-4ccfae1ff293\n",
      "LOGGING: writing to"
     ]
    }
   ],
   "source": [
    "import hail as hl\n",
    "hl.init(sc)"
   ]
  },
  {
   "cell_type": "code",
   "execution_count": 3,
   "id": "707ebca3-e1f4-4032-a29a-a4ee80457d86",
   "metadata": {},
   "outputs": [
    {
     "data": {
      "application/vnd.jupyter.widget-view+json": {
       "model_id": "",
       "version_major": 2,
       "version_minor": 0
      },
      "text/plain": [
       "FloatProgress(value=0.0, bar_style='info', description='Progress:', layout=Layout(height='25px', width='50%'),…"
      ]
     },
     "metadata": {},
     "output_type": "display_data"
    }
   ],
   "source": [
    "## list all resources  used in this notebook \n",
    "survindel2_uri=\"DUP.for_hail.vcf.gz\"\n",
    "#whiltelist_region_bed_uri = \"resources_broad_hg38_v0_wgs_calling_regions.hg38.merged.minus_excl_regions.bed\"\n",
    "whiltelist_region_bed_uri = \"resources_broad_hg38_v0_wgs_calling_regions.hg38.merged.autosome_only-minus_excl_regions.bed\"\n",
    "\n",
    "release14_sample_txt_uri = \"SG10K-SV-Release-1.3.samples.txt\""
   ]
  },
  {
   "cell_type": "code",
   "execution_count": 4,
   "id": "7bb51e24-9954-47ca-87e6-bab11abdae78",
   "metadata": {},
   "outputs": [
    {
     "data": {
      "application/vnd.jupyter.widget-view+json": {
       "model_id": "",
       "version_major": 2,
       "version_minor": 0
      },
      "text/plain": [
       "FloatProgress(value=0.0, bar_style='info', description='Progress:', layout=Layout(height='25px', width='50%'),…"
      ]
     },
     "metadata": {},
     "output_type": "display_data"
    },
    {
     "name": "stdout",
     "output_type": "stream",
     "text": [
      "----------------------------------------\n",
      "Global fields:\n",
      "    None\n",
      "----------------------------------------\n",
      "Column fields:\n",
      "    's': str\n",
      "----------------------------------------\n",
      "Row fields:\n",
      "    'locus': locus<GRCh38>\n",
      "    'alleles': array<str>\n",
      "    'rsid': str\n",
      "    'qual': float64\n",
      "    'filters': set<str>\n",
      "    'info': struct {\n",
      "        SVTYPE: str, \n",
      "        END: int32, \n",
      "        N_SAMPLES: int32, \n",
      "        N_SVS: int32, \n",
      "        GCF: float64, \n",
      "        SVSIZE: int32\n",
      "    }\n",
      "----------------------------------------\n",
      "Entry fields:\n",
      "    'GT': call\n",
      "    'FT': str\n",
      "    'AR': int32\n",
      "    'SR': int32\n",
      "    'RR': int32\n",
      "    'RS': int32\n",
      "    'RE': int32\n",
      "    'CN': int32\n",
      "    'IL': int32\n",
      "    'WR': int32\n",
      "    'DFL': int32\n",
      "    'DDL': int32\n",
      "    'DDR': int32\n",
      "    'DFR': int32\n",
      "    'CID': int32\n",
      "    'OW': int32\n",
      "    'DHFC': float64\n",
      "    'DHBFC': float64\n",
      "    'DHFFC': float64\n",
      "    'DHSP': int32\n",
      "----------------------------------------\n",
      "Column key: ['s']\n",
      "Row key: ['locus', 'alleles']\n",
      "----------------------------------------"
     ]
    }
   ],
   "source": [
    "mt = hl.import_vcf(survindel2_uri, reference_genome=\"GRCh38\", force_bgz=True)\n",
    "mt.describe()"
   ]
  },
  {
   "cell_type": "code",
   "execution_count": 5,
   "id": "e30e9591-d13d-40b2-9468-1a34b5a3743d",
   "metadata": {},
   "outputs": [
    {
     "data": {
      "application/vnd.jupyter.widget-view+json": {
       "model_id": "",
       "version_major": 2,
       "version_minor": 0
      },
      "text/plain": [
       "FloatProgress(value=0.0, bar_style='info', description='Progress:', layout=Layout(height='25px', width='50%'),…"
      ]
     },
     "metadata": {},
     "output_type": "display_data"
    },
    {
     "name": "stdout",
     "output_type": "stream",
     "text": [
      "5487\n",
      "(43622, 5856)\n",
      "(43622, 5487)\n",
      "2024-04-11 09:16:44 Hail: INFO: Reading table without type imputation\n",
      "  Loading field 's' as type str (not specified)\n",
      "2024-04-11 09:16:58 Hail: INFO: Coerced sorted dataset\n",
      "2024-04-11 09:17:14 Hail: INFO: Coerced sorted dataset"
     ]
    }
   ],
   "source": [
    "## Filter out relevant samples\n",
    "sample_ht = hl.import_table(release14_sample_txt_uri).key_by('s')\n",
    "\n",
    "print(sample_ht.count()) ## 5487\n",
    "print(mt.count()) ## \n",
    "\n",
    "mt = mt.filter_cols(hl.is_defined(sample_ht[mt.col_key]))\n",
    "\n",
    "print(mt.count()) ## \n"
   ]
  },
  {
   "cell_type": "code",
   "execution_count": 6,
   "id": "cabca126-9603-4722-a2e6-162765b99f99",
   "metadata": {},
   "outputs": [
    {
     "data": {
      "application/vnd.jupyter.widget-view+json": {
       "model_id": "",
       "version_major": 2,
       "version_minor": 0
      },
      "text/plain": [
       "FloatProgress(value=0.0, bar_style='info', description='Progress:', layout=Layout(height='25px', width='50%'),…"
      ]
     },
     "metadata": {},
     "output_type": "display_data"
    },
    {
     "name": "stdout",
     "output_type": "stream",
     "text": [
      "frozendict({'DUP': 43622})\n",
      "2024-04-11 09:17:30 Hail: INFO: Coerced sorted dataset"
     ]
    }
   ],
   "source": [
    "svtype_stats = mt.aggregate_rows(hl.struct( svtype_stat = hl.agg.counter(mt.info.SVTYPE)))\n",
    "print(svtype_stats.svtype_stat)"
   ]
  },
  {
   "cell_type": "code",
   "execution_count": 7,
   "id": "f01a3a6a-4d06-4547-9606-51c365112608",
   "metadata": {},
   "outputs": [
    {
     "data": {
      "application/vnd.jupyter.widget-view+json": {
       "model_id": "",
       "version_major": 2,
       "version_minor": 0
      },
      "text/plain": [
       "FloatProgress(value=0.0, bar_style='info', description='Progress:', layout=Layout(height='25px', width='50%'),…"
      ]
     },
     "metadata": {},
     "output_type": "display_data"
    },
    {
     "name": "stdout",
     "output_type": "stream",
     "text": [
      "+---------------+---------------+-------------+-----------+----------+\n",
      "| locus         | alleles       | rsid        |      qual | filters  |\n",
      "+---------------+---------------+-------------+-----------+----------+\n",
      "| locus<GRCh38> | array<str>    | str         |   float64 | set<str> |\n",
      "+---------------+---------------+-------------+-----------+----------+\n",
      "| chr1:10321    | [\"C\",\"<DUP>\"] | \"CLUSTER_0\" | -1.00e+01 | NA       |\n",
      "| chr1:54720    | [\"C\",\"<DUP>\"] | \"CLUSTER_1\" | -1.00e+01 | NA       |\n",
      "| chr1:66534    | [\"T\",\"<DUP>\"] | \"CLUSTER_2\" | -1.00e+01 | NA       |\n",
      "| chr1:83963    | [\"A\",\"<DUP>\"] | \"CLUSTER_3\" | -1.00e+01 | NA       |\n",
      "| chr1:99061    | [\"C\",\"<DUP>\"] | \"CLUSTER_4\" | -1.00e+01 | NA       |\n",
      "+---------------+---------------+-------------+-----------+----------+\n",
      "\n",
      "+-------------+----------+----------------+------------+----------+\n",
      "| info.SVTYPE | info.END | info.N_SAMPLES | info.N_SVS | info.GCF |\n",
      "+-------------+----------+----------------+------------+----------+\n",
      "| str         |    int32 |          int32 |      int32 |  float64 |\n",
      "+-------------+----------+----------------+------------+----------+\n",
      "| \"DUP\"       |    10407 |              5 |          5 | 5.29e-01 |\n",
      "| \"DUP\"       |    54774 |              2 |          2 | 2.55e-01 |\n",
      "| \"DUP\"       |    66592 |              1 |          1 | 3.39e-02 |\n",
      "| \"DUP\"       |    84038 |              1 |          1 | 2.37e-01 |\n",
      "| \"DUP\"       |    99113 |             12 |         12 | 1.13e-01 |\n",
      "+-------------+----------+----------------+------------+----------+\n",
      "\n",
      "+-------------+\n",
      "| info.SVSIZE |\n",
      "+-------------+\n",
      "|       int32 |\n",
      "+-------------+\n",
      "|          86 |\n",
      "|          54 |\n",
      "|          58 |\n",
      "|          75 |\n",
      "|          52 |\n",
      "+-------------+\n",
      "showing top 5 rows\n",
      "\n",
      "2024-04-11 09:17:45 Hail: INFO: Coerced sorted dataset"
     ]
    }
   ],
   "source": [
    "mt.rows().show(5)"
   ]
  },
  {
   "cell_type": "code",
   "execution_count": 8,
   "id": "42e3e06a-e202-4612-aae6-9a112f1c0fd6",
   "metadata": {},
   "outputs": [
    {
     "data": {
      "application/vnd.jupyter.widget-view+json": {
       "model_id": "",
       "version_major": 2,
       "version_minor": 0
      },
      "text/plain": [
       "FloatProgress(value=0.0, bar_style='info', description='Progress:', layout=Layout(height='25px', width='50%'),…"
      ]
     },
     "metadata": {},
     "output_type": "display_data"
    }
   ],
   "source": [
    "# Check if the genotype PASS the QC\n",
    "mt = mt.annotate_entries(\n",
    "    FS = hl.case()\n",
    "            .when((mt.GT.is_hom_ref()) & (mt.FT == \"PASS\"), \"PASS\")\n",
    "            .when((mt.GT.is_het()) &(mt.FT == \"PASS\") & (mt.DHBFC > 1.3), \"PASS\")\n",
    "            .when((mt.GT.is_hom_var()) &(mt.FT == \"PASS\") & (mt.DHBFC > 1.3), \"PASS\")\n",
    "            .default(\"FAIL\")            \n",
    "    )"
   ]
  },
  {
   "cell_type": "code",
   "execution_count": 9,
   "id": "48689cf2-4311-4a7d-a22d-3c8a83d10fd1",
   "metadata": {},
   "outputs": [
    {
     "data": {
      "application/vnd.jupyter.widget-view+json": {
       "model_id": "",
       "version_major": 2,
       "version_minor": 0
      },
      "text/plain": [
       "FloatProgress(value=0.0, bar_style='info', description='Progress:', layout=Layout(height='25px', width='50%'),…"
      ]
     },
     "metadata": {},
     "output_type": "display_data"
    }
   ],
   "source": [
    "# Check if the site PASS across all samples\n",
    "# Variant site is marked as FAIL if all samples have FS == FAIL\n",
    "\n",
    "mt = mt.annotate_rows(\n",
    "    site_is_pass = hl.agg.any(mt.FS == \"PASS\")\n",
    ")"
   ]
  },
  {
   "cell_type": "code",
   "execution_count": 10,
   "id": "ebdaacbd-0228-4198-93bc-47bdc9b0daba",
   "metadata": {},
   "outputs": [
    {
     "data": {
      "application/vnd.jupyter.widget-view+json": {
       "model_id": "",
       "version_major": 2,
       "version_minor": 0
      },
      "text/plain": [
       "FloatProgress(value=0.0, bar_style='info', description='Progress:', layout=Layout(height='25px', width='50%'),…"
      ]
     },
     "metadata": {},
     "output_type": "display_data"
    }
   ],
   "source": [
    "# Define filters\n",
    "filters = [\n",
    "    {'key': 'PASS', 'expr': ( mt.rows().select(\"site_is_pass\") == True ) },\n",
    "    {'key': 'FAIL', 'expr': ( mt.rows().select(\"site_is_pass\") == False )  },\n",
    "]\n",
    "\n",
    "ht = mt.rows()\n",
    "\n",
    "# Compute filters\n",
    "ht_filters = ht.annotate(\n",
    "    filters=hl.set(hl.filter(\n",
    "        lambda x: hl.is_defined(x),\n",
    "        [hl.or_missing(\n",
    "            d['expr'],\n",
    "            d['key']\n",
    "        ) for d in filters]\n",
    "    ))\n",
    ")\n",
    "\n",
    "# Copy filters into main sample ht\n",
    "mt= mt.annotate_rows(\n",
    "    filters = mt.filters.union(ht_filters[mt.row_key].filters)\n",
    ")"
   ]
  },
  {
   "cell_type": "code",
   "execution_count": 11,
   "id": "1e037eca-330a-461f-a1cd-8053d60c81e9",
   "metadata": {},
   "outputs": [
    {
     "data": {
      "application/vnd.jupyter.widget-view+json": {
       "model_id": "",
       "version_major": 2,
       "version_minor": 0
      },
      "text/plain": [
       "FloatProgress(value=0.0, bar_style='info', description='Progress:', layout=Layout(height='25px', width='50%'),…"
      ]
     },
     "metadata": {},
     "output_type": "display_data"
    }
   ],
   "source": [
    "##  because we want to only carry fwd entries wit at least one hom-ref and drop monomorphic entries\n",
    "##   and there is a need to put all genotypes that fail FORMAT/FT to fORMAT/GT = `./.`\n",
    "\n",
    "\n",
    "mt = mt.annotate_entries(\n",
    "    GT = hl.case()\n",
    "            .when((mt.GT.is_hom_ref()) & (mt.FT == \"PASS\"), mt.GT)\n",
    "            .when((mt.GT.is_het()) &(mt.FT == \"PASS\") & (mt.DHBFC > 1.3), mt.GT)\n",
    "            .when((mt.GT.is_hom_var()) &(mt.FT == \"PASS\") & (mt.DHBFC > 1.3),mt.GT)\n",
    "            .default( hl.null(hl.tcall) )            \n",
    ")"
   ]
  },
  {
   "cell_type": "code",
   "execution_count": 12,
   "id": "942b2a2c-d56c-4d12-90b9-93cadb41dfc1",
   "metadata": {},
   "outputs": [
    {
     "data": {
      "application/vnd.jupyter.widget-view+json": {
       "model_id": "",
       "version_major": 2,
       "version_minor": 0
      },
      "text/plain": [
       "FloatProgress(value=0.0, bar_style='info', description='Progress:', layout=Layout(height='25px', width='50%'),…"
      ]
     },
     "metadata": {},
     "output_type": "display_data"
    },
    {
     "name": "stdout",
     "output_type": "stream",
     "text": [
      "+---------------+---------------+-------------+-----------+----------+\n",
      "| locus         | alleles       | rsid        |      qual | filters  |\n",
      "+---------------+---------------+-------------+-----------+----------+\n",
      "| locus<GRCh38> | array<str>    | str         |   float64 | set<str> |\n",
      "+---------------+---------------+-------------+-----------+----------+\n",
      "| chr1:10321    | [\"C\",\"<DUP>\"] | \"CLUSTER_0\" | -1.00e+01 | {}       |\n",
      "| chr1:54720    | [\"C\",\"<DUP>\"] | \"CLUSTER_1\" | -1.00e+01 | {}       |\n",
      "| chr1:66534    | [\"T\",\"<DUP>\"] | \"CLUSTER_2\" | -1.00e+01 | {}       |\n",
      "| chr1:83963    | [\"A\",\"<DUP>\"] | \"CLUSTER_3\" | -1.00e+01 | {}       |\n",
      "| chr1:99061    | [\"C\",\"<DUP>\"] | \"CLUSTER_4\" | -1.00e+01 | {}       |\n",
      "| chr1:600342   | [\"T\",\"<DUP>\"] | \"CLUSTER_5\" | -1.00e+01 | {}       |\n",
      "| chr1:600743   | [\"T\",\"<DUP>\"] | \"CLUSTER_6\" | -1.00e+01 | {}       |\n",
      "| chr1:609338   | [\"C\",\"<DUP>\"] | \"CLUSTER_7\" | -1.00e+01 | {}       |\n",
      "| chr1:712566   | [\"A\",\"<DUP>\"] | \"CLUSTER_8\" | -1.00e+01 | {}       |\n",
      "| chr1:789617   | [\"G\",\"<DUP>\"] | \"CLUSTER_9\" | -1.00e+01 | {}       |\n",
      "+---------------+---------------+-------------+-----------+----------+\n",
      "\n",
      "+-------------+----------+----------------+------------+----------+\n",
      "| info.SVTYPE | info.END | info.N_SAMPLES | info.N_SVS | info.GCF |\n",
      "+-------------+----------+----------------+------------+----------+\n",
      "| str         |    int32 |          int32 |      int32 |  float64 |\n",
      "+-------------+----------+----------------+------------+----------+\n",
      "| \"DUP\"       |    10407 |              5 |          5 | 5.29e-01 |\n",
      "| \"DUP\"       |    54774 |              2 |          2 | 2.55e-01 |\n",
      "| \"DUP\"       |    66592 |              1 |          1 | 3.39e-02 |\n",
      "| \"DUP\"       |    84038 |              1 |          1 | 2.37e-01 |\n",
      "| \"DUP\"       |    99113 |             12 |         12 | 1.13e-01 |\n",
      "| \"DUP\"       |   600816 |             12 |         12 | 4.15e-01 |\n",
      "| \"DUP\"       |   600874 |            203 |        207 | 3.64e-01 |\n",
      "| \"DUP\"       |   609406 |              1 |          1 | 7.54e-01 |\n",
      "| \"DUP\"       |   712658 |              1 |          1 | 1.18e-01 |\n",
      "| \"DUP\"       |   789747 |             21 |         21 | 4.05e-01 |\n",
      "+-------------+----------+----------------+------------+----------+\n",
      "\n",
      "+-------------+--------------+\n",
      "| info.SVSIZE | site_is_pass |\n",
      "+-------------+--------------+\n",
      "|       int32 |         bool |\n",
      "+-------------+--------------+\n",
      "|          86 |         True |\n",
      "|          54 |         True |\n",
      "|          58 |         True |\n",
      "|          75 |         True |\n",
      "|          52 |         True |\n",
      "|         474 |         True |\n",
      "|         131 |         True |\n",
      "|          68 |         True |\n",
      "|          92 |         True |\n",
      "|         130 |         True |\n",
      "+-------------+--------------+\n",
      "showing top 10 rows\n",
      "\n",
      "2024-04-11 09:17:55 Hail: INFO: Coerced sorted dataset\n",
      "2024-04-11 09:18:01 Hail: INFO: Coerced sorted dataset"
     ]
    }
   ],
   "source": [
    "mt.rows().show(10)"
   ]
  },
  {
   "cell_type": "code",
   "execution_count": 13,
   "id": "66c0ae62-e72f-460b-8cb6-43a1a5ebfa5c",
   "metadata": {},
   "outputs": [
    {
     "data": {
      "application/vnd.jupyter.widget-view+json": {
       "model_id": "",
       "version_major": 2,
       "version_minor": 0
      },
      "text/plain": [
       "FloatProgress(value=0.0, bar_style='info', description='Progress:', layout=Layout(height='25px', width='50%'),…"
      ]
     },
     "metadata": {},
     "output_type": "display_data"
    },
    {
     "name": "stdout",
     "output_type": "stream",
     "text": [
      "(43622, 5487)\n",
      "2024-04-11 09:18:12 Hail: INFO: Coerced sorted dataset\n",
      "2024-04-11 09:18:19 Hail: INFO: Coerced sorted dataset"
     ]
    }
   ],
   "source": [
    "## filter relevant variant\n",
    "## 2- contains \"PASS\", \"{fail}\" FILTER entries We only carry fwd \"FILTER=PASS\" entries \n",
    "mt = mt.filter_rows(mt.filters.length() == 0, keep=True)\n",
    "print(mt.count()) "
   ]
  },
  {
   "cell_type": "code",
   "execution_count": 14,
   "id": "90e3a4a3-fb80-407a-b0c8-06ef001e7aff",
   "metadata": {},
   "outputs": [
    {
     "data": {
      "application/vnd.jupyter.widget-view+json": {
       "model_id": "",
       "version_major": 2,
       "version_minor": 0
      },
      "text/plain": [
       "FloatProgress(value=0.0, bar_style='info', description='Progress:', layout=Layout(height='25px', width='50%'),…"
      ]
     },
     "metadata": {},
     "output_type": "display_data"
    },
    {
     "name": "stdout",
     "output_type": "stream",
     "text": [
      "Samples: 5487; Variants: 34316; Entries: 188291892\n",
      "2024-04-11 09:18:38 Hail: INFO: Coerced sorted dataset\n",
      "2024-04-11 09:18:44 Hail: INFO: Coerced sorted dataset\n",
      "2024-04-11 09:18:51 Hail: INFO: Coerced sorted dataset\n",
      "2024-04-11 09:19:11 Hail: WARN: entries(): Resulting entries table is sorted by '(row_key, col_key)'.\n",
      "    To preserve row-major matrix table order, first unkey columns with 'key_cols_by()'\n",
      "2024-04-11 09:19:17 Hail: INFO: Coerced sorted dataset\n",
      "2024-04-11 09:19:23 Hail: INFO: Coerced sorted dataset"
     ]
    }
   ],
   "source": [
    "# Remove monomorphic variants\n",
    "\n",
    "# run variant qc\n",
    "mt = hl.variant_qc(mt)\n",
    "\n",
    "# annotate the matrix table\n",
    "mt = mt.annotate_rows(\n",
    "    n_called = mt.variant_qc.n_called,\n",
    "    n_hom_ref = hl.agg.count_where(mt.GT.is_hom_ref()),\n",
    "    n_het = hl.agg.count_where(mt.GT.is_het()),\n",
    "    n_hom_alt = hl.agg.count_where(mt.GT.is_hom_var())\n",
    ")\n",
    "\n",
    "mt = mt.annotate_rows(\n",
    "   n_non_ref = mt.n_hom_alt + mt.n_het \n",
    ")\n",
    "\n",
    "# Remove monomorphic variants\n",
    "mt = mt.filter_rows(\n",
    "    (mt.n_called == mt.n_hom_ref) | \n",
    "    (mt.n_called == mt.n_het) | \n",
    "    (mt.n_called == mt.n_hom_alt),\n",
    "    keep = False\n",
    ")\n",
    "print(\"Samples: %d; Variants: %d; Entries: %d\" % (mt.count_cols(), mt.count_rows(), mt.entries().count()))\n"
   ]
  },
  {
   "cell_type": "code",
   "execution_count": 15,
   "id": "2c845371-af44-43a9-8181-62a330184ec5",
   "metadata": {},
   "outputs": [
    {
     "data": {
      "application/vnd.jupyter.widget-view+json": {
       "model_id": "",
       "version_major": 2,
       "version_minor": 0
      },
      "text/plain": [
       "FloatProgress(value=0.0, bar_style='info', description='Progress:', layout=Layout(height='25px', width='50%'),…"
      ]
     },
     "metadata": {},
     "output_type": "display_data"
    },
    {
     "name": "stdout",
     "output_type": "stream",
     "text": [
      "Samples: 5487; Variants: 34304; Entries: 188226048\n",
      "2024-04-11 09:19:51 Hail: INFO: Coerced sorted dataset\n",
      "2024-04-11 09:19:57 Hail: INFO: Coerced sorted dataset\n",
      "2024-04-11 09:20:03 Hail: INFO: Coerced sorted dataset\n",
      "2024-04-11 09:20:30 Hail: INFO: Coerced sorted dataset\n",
      "2024-04-11 09:20:36 Hail: INFO: Coerced sorted dataset"
     ]
    }
   ],
   "source": [
    "# FILTER: sites with no hom_ref call\n",
    "mt = mt.filter_rows(mt.n_called == mt.n_non_ref, keep = False)\n",
    "print(\"Samples: %d; Variants: %d; Entries: %d\" % (mt.count_cols(), mt.count_rows(), mt.entries().count()))"
   ]
  },
  {
   "cell_type": "code",
   "execution_count": 16,
   "id": "c0145e00-5eeb-4862-b882-ab542a9a2a1b",
   "metadata": {},
   "outputs": [
    {
     "data": {
      "application/vnd.jupyter.widget-view+json": {
       "model_id": "",
       "version_major": 2,
       "version_minor": 0
      },
      "text/plain": [
       "FloatProgress(value=0.0, bar_style='info', description='Progress:', layout=Layout(height='25px', width='50%'),…"
      ]
     },
     "metadata": {},
     "output_type": "display_data"
    },
    {
     "name": "stdout",
     "output_type": "stream",
     "text": [
      "(34304, 5487)\n",
      "(32465, 5487)\n",
      "2024-04-11 09:21:02 Hail: INFO: Coerced sorted dataset\n",
      "2024-04-11 09:21:08 Hail: INFO: Coerced sorted dataset\n",
      "2024-04-11 09:21:28 Hail: INFO: Reading table without type imputation\n",
      "  Loading field 'f0' as type str (user-supplied)\n",
      "  Loading field 'f1' as type int32 (user-supplied)\n",
      "  Loading field 'f2' as type int32 (user-supplied)\n",
      "2024-04-11 09:21:35 Hail: INFO: Coerced sorted dataset\n",
      "2024-04-11 09:21:40 Hail: INFO: Coerced sorted dataset\n",
      "2024-04-11 09:21:41 Hail: INFO: Coerced sorted dataset"
     ]
    }
   ],
   "source": [
    "##\n",
    "## filter relevant variant\n",
    "## 2- contains \"PASS\", \"{fail}\" FILTER entries We only carry fwd \"FILTER=PASS\" entries \n",
    "## 5- contains monomorphic entries. We only carry fwd entries wit at least one hom-ref and drop monomorphic entries\n",
    "## 6 Size > 50bp and size < 10,000,000 bp\n",
    "## 7- contains SV outside of our predefind whitlist region (ie not low-cpmplexity, telemore, centromere, ...) \n",
    "\n",
    "print(mt.count()) ## \n",
    "\n",
    "\n",
    "## load the predefine whitlist region (ie not low-cpmplexity, telemore, centromere, ...) \n",
    "whitelist_region= hl.import_bed(whiltelist_region_bed_uri, reference_genome='GRCh38')\n",
    "\n",
    "## filter relevant variant\n",
    "mt = mt.filter_rows(\n",
    "    True\n",
    "    & ((~hl.is_defined(mt.info.SVSIZE))                         ## We only carry fwd entries with INFO/SVSIZE undefined \n",
    "       | (mt.info.SVSIZE >= 50)                                 ##                            or  INFO/SVSIZE > 50bp\n",
    "       | (mt.info.SVSIZE <= 10000000))                          ##                            or INFO/SVSIZE < 10,000,000bp \n",
    "    & (hl.is_defined(whitelist_region[mt.locus]))               ## We only carry fwd  whitelist region contained SV \n",
    "    , keep=True)\n",
    "\n",
    "print(mt.count()) "
   ]
  },
  {
   "cell_type": "code",
   "execution_count": 17,
   "id": "2cd037dc-e7a3-4436-96a0-39c1d5a55273",
   "metadata": {},
   "outputs": [
    {
     "data": {
      "application/vnd.jupyter.widget-view+json": {
       "model_id": "",
       "version_major": 2,
       "version_minor": 0
      },
      "text/plain": [
       "FloatProgress(value=0.0, bar_style='info', description='Progress:', layout=Layout(height='25px', width='50%'),…"
      ]
     },
     "metadata": {},
     "output_type": "display_data"
    },
    {
     "name": "stdout",
     "output_type": "stream",
     "text": [
      "2024-04-11 09:30:24 Hail: INFO: Coerced sorted dataset\n",
      "2024-04-11 09:30:33 Hail: INFO: Coerced sorted dataset\n",
      "2024-04-11 09:30:34 Hail: INFO: Coerced sorted dataset\n",
      "2024-04-11 09:32:00 Hail: INFO: wrote matrix table with 32465 rows and 5487 columns in 22 partitions to SG10K_SV_SURVINDEL2.n5487.m32465.discovery.mt\n",
      "    Total size: 2.47 GiB\n",
      "    * Rows/entries: 2.47 GiB\n",
      "    * Columns: 21.49 KiB\n",
      "    * Globals: 11.00 B\n",
      "    * Smallest partition: 0 rows (20.00 B)\n",
      "    * Largest partition:  1646 rows (128.85 MiB)"
     ]
    }
   ],
   "source": [
    "\n",
    "## write the resulting mt\n",
    "release14_surv_mt_uri =   \"SG10K_SV_SURVINDEL2.n5487.m32465.discovery.mt\"\n",
    "\n",
    "mt.write(release14_surv_mt_uri, overwrite=True)"
   ]
  },
  {
   "cell_type": "code",
   "execution_count": null,
   "id": "40eb7e68-a894-4c68-9898-bc768e9c595a",
   "metadata": {},
   "outputs": [],
   "source": []
  }
 ],
 "metadata": {
  "kernelspec": {
   "display_name": "PySpark",
   "language": "python",
   "name": "pysparkkernel"
  },
  "language_info": {
   "codemirror_mode": {
    "name": "python",
    "version": 3
   },
   "file_extension": ".py",
   "mimetype": "text/x-python",
   "name": "pyspark",
   "pygments_lexer": "python3"
  }
 },
 "nbformat": 4,
 "nbformat_minor": 5
}

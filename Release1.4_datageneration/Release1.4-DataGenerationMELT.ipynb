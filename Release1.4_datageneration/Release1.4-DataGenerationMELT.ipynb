{
 "cells": [
  {
   "cell_type": "markdown",
   "id": "f06b566e-c221-4f64-b440-1bfae0dcc1b4",
   "metadata": {},
   "source": [
    "### This notebook focus on generating a MELT matrix table from MELT VCFs¶\n"
   ]
  },
  {
   "cell_type": "code",
   "execution_count": 1,
   "id": "a7d34bb3-80ee-4dae-99d5-2f6f2b6acfcb",
   "metadata": {},
   "outputs": [
    {
     "data": {
      "text/html": [
       "Current session configs: <tt>{'driverMemory': '6000M', 'proxyUser': 'jovyan', 'kind': 'pyspark'}</tt><br>"
      ],
      "text/plain": [
       "<IPython.core.display.HTML object>"
      ]
     },
     "metadata": {},
     "output_type": "display_data"
    },
    {
     "data": {
      "text/html": [
    ],
      "text/plain": [
       "<IPython.core.display.HTML object>"
      ]
     },
     "metadata": {},
     "output_type": "display_data"
    }
   ],
   "source": [
    "%%configure -f\n",
    "{\"driverMemory\": \"6000M\"}"
   ]
  },
  {
   "cell_type": "code",
   "execution_count": 2,
   "id": "ec0825cd-c809-4aee-8bd5-8568020a29be",
   "metadata": {},
   "outputs": [
    {
     "name": "stdout",
     "output_type": "stream",
     "text": [
      "Starting Spark application\n"
     ]
    },
    {
     "data": {
      "text/html": [
    ],
      "text/plain": [
       "<IPython.core.display.HTML object>"
      ]
     },
     "metadata": {},
     "output_type": "display_data"
    },
    {
     "data": {
      "application/vnd.jupyter.widget-view+json": {
       "model_id": "",
       "version_major": 2,
       "version_minor": 0
      },
      "text/plain": [
       "FloatProgress(value=0.0, bar_style='info', description='Progress:', layout=Layout(height='25px', width='50%'),…"
      ]
     },
     "metadata": {},
     "output_type": "display_data"
    },
    {
     "name": "stdout",
     "output_type": "stream",
     "text": [
      "SparkSession available as 'spark'.\n"
     ]
    },
    {
     "data": {
      "application/vnd.jupyter.widget-view+json": {
       "model_id": "",
       "version_major": 2,
       "version_minor": 0
      },
      "text/plain": [
       "FloatProgress(value=0.0, bar_style='info', description='Progress:', layout=Layout(height='25px', width='50%'),…"
      ]
     },
     "metadata": {},
     "output_type": "display_data"
    },
    {
     "name": "stdout",
     "output_type": "stream",
     "text": [
      "pip-installed Hail requires additional configuration options in Spark referring\n",
      "  to the path to the Hail Python module directory HAIL_DIR,\n",
      "  e.g. /path/to/python/site-packages/hail:\n",
      "    spark.jars=HAIL_DIR/hail-all-spark.jar\n",
      "    spark.driver.extraClassPath=HAIL_DIR/hail-all-spark.jar\n",
      "    spark.executor.extraClassPath=./hail-all-spark.jarRunning on Apache Spark version 3.1.2-amzn-0\n",
      "SparkUI available at\n",
      "Welcome to\n",
      "     __  __     <>__\n",
      "    / /_/ /__  __/ /\n",
      "   / __  / _ `/ / /\n",
      "  /_/ /_/\\_,_/_/_/   version 0.2.80-4ccfae1ff293\n",
      "LOGGING: writing to "
     ]
    }
   ],
   "source": [
    "import hail as hl\n",
    "hl.init(sc)"
   ]
  },
  {
   "cell_type": "code",
   "execution_count": 3,
   "id": "aa32a489-f5fd-45ff-93af-eb30b1c7453f",
   "metadata": {},
   "outputs": [
    {
     "data": {
      "application/vnd.jupyter.widget-view+json": {
       "model_id": "",
       "version_major": 2,
       "version_minor": 0
      },
      "text/plain": [
       "FloatProgress(value=0.0, bar_style='info', description='Progress:', layout=Layout(height='25px', width='50%'),…"
      ]
     },
     "metadata": {},
     "output_type": "display_data"
    }
   ],
   "source": [
    "## list all resources  used in this notebook \n",
    "\n",
    "release_10_melt_sva_vcf_uri = \"SVA.final_comp.vcf.gz\"\n",
    "release_10_melt_line_vcf_uri = \"LINE1.final_comp.vcf.gz\"\n",
    "release_10_melt_alu_vcf_uri = \"ALU.final_comp.vcf.gz\"\n",
    "\n",
    "#whiltelist_region_bed_uri = \"resources_broad_hg38_v0_wgs_calling_regions.hg38.merged.minus_excl_regions.bed\"\n",
    "whiltelist_region_bed_uri = \"resources_broad_hg38_v0_wgs_calling_regions.hg38.merged.autosome_only-minus_excl_regions.bed\"\n",
    "\n",
    "release14_sample_txt_uri = \"SG10K-SV-Release-1.3.samples.txt\"\n"
   ]
  },
  {
   "cell_type": "code",
   "execution_count": 4,
   "id": "e8587113-f5af-49ff-b76a-c9b31569ea56",
   "metadata": {},
   "outputs": [
    {
     "data": {
      "application/vnd.jupyter.widget-view+json": {
       "model_id": "",
       "version_major": 2,
       "version_minor": 0
      },
      "text/plain": [
       "FloatProgress(value=0.0, bar_style='info', description='Progress:', layout=Layout(height='25px', width='50%'),…"
      ]
     },
     "metadata": {},
     "output_type": "display_data"
    }
   ],
   "source": [
    "# load MELT VCFs\n",
    "sva_mt = hl.import_vcf(release_10_melt_sva_vcf_uri,   reference_genome=\"GRCh38\", force_bgz=True)\n",
    "line_mt = hl.import_vcf(release_10_melt_line_vcf_uri, reference_genome=\"GRCh38\", force_bgz=True)\n",
    "alu_mt = hl.import_vcf(release_10_melt_alu_vcf_uri,   reference_genome=\"GRCh38\", force_bgz=True)\n"
   ]
  },
  {
   "cell_type": "code",
   "execution_count": 5,
   "id": "f1aee7f8-de40-4eed-8814-bd164c9efa31",
   "metadata": {},
   "outputs": [
    {
     "data": {
      "application/vnd.jupyter.widget-view+json": {
       "model_id": "",
       "version_major": 2,
       "version_minor": 0
      },
      "text/plain": [
       "FloatProgress(value=0.0, bar_style='info', description='Progress:', layout=Layout(height='25px', width='50%'),…"
      ]
     },
     "metadata": {},
     "output_type": "display_data"
    },
    {
     "name": "stdout",
     "output_type": "stream",
     "text": [
      "----------------------------------------\n",
      "Global fields:\n",
      "    None\n",
      "----------------------------------------\n",
      "Column fields:\n",
      "    's': str\n",
      "----------------------------------------\n",
      "Row fields:\n",
      "    'locus': locus<GRCh38>\n",
      "    'alleles': array<str>\n",
      "    'rsid': str\n",
      "    'qual': float64\n",
      "    'filters': set<str>\n",
      "    'info': struct {\n",
      "        ASSESS: int32, \n",
      "        TSD: str, \n",
      "        INTERNAL: array<str>, \n",
      "        SVTYPE: str, \n",
      "        SVLEN: int32, \n",
      "        MEINFO: array<str>, \n",
      "        DIFF: array<str>, \n",
      "        LP: int32, \n",
      "        RP: int32, \n",
      "        RA: float64, \n",
      "        PRIOR: str, \n",
      "        SR: int32\n",
      "    }\n",
      "----------------------------------------\n",
      "Entry fields:\n",
      "    'GT': call\n",
      "    'GL': array<float64>\n",
      "    'DP': int32\n",
      "    'AD': int32\n",
      "    'PL': array<int32>\n",
      "----------------------------------------\n",
      "Column key: ['s']\n",
      "Row key: ['locus', 'alleles']\n",
      "----------------------------------------\n",
      "(168965, 5487)\n",
      "2024-04-11 09:01:34 Hail: INFO: Reading table without type imputation\n",
      "  Loading field 's' as type str (not specified)\n",
      "2024-04-11 09:01:49 Hail: INFO: Ordering unsorted dataset with shuffle\n",
      "2024-04-11 09:01:59 Hail: INFO: Ordering unsorted dataset with network shuffle\n",
      "2024-04-11 09:02:13 Hail: INFO: Ordering unsorted dataset with shuffle\n",
      "2024-04-11 09:02:23 Hail: INFO: Ordering unsorted dataset with network shuffle\n",
      "2024-04-11 09:02:27 Hail: INFO: Ordering unsorted dataset with shuffle\n",
      "2024-04-11 09:02:29 Hail: INFO: Ordering unsorted dataset with network shuffle\n",
      "2024-04-11 09:02:41 Hail: INFO: Ordering unsorted dataset with shuffle\n",
      "2024-04-11 09:02:49 Hail: INFO: Ordering unsorted dataset with network shuffle\n",
      "2024-04-11 09:02:57 Hail: INFO: Ordering unsorted dataset with shuffle\n",
      "2024-04-11 09:03:05 Hail: INFO: Ordering unsorted dataset with network shuffle\n",
      "2024-04-11 09:03:08 Hail: INFO: Ordering unsorted dataset with shuffle\n",
      "2024-04-11 09:03:11 Hail: INFO: Ordering unsorted dataset with network shuffle"
     ]
    }
   ],
   "source": [
    "##\n",
    "## merge filtered out relevant samples MELT MTs\n",
    "##     remove \".bqsr\" from VCF samples names \n",
    "##     remove INFO/ISTP\n",
    "##     \n",
    "\n",
    "## filer for relevant samples\n",
    "def clean_melt_sample(sample_ht, mt):\n",
    "    mt = mt.key_cols_by()\n",
    "    mt2 = mt.annotate_cols(s = mt.s.replace( \".bqsr\", \"\"))\n",
    "    mt2 = mt2.key_cols_by('s')\n",
    "    mt2 = mt2.filter_cols(hl.is_defined(sample_ht[mt2.col_key]))\n",
    "    return mt2 \n",
    "\n",
    "sample_ht = hl.import_table(release14_sample_txt_uri).key_by('s')\n",
    "#[clean_melt_sample(sample_ht, mt) for mt in melt_mts] ## list completion does not work in this context \n",
    "line_mt = clean_melt_sample(sample_ht, line_mt)\n",
    "alu_mt = clean_melt_sample(sample_ht, alu_mt)\n",
    "sva_mt = clean_melt_sample(sample_ht, sva_mt)\n",
    "\n",
    "## remove INFO/ISTP\n",
    "line_mt = line_mt.annotate_rows(info = line_mt.info.drop('ISTP'))\n",
    "\n",
    "## merge \n",
    "melt_mts = [line_mt, alu_mt, sva_mt]\n",
    "mt = hl.MatrixTable.union_rows(*melt_mts)\n",
    "mt.describe()\n",
    "mt.count()\n",
    "\n"
   ]
  },
  {
   "cell_type": "code",
   "execution_count": 6,
   "id": "1bf67819-1270-47de-b803-03a7e04e511f",
   "metadata": {},
   "outputs": [
    {
     "data": {
      "application/vnd.jupyter.widget-view+json": {
       "model_id": "",
       "version_major": 2,
       "version_minor": 0
      },
      "text/plain": [
       "FloatProgress(value=0.0, bar_style='info', description='Progress:', layout=Layout(height='25px', width='50%'),…"
      ]
     },
     "metadata": {},
     "output_type": "display_data"
    },
    {
     "name": "stdout",
     "output_type": "stream",
     "text": [
      "(168965, 5487)\n",
      "(24674, 5487)\n",
      "2024-04-11 09:03:32 Hail: INFO: Ordering unsorted dataset with shuffle\n",
      "2024-04-11 09:03:40 Hail: INFO: Ordering unsorted dataset with network shuffle\n",
      "2024-04-11 09:03:48 Hail: INFO: Ordering unsorted dataset with shuffle\n",
      "2024-04-11 09:03:56 Hail: INFO: Ordering unsorted dataset with network shuffle\n",
      "2024-04-11 09:03:59 Hail: INFO: Ordering unsorted dataset with shuffle\n",
      "2024-04-11 09:04:01 Hail: INFO: Ordering unsorted dataset with network shuffle\n",
      "2024-04-11 09:04:12 Hail: INFO: Reading table without type imputation\n",
      "  Loading field 'f0' as type str (user-supplied)\n",
      "  Loading field 'f1' as type int32 (user-supplied)\n",
      "  Loading field 'f2' as type int32 (user-supplied)\n",
      "2024-04-11 09:04:21 Hail: INFO: Ordering unsorted dataset with network shuffle\n",
      "2024-04-11 09:04:29 Hail: INFO: Ordering unsorted dataset with network shuffle\n",
      "2024-04-11 09:04:32 Hail: INFO: Ordering unsorted dataset with network shuffle\n",
      "2024-04-11 09:04:32 Hail: INFO: Coerced sorted dataset"
     ]
    }
   ],
   "source": [
    "##\n",
    "## filter relevant variant\n",
    "##\n",
    "## 2- contains \"PASS\", \"{fail}\" FILTER entries We only carry fwd \"FILTER=PASS\" entries \n",
    "## 5- contains monomorphic entries. We only carry fwd entries wit at least one hom-ref and drop monomorphic entries\n",
    "## 7- contains SV outside of our predefind whitlist region (ie not low-cpmplexity, telemore, centromere, ...) \n",
    "\n",
    "print(mt.count()) ## (168965, 5487)\n",
    "\n",
    "\n",
    "## load the predefine whitlist region (ie not low-cpmplexity, telemore, centromere, ...) \n",
    "whitelist_region= hl.import_bed(whiltelist_region_bed_uri, reference_genome='GRCh38')\n",
    "\n",
    "## filter relevant variant\n",
    "mt = mt.filter_rows(\n",
    "    True\n",
    "    & (mt.filters.length() == 0)                                ## We only carry fwd \"FILTER=PASS\" entries \n",
    "    & (hl.agg.any(mt.GT.is_hom_ref()))                          ## We only carry fwd entries with at least one hom-ref\n",
    "    & (hl.if_else(hl.agg.any(hl.is_missing(mt.GT)),             ## We only carry fwd polumorphic entries \n",
    "                  hl.agg.counter(mt.GT).size() > 2,             ##       that is GT contain NA + at least 2 of 0/0, 0/1, 1/1  \n",
    "                  hl.agg.counter(mt.GT).size() > 1 ))           ##       that is GT contain at least 2 of 0/0, 0/1, 1/1  \n",
    "    & (hl.is_defined(whitelist_region[mt.locus]))               ## We only carry fwd  whitelist region contained SV \n",
    "    , keep=True)\n",
    "\n",
    "print(mt.count()) ## (24674, 5487)\n"
   ]
  },
  {
   "cell_type": "code",
   "execution_count": 8,
   "id": "3a6b3c79-0b04-4005-8e39-6de005849a03",
   "metadata": {},
   "outputs": [
    {
     "data": {
      "application/vnd.jupyter.widget-view+json": {
       "model_id": "",
       "version_major": 2,
       "version_minor": 0
      },
      "text/plain": [
       "FloatProgress(value=0.0, bar_style='info', description='Progress:', layout=Layout(height='25px', width='50%'),…"
      ]
     },
     "metadata": {},
     "output_type": "display_data"
    },
    {
     "name": "stdout",
     "output_type": "stream",
     "text": [
      "2024-04-11 09:05:46 Hail: INFO: Ordering unsorted dataset with network shuffle\n",
      "2024-04-11 09:05:54 Hail: INFO: Ordering unsorted dataset with network shuffle\n",
      "2024-04-11 09:05:56 Hail: INFO: Ordering unsorted dataset with network shuffle\n",
      "2024-04-11 09:05:56 Hail: INFO: Coerced sorted dataset\n",
      "2024-04-11 09:07:50 Hail: INFO: wrote matrix table with 24674 rows and 5487 columns in 16 partitions to SG10K_SV_MELT.n5487.m24674.discovery.mt\n",
      "    Total size: 413.81 MiB\n",
      "    * Rows/entries: 413.79 MiB\n",
      "    * Columns: 20.33 KiB\n",
      "    * Globals: 11.00 B\n",
      "    * Smallest partition: 0 rows (20.00 B)\n",
      "    * Largest partition:  2355 rows (38.41 MiB)"
     ]
    }
   ],
   "source": [
    "## write the resulting mt\n",
    "release14_melt_mt_uri =   \"SG10K_SV_MELT.n5487.m24674.discovery.mt\"\n",
    "\n",
    "mt.write(release14_melt_mt_uri, overwrite=True)"
   ]
  },
  {
   "cell_type": "code",
   "execution_count": null,
   "id": "c80d4890-a614-4057-a9b2-ec2302f0da9b",
   "metadata": {},
   "outputs": [],
   "source": []
  }
 ],
 "metadata": {
  "kernelspec": {
   "display_name": "PySpark",
   "language": "python",
   "name": "pysparkkernel"
  },
  "language_info": {
   "codemirror_mode": {
    "name": "python",
    "version": 3
   },
   "file_extension": ".py",
   "mimetype": "text/x-python",
   "name": "pyspark",
   "pygments_lexer": "python3"
  }
 },
 "nbformat": 4,
 "nbformat_minor": 5
}

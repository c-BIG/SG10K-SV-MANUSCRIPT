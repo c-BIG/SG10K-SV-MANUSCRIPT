{
 "cells": [
  {
   "cell_type": "markdown",
   "id": "b4cc8ee0-86be-4727-94cb-8c26c2436ba2",
   "metadata": {},
   "source": [
    "## This notebook focus on correcting the repeated RSID for SVs"
   ]
  },
  {
   "cell_type": "code",
   "execution_count": 1,
   "id": "03a13c95-001d-45bc-a4ab-44373390efe9",
   "metadata": {},
   "outputs": [
    {
     "data": {
      "text/html": [
       "Current session configs: <tt>{'driverMemory': '6000M', 'proxyUser': 'jovyan', 'kind': 'pyspark'}</tt><br>"
      ],
      "text/plain": [
       "<IPython.core.display.HTML object>"
      ]
     },
     "metadata": {},
     "output_type": "display_data"
    },
    {
     "data": {
      "text/html": [
       "No active sessions."
      ],
      "text/plain": [
       "<IPython.core.display.HTML object>"
      ]
     },
     "metadata": {},
     "output_type": "display_data"
    }
   ],
   "source": [
    "%%configure -f\n",
    "{\"driverMemory\": \"6000M\"}"
   ]
  },
  {
   "cell_type": "code",
   "execution_count": 2,
   "id": "e7a6394a-d80a-49b9-8218-58852f543bae",
   "metadata": {},
   "outputs": [
    {
     "name": "stdout",
     "output_type": "stream",
     "text": [
      "Starting Spark application\n"
     ]
    },
    {
     "data": {
      "text/html": [],
      "text/plain": [
       "<IPython.core.display.HTML object>"
      ]
     },
     "metadata": {},
     "output_type": "display_data"
    },
    {
     "data": {
      "application/vnd.jupyter.widget-view+json": {
       "model_id": "",
       "version_major": 2,
       "version_minor": 0
      },
      "text/plain": [
       "FloatProgress(value=0.0, bar_style='info', description='Progress:', layout=Layout(height='25px', width='50%'),…"
      ]
     },
     "metadata": {},
     "output_type": "display_data"
    },
    {
     "name": "stdout",
     "output_type": "stream",
     "text": [
      "SparkSession available as 'spark'.\n"
     ]
    },
    {
     "data": {
      "application/vnd.jupyter.widget-view+json": {
       "model_id": "",
       "version_major": 2,
       "version_minor": 0
      },
      "text/plain": [
       "FloatProgress(value=0.0, bar_style='info', description='Progress:', layout=Layout(height='25px', width='50%'),…"
      ]
     },
     "metadata": {},
     "output_type": "display_data"
    },
    {
     "name": "stdout",
     "output_type": "stream",
     "text": [
      "pip-installed Hail requires additional configuration options in Spark referring\n",
      "  to the path to the Hail Python module directory HAIL_DIR,\n",
      "  e.g. /path/to/python/site-packages/hail:\n",
      "    spark.jars=HAIL_DIR/hail-all-spark.jar\n",
      "    spark.driver.extraClassPath=HAIL_DIR/hail-all-spark.jar\n",
      "    spark.executor.extraClassPath=./hail-all-spark.jarRunning on Apache Spark version 3.1.2-amzn-0\n",
      "SparkUI available at\n",
      "Welcome to\n",
      "     __  __     <>__\n",
      "    / /_/ /__  __/ /\n",
      "   / __  / _ `/ / /\n",
      "  /_/ /_/\\_,_/_/_/   version 0.2.80-4ccfae1ff293\n",
      "LOGGING: writing to "
     ]
    }
   ],
   "source": [
    "import hail as hl\n",
    "hl.init(sc)"
   ]
  },
  {
   "cell_type": "code",
   "execution_count": 7,
   "id": "ffbca1e0-605a-437a-abb4-b04d1d9856a4",
   "metadata": {},
   "outputs": [
    {
     "data": {
      "application/vnd.jupyter.widget-view+json": {
       "model_id": "",
       "version_major": 2,
       "version_minor": 0
      },
      "text/plain": [
       "FloatProgress(value=0.0, bar_style='info', description='Progress:', layout=Layout(height='25px', width='50%'),…"
      ]
     },
     "metadata": {},
     "output_type": "display_data"
    }
   ],
   "source": [
    "release14_hc_meta_mt_uri = \"SG10K-SV-Release-1.4-HighConfidenceSV-WithMetadata.mt\""
   ]
  },
  {
   "cell_type": "code",
   "execution_count": 8,
   "id": "404688f3-a5e7-4a98-ac16-d964aff05b18",
   "metadata": {},
   "outputs": [
    {
     "data": {
      "application/vnd.jupyter.widget-view+json": {
       "model_id": "",
       "version_major": 2,
       "version_minor": 0
      },
      "text/plain": [
       "FloatProgress(value=0.0, bar_style='info', description='Progress:', layout=Layout(height='25px', width='50%'),…"
      ]
     },
     "metadata": {},
     "output_type": "display_data"
    },
    {
     "name": "stdout",
     "output_type": "stream",
     "text": [
      "Samples: 5487; Variants: 73035; Entries: 400743045\n",
      "2024-05-06 05:38:21 Hail: WARN: entries(): Resulting entries table is sorted by '(row_key, col_key)'.\n",
      "    To preserve row-major matrix table order, first unkey columns with 'key_cols_by()'"
     ]
    }
   ],
   "source": [
    "# Read the matrix table\n",
    "mt = hl.read_matrix_table(release14_hc_meta_mt_uri)\n",
    "print(\"Samples: %d; Variants: %d; Entries: %d\" % (mt.count_cols(), mt.count_rows(), mt.entries().count()))"
   ]
  },
  {
   "cell_type": "code",
   "execution_count": 9,
   "id": "fa1ec3a1-86ce-4083-81dc-8500259c240d",
   "metadata": {},
   "outputs": [
    {
     "data": {
      "application/vnd.jupyter.widget-view+json": {
       "model_id": "",
       "version_major": 2,
       "version_minor": 0
      },
      "text/plain": [
       "FloatProgress(value=0.0, bar_style='info', description='Progress:', layout=Layout(height='25px', width='50%'),…"
      ]
     },
     "metadata": {},
     "output_type": "display_data"
    }
   ],
   "source": [
    "def rename_duplicate_rows(dataset, field='rsid', name=None, override=False):\n",
    "    \"\"\"Rename duplicated row-wide field\n",
    "       inspired from https://hail.is/docs/0.2/methods/misc.html#hail.methods.rename_duplicates\n",
    "    \"\"\"\n",
    "\n",
    "    if (override is True) and (name is not None):\n",
    "        hl.utils.java.info('rename_duplicate_rows cannnot specfiy both a new field name and overrride the exisiting one')\n",
    "        raise ValueError('rename_duplicate_rows cannnot specfiy both a new field name and overrride the exisiting one')\n",
    "\n",
    "    if (override is False) and (name is None):\n",
    "        name = 'uniq_' + field\n",
    "\n",
    "    ids = dataset.aggregate_rows(hl.agg.collect(dataset[field]))\n",
    "    mapping, new_ids = hl.utils.deduplicate(ids)\n",
    "    if mapping:\n",
    "        hl.utils.java.info(\n",
    "            f'Renamed {len(mapping)} duplicate `{field}` {hl.utils.misc.plural(\"field\", len(mapping))} as `{name}`. Mangled IDs as follows:'\n",
    "            + ''.join(f'\\n  \"{pre}\" => \"{post}\"' for pre, post in mapping)\n",
    "        )\n",
    "    else:\n",
    "        hl.utils.java.info('No duplicate field found.')\n",
    "\n",
    "    return dataset.annotate_rows(**{name: hl.literal(new_ids)[hl.int(hl.scan.count())]})"
   ]
  },
  {
   "cell_type": "code",
   "execution_count": 10,
   "id": "f8e700a3-bb1d-4b09-8530-8d37c00ba1e1",
   "metadata": {
    "tags": []
   },
   "outputs": [
    {
     "data": {
      "application/vnd.jupyter.widget-view+json": {
       "model_id": "",
       "version_major": 2,
       "version_minor": 0
      },
      "text/plain": [
       "FloatProgress(value=0.0, bar_style='info', description='Progress:', layout=Layout(height='25px', width='50%'),…"
      ]
     },
     "metadata": {},
     "output_type": "display_data"
    },
    {
     "name": "stdout",
     "output_type": "stream",
     "text": [
      "----------------------------------------\n",
      "Global fields:\n",
      "    None\n",
      "----------------------------------------\n",
      "Column fields:\n",
      "    's': str\n",
      "    'metadata': struct {\n",
      "        Multiplex_Pool_ID: str, \n",
      "        Supplier_ID: str, \n",
      "        GIS_Internal_Sample_ID: str, \n",
      "        Site_Supplying_Sample: str, \n",
      "        Year_Of_Birth: int32, \n",
      "        Supplied_Gender: str, \n",
      "        Self_Reported_Ethnicity: str, \n",
      "        Extraction_Kit: str, \n",
      "        Date_Of_DNA_Extraction: str, \n",
      "        Plate_Position: str, \n",
      "        Plate_Name: str, \n",
      "        Version_Of_Consent_Form_Signed: str, \n",
      "        Sequencing_Depth: str, \n",
      "        NPM_Research_ID_Created_By_Username: str, \n",
      "        NPM_Research_ID_Creation_Date: str, \n",
      "        Comments_Entered_When_NPM_Research_ID_Created: str, \n",
      "        Description_Entered_When_NPM_Research_ID_Created: str, \n",
      "        ELM_Project_ID: str, \n",
      "        ELM_Project_Title: str, \n",
      "        ELM_Project_PI: str, \n",
      "        Species_Of_Sample_Sequenced: str, \n",
      "        Tehcnique_For_Sequencing: str, \n",
      "        Tissue_Type_Sequenced: str, \n",
      "        Library_Found_In_Sequencing_Run_ID: str, \n",
      "        Library_Found_In_Passed_Sequencing_Run_ID: str, \n",
      "        Vendor_Sequencing_Centre: str, \n",
      "        DNA_Sample_Passed_QC: str, \n",
      "        Library_Prep_Kit: str, \n",
      "        Run_ID: str, \n",
      "        Instrument_ID: str, \n",
      "        Instrument_Serial_Number: str, \n",
      "        `Hiseq_XTM_SBS_Kit_300_Cycles_V2_(box_1of_2)_Lot`: str, \n",
      "        `Hiseq_XTM_SBS_Kit_300_Cycles_V2_(box_2_Of_2)_Lot`: str, \n",
      "        `Hiseq_XTM_PE_Cluster_Kit_Cbottm_V2_(box_1_Of_2)_Lot`: str, \n",
      "        `Hiseq_XTM_PE_Cluster_Kit_Cbottm_V2_(box_2_Of_2)_Lot`: str, \n",
      "        `Hiseq_XTM_Flow_Cell_V2.5_Lot`: str, \n",
      "        `Hiseq_XTM_Flow_Cell_V2.5_ID`: str, \n",
      "        `Sequence-based_Gender`: str, \n",
      "        CRAM_Files_Location: str, \n",
      "        Estimate_Of_Sequence_Coverage: str, \n",
      "        Contamination_Rate_Of_Chinese_Genome: str, \n",
      "        Contamination_Rate_Of_Indian_Genome: str, \n",
      "        Contamination_Rate_Of_Malaysian_Genome: str, \n",
      "        Average_Coverage_Depth: str, \n",
      "        FB_Variants: str, \n",
      "        `CRAM_Filesize_(mb)`: str, \n",
      "        Error_Rate: str, \n",
      "        `FB-VCF_Filesize_(mb)`: str, \n",
      "        `GVCF_Filesize_(mb)`: str, \n",
      "        Insert_Size_Average: str, \n",
      "        Insert_Size_Standard_Deviation: str, \n",
      "        Raw_Total_Sequences: str, \n",
      "        `Reads_Duplicated_(%)`: str, \n",
      "        `Reads_Properly_Paired_(%)`: str, \n",
      "        Cohort_JVCF_Data_Capacity: str, \n",
      "        FASTQ_File_Size: str, \n",
      "        JVCF_Size: str, \n",
      "        Data_Timestamp_For_FASTQ_File: str, \n",
      "        Sequencing_Analysis_Pipeline: str, \n",
      "        `Cohorts_Joint-called_Together`: str, \n",
      "        Library_Archived_At_NSCC: str, \n",
      "        GVCF_File_Available: str, \n",
      "        Sequencing_Complete: str, \n",
      "        Supplied_And_Computed_Gender_Match: str, \n",
      "        Supplied_And_Computed_Ethinicity_Match: str, \n",
      "        `SOP_Agreement_For_Coverage_<14/<28_For_15x/30x`: str, \n",
      "        Sample_Life_Cycle: str, \n",
      "        Current: str, \n",
      "        Source_Cohort: str, \n",
      "        Original_supplier_ID: str, \n",
      "        duplicate_info: str, \n",
      "        duplicate: str, \n",
      "        duplicate_pair: str, \n",
      "        `removal-requested-by-supplier`: str, \n",
      "        KGp3_IBS_top20: str, \n",
      "        SGVP_IBS_top20: str, \n",
      "        pop_structure: str, \n",
      "        genetic_ancestry: str, \n",
      "        sex_qc: str, \n",
      "        genetic_sex: str\n",
      "    }\n",
      "----------------------------------------\n",
      "Row fields:\n",
      "    'locus': locus<GRCh38>\n",
      "    'alleles': array<str>\n",
      "    '_old_sv_id': str\n",
      "    'qual': float64\n",
      "    'filters': set<str>\n",
      "    'callers_info': struct {\n",
      "        manta: struct {\n",
      "            ABHet: float64, \n",
      "            ABHom: float64, \n",
      "            ABHetMulti: array<float64>, \n",
      "            ABHomMulti: array<float64>, \n",
      "            AC: array<int32>, \n",
      "            AF: array<float64>, \n",
      "            AN: int32, \n",
      "            CR: int32, \n",
      "            END: int32, \n",
      "            HOMSEQ: array<str>, \n",
      "            INV3: bool, \n",
      "            INV5: bool, \n",
      "            LEFT_SVINSSEQ: array<str>, \n",
      "            LOGF: float64, \n",
      "            MaxAAS: array<int32>, \n",
      "            MaxAASR: array<float64>, \n",
      "            MaxAltPP: int32, \n",
      "            MQ: int32, \n",
      "            MQsquared: int32, \n",
      "            NCLUSTERS: int32, \n",
      "            NGT: array<int32>, \n",
      "            NHet: int32, \n",
      "            NHomRef: int32, \n",
      "            NHomAlt: int32, \n",
      "            NUM_MERGED_SVS: int32, \n",
      "            OLD_VARIANT_ID: str, \n",
      "            ORSTART: int32, \n",
      "            OREND: int32, \n",
      "            QD: float64, \n",
      "            PASS_AC: array<int32>, \n",
      "            PASS_AN: int32, \n",
      "            PASS_ratio: float64, \n",
      "            PS: int32, \n",
      "            RefLen: int32, \n",
      "            RELATED_SV_ID: int32, \n",
      "            RIGHT_SVINSSEQ: array<str>, \n",
      "            SB: float64, \n",
      "            SBAlt: float64, \n",
      "            SBF: array<int32>, \n",
      "            SBF1: array<int32>, \n",
      "            SBF2: array<int32>, \n",
      "            SBR: array<int32>, \n",
      "            SBR1: array<int32>, \n",
      "            SBR2: array<int32>, \n",
      "            SEQ: str, \n",
      "            SeqDepth: int32, \n",
      "            SV_ID: int32, \n",
      "            SVINSSEQ: array<str>, \n",
      "            SVLEN: int32, \n",
      "            SVMODEL: str, \n",
      "            SVSIZE: int32, \n",
      "            SVTYPE: str, \n",
      "            VarType: str, \n",
      "            PASS_GT2_filter: str, \n",
      "            alleles: array<str>, \n",
      "            rsid: str\n",
      "        }, \n",
      "        melt: struct {\n",
      "            ASSESS: int32, \n",
      "            TSD: str, \n",
      "            INTERNAL: array<str>, \n",
      "            SVTYPE: str, \n",
      "            SVLEN: int32, \n",
      "            MEINFO: array<str>, \n",
      "            DIFF: array<str>, \n",
      "            LP: int32, \n",
      "            RP: int32, \n",
      "            RA: float64, \n",
      "            PRIOR: str, \n",
      "            SR: int32, \n",
      "            alleles: array<str>, \n",
      "            rsid: str\n",
      "        }, \n",
      "        survindel2: struct {\n",
      "            SVTYPE: str, \n",
      "            END: int32, \n",
      "            N_SAMPLES: int32, \n",
      "            N_SVS: int32, \n",
      "            GCF: float64, \n",
      "            SVSIZE: int32, \n",
      "            alleles: array<str>, \n",
      "            rsid: str\n",
      "        }, \n",
      "        SVTYPE: str, \n",
      "        SVSIZE: int32, \n",
      "        END: int32, \n",
      "        AC_CHINESE: int32, \n",
      "        AN_CHINESE: int32, \n",
      "        AF_CHINESE: float64, \n",
      "        AC_MALAY: int32, \n",
      "        AN_MALAY: int32, \n",
      "        AF_MALAY: float64, \n",
      "        AC_INDIAN: int32, \n",
      "        AN_INDIAN: int32, \n",
      "        AF_INDIAN: float64\n",
      "    }\n",
      "    'sv_id': str\n",
      "----------------------------------------\n",
      "Entry fields:\n",
      "    'manta': struct {\n",
      "        GT: call, \n",
      "        FT: str, \n",
      "        AD: array<int32>, \n",
      "        MD: int32, \n",
      "        DP: int32, \n",
      "        RA: array<int32>, \n",
      "        PP: int32, \n",
      "        GQ: int32, \n",
      "        PL: array<int32>\n",
      "    }\n",
      "    'melt': struct {\n",
      "        GT: call, \n",
      "        GL: array<float64>, \n",
      "        DP: int32, \n",
      "        AD: int32, \n",
      "        PL: array<int32>\n",
      "    }\n",
      "    'survindel2': struct {\n",
      "        GT: call, \n",
      "        FT: str, \n",
      "        AR: int32, \n",
      "        SR: int32, \n",
      "        RR: int32, \n",
      "        RS: int32, \n",
      "        RE: int32, \n",
      "        CN: int32, \n",
      "        IL: int32, \n",
      "        WR: int32, \n",
      "        DFL: int32, \n",
      "        DDL: int32, \n",
      "        DDR: int32, \n",
      "        DFR: int32, \n",
      "        CID: int32, \n",
      "        OW: int32, \n",
      "        DHFC: float64, \n",
      "        DHBFC: float64, \n",
      "        DHFFC: float64, \n",
      "        DHSP: int32, \n",
      "        FS: str\n",
      "    }\n",
      "    'GT': call\n",
      "    'DP': int32\n",
      "    'PL': array<int32>\n",
      "----------------------------------------\n",
      "Column key: ['s']\n",
      "Row key: ['locus', 'alleles']\n",
      "----------------------------------------\n",
      "2024-05-06 05:40:23 Hail: INFO: Renamed 2 duplicate `_old_sv_id` fields as `sv_id`. Mangled IDs as follows:\n",
      "  \"SG10K_SV_INS_chr3_85415270_UNDEF\" => \"SG10K_SV_INS_chr3_85415270_UNDEF_1\"\n",
      "  \"SG10K_SV_INS_chr14_88141746_UNDEF\" => \"SG10K_SV_INS_chr14_88141746_UNDEF_1\""
     ]
    }
   ],
   "source": [
    "ori_mt = mt\n",
    "mt = mt.rename({'rsid':'_old_sv_id',\n",
    "                'info' : 'callers_info'\n",
    "                })\n",
    "mt = rename_duplicate_rows(mt, field='_old_sv_id', name='sv_id')\n",
    "mt.describe()"
   ]
  },
  {
   "cell_type": "code",
   "execution_count": 12,
   "id": "ce8894b3-e4fb-4b75-bccf-f7d9bdbd6e28",
   "metadata": {},
   "outputs": [
    {
     "data": {
      "application/vnd.jupyter.widget-view+json": {
       "model_id": "",
       "version_major": 2,
       "version_minor": 0
      },
      "text/plain": [
       "FloatProgress(value=0.0, bar_style='info', description='Progress:', layout=Layout(height='25px', width='50%'),…"
      ]
     },
     "metadata": {},
     "output_type": "display_data"
    },
    {
     "name": "stdout",
     "output_type": "stream",
     "text": [
      "(73035, 5487)"
     ]
    }
   ],
   "source": [
    "mt.count()"
   ]
  },
  {
   "cell_type": "code",
   "execution_count": 15,
   "id": "2941cb92-804d-4e7f-8550-9520812c932e",
   "metadata": {},
   "outputs": [
    {
     "data": {
      "application/vnd.jupyter.widget-view+json": {
       "model_id": "",
       "version_major": 2,
       "version_minor": 0
      },
      "text/plain": [
       "FloatProgress(value=0.0, bar_style='info', description='Progress:', layout=Layout(height='25px', width='50%'),…"
      ]
     },
     "metadata": {},
     "output_type": "display_data"
    },
    {
     "name": "stdout",
     "output_type": "stream",
     "text": [
      "2024-05-06 06:56:06 Hail: INFO: wrote matrix table with 73035 rows and 5487 columns in 91 partitions to SG10K-SV-Release-1.4-HighConfidenceSV-WithMetadata-correctrsid.mt\n",
      "    Total size: 3.42 GiB\n",
      "    * Rows/entries: 3.42 GiB\n",
      "    * Columns: 785.10 KiB\n",
      "    * Globals: 11.00 B\n",
      "    * Smallest partition: 0 rows (20.00 B)\n",
      "    * Largest partition:  1391 rows (77.84 MiB)"
     ]
    }
   ],
   "source": [
    "## write the resulting mt\n",
    "release14_hc_mt_uri = \"SG10K-SV-Release-1.4-HighConfidenceSV-WithMetadata-correctrsid.mt\"\n",
    "mt.write(release14_hc_mt_uri, overwrite=True)"
   ]
  },
  {
   "cell_type": "code",
   "execution_count": null,
   "id": "580ebfc0-6db8-4ff5-9875-f5eaba5f612d",
   "metadata": {},
   "outputs": [],
   "source": []
  }
 ],
 "metadata": {
  "kernelspec": {
   "display_name": "PySpark",
   "language": "python",
   "name": "pysparkkernel"
  },
  "language_info": {
   "codemirror_mode": {
    "name": "python",
    "version": 3
   },
   "file_extension": ".py",
   "mimetype": "text/x-python",
   "name": "pyspark",
   "pygments_lexer": "python3"
  }
 },
 "nbformat": 4,
 "nbformat_minor": 5
}

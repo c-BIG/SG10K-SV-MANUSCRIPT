{
 "cells": [
  {
   "cell_type": "markdown",
   "id": "365962f5-9501-4ccc-99aa-aec21f10d688",
   "metadata": {},
   "source": [
    "## This notebook focus on importing the SVTK output"
   ]
  },
  {
   "cell_type": "code",
   "execution_count": 23,
   "id": "832fed7b-fcf8-4af1-9e82-040011496d11",
   "metadata": {},
   "outputs": [
    {
     "name": "stdout",
     "output_type": "stream",
     "text": [
      "Starting Spark application\n"
     ]
    },
    {
     "data": {
      "text/html": [
],
      "text/plain": [
       "<IPython.core.display.HTML object>"
      ]
     },
     "metadata": {},
     "output_type": "display_data"
    },
    {
     "data": {
      "application/vnd.jupyter.widget-view+json": {
       "model_id": "",
       "version_major": 2,
       "version_minor": 0
      },
      "text/plain": [
       "FloatProgress(value=0.0, bar_style='info', description='Progress:', layout=Layout(height='25px', width='50%'),…"
      ]
     },
     "metadata": {},
     "output_type": "display_data"
    },
    {
     "name": "stdout",
     "output_type": "stream",
     "text": [
      "SparkSession available as 'spark'.\n"
     ]
    },
    {
     "data": {
      "text/html": [
       "Current session configs: <tt>{'driverMemory': '6000M', 'proxyUser': 'jovyan', 'kind': 'pyspark'}</tt><br>"
      ],
      "text/plain": [
       "<IPython.core.display.HTML object>"
      ]
     },
     "metadata": {},
     "output_type": "display_data"
    },
    {
     "data": {
      "text/html": [
  ],
      "text/plain": [
       "<IPython.core.display.HTML object>"
      ]
     },
     "metadata": {},
     "output_type": "display_data"
    }
   ],
   "source": [
    "%%configure -f\n",
    "{\"driverMemory\": \"6000M\"}"
   ]
  },
  {
   "cell_type": "code",
   "execution_count": 24,
   "id": "8a252d75-004f-4385-af3c-d804bcdb6be1",
   "metadata": {},
   "outputs": [
    {
     "data": {
      "application/vnd.jupyter.widget-view+json": {
       "model_id": "",
       "version_major": 2,
       "version_minor": 0
      },
      "text/plain": [
       "FloatProgress(value=0.0, bar_style='info', description='Progress:', layout=Layout(height='25px', width='50%'),…"
      ]
     },
     "metadata": {},
     "output_type": "display_data"
    },
    {
     "name": "stdout",
     "output_type": "stream",
     "text": [
      "pip-installed Hail requires additional configuration options in Spark referring\n",
      "  to the path to the Hail Python module directory HAIL_DIR,\n",
      "  e.g. /path/to/python/site-packages/hail:\n",
      "    spark.jars=HAIL_DIR/hail-all-spark.jar\n",
      "    spark.driver.extraClassPath=HAIL_DIR/hail-all-spark.jar\n",
      "    spark.executor.extraClassPath=./hail-all-spark.jarRunning on Apache Spark version 3.1.2-amzn-0\n",
      "SparkUI available at\n",
      "Welcome to\n",
      "     __  __     <>__\n",
      "    / /_/ /__  __/ /\n",
      "   / __  / _ `/ / /\n",
      "  /_/ /_/\\_,_/_/_/   version 0.2.80-4ccfae1ff293\n",
      "LOGGING: writing to"
     ]
    }
   ],
   "source": [
    "import hail as hl\n",
    "hl.init(sc)"
   ]
  },
  {
   "cell_type": "code",
   "execution_count": 25,
   "id": "644a2e40-e424-4e5a-8f9f-2558667c10d6",
   "metadata": {},
   "outputs": [
    {
     "data": {
      "application/vnd.jupyter.widget-view+json": {
       "model_id": "",
       "version_major": 2,
       "version_minor": 0
      },
      "text/plain": [
       "FloatProgress(value=0.0, bar_style='info', description='Progress:', layout=Layout(height='25px', width='50%'),…"
      ]
     },
     "metadata": {},
     "output_type": "display_data"
    }
   ],
   "source": [
    "anno_sv_uri = \"SG10K-SV-Release-1.4-HighConfidenceSV-withMetadata.svtk.gencode40.vcf.gz\""
   ]
  },
  {
   "cell_type": "code",
   "execution_count": 26,
   "id": "7bc69196-259f-4b1a-be09-4f8a0f4dd6a6",
   "metadata": {
    "tags": []
   },
   "outputs": [
    {
     "data": {
      "application/vnd.jupyter.widget-view+json": {
       "model_id": "",
       "version_major": 2,
       "version_minor": 0
      },
      "text/plain": [
       "FloatProgress(value=0.0, bar_style='info', description='Progress:', layout=Layout(height='25px', width='50%'),…"
      ]
     },
     "metadata": {},
     "output_type": "display_data"
    },
    {
     "name": "stdout",
     "output_type": "stream",
     "text": [
      "(73035, 5487)\n",
      "----------------------------------------\n",
      "Global fields:\n",
      "    None\n",
      "----------------------------------------\n",
      "Column fields:\n",
      "    's': str\n",
      "----------------------------------------\n",
      "Row fields:\n",
      "    'locus': locus<GRCh38>\n",
      "    'alleles': array<str>\n",
      "    'rsid': str\n",
      "    'qual': float64\n",
      "    'filters': set<str>\n",
      "    'info': struct {\n",
      "        SVTYPE: str, \n",
      "        SVSIZE: int32, \n",
      "        END: int32, \n",
      "        AC_CHINESE: int32, \n",
      "        AN_CHINESE: int32, \n",
      "        AF_CHINESE: float64, \n",
      "        AC_MALAY: int32, \n",
      "        AN_MALAY: int32, \n",
      "        AF_MALAY: float64, \n",
      "        AC_INDIAN: int32, \n",
      "        AN_INDIAN: int32, \n",
      "        AF_INDIAN: float64, \n",
      "        LOF: array<str>, \n",
      "        DUP_LOF: array<str>, \n",
      "        COPY_GAIN: array<str>, \n",
      "        DUP_PARTIAL: array<str>, \n",
      "        MSV_EXON_OVR: array<str>, \n",
      "        INTRONIC: array<str>, \n",
      "        INV_SPAN: array<str>, \n",
      "        UTR: array<str>, \n",
      "        NEAREST_TSS: array<str>, \n",
      "        promoter: bool, \n",
      "        INTERGENIC: bool\n",
      "    }\n",
      "----------------------------------------\n",
      "Entry fields:\n",
      "    'GT': call\n",
      "    'DP': int32\n",
      "    'PL': array<int32>\n",
      "----------------------------------------\n",
      "Column key: ['s']\n",
      "Row key: ['locus', 'alleles']\n",
      "----------------------------------------\n",
      "2024-04-22 08:12:07 Hail: INFO: Coerced sorted dataset"
     ]
    }
   ],
   "source": [
    "svtk_mt = hl.import_vcf(anno_sv_uri, reference_genome=\"GRCh38\", force_bgz=True)\n",
    "print(svtk_mt.count())\n",
    "svtk_mt.describe()"
   ]
  },
  {
   "cell_type": "code",
   "execution_count": 27,
   "id": "10344eb1-af07-4836-be41-f8e997656e41",
   "metadata": {
    "tags": []
   },
   "outputs": [
    {
     "data": {
      "application/vnd.jupyter.widget-view+json": {
       "model_id": "",
       "version_major": 2,
       "version_minor": 0
      },
      "text/plain": [
       "FloatProgress(value=0.0, bar_style='info', description='Progress:', layout=Layout(height='25px', width='50%'),…"
      ]
     },
     "metadata": {},
     "output_type": "display_data"
    },
    {
     "name": "stdout",
     "output_type": "stream",
     "text": [
      "----------------------------------------\n",
      "Global fields:\n",
      "    None\n",
      "----------------------------------------\n",
      "Column fields:\n",
      "    's': str\n",
      "----------------------------------------\n",
      "Row fields:\n",
      "    'locus': locus<GRCh38>\n",
      "    'alleles': array<str>\n",
      "    'rsid': str\n",
      "    'qual': float64\n",
      "    'filters': set<str>\n",
      "    'info': struct {\n",
      "        SVTYPE: str, \n",
      "        SVSIZE: int32, \n",
      "        END: int32, \n",
      "        AC_CHINESE: int32, \n",
      "        AN_CHINESE: int32, \n",
      "        AF_CHINESE: float64, \n",
      "        AC_MALAY: int32, \n",
      "        AN_MALAY: int32, \n",
      "        AF_MALAY: float64, \n",
      "        AC_INDIAN: int32, \n",
      "        AN_INDIAN: int32, \n",
      "        AF_INDIAN: float64, \n",
      "        LOF: array<str>, \n",
      "        DUP_LOF: array<str>, \n",
      "        COPY_GAIN: array<str>, \n",
      "        DUP_PARTIAL: array<str>, \n",
      "        MSV_EXON_OVR: array<str>, \n",
      "        INTRONIC: array<str>, \n",
      "        INV_SPAN: array<str>, \n",
      "        UTR: array<str>, \n",
      "        NEAREST_TSS: array<str>, \n",
      "        promoter: bool, \n",
      "        INTERGENIC: bool\n",
      "    }\n",
      "    'hom_ref_cnt': int64\n",
      "    'hom_var_cnt': int64\n",
      "    'het_cnt': int64\n",
      "    'num_of_variants': int64\n",
      "----------------------------------------\n",
      "Entry fields:\n",
      "    'GT': call\n",
      "    'DP': int32\n",
      "    'PL': array<int32>\n",
      "----------------------------------------\n",
      "Column key: ['s']\n",
      "Row key: ['locus', 'alleles']\n",
      "----------------------------------------"
     ]
    }
   ],
   "source": [
    "# Get allele frequency class\n",
    "mt2 = svtk_mt\n",
    "mt2 = mt2.annotate_rows( \n",
    "    hom_ref_cnt  = hl.agg.count_where(mt2.GT.is_hom_ref()),\n",
    "    hom_var_cnt  = hl.agg.count_where(mt2.GT.is_hom_var()),\n",
    "    het_cnt  = hl.agg.count_where(mt2.GT.is_het())\n",
    ")\n",
    "\n",
    "mt2 = mt2.annotate_rows( \n",
    "    num_of_variants = mt2.hom_var_cnt + mt2.het_cnt\n",
    ")\n",
    "mt2.describe()"
   ]
  },
  {
   "cell_type": "code",
   "execution_count": 28,
   "id": "f8aa715a-464e-450c-aac5-0a0d9cc149d4",
   "metadata": {},
   "outputs": [
    {
     "data": {
      "application/vnd.jupyter.widget-view+json": {
       "model_id": "",
       "version_major": 2,
       "version_minor": 0
      },
      "text/plain": [
       "FloatProgress(value=0.0, bar_style='info', description='Progress:', layout=Layout(height='25px', width='50%'),…"
      ]
     },
     "metadata": {},
     "output_type": "display_data"
    }
   ],
   "source": [
    "# Run variant_qc to get AF\n",
    "mt2 = hl.variant_qc(mt2)\n",
    "\n",
    "mt2 = mt2.annotate_rows(\n",
    "    AF_class = hl.case()\n",
    "            .when((mt2.variant_qc.AF[1] < 0.001),  \"Ultra-rare\")\n",
    "            .when((mt2.variant_qc.AF[1] >= 0.001) & (mt2.variant_qc.AF[1] < 0.01), \"Rare\")\n",
    "            .when((mt2.variant_qc.AF[1] >= 0.01), \"Common\")\n",
    "            .default(\"NA\") \n",
    ")"
   ]
  },
  {
   "cell_type": "code",
   "execution_count": 29,
   "id": "ac636a0d-50e3-45cf-8dc0-6841ef731c23",
   "metadata": {},
   "outputs": [
    {
     "data": {
      "application/vnd.jupyter.widget-view+json": {
       "model_id": "",
       "version_major": 2,
       "version_minor": 0
      },
      "text/plain": [
       "FloatProgress(value=0.0, bar_style='info', description='Progress:', layout=Layout(height='25px', width='50%'),…"
      ]
     },
     "metadata": {},
     "output_type": "display_data"
    },
    {
     "name": "stdout",
     "output_type": "stream",
     "text": [
      "(0, 5487)\n",
      "2024-04-22 08:12:27 Hail: INFO: Coerced sorted dataset"
     ]
    }
   ],
   "source": [
    "## Check to see if there are any variants without AF_class\n",
    "test = mt2.filter_rows(~hl.is_defined(mt2.AF_class))\n",
    "test.count()"
   ]
  },
  {
   "cell_type": "code",
   "execution_count": 30,
   "id": "c6a20928-5ca7-4ac3-bc53-fbc4567aba83",
   "metadata": {
    "tags": []
   },
   "outputs": [
    {
     "data": {
      "application/vnd.jupyter.widget-view+json": {
       "model_id": "",
       "version_major": 2,
       "version_minor": 0
      },
      "text/plain": [
       "FloatProgress(value=0.0, bar_style='info', description='Progress:', layout=Layout(height='25px', width='50%'),…"
      ]
     },
     "metadata": {},
     "output_type": "display_data"
    },
    {
     "name": "stdout",
     "output_type": "stream",
     "text": [
      "----------------------------------------\n",
      "Global fields:\n",
      "    None\n",
      "----------------------------------------\n",
      "Column fields:\n",
      "    's': str\n",
      "----------------------------------------\n",
      "Row fields:\n",
      "    'locus': locus<GRCh38>\n",
      "    'alleles': array<str>\n",
      "    'rsid': str\n",
      "    'qual': float64\n",
      "    'filters': set<str>\n",
      "    'info': struct {\n",
      "        SVTYPE: str, \n",
      "        SVSIZE: int32, \n",
      "        END: int32, \n",
      "        AC_CHINESE: int32, \n",
      "        AN_CHINESE: int32, \n",
      "        AF_CHINESE: float64, \n",
      "        AC_MALAY: int32, \n",
      "        AN_MALAY: int32, \n",
      "        AF_MALAY: float64, \n",
      "        AC_INDIAN: int32, \n",
      "        AN_INDIAN: int32, \n",
      "        AF_INDIAN: float64, \n",
      "        LOF: array<str>, \n",
      "        DUP_LOF: array<str>, \n",
      "        COPY_GAIN: array<str>, \n",
      "        DUP_PARTIAL: array<str>, \n",
      "        MSV_EXON_OVR: array<str>, \n",
      "        INTRONIC: array<str>, \n",
      "        INV_SPAN: array<str>, \n",
      "        UTR: array<str>, \n",
      "        NEAREST_TSS: array<str>, \n",
      "        promoter: bool, \n",
      "        INTERGENIC: bool\n",
      "    }\n",
      "    'hom_ref_cnt': int64\n",
      "    'hom_var_cnt': int64\n",
      "    'het_cnt': int64\n",
      "    'num_of_variants': int64\n",
      "    'variant_qc': struct {\n",
      "        dp_stats: struct {\n",
      "            mean: float64, \n",
      "            stdev: float64, \n",
      "            min: float64, \n",
      "            max: float64\n",
      "        }, \n",
      "        AC: array<int32>, \n",
      "        AF: array<float64>, \n",
      "        AN: int32, \n",
      "        homozygote_count: array<int32>, \n",
      "        call_rate: float64, \n",
      "        n_called: int64, \n",
      "        n_not_called: int64, \n",
      "        n_filtered: int64, \n",
      "        n_het: int64, \n",
      "        n_non_ref: int64, \n",
      "        het_freq_hwe: float64, \n",
      "        p_value_hwe: float64, \n",
      "        p_value_excess_het: float64\n",
      "    }\n",
      "    'AF_class': str\n",
      "    'svtk_annot2': set<str>\n",
      "----------------------------------------\n",
      "Entry fields:\n",
      "    'GT': call\n",
      "    'DP': int32\n",
      "    'PL': array<int32>\n",
      "----------------------------------------\n",
      "Column key: ['s']\n",
      "Row key: ['locus', 'alleles']\n",
      "----------------------------------------\n",
      "+---------------+------------------------+---------------------------------+\n",
      "| locus         | alleles                | rsid                            |\n",
      "+---------------+------------------------+---------------------------------+\n",
      "| locus<GRCh38> | array<str>             | str                             |\n",
      "+---------------+------------------------+---------------------------------+\n",
      "| chr1:54720    | [\"C\",\"<DUP>\"]          | \"SG10K_SV_DUP_chr1_54720_54\"    |\n",
      "| chr1:66534    | [\"T\",\"<DUP>\"]          | \"SG10K_SV_DUP_chr1_66534_58\"    |\n",
      "| chr1:83963    | [\"A\",\"<DUP>\"]          | \"SG10K_SV_DUP_chr1_83963_75\"    |\n",
      "| chr1:99061    | [\"C\",\"<DUP>\"]          | \"SG10K_SV_DUP_chr1_99061_52\"    |\n",
      "| chr1:187139   | [\"C\",\"<INS:ME:LINE1>\"] | \"SG10K_SV_INS_chr1_187139_3026\" |\n",
      "+---------------+------------------------+---------------------------------+\n",
      "\n",
      "+-----------+----------+-------------+-------------+----------+\n",
      "|      qual | filters  | info.SVTYPE | info.SVSIZE | info.END |\n",
      "+-----------+----------+-------------+-------------+----------+\n",
      "|   float64 | set<str> | str         |       int32 |    int32 |\n",
      "+-----------+----------+-------------+-------------+----------+\n",
      "| -1.00e+01 | {}       | \"DUP\"       |          54 |    54774 |\n",
      "| -1.00e+01 | {}       | \"DUP\"       |          58 |    66592 |\n",
      "| -1.00e+01 | {}       | \"DUP\"       |          75 |    84038 |\n",
      "| -1.00e+01 | {}       | \"DUP\"       |          52 |    99113 |\n",
      "| -1.00e+01 | {}       | \"INS\"       |        3026 |   187139 |\n",
      "+-----------+----------+-------------+-------------+----------+\n",
      "\n",
      "+-----------------+-----------------+-----------------+---------------+\n",
      "| info.AC_CHINESE | info.AN_CHINESE | info.AF_CHINESE | info.AC_MALAY |\n",
      "+-----------------+-----------------+-----------------+---------------+\n",
      "|           int32 |           int32 |         float64 |         int32 |\n",
      "+-----------------+-----------------+-----------------+---------------+\n",
      "|              28 |            4930 |        5.68e-03 |            10 |\n",
      "|               0 |            3288 |        0.00e+00 |             2 |\n",
      "|              26 |            2360 |        1.10e-02 |             2 |\n",
      "|             220 |            2566 |        8.57e-02 |            53 |\n",
      "|               1 |            6162 |        1.62e-04 |             0 |\n",
      "+-----------------+-----------------+-----------------+---------------+\n",
      "\n",
      "+---------------+---------------+----------------+----------------+\n",
      "| info.AN_MALAY | info.AF_MALAY | info.AC_INDIAN | info.AN_INDIAN |\n",
      "+---------------+---------------+----------------+----------------+\n",
      "|         int32 |       float64 |          int32 |          int32 |\n",
      "+---------------+---------------+----------------+----------------+\n",
      "|          1790 |      5.59e-03 |             59 |           1234 |\n",
      "|          1106 |      1.81e-03 |              0 |            724 |\n",
      "|           966 |      2.07e-03 |             17 |           1404 |\n",
      "|          1024 |      5.18e-02 |             37 |            938 |\n",
      "|          2282 |      0.00e+00 |              0 |           2468 |\n",
      "+---------------+---------------+----------------+----------------+\n",
      "\n",
      "+----------------+------------+--------------+----------------+\n",
      "| info.AF_INDIAN | info.LOF   | info.DUP_LOF | info.COPY_GAIN |\n",
      "+----------------+------------+--------------+----------------+\n",
      "|        float64 | array<str> | array<str>   | array<str>     |\n",
      "+----------------+------------+--------------+----------------+\n",
      "|       4.78e-02 | NA         | NA           | NA             |\n",
      "|       0.00e+00 | NA         | NA           | NA             |\n",
      "|       1.21e-02 | NA         | NA           | NA             |\n",
      "|       3.94e-02 | NA         | NA           | NA             |\n",
      "|       0.00e+00 | NA         | NA           | NA             |\n",
      "+----------------+------------+--------------+----------------+\n",
      "\n",
      "+---------------------+-------------------+---------------+---------------+\n",
      "| info.DUP_PARTIAL    | info.MSV_EXON_OVR | info.INTRONIC | info.INV_SPAN |\n",
      "+---------------------+-------------------+---------------+---------------+\n",
      "| array<str>          | array<str>        | array<str>    | array<str>    |\n",
      "+---------------------+-------------------+---------------+---------------+\n",
      "| NA                  | NA                | NA            | NA            |\n",
      "| [\"OR4F5\"]           | NA                | NA            | NA            |\n",
      "| NA                  | NA                | NA            | NA            |\n",
      "| [\"ENSG00000238009\"] | NA                | NA            | NA            |\n",
      "| NA                  | NA                | [\"WASH9P\"]    | NA            |\n",
      "+---------------------+-------------------+---------------+---------------+\n",
      "\n",
      "+------------+------------------+---------------+-----------------+\n",
      "| info.UTR   | info.NEAREST_TSS | info.promoter | info.INTERGENIC |\n",
      "+------------+------------------+---------------+-----------------+\n",
      "| array<str> | array<str>       |          bool |            bool |\n",
      "+------------+------------------+---------------+-----------------+\n",
      "| NA         | [\"OR4G11P\"]      |         False |            True |\n",
      "| NA         | NA               |         False |           False |\n",
      "| NA         | [\"CICP27\"]       |         False |            True |\n",
      "| NA         | NA               |         False |           False |\n",
      "| NA         | NA               |         False |           False |\n",
      "+------------+------------------+---------------+-----------------+\n",
      "\n",
      "+-------------+-------------+---------+-----------------+\n",
      "| hom_ref_cnt | hom_var_cnt | het_cnt | num_of_variants |\n",
      "+-------------+-------------+---------+-----------------+\n",
      "|       int64 |       int64 |   int64 |           int64 |\n",
      "+-------------+-------------+---------+-----------------+\n",
      "|        3894 |           3 |      91 |              94 |\n",
      "|        2563 |           1 |       0 |               1 |\n",
      "|        2331 |           5 |      35 |              40 |\n",
      "|        1973 |          15 |     282 |             297 |\n",
      "|        5473 |           0 |       1 |               1 |\n",
      "+-------------+-------------+---------+-----------------+\n",
      "\n",
      "+--------------------------+---------------------------+\n",
      "| variant_qc.dp_stats.mean | variant_qc.dp_stats.stdev |\n",
      "+--------------------------+---------------------------+\n",
      "|                  float64 |                   float64 |\n",
      "+--------------------------+---------------------------+\n",
      "|                      NaN |                       NaN |\n",
      "|                      NaN |                       NaN |\n",
      "|                      NaN |                       NaN |\n",
      "|                      NaN |                       NaN |\n",
      "|                 1.94e+01 |                  8.50e+00 |\n",
      "+--------------------------+---------------------------+\n",
      "\n",
      "+-------------------------+-------------------------+---------------+\n",
      "| variant_qc.dp_stats.min | variant_qc.dp_stats.max | variant_qc.AC |\n",
      "+-------------------------+-------------------------+---------------+\n",
      "|                 float64 |                 float64 | array<int32>  |\n",
      "+-------------------------+-------------------------+---------------+\n",
      "|                      NA |                      NA | [7879,97]     |\n",
      "|                      NA |                      NA | [5126,2]      |\n",
      "|                      NA |                      NA | [4697,45]     |\n",
      "|                      NA |                      NA | [4228,312]    |\n",
      "|                0.00e+00 |                5.80e+01 | [10947,1]     |\n",
      "+-------------------------+-------------------------+---------------+\n",
      "\n",
      "+---------------------+---------------+-----------------------------+\n",
      "| variant_qc.AF       | variant_qc.AN | variant_qc.homozygote_count |\n",
      "+---------------------+---------------+-----------------------------+\n",
      "| array<float64>      |         int32 | array<int32>                |\n",
      "+---------------------+---------------+-----------------------------+\n",
      "| [9.88e-01,1.22e-02] |          7976 | [3894,3]                    |\n",
      "| [1.00e+00,3.90e-04] |          5128 | [2563,1]                    |\n",
      "| [9.91e-01,9.49e-03] |          4742 | [2331,5]                    |\n",
      "| [9.31e-01,6.87e-02] |          4540 | [1973,15]                   |\n",
      "| [1.00e+00,9.13e-05] |         10948 | [5473,0]                    |\n",
      "+---------------------+---------------+-----------------------------+\n",
      "\n",
      "+----------------------+---------------------+-------------------------+\n",
      "| variant_qc.call_rate | variant_qc.n_called | variant_qc.n_not_called |\n",
      "+----------------------+---------------------+-------------------------+\n",
      "|              float64 |               int64 |                   int64 |\n",
      "+----------------------+---------------------+-------------------------+\n",
      "|             7.27e-01 |                3988 |                    1499 |\n",
      "|             4.67e-01 |                2564 |                    2923 |\n",
      "|             4.32e-01 |                2371 |                    3116 |\n",
      "|             4.14e-01 |                2270 |                    3217 |\n",
      "|             9.98e-01 |                5474 |                      13 |\n",
      "+----------------------+---------------------+-------------------------+\n",
      "\n",
      "+-----------------------+------------------+----------------------+\n",
      "| variant_qc.n_filtered | variant_qc.n_het | variant_qc.n_non_ref |\n",
      "+-----------------------+------------------+----------------------+\n",
      "|                 int64 |            int64 |                int64 |\n",
      "+-----------------------+------------------+----------------------+\n",
      "|                     0 |               91 |                   94 |\n",
      "|                     0 |                0 |                    1 |\n",
      "|                     0 |               35 |                   40 |\n",
      "|                     0 |              282 |                  297 |\n",
      "|                     0 |                1 |                    1 |\n",
      "+-----------------------+------------------+----------------------+\n",
      "\n",
      "+-------------------------+------------------------+\n",
      "| variant_qc.het_freq_hwe | variant_qc.p_value_hwe |\n",
      "+-------------------------+------------------------+\n",
      "|                 float64 |                float64 |\n",
      "+-------------------------+------------------------+\n",
      "|                2.40e-02 |               1.12e-02 |\n",
      "|                7.80e-04 |               9.75e-05 |\n",
      "|                1.88e-02 |               5.81e-07 |\n",
      "|                1.28e-01 |               1.63e-01 |\n",
      "|                1.83e-04 |               5.00e-01 |\n",
      "+-------------------------+------------------------+\n",
      "\n",
      "+-------------------------------+--------------+-------------+\n",
      "| variant_qc.p_value_excess_het | AF_class     | svtk_annot2 |\n",
      "+-------------------------------+--------------+-------------+\n",
      "|                       float64 | str          | set<str>    |\n",
      "+-------------------------------+--------------+-------------+\n",
      "|                      9.89e-01 | \"Common\"     | {}          |\n",
      "|                      1.00e+00 | \"Ultra-rare\" | {}          |\n",
      "|                      1.00e+00 | \"Rare\"       | {}          |\n",
      "|                      9.14e-01 | \"Common\"     | {}          |\n",
      "|                      5.00e-01 | \"Ultra-rare\" | {}          |\n",
      "+-------------------------------+--------------+-------------+\n",
      "showing top 5 rows\n",
      "\n",
      "2024-04-22 08:13:02 Hail: INFO: Coerced sorted dataset"
     ]
    }
   ],
   "source": [
    "conditions = [\n",
    "    {'key': 'is_LOF', 'expr': ( hl.is_defined(mt2.info.LOF) ) },\n",
    "    {'key': 'is_DUP_LOF', 'expr': ( hl.is_defined(mt2.info.DUP_LOF)  ) },\n",
    "    {'key': 'is_COPY_GAIN', 'expr': ( hl.is_defined(mt2.info.COPY_GAIN) ) }, \n",
    "]\n",
    "\n",
    "mt2 = mt2.annotate_rows(\n",
    "    svtk_annot2 = hl.set(hl.filter(\n",
    "        lambda x: hl.is_defined(x),\n",
    "        [hl.or_missing(\n",
    "            d['expr'],\n",
    "            d['key']\n",
    "        ) for d in conditions]\n",
    "    ))\n",
    ")\n",
    "\n",
    "mt2.describe()\n",
    "mt2.rows().show(5)"
   ]
  },
  {
   "cell_type": "code",
   "execution_count": 31,
   "id": "9c6250bd-978e-4200-9648-07f63a2b6ba8",
   "metadata": {},
   "outputs": [
    {
     "data": {
      "application/vnd.jupyter.widget-view+json": {
       "model_id": "",
       "version_major": 2,
       "version_minor": 0
      },
      "text/plain": [
       "FloatProgress(value=0.0, bar_style='info', description='Progress:', layout=Layout(height='25px', width='50%'),…"
      ]
     },
     "metadata": {},
     "output_type": "display_data"
    },
    {
     "name": "stdout",
     "output_type": "stream",
     "text": [
      "+--------------+\n",
      "| AF_class     |\n",
      "+--------------+\n",
      "| str          |\n",
      "+--------------+\n",
      "| \"Common\"     |\n",
      "| \"Rare\"       |\n",
      "| \"Ultra-rare\" |\n",
      "+--------------+\n",
      "\n",
      "+------------------------------------------------------------------------------+\n",
      "| total                                                                        |\n",
      "+------------------------------------------------------------------------------+\n",
      "| dict<set<str>, int64>                                                        |\n",
      "+------------------------------------------------------------------------------+\n",
      "| {{}:19165,{\"is_DUP_LOF\"}:8,{\"is_COPY_GAIN\",\"is_DUP_LOF\"}:1,{\"is_LOF\"}:92,... |\n",
      "| {{}:11653,{\"is_DUP_LOF\"}:21,{\"is_COPY_GAIN\",\"is_DUP_LOF\"}:4,{\"is_LOF\"}:78... |\n",
      "| {{}:40064,{\"is_DUP_LOF\"}:199,{\"is_COPY_GAIN\",\"is_DUP_LOF\"}:31,{\"is_LOF\"}:... |\n",
      "+------------------------------------------------------------------------------+\n",
      "\n",
      "2024-04-22 08:13:15 Hail: INFO: Coerced sorted dataset\n",
      "2024-04-22 08:13:39 Hail: INFO: Coerced sorted dataset\n",
      "2024-04-22 08:13:39 Hail: INFO: Coerced dataset with out-of-order partitions."
     ]
    }
   ],
   "source": [
    "svtk_annot_af_class_ht = mt2.select_rows(mt2.AF_class, mt2.svtk_annot2).rows()\n",
    "svtk_annot_af_class_gp_ht = (svtk_annot_af_class_ht.group_by(\"AF_class\").aggregate(total=hl.agg.counter(svtk_annot_af_class_ht.svtk_annot2))).cache()\n",
    "svtk_annot_af_class_gp_ht.show()"
   ]
  },
  {
   "cell_type": "code",
   "execution_count": 32,
   "id": "625f7504-03ef-4f97-9b0b-a441491b0201",
   "metadata": {},
   "outputs": [
    {
     "data": {
      "application/vnd.jupyter.widget-view+json": {
       "model_id": "",
       "version_major": 2,
       "version_minor": 0
      },
      "text/plain": [
       "FloatProgress(value=0.0, bar_style='info', description='Progress:', layout=Layout(height='25px', width='50%'),…"
      ]
     },
     "metadata": {},
     "output_type": "display_data"
    },
    {
     "name": "stdout",
     "output_type": "stream",
     "text": [
      "+--------------+----------------------------------------------------------------------------------------------------+\n",
      "| AF_class     | total                                                                                              |\n",
      "+--------------+----------------------------------------------------------------------------------------------------+\n",
      "| str          | dict<set<str>, int64>                                                                              |\n",
      "+--------------+----------------------------------------------------------------------------------------------------+\n",
      "| \"Common\"     | {{}:19165,{\"is_DUP_LOF\"}:8,{\"is_COPY_GAIN\",\"is_DUP_LOF\"}:1,{\"is_LOF\"}:92,{\"is_COPY_GAIN\"}:10}      |\n",
      "| \"Rare\"       | {{}:11653,{\"is_DUP_LOF\"}:21,{\"is_COPY_GAIN\",\"is_DUP_LOF\"}:4,{\"is_LOF\"}:78,{\"is_COPY_GAIN\"}:102}    |\n",
      "| \"Ultra-rare\" | {{}:40064,{\"is_DUP_LOF\"}:199,{\"is_COPY_GAIN\",\"is_DUP_LOF\"}:31,{\"is_LOF\"}:838,{\"is_COPY_GAIN\"}:769} |\n",
      "+--------------+----------------------------------------------------------------------------------------------------+"
     ]
    }
   ],
   "source": [
    "svtk_annot_af_class_gp_ht.show(width=1000)"
   ]
  },
  {
   "cell_type": "code",
   "execution_count": 33,
   "id": "a5d6a3a0-cc0c-41fa-8428-04c528257a4b",
   "metadata": {},
   "outputs": [
    {
     "data": {
      "text/plain": [
       "<Figure size 1000x2000 with 0 Axes>"
      ]
     },
     "metadata": {},
     "output_type": "display_data"
    },
    {
     "data": {
      "image/png": "[encoded data removed]",
      "text/plain": [
       "<Figure size 432x288 with 1 Axes>"
      ]
     },
     "metadata": {
      "needs_background": "light"
     },
     "output_type": "display_data"
    }
   ],
   "source": [
    "%matplotlib inline\n",
    "import pandas as pd\n",
    "import matplotlib.pyplot as plot\n",
    "from matplotlib.pyplot import figure\n",
    "\n",
    "palette=[  '#980043' , '#df65b0' , '#d4b9da']\n",
    "\n",
    "figure(figsize=(10, 20), dpi=100)\n",
    "# Initialize data to Dicts of series.\n",
    "d = {'Common': pd.Series([8,1,92,10],\n",
    "                        index = ['DUP_LOF', 'COPY_GAIN,DUP_LOF', 'LOF', 'COPY_GAIN']),\n",
    "      'Rare' : pd.Series([21, 4, 78, 102],\n",
    "                        index =['DUP_LOF', 'COPY_GAIN,DUP_LOF', 'LOF', 'COPY_GAIN']),\n",
    "     \n",
    "    'Ultra-rare' : pd.Series([199, 31, 838, 769],\n",
    "                       index =['DUP_LOF', 'COPY_GAIN,DUP_LOF', 'LOF', 'COPY_GAIN'])\n",
    "    }\n",
    "\n",
    "df = pd.DataFrame(d)\n",
    "\n",
    "ax = df.plot.bar(rot=15, title=\"Functional consequences of different SV by AF\", ylabel=\"Count\", color = palette)\n",
    "ax.grid(axis=\"y\" , linewidth=0.4)\n",
    "ax.set_axisbelow(True)\n",
    "\n",
    "plot.show()"
   ]
  },
  {
   "cell_type": "code",
   "execution_count": 12,
   "id": "cb64780a-861a-442d-9c28-43c43b4495ad",
   "metadata": {},
   "outputs": [
    {
     "data": {
      "application/vnd.jupyter.widget-view+json": {
       "model_id": "",
       "version_major": 2,
       "version_minor": 0
      },
      "text/plain": [
       "FloatProgress(value=0.0, bar_style='info', description='Progress:', layout=Layout(height='25px', width='50%'),…"
      ]
     },
     "metadata": {},
     "output_type": "display_data"
    },
    {
     "name": "stdout",
     "output_type": "stream",
     "text": [
      "2024-04-22 07:02:03 Hail: INFO: Coerced sorted dataset\n",
      "2024-04-22 07:03:37 Hail: INFO: wrote matrix table with 73035 rows and 5487 columns in 3 partitions to SG10K-SV-Release-1.4-HighConfidenceSV-WithMetadata-svtkAnnotation.mt"
     ]
    }
   ],
   "source": [
    "## Save the matrix table with svtk annotation\n",
    "svtk_mt_uri = \"SG10K-SV-Release-1.4-HighConfidenceSV-WithMetadata-svtkAnnotation.mt\"\n",
    "mt2.write(svtk_mt_uri, overwrite=True)"
   ]
  },
  {
   "cell_type": "markdown",
   "id": "90b892fb-d2ad-4645-ab5c-6b7b9b7621a2",
   "metadata": {},
   "source": [
    "### Save plots to s3\n",
    "#### install boto3"
   ]
  },
  {
   "cell_type": "code",
   "execution_count": 13,
   "id": "679e1d6b-9d6c-4a6d-9410-6c8d14c8ee37",
   "metadata": {},
   "outputs": [
    {
     "name": "stdout",
     "output_type": "stream",
     "text": [
      "Requirement already satisfied: boto3 in /opt/conda/lib/python3.9/site-packages (1.17.106)\n",
      "Requirement already satisfied: jmespath<1.0.0,>=0.7.1 in /opt/conda/lib/python3.9/site-packages (from boto3) (0.10.0)\n",
      "Requirement already satisfied: botocore<1.21.0,>=1.20.106 in /opt/conda/lib/python3.9/site-packages (from boto3) (1.20.106)\n",
      "Requirement already satisfied: s3transfer<0.5.0,>=0.4.0 in /opt/conda/lib/python3.9/site-packages (from boto3) (0.4.2)\n",
      "Requirement already satisfied: urllib3<1.27,>=1.25.4 in /opt/conda/lib/python3.9/site-packages (from botocore<1.21.0,>=1.20.106->boto3) (1.26.6)\n",
      "Requirement already satisfied: python-dateutil<3.0.0,>=2.1 in /opt/conda/lib/python3.9/site-packages (from botocore<1.21.0,>=1.20.106->boto3) (2.8.2)\n",
      "Requirement already satisfied: six>=1.5 in /opt/conda/lib/python3.9/site-packages (from python-dateutil<3.0.0,>=2.1->botocore<1.21.0,>=1.20.106->boto3) (1.16.0)\n"
     ]
    }
   ],
   "source": [
    "%%sh\n",
    "pip install boto3"
   ]
  },
  {
   "cell_type": "code",
   "execution_count": 14,
   "id": "5a2808c3-3cfb-4b81-bc23-013e1e98aca0",
   "metadata": {},
   "outputs": [
    {
     "data": {
      "application/vnd.jupyter.widget-view+json": {
       "model_id": "",
       "version_major": 2,
       "version_minor": 0
      },
      "text/plain": [
       "FloatProgress(value=0.0, bar_style='info', description='Progress:', layout=Layout(height='25px', width='50%'),…"
      ]
     },
     "metadata": {},
     "output_type": "display_data"
    }
   ],
   "source": [
    "import boto3\n",
    "import io\n",
    "import matplotlib.pyplot as plt\n",
    "import seaborn as sns\n",
    "\n",
    "def save_fig_to_s3(fig, bucket, key):\n",
    "    img_data = io.BytesIO()\n",
    "    fig.savefig(img_data, format='svg', dpi=300)\n",
    "    img_data.seek(0)\n",
    "\n",
    "    s3 = boto3.client('s3')\n",
    "    response = s3.put_object(Bucket=bucket, Key=key, Body=img_data, ContentType='image/svg')\n",
    "    print(response)"
   ]
  },
  {
   "cell_type": "code",
   "execution_count": 15,
   "id": "61865fe5-37ea-466a-a995-797592a7d52b",
   "metadata": {},
   "outputs": [
    {
     "data": {
      "application/vnd.jupyter.widget-view+json": {
       "model_id": "",
       "version_major": 2,
       "version_minor": 0
      },
      "text/plain": [
       "FloatProgress(value=0.0, bar_style='info', description='Progress:', layout=Layout(height='25px', width='50%'),…"
      ]
     },
     "metadata": {},
     "output_type": "display_data"
    }
   ],
   "source": [
    "import pandas as pd\n",
    "import matplotlib.pyplot as plot\n",
    "from matplotlib.pyplot import figure\n",
    "\n",
    "palette=[  '#980043' , '#df65b0' , '#d4b9da']\n",
    "\n",
    "figure(figsize=(10, 20), dpi=100)\n",
    "# Initialize data to Dicts of series.\n",
    "d = {'Common': pd.Series([8,1,93,10],\n",
    "                        index = ['DUP_LOF', 'COPY_GAIN,DUP_LOF', 'LOF', 'COPY_GAIN']),\n",
    "      'Rare' : pd.Series([21, 4, 78, 102],\n",
    "                        index =['DUP_LOF', 'COPY_GAIN,DUP_LOF', 'LOF', 'COPY_GAIN']),\n",
    "     \n",
    "    'Ultra-rare' : pd.Series([199, 31, 838, 769],\n",
    "                       index =['DUP_LOF', 'COPY_GAIN,DUP_LOF', 'LOF', 'COPY_GAIN'])\n",
    "    }\n",
    "\n",
    "df = pd.DataFrame(d)\n",
    "\n",
    "ax = df.plot.bar(rot=15, title=\"Functional consequences of different SV by AF\", ylabel=\"Count\", color = palette)\n",
    "ax.grid(axis=\"y\" , linewidth=0.4)\n",
    "ax.set_axisbelow(True)"
   ]
  },
  {
   "cell_type": "code",
   "execution_count": 16,
   "id": "6caae970-dca0-4df3-93b3-ff4985baa12f",
   "metadata": {},
   "outputs": [
    {
     "data": {
      "application/vnd.jupyter.widget-view+json": {
       "model_id": "",
       "version_major": 2,
       "version_minor": 0
      },
      "text/plain": [
       "FloatProgress(value=0.0, bar_style='info', description='Progress:', layout=Layout(height='25px', width='50%'),…"
      ]
     },
     "metadata": {},
     "output_type": "display_data"
    },
    {
     "name": "stdout",
     "output_type": "stream",
     "text": [
]
    }
   ],
   "source": [
    "save_fig_to_s3(plot, \"Figures\", \"fig3c_FunctionalPredictions.svg\")"
   ]
  },
  {
   "cell_type": "markdown",
   "id": "f06176d6-475a-40c5-a4ee-23b29630d389",
   "metadata": {},
   "source": [
    "### Get the size of LOF vs Copy Gain events"
   ]
  },
  {
   "cell_type": "code",
   "execution_count": 17,
   "id": "77a9ae92-7fc9-4f35-81d2-e9004afc9aba",
   "metadata": {},
   "outputs": [
    {
     "data": {
      "application/vnd.jupyter.widget-view+json": {
       "model_id": "",
       "version_major": 2,
       "version_minor": 0
      },
      "text/plain": [
       "FloatProgress(value=0.0, bar_style='info', description='Progress:', layout=Layout(height='25px', width='50%'),…"
      ]
     },
     "metadata": {},
     "output_type": "display_data"
    },
    {
     "name": "stdout",
     "output_type": "stream",
     "text": [
      "+---------------+------------------------+-------------+--------+--------+\n",
      "| locus         | alleles                | svtk_annot2 | SVSIZE | SVTYPE |\n",
      "+---------------+------------------------+-------------+--------+--------+\n",
      "| locus<GRCh38> | array<str>             | set<str>    |  int32 | str    |\n",
      "+---------------+------------------------+-------------+--------+--------+\n",
      "| chr1:54720    | [\"C\",\"<DUP>\"]          | {}          |     54 | \"DUP\"  |\n",
      "| chr1:66534    | [\"T\",\"<DUP>\"]          | {}          |     58 | \"DUP\"  |\n",
      "| chr1:83963    | [\"A\",\"<DUP>\"]          | {}          |     75 | \"DUP\"  |\n",
      "| chr1:99061    | [\"C\",\"<DUP>\"]          | {}          |     52 | \"DUP\"  |\n",
      "| chr1:187139   | [\"C\",\"<INS:ME:LINE1>\"] | {}          |   3026 | \"INS\"  |\n",
      "+---------------+------------------------+-------------+--------+--------+\n",
      "showing top 5 rows\n",
      "\n",
      "2024-04-22 07:11:26 Hail: INFO: Coerced sorted dataset"
     ]
    }
   ],
   "source": [
    "svtk_annot_class_ht = mt2.select_rows(mt2.svtk_annot2, mt2.info.SVSIZE, mt2.info.SVTYPE).rows()\n",
    "svtk_annot_class_ht.show(5)"
   ]
  },
  {
   "cell_type": "code",
   "execution_count": 18,
   "id": "b2a031ab-7f30-4766-a712-6a171b71f0e4",
   "metadata": {},
   "outputs": [
    {
     "data": {
      "application/vnd.jupyter.widget-view+json": {
       "model_id": "",
       "version_major": 2,
       "version_minor": 0
      },
      "text/plain": [
       "FloatProgress(value=0.0, bar_style='info', description='Progress:', layout=Layout(height='25px', width='50%'),…"
      ]
     },
     "metadata": {},
     "output_type": "display_data"
    },
    {
     "name": "stdout",
     "output_type": "stream",
     "text": [
      "+-------------------------------+-------------------+--------------------+\n",
      "| svtk_annot2                   | average_size.mean | average_size.stdev |\n",
      "+-------------------------------+-------------------+--------------------+\n",
      "| set<str>                      |           float64 |            float64 |\n",
      "+-------------------------------+-------------------+--------------------+\n",
      "| {}                            |          2.45e+03 |           1.16e+04 |\n",
      "| {\"is_COPY_GAIN\"}              |          2.02e+05 |           3.04e+05 |\n",
      "| {\"is_COPY_GAIN\",\"is_DUP_LOF\"} |          8.53e+04 |           1.39e+05 |\n",
      "| {\"is_DUP_LOF\"}                |          2.53e+04 |           4.89e+04 |\n",
      "| {\"is_LOF\"}                    |          1.92e+05 |           2.93e+06 |\n",
      "+-------------------------------+-------------------+--------------------+\n",
      "\n",
      "+------------------+------------------+----------------+------------------+\n",
      "| average_size.min | average_size.max | average_size.n | average_size.sum |\n",
      "+------------------+------------------+----------------+------------------+\n",
      "|          float64 |          float64 |          int64 |          float64 |\n",
      "+------------------+------------------+----------------+------------------+\n",
      "|         2.20e+01 |         7.17e+05 |          68755 |         1.69e+08 |\n",
      "|         1.05e+02 |         4.55e+06 |            881 |         1.78e+08 |\n",
      "|         4.21e+03 |         7.53e+05 |             36 |         3.07e+06 |\n",
      "|         5.40e+01 |         3.40e+05 |            228 |         5.76e+06 |\n",
      "|         5.00e+01 |         7.20e+07 |           1005 |         1.93e+08 |\n",
      "+------------------+------------------+----------------+------------------+\n",
      "\n",
      "2024-04-22 07:11:40 Hail: INFO: Coerced sorted dataset\n",
      "2024-04-22 07:11:46 Hail: INFO: Ordering unsorted dataset with network shuffle"
     ]
    }
   ],
   "source": [
    "svtk_annot_class_ht.group_by(\"svtk_annot2\").aggregate(average_size=hl.agg.stats(svtk_annot_class_ht.SVSIZE)).show()"
   ]
  },
  {
   "cell_type": "markdown",
   "id": "2942acbc-826d-4dab-ac10-3d5cb213ebae",
   "metadata": {},
   "source": [
    "### Export text file for Fst analysis"
   ]
  },
  {
   "cell_type": "code",
   "execution_count": 34,
   "id": "842c4d46-bbd8-4982-a319-a9defe7c864b",
   "metadata": {},
   "outputs": [
    {
     "data": {
      "application/vnd.jupyter.widget-view+json": {
       "model_id": "",
       "version_major": 2,
       "version_minor": 0
      },
      "text/plain": [
       "FloatProgress(value=0.0, bar_style='info', description='Progress:', layout=Layout(height='25px', width='50%'),…"
      ]
     },
     "metadata": {},
     "output_type": "display_data"
    },
    {
     "name": "stdout",
     "output_type": "stream",
     "text": [
      "----------------------------------------\n",
      "Global fields:\n",
      "    None\n",
      "----------------------------------------\n",
      "Row fields:\n",
      "    'locus': locus<GRCh38> \n",
      "    'alleles': array<str> \n",
      "    'END': int32 \n",
      "    'rsid': str \n",
      "    'SVTYPE': str \n",
      "    'SVSIZE': int32 \n",
      "    'svtk_annot2': set<str> \n",
      "    'call_rate': float64 \n",
      "----------------------------------------\n",
      "Key: ['locus', 'alleles']\n",
      "----------------------------------------"
     ]
    }
   ],
   "source": [
    "## export annotations for Fst analysis\n",
    "svtk_selection_ht = mt2.select_rows( mt2.info.END, mt2.rsid, mt2.info.SVTYPE, mt2.info.SVSIZE,  mt2.svtk_annot2, mt2.variant_qc.call_rate).rows()\n",
    "svtk_selection_ht.describe()"
   ]
  },
  {
   "cell_type": "code",
   "execution_count": 35,
   "id": "511c105d-7f26-4e19-86fe-a95d36af4d34",
   "metadata": {},
   "outputs": [
    {
     "data": {
      "application/vnd.jupyter.widget-view+json": {
       "model_id": "",
       "version_major": 2,
       "version_minor": 0
      },
      "text/plain": [
       "FloatProgress(value=0.0, bar_style='info', description='Progress:', layout=Layout(height='25px', width='50%'),…"
      ]
     },
     "metadata": {},
     "output_type": "display_data"
    },
    {
     "name": "stdout",
     "output_type": "stream",
     "text": [
      "2024-04-22 08:13:49 Hail: INFO: Coerced sorted dataset\n",
      "2024-04-22 08:14:16 Hail: INFO: merging 3 files totalling 6.9M...\n",
      "2024-04-22 08:14:16 Hail: INFO: while writing:\n",
      "    svtk_annotation_for_sizecalculation.tsv\n",
      "  merge time: 381.212ms"
     ]
    }
   ],
   "source": [
    "svtk_selection_ht.export(\"svtk_annotation_for_sizecalculation.tsv\", delimiter='\\t')"
   ]
  },
  {
   "cell_type": "code",
   "execution_count": null,
   "id": "ee5a6c1a-4f80-459b-846f-f573072648a5",
   "metadata": {},
   "outputs": [],
   "source": []
  }
 ],
 "metadata": {
  "kernelspec": {
   "display_name": "PySpark",
   "language": "python",
   "name": "pysparkkernel"
  },
  "language_info": {
   "codemirror_mode": {
    "name": "python",
    "version": 3
   },
   "file_extension": ".py",
   "mimetype": "text/x-python",
   "name": "pyspark",
   "pygments_lexer": "python3"
  }
 },
 "nbformat": 4,
 "nbformat_minor": 5
}

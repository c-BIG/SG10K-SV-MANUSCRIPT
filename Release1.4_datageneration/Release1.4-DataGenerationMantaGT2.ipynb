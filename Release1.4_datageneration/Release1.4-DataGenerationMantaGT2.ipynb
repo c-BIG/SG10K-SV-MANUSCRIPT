{
 "cells": [
  {
   "cell_type": "markdown",
   "id": "6cc92efa-b6d5-45f2-9e4b-6fe1e7f62db6",
   "metadata": {},
   "source": [
    "### This notebook focus on generating a manta-SVimmer-Graphtyper matrix table release from Manta-SVimmer-GT2 VCF\n",
    "the Manta-SVimmer-GT2 VCF \n",
    "- contains \"AGGREGATE\", \"BERAKPOINT\", ... SVMODEL entries. We only carry fwd \"INFO/SVMODEL=AGGREGATE\" entries \n",
    "- contains \"PASS\", \"{fail}\" FILTER entries We only carry fwd \"FILTER=PASS\" entries \n",
    "- contains INS, DEL and DUP SVTYPE entries. We only carry fwd \"SVTYOE={INS, DEL}\" entries \n",
    "- contains samples that arew not in the \"discovery\" set \n",
    "- contains monomorphic entries. We only carry fwd entries wit at least one hom-ref and drop monomorphic entries\n",
    "- contains SV with lenght < 50bp & > 10,000,000bp (10Mb).  We only carry fwd entries with INFO/SVSIZE > 50bp or INFO/SVSIZE < 10,000,000bp \n",
    "- contains SV outside of our predefied whieloist region (ie not low-cpmplexity, telemore, centromere, ...) \n",
    "\n",
    "\n",
    "we do not address (at his point) eventual GT2 recommended filter "
   ]
  },
  {
   "cell_type": "code",
   "execution_count": 1,
   "id": "ee7cd355-d606-43a5-aaac-4aa2c75633ea",
   "metadata": {},
   "outputs": [
    {
     "data": {
      "text/html": [
       "Current session configs: <tt>{'driverMemory': '6000M', 'proxyUser': 'jovyan', 'kind': 'pyspark'}</tt><br>"
      ],
      "text/plain": [
       "<IPython.core.display.HTML object>"
      ]
     },
     "metadata": {},
     "output_type": "display_data"
    },
    {
     "data": {
      "text/html": [],
      "text/plain": [
       "<IPython.core.display.HTML object>"
      ]
     },
     "metadata": {},
     "output_type": "display_data"
    }
   ],
   "source": [
    "%%configure -f\n",
    "{\"driverMemory\": \"6000M\"}"
   ]
  },
  {
   "cell_type": "code",
   "execution_count": 2,
   "id": "ba7feb59-3c7e-40e3-a8f2-67d5857e8cad",
   "metadata": {},
   "outputs": [
    {
     "name": "stdout",
     "output_type": "stream",
     "text": [
      "Starting Spark application\n"
     ]
    },
    {
     "data": {
      "text/html": [],
      "text/plain": [
       "<IPython.core.display.HTML object>"
      ]
     },
     "metadata": {},
     "output_type": "display_data"
    },
    {
     "data": {
      "application/vnd.jupyter.widget-view+json": {
       "model_id": "",
       "version_major": 2,
       "version_minor": 0
      },
      "text/plain": [
       "FloatProgress(value=0.0, bar_style='info', description='Progress:', layout=Layout(height='25px', width='50%'),…"
      ]
     },
     "metadata": {},
     "output_type": "display_data"
    },
    {
     "name": "stdout",
     "output_type": "stream",
     "text": [
      "SparkSession available as 'spark'.\n"
     ]
    },
    {
     "data": {
      "application/vnd.jupyter.widget-view+json": {
       "model_id": "",
       "version_major": 2,
       "version_minor": 0
      },
      "text/plain": [
       "FloatProgress(value=0.0, bar_style='info', description='Progress:', layout=Layout(height='25px', width='50%'),…"
      ]
     },
     "metadata": {},
     "output_type": "display_data"
    },
    {
     "name": "stdout",
     "output_type": "stream",
     "text": [
      "pip-installed Hail requires additional configuration options in Spark referring\n",
      "  to the path to the Hail Python module directory HAIL_DIR,\n",
      "  e.g. /path/to/python/site-packages/hail:\n",
      "    spark.jars=HAIL_DIR/hail-all-spark.jar\n",
      "    spark.driver.extraClassPath=HAIL_DIR/hail-all-spark.jar\n",
      "    spark.executor.extraClassPath=./hail-all-spark.jarRunning on Apache Spark version 3.1.2-amzn-0\n",
      "SparkUI available at\n",
      "Welcome to\n",
      "     __  __     <>__\n",
      "    / /_/ /__  __/ /\n",
      "   / __  / _ `/ / /\n",
      "  /_/ /_/\\_,_/_/_/   version 0.2.80-4ccfae1ff293\n",
      "LOGGING: writing to "
     ]
    }
   ],
   "source": [
    "import hail as hl\n",
    "hl.init(sc)"
   ]
  },
  {
   "cell_type": "code",
   "execution_count": 3,
   "id": "674a989f-fc22-4648-89d6-c105c6bd229c",
   "metadata": {},
   "outputs": [
    {
     "data": {
      "application/vnd.jupyter.widget-view+json": {
       "model_id": "",
       "version_major": 2,
       "version_minor": 0
      },
      "text/plain": [
       "FloatProgress(value=0.0, bar_style='info', description='Progress:', layout=Layout(height='25px', width='50%'),…"
      ]
     },
     "metadata": {},
     "output_type": "display_data"
    }
   ],
   "source": [
    "## list of discover set samples  ... run once\n",
    "\n",
    "# load release 1.3 to extract the samples\n",
    "# release_13_mt_uri = \"SG10K-SV-Release-1.3.mt\"\n",
    "# release_13_sample_txt_uri = \"SG10K-SV-Release-1.3.samples.txt\"\n",
    "\n",
    "# mt = hl.read_matrix_table(release_13_mt_uri)\n",
    "#mt.cols().s.describe()\n",
    "#mt.cols().s.show()\n",
    "# mt.cols().s.export(release_13_sample_txt_uri)\n"
   ]
  },
  {
   "cell_type": "code",
   "execution_count": 4,
   "id": "f59445b2-597a-4e02-896c-5de8e2512857",
   "metadata": {},
   "outputs": [
    {
     "data": {
      "application/vnd.jupyter.widget-view+json": {
       "model_id": "",
       "version_major": 2,
       "version_minor": 0
      },
      "text/plain": [
       "FloatProgress(value=0.0, bar_style='info', description='Progress:', layout=Layout(height='25px', width='50%'),…"
      ]
     },
     "metadata": {},
     "output_type": "display_data"
    }
   ],
   "source": [
    "## list all resources  used in this notebook \n",
    "\n",
    "release14_manta_svimmer_gt2_vcf_uri = \"SG10K_SV_MantaSVimmerGraphtyper.n5570.discovery.mergevcf.vcf.gz\"\n",
    "release14_sample_txt_uri = \"SG10K-SV-Release-1.3.samples.txt\"\n",
    "release14_sample_metadata_uri = \"2021_06_18_supplier_metadata.n10714_replacespace.txt\"\n",
    "#whiltelist_region_bed_uri = \"resources_broad_hg38_v0_wgs_calling_regions.hg38.merged.minus_excl_regions.bed\"\n",
    "whiltelist_region_bed_uri = \"resources_broad_hg38_v0_wgs_calling_regions.hg38.merged.autosome_only-minus_excl_regions.bed\"\n",
    "\n"
   ]
  },
  {
   "cell_type": "code",
   "execution_count": 5,
   "id": "e62479f2-a465-4b4d-bac5-e7750ead02cf",
   "metadata": {},
   "outputs": [
    {
     "data": {
      "application/vnd.jupyter.widget-view+json": {
       "model_id": "",
       "version_major": 2,
       "version_minor": 0
      },
      "text/plain": [
       "FloatProgress(value=0.0, bar_style='info', description='Progress:', layout=Layout(height='25px', width='50%'),…"
      ]
     },
     "metadata": {},
     "output_type": "display_data"
    },
    {
     "name": "stdout",
     "output_type": "stream",
     "text": [
      "----------------------------------------\n",
      "Global fields:\n",
      "    None\n",
      "----------------------------------------\n",
      "Column fields:\n",
      "    's': str\n",
      "----------------------------------------\n",
      "Row fields:\n",
      "    'locus': locus<GRCh38>\n",
      "    'alleles': array<str>\n",
      "    'rsid': str\n",
      "    'qual': float64\n",
      "    'filters': set<str>\n",
      "    'info': struct {\n",
      "        ABHet: float64, \n",
      "        ABHom: float64, \n",
      "        ABHetMulti: array<float64>, \n",
      "        ABHomMulti: array<float64>, \n",
      "        AC: array<int32>, \n",
      "        AF: array<float64>, \n",
      "        AN: int32, \n",
      "        CR: int32, \n",
      "        END: int32, \n",
      "        HOMSEQ: array<str>, \n",
      "        INV3: bool, \n",
      "        INV5: bool, \n",
      "        LEFT_SVINSSEQ: array<str>, \n",
      "        LOGF: float64, \n",
      "        MaxAAS: array<int32>, \n",
      "        MaxAASR: array<float64>, \n",
      "        MaxAltPP: int32, \n",
      "        MQ: int32, \n",
      "        MQsquared: int32, \n",
      "        NCLUSTERS: int32, \n",
      "        NGT: array<int32>, \n",
      "        NHet: int32, \n",
      "        NHomRef: int32, \n",
      "        NHomAlt: int32, \n",
      "        NUM_MERGED_SVS: int32, \n",
      "        OLD_VARIANT_ID: str, \n",
      "        ORSTART: int32, \n",
      "        OREND: int32, \n",
      "        QD: float64, \n",
      "        PASS_AC: array<int32>, \n",
      "        PASS_AN: int32, \n",
      "        PASS_ratio: float64, \n",
      "        PS: int32, \n",
      "        RefLen: int32, \n",
      "        RELATED_SV_ID: int32, \n",
      "        RIGHT_SVINSSEQ: array<str>, \n",
      "        SB: float64, \n",
      "        SBAlt: float64, \n",
      "        SBF: array<int32>, \n",
      "        SBF1: array<int32>, \n",
      "        SBF2: array<int32>, \n",
      "        SBR: array<int32>, \n",
      "        SBR1: array<int32>, \n",
      "        SBR2: array<int32>, \n",
      "        SEQ: str, \n",
      "        SeqDepth: int32, \n",
      "        SV_ID: int32, \n",
      "        SVINSSEQ: array<str>, \n",
      "        SVLEN: int32, \n",
      "        SVMODEL: str, \n",
      "        SVSIZE: int32, \n",
      "        SVTYPE: str, \n",
      "        VarType: str\n",
      "    }\n",
      "----------------------------------------\n",
      "Entry fields:\n",
      "    'GT': call\n",
      "    'FT': str\n",
      "    'AD': array<int32>\n",
      "    'MD': int32\n",
      "    'DP': int32\n",
      "    'RA': array<int32>\n",
      "    'PP': int32\n",
      "    'GQ': int32\n",
      "    'PL': array<int32>\n",
      "----------------------------------------\n",
      "Column key: ['s']\n",
      "Row key: ['locus', 'alleles']\n",
      "----------------------------------------"
     ]
    }
   ],
   "source": [
    "## load the entire release14_manta_svimmer_gt2_vcf\n",
    "\n",
    "mt = hl.import_vcf(release14_manta_svimmer_gt2_vcf_uri,\n",
    "                   reference_genome=\"GRCh38\",\n",
    "                   force_bgz=True)\n",
    "\n",
    "mt.describe()"
   ]
  },
  {
   "cell_type": "code",
   "execution_count": 6,
   "id": "e7bd7ac9-b581-4d4f-aac4-1816a7e377b9",
   "metadata": {},
   "outputs": [
    {
     "data": {
      "application/vnd.jupyter.widget-view+json": {
       "model_id": "",
       "version_major": 2,
       "version_minor": 0
      },
      "text/plain": [
       "FloatProgress(value=0.0, bar_style='info', description='Progress:', layout=Layout(height='25px', width='50%'),…"
      ]
     },
     "metadata": {},
     "output_type": "display_data"
    },
    {
     "name": "stdout",
     "output_type": "stream",
     "text": [
      "2024-04-11 08:22:59 Hail: INFO: Reading table without type imputation\n",
      "  Loading field 's' as type str (not specified)"
     ]
    }
   ],
   "source": [
    "##\n",
    "## filter out relevant samples\n",
    "##\n",
    "\n",
    "sample_ht = hl.import_table(release14_sample_txt_uri).key_by('s')\n",
    "\n",
    "# print(sample_ht.count()) ## 5487\n",
    "# print(mt.count()) ## (423803, 5570)\n",
    "\n",
    "mt = mt.filter_cols(hl.is_defined(sample_ht[mt.col_key]))\n",
    "\n",
    "# print(mt.count()) ## (423803, 5487)"
   ]
  },
  {
   "cell_type": "code",
   "execution_count": 7,
   "id": "65523469-a236-4252-87c8-9d8aefae16dd",
   "metadata": {},
   "outputs": [
    {
     "data": {
      "application/vnd.jupyter.widget-view+json": {
       "model_id": "",
       "version_major": 2,
       "version_minor": 0
      },
      "text/plain": [
       "FloatProgress(value=0.0, bar_style='info', description='Progress:', layout=Layout(height='25px', width='50%'),…"
      ]
     },
     "metadata": {},
     "output_type": "display_data"
    },
    {
     "name": "stdout",
     "output_type": "stream",
     "text": [
      "----------------------------------------\n",
      "Global fields:\n",
      "    None\n",
      "----------------------------------------\n",
      "Column fields:\n",
      "    's': str\n",
      "----------------------------------------\n",
      "Row fields:\n",
      "    'locus': locus<GRCh38>\n",
      "    'alleles': array<str>\n",
      "    'rsid': str\n",
      "    'qual': float64\n",
      "    'filters': set<str>\n",
      "    'info': struct {\n",
      "        ABHet: float64, \n",
      "        ABHom: float64, \n",
      "        ABHetMulti: array<float64>, \n",
      "        ABHomMulti: array<float64>, \n",
      "        AC: array<int32>, \n",
      "        AF: array<float64>, \n",
      "        AN: int32, \n",
      "        CR: int32, \n",
      "        END: int32, \n",
      "        HOMSEQ: array<str>, \n",
      "        INV3: bool, \n",
      "        INV5: bool, \n",
      "        LEFT_SVINSSEQ: array<str>, \n",
      "        LOGF: float64, \n",
      "        MaxAAS: array<int32>, \n",
      "        MaxAASR: array<float64>, \n",
      "        MaxAltPP: int32, \n",
      "        MQ: int32, \n",
      "        MQsquared: int32, \n",
      "        NCLUSTERS: int32, \n",
      "        NGT: array<int32>, \n",
      "        NHet: int32, \n",
      "        NHomRef: int32, \n",
      "        NHomAlt: int32, \n",
      "        NUM_MERGED_SVS: int32, \n",
      "        OLD_VARIANT_ID: str, \n",
      "        ORSTART: int32, \n",
      "        OREND: int32, \n",
      "        QD: float64, \n",
      "        PASS_AC: array<int32>, \n",
      "        PASS_AN: int32, \n",
      "        PASS_ratio: float64, \n",
      "        PS: int32, \n",
      "        RefLen: int32, \n",
      "        RELATED_SV_ID: int32, \n",
      "        RIGHT_SVINSSEQ: array<str>, \n",
      "        SB: float64, \n",
      "        SBAlt: float64, \n",
      "        SBF: array<int32>, \n",
      "        SBF1: array<int32>, \n",
      "        SBF2: array<int32>, \n",
      "        SBR: array<int32>, \n",
      "        SBR1: array<int32>, \n",
      "        SBR2: array<int32>, \n",
      "        SEQ: str, \n",
      "        SeqDepth: int32, \n",
      "        SV_ID: int32, \n",
      "        SVINSSEQ: array<str>, \n",
      "        SVLEN: int32, \n",
      "        SVMODEL: str, \n",
      "        SVSIZE: int32, \n",
      "        SVTYPE: str, \n",
      "        VarType: str\n",
      "    }\n",
      "----------------------------------------\n",
      "Entry fields:\n",
      "    'GT': call\n",
      "    'FT': str\n",
      "    'AD': array<int32>\n",
      "    'MD': int32\n",
      "    'DP': int32\n",
      "    'RA': array<int32>\n",
      "    'PP': int32\n",
      "    'GQ': int32\n",
      "    'PL': array<int32>\n",
      "----------------------------------------\n",
      "Column key: ['s']\n",
      "Row key: ['locus', 'alleles']\n",
      "----------------------------------------"
     ]
    }
   ],
   "source": [
    "mt.describe()"
   ]
  },
  {
   "cell_type": "code",
   "execution_count": 8,
   "id": "1859a54b-da22-4eaf-9a94-570b265dd7cc",
   "metadata": {},
   "outputs": [
    {
     "data": {
      "application/vnd.jupyter.widget-view+json": {
       "model_id": "",
       "version_major": 2,
       "version_minor": 0
      },
      "text/plain": [
       "FloatProgress(value=0.0, bar_style='info', description='Progress:', layout=Layout(height='25px', width='50%'),…"
      ]
     },
     "metadata": {},
     "output_type": "display_data"
    },
    {
     "name": "stdout",
     "output_type": "stream",
     "text": [
      "(36145, 5487)\n",
      "2024-04-11 08:23:00 Hail: INFO: Reading table without type imputation\n",
      "  Loading field 'f0' as type str (user-supplied)\n",
      "  Loading field 'f1' as type int32 (user-supplied)\n",
      "  Loading field 'f2' as type int32 (user-supplied)\n",
      "2024-04-11 08:23:18 Hail: INFO: Coerced sorted dataset\n",
      "2024-04-11 08:23:19 Hail: INFO: Coerced sorted dataset"
     ]
    }
   ],
   "source": [
    "##\n",
    "## filter relevant variant\n",
    "##\n",
    "\n",
    "## 1- contains \"AGGREGATE\", \"BERAKPOINT\", ... SVMODEL entries. We only carry fwd \"INFO/SVMODEL=AGGREGATE\" entries \n",
    "## 2- contains \"PASS\", \"{fail}\" FILTER entries We only carry fwd \"FILTER=PASS\" entries \n",
    "## 3- contains INS, DEL and DUP SVTYPE entries. We only carry fwd \"SVTYOE={INS, DEL}\" entries \n",
    "## 5- contains monomorphic entries. We only carry fwd entries wit at least one hom-ref and drop monomorphic entries\n",
    "## 6- contains SV with lenght < 50bp & > 10,000,000bp (10Mb).  We only carry fwd entries with INFO/SVSIZE > 50bp or INFO/SVSIZE < 10,000,000bp \n",
    "## 7- contains SV outside of our predefind whitlist region (ie not low-cpmplexity, telemore, centromere, ...) \n",
    "\n",
    "# print(mt.count()) ## (423803, 5487)\n",
    "\n",
    "##  because we want to only carry fwd entries wit at least one hom-ref and drop monomorphic entries\n",
    "##   and there is a need to put all genotypes that fail FORMAT/FT to fORMAT/GT = `./.`\n",
    "##   we first update GT from which vairant where least one hom-ref and not monomorphic entries\n",
    "mt = mt.annotate_entries(\n",
    "    GT = hl.case()\n",
    "            .when((mt.FT == \"PASS\"), mt.GT)\n",
    "            .default( hl.null(hl.tcall) ))\n",
    "\n",
    "## load the predefine whitlist region (ie not low-cpmplexity, telemore, centromere, ...) \n",
    "whitelist_region= hl.import_bed(whiltelist_region_bed_uri, reference_genome='GRCh38')\n",
    "\n",
    "## filter relevant variant\n",
    "mt = mt.filter_rows(\n",
    "    True\n",
    "    & (mt.info.SVMODEL == \"AGGREGATED\")                         ## We only carry fwd \"INFO/SVMODEL=AGGREGATE\" entries \n",
    "    & (mt.filters.length() == 0)                                ## We only carry fwd \"FILTER=PASS\" entries \n",
    "    & ((mt.info.SVTYPE == \"INS\") | (mt.info.SVTYPE == \"DEL\"))   ## We only carry fwd \"SVTYOE={INS, DEL}\" entries \n",
    "    & (hl.agg.any(mt.GT.is_hom_ref()))                          ## We only carry fwd entries with at least one hom-ref\n",
    "    & (hl.if_else(hl.agg.any(hl.is_missing(mt.GT)),             ## We only carry fwd polumorphic entries \n",
    "                  hl.agg.counter(mt.GT).size() > 2,             ##       that is GT contain NA + at least 2 of 0/0, 0/1, 1/1  \n",
    "                  hl.agg.counter(mt.GT).size() > 1 ))           ##       that is GT contain at least 2 of 0/0, 0/1, 1/1  \n",
    "    & ((~hl.is_defined(mt.info.SVSIZE))                         ## We only carry fwd entries with INFO/SVSIZE undefined \n",
    "       | (mt.info.SVSIZE >= 50)                                 ##                            or  INFO/SVSIZE > 50bp\n",
    "       | (mt.info.SVSIZE <= 10000000))                          ##                            or INFO/SVSIZE < 10,000,000bp \n",
    "    & (hl.is_defined(whitelist_region[mt.locus]))               ## We only carry fwd  whitelist region contained SV \n",
    "    , keep=True)\n",
    "\n",
    "print(mt.count()) ## (36145, 5487)\n",
    "\n"
   ]
  },
  {
   "cell_type": "code",
   "execution_count": 9,
   "id": "8bb75dd6-5b66-4930-b1ed-f126f5cc55ca",
   "metadata": {},
   "outputs": [
    {
     "data": {
      "application/vnd.jupyter.widget-view+json": {
       "model_id": "",
       "version_major": 2,
       "version_minor": 0
      },
      "text/plain": [
       "FloatProgress(value=0.0, bar_style='info', description='Progress:', layout=Layout(height='25px', width='50%'),…"
      ]
     },
     "metadata": {},
     "output_type": "display_data"
    },
    {
     "name": "stdout",
     "output_type": "stream",
     "text": [
      "----------------------------------------\n",
      "Global fields:\n",
      "    None\n",
      "----------------------------------------\n",
      "Column fields:\n",
      "    's': str\n",
      "----------------------------------------\n",
      "Row fields:\n",
      "    'locus': locus<GRCh38>\n",
      "    'alleles': array<str>\n",
      "    'rsid': str\n",
      "    'qual': float64\n",
      "    'filters': set<str>\n",
      "    'info': struct {\n",
      "        ABHet: float64, \n",
      "        ABHom: float64, \n",
      "        ABHetMulti: array<float64>, \n",
      "        ABHomMulti: array<float64>, \n",
      "        AC: array<int32>, \n",
      "        AF: array<float64>, \n",
      "        AN: int32, \n",
      "        CR: int32, \n",
      "        END: int32, \n",
      "        HOMSEQ: array<str>, \n",
      "        INV3: bool, \n",
      "        INV5: bool, \n",
      "        LEFT_SVINSSEQ: array<str>, \n",
      "        LOGF: float64, \n",
      "        MaxAAS: array<int32>, \n",
      "        MaxAASR: array<float64>, \n",
      "        MaxAltPP: int32, \n",
      "        MQ: int32, \n",
      "        MQsquared: int32, \n",
      "        NCLUSTERS: int32, \n",
      "        NGT: array<int32>, \n",
      "        NHet: int32, \n",
      "        NHomRef: int32, \n",
      "        NHomAlt: int32, \n",
      "        NUM_MERGED_SVS: int32, \n",
      "        OLD_VARIANT_ID: str, \n",
      "        ORSTART: int32, \n",
      "        OREND: int32, \n",
      "        QD: float64, \n",
      "        PASS_AC: array<int32>, \n",
      "        PASS_AN: int32, \n",
      "        PASS_ratio: float64, \n",
      "        PS: int32, \n",
      "        RefLen: int32, \n",
      "        RELATED_SV_ID: int32, \n",
      "        RIGHT_SVINSSEQ: array<str>, \n",
      "        SB: float64, \n",
      "        SBAlt: float64, \n",
      "        SBF: array<int32>, \n",
      "        SBF1: array<int32>, \n",
      "        SBF2: array<int32>, \n",
      "        SBR: array<int32>, \n",
      "        SBR1: array<int32>, \n",
      "        SBR2: array<int32>, \n",
      "        SEQ: str, \n",
      "        SeqDepth: int32, \n",
      "        SV_ID: int32, \n",
      "        SVINSSEQ: array<str>, \n",
      "        SVLEN: int32, \n",
      "        SVMODEL: str, \n",
      "        SVSIZE: int32, \n",
      "        SVTYPE: str, \n",
      "        VarType: str\n",
      "    }\n",
      "----------------------------------------\n",
      "Entry fields:\n",
      "    'GT': call\n",
      "    'FT': str\n",
      "    'AD': array<int32>\n",
      "    'MD': int32\n",
      "    'DP': int32\n",
      "    'RA': array<int32>\n",
      "    'PP': int32\n",
      "    'GQ': int32\n",
      "    'PL': array<int32>\n",
      "----------------------------------------\n",
      "Column key: ['s']\n",
      "Row key: ['locus', 'alleles']\n",
      "----------------------------------------"
     ]
    }
   ],
   "source": [
    "mt.describe()"
   ]
  },
  {
   "cell_type": "code",
   "execution_count": 18,
   "id": "f0f6c8b3-6dcc-4abc-9cf6-efe605350e0d",
   "metadata": {},
   "outputs": [
    {
     "data": {
      "application/vnd.jupyter.widget-view+json": {
       "model_id": "",
       "version_major": 2,
       "version_minor": 0
      },
      "text/plain": [
       "FloatProgress(value=0.0, bar_style='info', description='Progress:', layout=Layout(height='25px', width='50%'),…"
      ]
     },
     "metadata": {},
     "output_type": "display_data"
    },
    {
     "name": "stdout",
     "output_type": "stream",
     "text": [
      "frozendict({'FAIL': 20248, 'PASS': 15897})\n",
      "+--------+-----------------------------+-----------------------------+\n",
      "| SVTYPE | 'WHB1000'.sv_stat           | 'WHB1001'.sv_stat           |\n",
      "+--------+-----------------------------+-----------------------------+\n",
      "| str    | dict<str, int64>            | dict<str, int64>            |\n",
      "+--------+-----------------------------+-----------------------------+\n",
      "| \"DEL\"  | {\"FAIL\":13001,\"PASS\":11560} | {\"FAIL\":13001,\"PASS\":11560} |\n",
      "| \"INS\"  | {\"FAIL\":7247,\"PASS\":4337}   | {\"FAIL\":7247,\"PASS\":4337}   |\n",
      "+--------+-----------------------------+-----------------------------+\n",
      "showing the first 2 of 5487 columns\n",
      "2024-04-11 08:41:54 Hail: INFO: Coerced sorted dataset\n",
      "2024-04-11 08:42:03 Hail: INFO: Coerced sorted dataset\n",
      "2024-04-11 08:43:09 Hail: INFO: Coerced sorted dataset\n",
      "2024-04-11 08:43:23 Hail: INFO: Coerced sorted dataset\n",
      "2024-04-11 08:43:36 Hail: INFO: Coerced sorted dataset\n",
      "2024-04-11 08:43:36 Hail: INFO: Coerced sorted dataset\n",
      "2024-04-11 08:44:30 Hail: INFO: Coerced sorted dataset"
     ]
    }
   ],
   "source": [
    "## Enventual additional GT2 recommended filtering (optional)\n",
    "mt = mt.annotate_rows( info = mt.info.annotate(\n",
    "    PASS_GT2_filter = hl.case()\n",
    "            .when((  (mt.info.SVTYPE == \"DEL\")\n",
    "                   & ( (mt.info.ABHet > 0.30) | (mt.info.ABHet < 0) ) \n",
    "                   & ( (mt.info.AC[0] / mt.info.NUM_MERGED_SVS) < 25 ) \n",
    "                   & (mt.info.PASS_AC[0] > 0)\n",
    "                   & (mt.info.PASS_ratio > 0.1)\n",
    "                   & (mt.info.QD > 12) \n",
    "                  ), \"PASS\")\n",
    "            .when((  (mt.info.SVTYPE == \"INS\")\n",
    "                   & ( (mt.info.ABHet > 0.25) | (mt.info.ABHet < 0) ) \n",
    "                   & ( (mt.info.AC[0] / mt.info.NUM_MERGED_SVS) < 25 ) \n",
    "                   & (mt.info.PASS_AC[0] > 0)\n",
    "                   & (mt.info.PASS_ratio > 0.1) \n",
    "                   & (mt.info.MaxAAS[0] > 4) \n",
    "                  ), \"PASS\")\n",
    "            .default(\"FAIL\")            \n",
    "    )\n",
    ")\n",
    "\n",
    "\n",
    "svpass_stats = mt.aggregate_rows(hl.struct( sv_stat = hl.agg.counter(mt.info.PASS_GT2_filter)))\n",
    "print(svpass_stats.sv_stat)\n",
    "\n",
    "\n",
    "svtypepass_stats = mt.group_rows_by(mt.info.SVTYPE).aggregate(sv_stat = hl.agg.counter(mt.info.PASS_GT2_filter))\n",
    "svtypepass_stats.show()\n",
    "\n",
    "\n"
   ]
  },
  {
   "cell_type": "code",
   "execution_count": 19,
   "id": "d4546c4f-7fdc-4774-ade7-1dae5f0a017a",
   "metadata": {},
   "outputs": [
    {
     "data": {
      "application/vnd.jupyter.widget-view+json": {
       "model_id": "",
       "version_major": 2,
       "version_minor": 0
      },
      "text/plain": [
       "FloatProgress(value=0.0, bar_style='info', description='Progress:', layout=Layout(height='25px', width='50%'),…"
      ]
     },
     "metadata": {},
     "output_type": "display_data"
    },
    {
     "name": "stdout",
     "output_type": "stream",
     "text": [
      "2024-04-11 09:34:03 Hail: INFO: Coerced sorted dataset\n",
      "2024-04-11 09:34:03 Hail: INFO: Coerced sorted dataset\n",
      "2024-04-11 09:35:53 Hail: INFO: wrote matrix table with 36145 rows and 5487 columns in 53 partitions to SG10K_SV_MantaSVimmerGraphtyper.n5487.m36145.discovery.DEL-INS-only.mt\n",
      "    Total size: 788.78 MiB\n",
      "    * Rows/entries: 788.76 MiB\n",
      "    * Columns: 20.34 KiB\n",
      "    * Globals: 11.00 B\n",
      "    * Smallest partition: 511 rows (11.20 MiB)\n",
      "    * Largest partition:  827 rows (17.36 MiB)"
     ]
    }
   ],
   "source": [
    "## write the resulting mt\n",
    "\n",
    "#release14_manta_svimmer_gt2_vcf_uri = \"SG10K_SV_MantaSVimmerGraphtyper.n5570.discovery.mergevcf.vcf.gz\"\n",
    "release14_manta_svimmer_gt2_mt_uri =   \"SG10K_SV_MantaSVimmerGraphtyper.n5487.m36145.discovery.DEL-INS-only.mt\"\n",
    "\n",
    "mt.write(release14_manta_svimmer_gt2_mt_uri, overwrite=True)"
   ]
  },
  {
   "cell_type": "code",
   "execution_count": null,
   "id": "dac19125-7dc6-4503-8c33-48469a8b4909",
   "metadata": {},
   "outputs": [],
   "source": []
  }
 ],
 "metadata": {
  "kernelspec": {
   "display_name": "PySpark",
   "language": "python",
   "name": "pysparkkernel"
  },
  "language_info": {
   "codemirror_mode": {
    "name": "python",
    "version": 3
   },
   "file_extension": ".py",
   "mimetype": "text/x-python",
   "name": "pyspark",
   "pygments_lexer": "python3"
  }
 },
 "nbformat": 4,
 "nbformat_minor": 5
}

{
 "cells": [
  {
   "cell_type": "markdown",
   "id": "a666b0cb-2fc1-4689-b7ea-3f3db224788d",
   "metadata": {},
   "source": [
    "## This notebook generates matrix table for the 30x validation survindel2 table"
   ]
  },
  {
   "cell_type": "code",
   "execution_count": 1,
   "id": "d1be5690-04bb-46b3-8d37-190eaeccdba6",
   "metadata": {},
   "outputs": [
    {
     "data": {
      "text/html": [
       "Current session configs: <tt>{'driverMemory': '6000M', 'proxyUser': 'jovyan', 'kind': 'pyspark'}</tt><br>"
      ],
      "text/plain": [
       "<IPython.core.display.HTML object>"
      ]
     },
     "metadata": {},
     "output_type": "display_data"
    },
    {
     "data": {
      "text/html": [
  ],
      "text/plain": [
       "<IPython.core.display.HTML object>"
      ]
     },
     "metadata": {},
     "output_type": "display_data"
    }
   ],
   "source": [
    "%%configure -f\n",
    "{\"driverMemory\": \"6000M\"}"
   ]
  },
  {
   "cell_type": "code",
   "execution_count": 2,
   "id": "c6bc463b-7ae0-45a3-8819-ea7eec26e1fd",
   "metadata": {},
   "outputs": [
    {
     "name": "stdout",
     "output_type": "stream",
     "text": [
      "Starting Spark application\n"
     ]
    },
    {
     "data": {
      "text/html": [
],
      "text/plain": [
       "<IPython.core.display.HTML object>"
      ]
     },
     "metadata": {},
     "output_type": "display_data"
    },
    {
     "data": {
      "application/vnd.jupyter.widget-view+json": {
       "model_id": "",
       "version_major": 2,
       "version_minor": 0
      },
      "text/plain": [
       "FloatProgress(value=0.0, bar_style='info', description='Progress:', layout=Layout(height='25px', width='50%'),…"
      ]
     },
     "metadata": {},
     "output_type": "display_data"
    },
    {
     "name": "stdout",
     "output_type": "stream",
     "text": [
      "SparkSession available as 'spark'.\n"
     ]
    },
    {
     "data": {
      "application/vnd.jupyter.widget-view+json": {
       "model_id": "",
       "version_major": 2,
       "version_minor": 0
      },
      "text/plain": [
       "FloatProgress(value=0.0, bar_style='info', description='Progress:', layout=Layout(height='25px', width='50%'),…"
      ]
     },
     "metadata": {},
     "output_type": "display_data"
    },
    {
     "name": "stdout",
     "output_type": "stream",
     "text": [
      "pip-installed Hail requires additional configuration options in Spark referring\n",
      "  to the path to the Hail Python module directory HAIL_DIR,\n",
      "  e.g. /path/to/python/site-packages/hail:\n",
      "    spark.jars=HAIL_DIR/hail-all-spark.jar\n",
      "    spark.driver.extraClassPath=HAIL_DIR/hail-all-spark.jar\n",
      "    spark.executor.extraClassPath=./hail-all-spark.jarRunning on Apache Spark version 3.1.2-amzn-0\n",
      "SparkUI available at\n",
      "Welcome to\n",
      "     __  __     <>__\n",
      "    / /_/ /__  __/ /\n",
      "   / __  / _ `/ / /\n",
      "  /_/ /_/\\_,_/_/_/   version 0.2.80-4ccfae1ff293\n",
      "LOGGING: writing to "
     ]
    }
   ],
   "source": [
    "import hail as hl\n",
    "hl.init(sc)"
   ]
  },
  {
   "cell_type": "code",
   "execution_count": 3,
   "id": "576efa00-7c73-4124-a0f8-c88ab6520ce0",
   "metadata": {},
   "outputs": [
    {
     "data": {
      "application/vnd.jupyter.widget-view+json": {
       "model_id": "",
       "version_major": 2,
       "version_minor": 0
      },
      "text/plain": [
       "FloatProgress(value=0.0, bar_style='info', description='Progress:', layout=Layout(height='25px', width='50%'),…"
      ]
     },
     "metadata": {},
     "output_type": "display_data"
    }
   ],
   "source": [
    "## list all resources  used in this notebook \n",
    "survindel2_uri=\"DUP.30x.for_hail.vcf.gz\"\n",
    "whiltelist_region_bed_uri = \"resources_broad_hg38_v0_wgs_calling_regions.hg38.merged.autosome_only-minus_excl_regions.bed\"\n",
    "validation30x_sample_txt_uri = \"SG10K-SV-Release-1.3_30xValidation.samples.txt\""
   ]
  },
  {
   "cell_type": "code",
   "execution_count": 4,
   "id": "99b6ab50-42e9-41e4-b6e5-e3af66be5e47",
   "metadata": {},
   "outputs": [
    {
     "data": {
      "application/vnd.jupyter.widget-view+json": {
       "model_id": "",
       "version_major": 2,
       "version_minor": 0
      },
      "text/plain": [
       "FloatProgress(value=0.0, bar_style='info', description='Progress:', layout=Layout(height='25px', width='50%'),…"
      ]
     },
     "metadata": {},
     "output_type": "display_data"
    },
    {
     "name": "stdout",
     "output_type": "stream",
     "text": [
      "----------------------------------------\n",
      "Global fields:\n",
      "    None\n",
      "----------------------------------------\n",
      "Column fields:\n",
      "    's': str\n",
      "----------------------------------------\n",
      "Row fields:\n",
      "    'locus': locus<GRCh38>\n",
      "    'alleles': array<str>\n",
      "    'rsid': str\n",
      "    'qual': float64\n",
      "    'filters': set<str>\n",
      "    'info': struct {\n",
      "        SVTYPE: str, \n",
      "        END: int32, \n",
      "        N_SAMPLES: int32, \n",
      "        N_SVS: int32, \n",
      "        GCF: float64, \n",
      "        SVSIZE: int32\n",
      "    }\n",
      "----------------------------------------\n",
      "Entry fields:\n",
      "    'GT': call\n",
      "    'FT': str\n",
      "    'AR': int32\n",
      "    'SR': int32\n",
      "    'RR': int32\n",
      "    'RS': int32\n",
      "    'RE': int32\n",
      "    'CN': int32\n",
      "    'IL': int32\n",
      "    'WR': int32\n",
      "    'DFL': int32\n",
      "    'DDL': int32\n",
      "    'DDR': int32\n",
      "    'DFR': int32\n",
      "    'CID': int32\n",
      "    'OW': int32\n",
      "    'DHFC': float64\n",
      "    'DHBFC': float64\n",
      "    'DHFFC': float64\n",
      "    'DHSP': int32\n",
      "----------------------------------------\n",
      "Column key: ['s']\n",
      "Row key: ['locus', 'alleles']\n",
      "----------------------------------------"
     ]
    }
   ],
   "source": [
    "mt = hl.import_vcf(survindel2_uri, reference_genome=\"GRCh38\", force_bgz=True)\n",
    "mt.describe()"
   ]
  },
  {
   "cell_type": "code",
   "execution_count": 5,
   "id": "4217dab1-7f9f-4f82-be51-427fc4b6e919",
   "metadata": {},
   "outputs": [
    {
     "data": {
      "application/vnd.jupyter.widget-view+json": {
       "model_id": "",
       "version_major": 2,
       "version_minor": 0
      },
      "text/plain": [
       "FloatProgress(value=0.0, bar_style='info', description='Progress:', layout=Layout(height='25px', width='50%'),…"
      ]
     },
     "metadata": {},
     "output_type": "display_data"
    },
    {
     "name": "stdout",
     "output_type": "stream",
     "text": [
      "1922\n",
      "(43622, 1922)\n",
      "(43622, 1922)\n",
      "2024-05-06 08:56:39 Hail: INFO: Reading table without type imputation\n",
      "  Loading field 's' as type str (not specified)\n",
      "2024-05-06 08:56:54 Hail: INFO: Coerced sorted dataset\n",
      "2024-05-06 08:57:13 Hail: INFO: Coerced sorted dataset"
     ]
    }
   ],
   "source": [
    "## Filter out relevant samples\n",
    "sample_ht = hl.import_table(validation30x_sample_txt_uri).key_by('s')\n",
    "\n",
    "print(sample_ht.count()) ## 5487\n",
    "print(mt.count()) ## \n",
    "\n",
    "mt = mt.filter_cols(hl.is_defined(sample_ht[mt.col_key]))\n",
    "\n",
    "print(mt.count()) ## "
   ]
  },
  {
   "cell_type": "code",
   "execution_count": 6,
   "id": "a587654b-9a19-4a57-8418-0ea9dfaf9fd7",
   "metadata": {},
   "outputs": [
    {
     "data": {
      "application/vnd.jupyter.widget-view+json": {
       "model_id": "",
       "version_major": 2,
       "version_minor": 0
      },
      "text/plain": [
       "FloatProgress(value=0.0, bar_style='info', description='Progress:', layout=Layout(height='25px', width='50%'),…"
      ]
     },
     "metadata": {},
     "output_type": "display_data"
    }
   ],
   "source": [
    "# Check if the genotype PASS the QC\n",
    "mt = mt.annotate_entries(\n",
    "    FS = hl.case()\n",
    "            .when((mt.GT.is_hom_ref()) & (mt.FT == \"PASS\"), \"PASS\")\n",
    "            .when((mt.GT.is_het()) &(mt.FT == \"PASS\") & (mt.DHBFC > 1.3), \"PASS\")\n",
    "            .when((mt.GT.is_hom_var()) &(mt.FT == \"PASS\") & (mt.DHBFC > 1.3), \"PASS\")\n",
    "            .default(\"FAIL\")            \n",
    "    )"
   ]
  },
  {
   "cell_type": "code",
   "execution_count": 7,
   "id": "c23db1a0-3090-4092-b143-ebd522a326b2",
   "metadata": {},
   "outputs": [
    {
     "data": {
      "application/vnd.jupyter.widget-view+json": {
       "model_id": "",
       "version_major": 2,
       "version_minor": 0
      },
      "text/plain": [
       "FloatProgress(value=0.0, bar_style='info', description='Progress:', layout=Layout(height='25px', width='50%'),…"
      ]
     },
     "metadata": {},
     "output_type": "display_data"
    }
   ],
   "source": [
    "# Check if the site PASS across all samples\n",
    "# Variant site is marked as FAIL if all samples have FS == FAIL\n",
    "\n",
    "mt = mt.annotate_rows(\n",
    "    site_is_pass = hl.agg.any(mt.FS == \"PASS\")\n",
    ")"
   ]
  },
  {
   "cell_type": "code",
   "execution_count": 8,
   "id": "f190e261-099a-4868-8a89-6c201c805b74",
   "metadata": {},
   "outputs": [
    {
     "data": {
      "application/vnd.jupyter.widget-view+json": {
       "model_id": "",
       "version_major": 2,
       "version_minor": 0
      },
      "text/plain": [
       "FloatProgress(value=0.0, bar_style='info', description='Progress:', layout=Layout(height='25px', width='50%'),…"
      ]
     },
     "metadata": {},
     "output_type": "display_data"
    }
   ],
   "source": [
    "# Define filters\n",
    "filters = [\n",
    "    {'key': 'PASS', 'expr': ( mt.rows().select(\"site_is_pass\") == True ) },\n",
    "    {'key': 'FAIL', 'expr': ( mt.rows().select(\"site_is_pass\") == False )  },\n",
    "]\n",
    "\n",
    "ht = mt.rows()\n",
    "\n",
    "# Compute filters\n",
    "ht_filters = ht.annotate(\n",
    "    filters=hl.set(hl.filter(\n",
    "        lambda x: hl.is_defined(x),\n",
    "        [hl.or_missing(\n",
    "            d['expr'],\n",
    "            d['key']\n",
    "        ) for d in filters]\n",
    "    ))\n",
    ")\n",
    "\n",
    "# Copy filters into main sample ht\n",
    "mt= mt.annotate_rows(\n",
    "    filters = mt.filters.union(ht_filters[mt.row_key].filters)\n",
    ")"
   ]
  },
  {
   "cell_type": "code",
   "execution_count": 9,
   "id": "e78d0f74-fd19-423c-86fd-302707942e44",
   "metadata": {},
   "outputs": [
    {
     "data": {
      "application/vnd.jupyter.widget-view+json": {
       "model_id": "",
       "version_major": 2,
       "version_minor": 0
      },
      "text/plain": [
       "FloatProgress(value=0.0, bar_style='info', description='Progress:', layout=Layout(height='25px', width='50%'),…"
      ]
     },
     "metadata": {},
     "output_type": "display_data"
    }
   ],
   "source": [
    "##  because we want to only carry fwd entries wit at least one hom-ref and drop monomorphic entries\n",
    "##   and there is a need to put all genotypes that fail FORMAT/FT to fORMAT/GT = `./.`\n",
    "\n",
    "\n",
    "mt = mt.annotate_entries(\n",
    "    GT = hl.case()\n",
    "            .when((mt.GT.is_hom_ref()) & (mt.FT == \"PASS\"), mt.GT)\n",
    "            .when((mt.GT.is_het()) &(mt.FT == \"PASS\") & (mt.DHBFC > 1.3), mt.GT)\n",
    "            .when((mt.GT.is_hom_var()) &(mt.FT == \"PASS\") & (mt.DHBFC > 1.3),mt.GT)\n",
    "            .default( hl.null(hl.tcall) )            \n",
    ")"
   ]
  },
  {
   "cell_type": "code",
   "execution_count": 10,
   "id": "fff4b460-7a5d-4ebf-a9c0-bd1e2ff8636b",
   "metadata": {},
   "outputs": [
    {
     "data": {
      "application/vnd.jupyter.widget-view+json": {
       "model_id": "",
       "version_major": 2,
       "version_minor": 0
      },
      "text/plain": [
       "FloatProgress(value=0.0, bar_style='info', description='Progress:', layout=Layout(height='25px', width='50%'),…"
      ]
     },
     "metadata": {},
     "output_type": "display_data"
    },
    {
     "name": "stdout",
     "output_type": "stream",
     "text": [
      "(43622, 1922)\n",
      "2024-05-06 08:58:13 Hail: INFO: Coerced sorted dataset\n",
      "2024-05-06 08:58:19 Hail: INFO: Coerced sorted dataset"
     ]
    }
   ],
   "source": [
    "## filter relevant variant\n",
    "## 2- contains \"PASS\", \"{fail}\" FILTER entries We only carry fwd \"FILTER=PASS\" entries \n",
    "mt = mt.filter_rows(mt.filters.length() == 0, keep=True)\n",
    "print(mt.count()) "
   ]
  },
  {
   "cell_type": "code",
   "execution_count": 11,
   "id": "1dcdb536-b61d-41ff-b01f-8cee5dba62ed",
   "metadata": {},
   "outputs": [
    {
     "data": {
      "application/vnd.jupyter.widget-view+json": {
       "model_id": "",
       "version_major": 2,
       "version_minor": 0
      },
      "text/plain": [
       "FloatProgress(value=0.0, bar_style='info', description='Progress:', layout=Layout(height='25px', width='50%'),…"
      ]
     },
     "metadata": {},
     "output_type": "display_data"
    },
    {
     "name": "stdout",
     "output_type": "stream",
     "text": [
      "Samples: 1922; Variants: 22625; Entries: 43485250\n",
      "2024-05-06 08:58:38 Hail: INFO: Coerced sorted dataset\n",
      "2024-05-06 08:58:44 Hail: INFO: Coerced sorted dataset\n",
      "2024-05-06 08:58:50 Hail: INFO: Coerced sorted dataset\n",
      "2024-05-06 08:59:09 Hail: WARN: entries(): Resulting entries table is sorted by '(row_key, col_key)'.\n",
      "    To preserve row-major matrix table order, first unkey columns with 'key_cols_by()'\n",
      "2024-05-06 08:59:15 Hail: INFO: Coerced sorted dataset\n",
      "2024-05-06 08:59:21 Hail: INFO: Coerced sorted dataset"
     ]
    }
   ],
   "source": [
    "# Remove monomorphic variants\n",
    "\n",
    "# run variant qc\n",
    "mt = hl.variant_qc(mt)\n",
    "\n",
    "# annotate the matrix table\n",
    "mt = mt.annotate_rows(\n",
    "    n_called = mt.variant_qc.n_called,\n",
    "    n_hom_ref = hl.agg.count_where(mt.GT.is_hom_ref()),\n",
    "    n_het = hl.agg.count_where(mt.GT.is_het()),\n",
    "    n_hom_alt = hl.agg.count_where(mt.GT.is_hom_var())\n",
    ")\n",
    "\n",
    "mt = mt.annotate_rows(\n",
    "   n_non_ref = mt.n_hom_alt + mt.n_het \n",
    ")\n",
    "\n",
    "# Remove monomorphic variants\n",
    "mt = mt.filter_rows(\n",
    "    (mt.n_called == mt.n_hom_ref) | \n",
    "    (mt.n_called == mt.n_het) | \n",
    "    (mt.n_called == mt.n_hom_alt),\n",
    "    keep = False\n",
    ")\n",
    "print(\"Samples: %d; Variants: %d; Entries: %d\" % (mt.count_cols(), mt.count_rows(), mt.entries().count()))\n"
   ]
  },
  {
   "cell_type": "code",
   "execution_count": 12,
   "id": "b5ece595-1b91-4691-856b-10cd39fb1ae5",
   "metadata": {},
   "outputs": [
    {
     "data": {
      "application/vnd.jupyter.widget-view+json": {
       "model_id": "",
       "version_major": 2,
       "version_minor": 0
      },
      "text/plain": [
       "FloatProgress(value=0.0, bar_style='info', description='Progress:', layout=Layout(height='25px', width='50%'),…"
      ]
     },
     "metadata": {},
     "output_type": "display_data"
    },
    {
     "name": "stdout",
     "output_type": "stream",
     "text": [
      "Samples: 1922; Variants: 22554; Entries: 43348788\n",
      "2024-05-06 08:59:45 Hail: INFO: Coerced sorted dataset\n",
      "2024-05-06 08:59:51 Hail: INFO: Coerced sorted dataset\n",
      "2024-05-06 08:59:57 Hail: INFO: Coerced sorted dataset\n",
      "2024-05-06 09:00:22 Hail: INFO: Coerced sorted dataset\n",
      "2024-05-06 09:00:28 Hail: INFO: Coerced sorted dataset"
     ]
    }
   ],
   "source": [
    "# FILTER: sites with no hom_ref call\n",
    "mt = mt.filter_rows(mt.n_called == mt.n_non_ref, keep = False)\n",
    "print(\"Samples: %d; Variants: %d; Entries: %d\" % (mt.count_cols(), mt.count_rows(), mt.entries().count()))"
   ]
  },
  {
   "cell_type": "code",
   "execution_count": 13,
   "id": "df5b27e2-daaf-49ba-b759-ad66736323ab",
   "metadata": {},
   "outputs": [
    {
     "data": {
      "application/vnd.jupyter.widget-view+json": {
       "model_id": "",
       "version_major": 2,
       "version_minor": 0
      },
      "text/plain": [
       "FloatProgress(value=0.0, bar_style='info', description='Progress:', layout=Layout(height='25px', width='50%'),…"
      ]
     },
     "metadata": {},
     "output_type": "display_data"
    },
    {
     "name": "stdout",
     "output_type": "stream",
     "text": [
      "(22554, 1922)\n",
      "(21377, 1922)\n",
      "2024-05-06 09:00:54 Hail: INFO: Coerced sorted dataset\n",
      "2024-05-06 09:01:00 Hail: INFO: Coerced sorted dataset\n",
      "2024-05-06 09:01:18 Hail: INFO: Reading table without type imputation\n",
      "  Loading field 'f0' as type str (user-supplied)\n",
      "  Loading field 'f1' as type int32 (user-supplied)\n",
      "  Loading field 'f2' as type int32 (user-supplied)\n",
      "2024-05-06 09:01:25 Hail: INFO: Coerced sorted dataset\n",
      "2024-05-06 09:01:30 Hail: INFO: Coerced sorted dataset\n",
      "2024-05-06 09:01:31 Hail: INFO: Coerced sorted dataset"
     ]
    }
   ],
   "source": [
    "print(mt.count()) ## \n",
    "\n",
    "\n",
    "## load the predefine whitlist region (ie not low-cpmplexity, telemore, centromere, ...) \n",
    "whitelist_region= hl.import_bed(whiltelist_region_bed_uri, reference_genome='GRCh38')\n",
    "\n",
    "## filter relevant variant\n",
    "mt = mt.filter_rows(\n",
    "    True\n",
    "    & ((~hl.is_defined(mt.info.SVSIZE))                         ## We only carry fwd entries with INFO/SVSIZE undefined \n",
    "       | (mt.info.SVSIZE >= 50)                                 ##                            or  INFO/SVSIZE > 50bp\n",
    "       | (mt.info.SVSIZE <= 10000000))                          ##                            or INFO/SVSIZE < 10,000,000bp \n",
    "    & (hl.is_defined(whitelist_region[mt.locus]))               ## We only carry fwd  whitelist region contained SV \n",
    "    , keep=True)\n",
    "\n",
    "print(mt.count()) "
   ]
  },
  {
   "cell_type": "code",
   "execution_count": 14,
   "id": "e78b8b6a-7c29-4733-9f8e-1a1d54ec0850",
   "metadata": {},
   "outputs": [
    {
     "data": {
      "application/vnd.jupyter.widget-view+json": {
       "model_id": "",
       "version_major": 2,
       "version_minor": 0
      },
      "text/plain": [
       "FloatProgress(value=0.0, bar_style='info', description='Progress:', layout=Layout(height='25px', width='50%'),…"
      ]
     },
     "metadata": {},
     "output_type": "display_data"
    },
    {
     "name": "stdout",
     "output_type": "stream",
     "text": [
      "2024-05-06 09:02:22 Hail: INFO: Coerced sorted dataset\n",
      "2024-05-06 09:02:28 Hail: INFO: Coerced sorted dataset\n",
      "2024-05-06 09:02:28 Hail: INFO: Coerced sorted dataset\n",
      "2024-05-06 09:03:29 Hail: INFO: wrote matrix table with 21377 rows and 1922 columns in 9 partitions to SG10K_SV_SURVINDEL2.n1922.m21377.30xvalidation.mt\n",
      "    Total size: 816.30 MiB\n",
      "    * Rows/entries: 816.29 MiB\n",
      "    * Columns: 6.94 KiB\n",
      "    * Globals: 11.00 B\n",
      "    * Smallest partition: 1382 rows (54.52 MiB)\n",
      "    * Largest partition:  2594 rows (99.13 MiB)"
     ]
    }
   ],
   "source": [
    "release14_surv_mt_uri = \"SG10K_SV_SURVINDEL2.n1922.m21377.30xvalidation.mt\"\n",
    "mt.write(release14_surv_mt_uri, overwrite=False)"
   ]
  },
  {
   "cell_type": "code",
   "execution_count": null,
   "id": "fbea57a5-a900-4527-9881-5fa09e6cc935",
   "metadata": {},
   "outputs": [],
   "source": []
  }
 ],
 "metadata": {
  "kernelspec": {
   "display_name": "PySpark",
   "language": "python",
   "name": "pysparkkernel"
  },
  "language_info": {
   "codemirror_mode": {
    "name": "python",
    "version": 3
   },
   "file_extension": ".py",
   "mimetype": "text/x-python",
   "name": "pyspark",
   "pygments_lexer": "python3"
  }
 },
 "nbformat": 4,
 "nbformat_minor": 5
}

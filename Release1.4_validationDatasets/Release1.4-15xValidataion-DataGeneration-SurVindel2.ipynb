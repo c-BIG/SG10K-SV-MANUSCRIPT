{
 "cells": [
  {
   "cell_type": "markdown",
   "id": "036ae88b-21af-4284-82f7-63c01b8710f3",
   "metadata": {},
   "source": [
    "###  This notebook focus on generating a SurvIndel 15x validataion matrix table from VCFs¶"
   ]
  },
  {
   "cell_type": "code",
   "execution_count": 1,
   "id": "d426facd-4573-4330-9fe5-6a1aa5110165",
   "metadata": {},
   "outputs": [
    {
     "data": {
      "text/html": [
       "Current session configs: <tt>{'driverMemory': '6000M', 'proxyUser': 'jovyan', 'kind': 'pyspark'}</tt><br>"
      ],
      "text/plain": [
       "<IPython.core.display.HTML object>"
      ]
     },
     "metadata": {},
     "output_type": "display_data"
    },
    {
     "data": {
      "text/html": [
    ],
      "text/plain": [
       "<IPython.core.display.HTML object>"
      ]
     },
     "metadata": {},
     "output_type": "display_data"
    }
   ],
   "source": [
    "%%configure -f\n",
    "{\"driverMemory\": \"6000M\"}"
   ]
  },
  {
   "cell_type": "code",
   "execution_count": 2,
   "id": "dbb7debb-df66-49af-88fd-be3548b39b19",
   "metadata": {},
   "outputs": [
    {
     "name": "stdout",
     "output_type": "stream",
     "text": [
      "Starting Spark application\n"
     ]
    },
    {
     "data": {
      "text/html": [
   ],
      "text/plain": [
       "<IPython.core.display.HTML object>"
      ]
     },
     "metadata": {},
     "output_type": "display_data"
    },
    {
     "data": {
      "application/vnd.jupyter.widget-view+json": {
       "model_id": "",
       "version_major": 2,
       "version_minor": 0
      },
      "text/plain": [
       "FloatProgress(value=0.0, bar_style='info', description='Progress:', layout=Layout(height='25px', width='50%'),…"
      ]
     },
     "metadata": {},
     "output_type": "display_data"
    },
    {
     "name": "stdout",
     "output_type": "stream",
     "text": [
      "SparkSession available as 'spark'.\n"
     ]
    },
    {
     "data": {
      "application/vnd.jupyter.widget-view+json": {
       "model_id": "",
       "version_major": 2,
       "version_minor": 0
      },
      "text/plain": [
       "FloatProgress(value=0.0, bar_style='info', description='Progress:', layout=Layout(height='25px', width='50%'),…"
      ]
     },
     "metadata": {},
     "output_type": "display_data"
    },
    {
     "name": "stdout",
     "output_type": "stream",
     "text": [
      "pip-installed Hail requires additional configuration options in Spark referring\n",
      "  to the path to the Hail Python module directory HAIL_DIR,\n",
      "  e.g. /path/to/python/site-packages/hail:\n",
      "    spark.jars=HAIL_DIR/hail-all-spark.jar\n",
      "    spark.driver.extraClassPath=HAIL_DIR/hail-all-spark.jar\n",
      "    spark.executor.extraClassPath=./hail-all-spark.jarRunning on Apache Spark version 3.1.2-amzn-0\n",
      "SparkUI available at\n",
      "Welcome to\n",
      "     __  __     <>__\n",
      "    / /_/ /__  __/ /\n",
      "   / __  / _ `/ / /\n",
      "  /_/ /_/\\_,_/_/_/   version 0.2.80-4ccfae1ff293\n",
      "LOGGING: writing to"
     ]
    }
   ],
   "source": [
    "import hail as hl\n",
    "hl.init(sc)"
   ]
  },
  {
   "cell_type": "code",
   "execution_count": 3,
   "id": "40bfcaea-cb63-4935-94ea-81b1151a670e",
   "metadata": {},
   "outputs": [
    {
     "data": {
      "application/vnd.jupyter.widget-view+json": {
       "model_id": "",
       "version_major": 2,
       "version_minor": 0
      },
      "text/plain": [
       "FloatProgress(value=0.0, bar_style='info', description='Progress:', layout=Layout(height='25px', width='50%'),…"
      ]
     },
     "metadata": {},
     "output_type": "display_data"
    }
   ],
   "source": [
    "## list all resources  used in this notebook \n",
    "survindel2_uri=\"DUP.15x_pcrminus.for_hail.vcf.gz\"\n",
    "whiltelist_region_bed_uri = \"resources_broad_hg38_v0_wgs_calling_regions.hg38.merged.autosome_only-minus_excl_regions.bed\"\n",
    "validation15x_sample_txt_uri = \"SG10K-SV-Release-1.3_15xValidation.samples.txt\""
   ]
  },
  {
   "cell_type": "code",
   "execution_count": 4,
   "id": "903cba14-8b7f-4cd5-840f-33d16dc895ae",
   "metadata": {},
   "outputs": [
    {
     "data": {
      "application/vnd.jupyter.widget-view+json": {
       "model_id": "",
       "version_major": 2,
       "version_minor": 0
      },
      "text/plain": [
       "FloatProgress(value=0.0, bar_style='info', description='Progress:', layout=Layout(height='25px', width='50%'),…"
      ]
     },
     "metadata": {},
     "output_type": "display_data"
    },
    {
     "name": "stdout",
     "output_type": "stream",
     "text": [
      "----------------------------------------\n",
      "Global fields:\n",
      "    None\n",
      "----------------------------------------\n",
      "Column fields:\n",
      "    's': str\n",
      "----------------------------------------\n",
      "Row fields:\n",
      "    'locus': locus<GRCh38>\n",
      "    'alleles': array<str>\n",
      "    'rsid': str\n",
      "    'qual': float64\n",
      "    'filters': set<str>\n",
      "    'info': struct {\n",
      "        SVTYPE: str, \n",
      "        END: int32, \n",
      "        N_SAMPLES: int32, \n",
      "        N_SVS: int32, \n",
      "        GCF: float64, \n",
      "        SVSIZE: int32\n",
      "    }\n",
      "----------------------------------------\n",
      "Entry fields:\n",
      "    'GT': call\n",
      "    'FT': str\n",
      "    'AR': int32\n",
      "    'SR': int32\n",
      "    'RR': int32\n",
      "    'RS': int32\n",
      "    'RE': int32\n",
      "    'CN': int32\n",
      "    'IL': int32\n",
      "    'WR': int32\n",
      "    'DFL': int32\n",
      "    'DDL': int32\n",
      "    'DDR': int32\n",
      "    'DFR': int32\n",
      "    'CID': int32\n",
      "    'OW': int32\n",
      "    'DHFC': float64\n",
      "    'DHBFC': float64\n",
      "    'DHFFC': float64\n",
      "    'DHSP': int32\n",
      "----------------------------------------\n",
      "Column key: ['s']\n",
      "Row key: ['locus', 'alleles']\n",
      "----------------------------------------"
     ]
    }
   ],
   "source": [
    "mt = hl.import_vcf(survindel2_uri, reference_genome=\"GRCh38\", force_bgz=True)\n",
    "mt.describe()"
   ]
  },
  {
   "cell_type": "code",
   "execution_count": 5,
   "id": "376c897f-0cea-4d08-a603-1d6bfb5663eb",
   "metadata": {},
   "outputs": [
    {
     "data": {
      "application/vnd.jupyter.widget-view+json": {
       "model_id": "",
       "version_major": 2,
       "version_minor": 0
      },
      "text/plain": [
       "FloatProgress(value=0.0, bar_style='info', description='Progress:', layout=Layout(height='25px', width='50%'),…"
      ]
     },
     "metadata": {},
     "output_type": "display_data"
    },
    {
     "name": "stdout",
     "output_type": "stream",
     "text": [
      "1523\n",
      "(43622, 1524)\n",
      "(43622, 1523)\n",
      "2024-05-06 08:33:38 Hail: INFO: Reading table without type imputation\n",
      "  Loading field 's' as type str (not specified)\n",
      "2024-05-06 08:33:54 Hail: INFO: Coerced sorted dataset\n",
      "2024-05-06 08:34:15 Hail: INFO: Coerced sorted dataset"
     ]
    }
   ],
   "source": [
    "## Filter out relevant samples\n",
    "sample_ht = hl.import_table(validation15x_sample_txt_uri).key_by('s')\n",
    "\n",
    "print(sample_ht.count()) ## 5487\n",
    "print(mt.count()) ## \n",
    "\n",
    "mt = mt.filter_cols(hl.is_defined(sample_ht[mt.col_key]))\n",
    "\n",
    "print(mt.count()) ## \n"
   ]
  },
  {
   "cell_type": "code",
   "execution_count": 6,
   "id": "12980e18-f8ab-42fc-8780-72d4142275a8",
   "metadata": {},
   "outputs": [
    {
     "data": {
      "application/vnd.jupyter.widget-view+json": {
       "model_id": "",
       "version_major": 2,
       "version_minor": 0
      },
      "text/plain": [
       "FloatProgress(value=0.0, bar_style='info', description='Progress:', layout=Layout(height='25px', width='50%'),…"
      ]
     },
     "metadata": {},
     "output_type": "display_data"
    },
    {
     "name": "stdout",
     "output_type": "stream",
     "text": [
      "frozendict({'DUP': 43622})\n",
      "2024-05-06 08:34:35 Hail: INFO: Coerced sorted dataset"
     ]
    }
   ],
   "source": [
    "svtype_stats = mt.aggregate_rows(hl.struct( svtype_stat = hl.agg.counter(mt.info.SVTYPE)))\n",
    "print(svtype_stats.svtype_stat)"
   ]
  },
  {
   "cell_type": "code",
   "execution_count": 7,
   "id": "d0f30fdb-a551-4153-851a-afa3c59bc621",
   "metadata": {},
   "outputs": [
    {
     "data": {
      "application/vnd.jupyter.widget-view+json": {
       "model_id": "",
       "version_major": 2,
       "version_minor": 0
      },
      "text/plain": [
       "FloatProgress(value=0.0, bar_style='info', description='Progress:', layout=Layout(height='25px', width='50%'),…"
      ]
     },
     "metadata": {},
     "output_type": "display_data"
    }
   ],
   "source": [
    "# Check if the genotype PASS the QC\n",
    "mt = mt.annotate_entries(\n",
    "    FS = hl.case()\n",
    "            .when((mt.GT.is_hom_ref()) & (mt.FT == \"PASS\"), \"PASS\")\n",
    "            .when((mt.GT.is_het()) &(mt.FT == \"PASS\") & (mt.DHBFC > 1.3), \"PASS\")\n",
    "            .when((mt.GT.is_hom_var()) &(mt.FT == \"PASS\") & (mt.DHBFC > 1.3), \"PASS\")\n",
    "            .default(\"FAIL\")            \n",
    "    )"
   ]
  },
  {
   "cell_type": "code",
   "execution_count": 8,
   "id": "480a55d2-a730-46dd-9961-49b75377a155",
   "metadata": {},
   "outputs": [
    {
     "data": {
      "application/vnd.jupyter.widget-view+json": {
       "model_id": "",
       "version_major": 2,
       "version_minor": 0
      },
      "text/plain": [
       "FloatProgress(value=0.0, bar_style='info', description='Progress:', layout=Layout(height='25px', width='50%'),…"
      ]
     },
     "metadata": {},
     "output_type": "display_data"
    }
   ],
   "source": [
    "# Check if the site PASS across all samples\n",
    "# Variant site is marked as FAIL if all samples have FS == FAIL\n",
    "\n",
    "mt = mt.annotate_rows(\n",
    "    site_is_pass = hl.agg.any(mt.FS == \"PASS\")\n",
    ")"
   ]
  },
  {
   "cell_type": "code",
   "execution_count": 9,
   "id": "0ea4f808-ef3a-488f-9c8a-be950cc6bde9",
   "metadata": {},
   "outputs": [
    {
     "data": {
      "application/vnd.jupyter.widget-view+json": {
       "model_id": "",
       "version_major": 2,
       "version_minor": 0
      },
      "text/plain": [
       "FloatProgress(value=0.0, bar_style='info', description='Progress:', layout=Layout(height='25px', width='50%'),…"
      ]
     },
     "metadata": {},
     "output_type": "display_data"
    }
   ],
   "source": [
    "# Define filters\n",
    "filters = [\n",
    "    {'key': 'PASS', 'expr': ( mt.rows().select(\"site_is_pass\") == True ) },\n",
    "    {'key': 'FAIL', 'expr': ( mt.rows().select(\"site_is_pass\") == False )  },\n",
    "]\n",
    "\n",
    "ht = mt.rows()\n",
    "\n",
    "# Compute filters\n",
    "ht_filters = ht.annotate(\n",
    "    filters=hl.set(hl.filter(\n",
    "        lambda x: hl.is_defined(x),\n",
    "        [hl.or_missing(\n",
    "            d['expr'],\n",
    "            d['key']\n",
    "        ) for d in filters]\n",
    "    ))\n",
    ")\n",
    "\n",
    "# Copy filters into main sample ht\n",
    "mt= mt.annotate_rows(\n",
    "    filters = mt.filters.union(ht_filters[mt.row_key].filters)\n",
    ")"
   ]
  },
  {
   "cell_type": "code",
   "execution_count": 10,
   "id": "4016567c-2277-4da9-b37a-38d6dd3dd8fa",
   "metadata": {},
   "outputs": [
    {
     "data": {
      "application/vnd.jupyter.widget-view+json": {
       "model_id": "",
       "version_major": 2,
       "version_minor": 0
      },
      "text/plain": [
       "FloatProgress(value=0.0, bar_style='info', description='Progress:', layout=Layout(height='25px', width='50%'),…"
      ]
     },
     "metadata": {},
     "output_type": "display_data"
    }
   ],
   "source": [
    "##  because we want to only carry fwd entries wit at least one hom-ref and drop monomorphic entries\n",
    "##   and there is a need to put all genotypes that fail FORMAT/FT to fORMAT/GT = `./.`\n",
    "\n",
    "\n",
    "mt = mt.annotate_entries(\n",
    "    GT = hl.case()\n",
    "            .when((mt.GT.is_hom_ref()) & (mt.FT == \"PASS\"), mt.GT)\n",
    "            .when((mt.GT.is_het()) &(mt.FT == \"PASS\") & (mt.DHBFC > 1.3), mt.GT)\n",
    "            .when((mt.GT.is_hom_var()) &(mt.FT == \"PASS\") & (mt.DHBFC > 1.3),mt.GT)\n",
    "            .default( hl.null(hl.tcall) )            \n",
    ")"
   ]
  },
  {
   "cell_type": "code",
   "execution_count": 11,
   "id": "2acb476f-8155-4d21-b9bd-760d176de19b",
   "metadata": {},
   "outputs": [
    {
     "data": {
      "application/vnd.jupyter.widget-view+json": {
       "model_id": "",
       "version_major": 2,
       "version_minor": 0
      },
      "text/plain": [
       "FloatProgress(value=0.0, bar_style='info', description='Progress:', layout=Layout(height='25px', width='50%'),…"
      ]
     },
     "metadata": {},
     "output_type": "display_data"
    },
    {
     "name": "stdout",
     "output_type": "stream",
     "text": [
      "(43622, 1523)\n",
      "2024-05-06 08:37:01 Hail: INFO: Coerced sorted dataset\n",
      "2024-05-06 08:37:10 Hail: INFO: Coerced sorted dataset"
     ]
    }
   ],
   "source": [
    "## filter relevant variant\n",
    "## 2- contains \"PASS\", \"{fail}\" FILTER entries We only carry fwd \"FILTER=PASS\" entries \n",
    "mt = mt.filter_rows(mt.filters.length() == 0, keep=True)\n",
    "print(mt.count()) "
   ]
  },
  {
   "cell_type": "code",
   "execution_count": 12,
   "id": "b2d70e24-b62e-48d0-a977-652ebcf7f665",
   "metadata": {},
   "outputs": [
    {
     "data": {
      "application/vnd.jupyter.widget-view+json": {
       "model_id": "",
       "version_major": 2,
       "version_minor": 0
      },
      "text/plain": [
       "FloatProgress(value=0.0, bar_style='info', description='Progress:', layout=Layout(height='25px', width='50%'),…"
      ]
     },
     "metadata": {},
     "output_type": "display_data"
    },
    {
     "name": "stdout",
     "output_type": "stream",
     "text": [
      "Samples: 1523; Variants: 17941; Entries: 27324143\n",
      "2024-05-06 08:40:58 Hail: INFO: Coerced sorted dataset\n",
      "2024-05-06 08:41:07 Hail: INFO: Coerced sorted dataset\n",
      "2024-05-06 08:41:16 Hail: INFO: Coerced sorted dataset\n",
      "2024-05-06 08:41:45 Hail: WARN: entries(): Resulting entries table is sorted by '(row_key, col_key)'.\n",
      "    To preserve row-major matrix table order, first unkey columns with 'key_cols_by()'\n",
      "2024-05-06 08:41:53 Hail: INFO: Coerced sorted dataset\n",
      "2024-05-06 08:42:01 Hail: INFO: Coerced sorted dataset"
     ]
    }
   ],
   "source": [
    "# Remove monomorphic variants\n",
    "\n",
    "# run variant qc\n",
    "mt = hl.variant_qc(mt)\n",
    "\n",
    "# annotate the matrix table\n",
    "mt = mt.annotate_rows(\n",
    "    n_called = mt.variant_qc.n_called,\n",
    "    n_hom_ref = hl.agg.count_where(mt.GT.is_hom_ref()),\n",
    "    n_het = hl.agg.count_where(mt.GT.is_het()),\n",
    "    n_hom_alt = hl.agg.count_where(mt.GT.is_hom_var())\n",
    ")\n",
    "\n",
    "mt = mt.annotate_rows(\n",
    "   n_non_ref = mt.n_hom_alt + mt.n_het \n",
    ")\n",
    "\n",
    "# Remove monomorphic variants\n",
    "mt = mt.filter_rows(\n",
    "    (mt.n_called == mt.n_hom_ref) | \n",
    "    (mt.n_called == mt.n_het) | \n",
    "    (mt.n_called == mt.n_hom_alt),\n",
    "    keep = False\n",
    ")\n",
    "print(\"Samples: %d; Variants: %d; Entries: %d\" % (mt.count_cols(), mt.count_rows(), mt.entries().count()))\n"
   ]
  },
  {
   "cell_type": "code",
   "execution_count": 13,
   "id": "34b4bc65-64c5-4998-8c1a-a0b9d4bae855",
   "metadata": {},
   "outputs": [
    {
     "data": {
      "application/vnd.jupyter.widget-view+json": {
       "model_id": "",
       "version_major": 2,
       "version_minor": 0
      },
      "text/plain": [
       "FloatProgress(value=0.0, bar_style='info', description='Progress:', layout=Layout(height='25px', width='50%'),…"
      ]
     },
     "metadata": {},
     "output_type": "display_data"
    },
    {
     "name": "stdout",
     "output_type": "stream",
     "text": [
      "Samples: 1523; Variants: 17935; Entries: 27315005\n",
      "2024-05-06 08:42:48 Hail: INFO: Coerced sorted dataset\n",
      "2024-05-06 08:42:56 Hail: INFO: Coerced sorted dataset\n",
      "2024-05-06 08:43:04 Hail: INFO: Coerced sorted dataset\n",
      "2024-05-06 08:43:39 Hail: INFO: Coerced sorted dataset\n",
      "2024-05-06 08:43:46 Hail: INFO: Coerced sorted dataset"
     ]
    }
   ],
   "source": [
    "# FILTER: sites with no hom_ref call\n",
    "mt = mt.filter_rows(mt.n_called == mt.n_non_ref, keep = False)\n",
    "print(\"Samples: %d; Variants: %d; Entries: %d\" % (mt.count_cols(), mt.count_rows(), mt.entries().count()))"
   ]
  },
  {
   "cell_type": "code",
   "execution_count": 14,
   "id": "639708e9-9843-48a8-8c87-5483933a00e6",
   "metadata": {},
   "outputs": [
    {
     "data": {
      "application/vnd.jupyter.widget-view+json": {
       "model_id": "",
       "version_major": 2,
       "version_minor": 0
      },
      "text/plain": [
       "FloatProgress(value=0.0, bar_style='info', description='Progress:', layout=Layout(height='25px', width='50%'),…"
      ]
     },
     "metadata": {},
     "output_type": "display_data"
    },
    {
     "name": "stdout",
     "output_type": "stream",
     "text": [
      "(17935, 1523)\n",
      "(17036, 1523)\n",
      "2024-05-06 08:44:24 Hail: INFO: Coerced sorted dataset\n",
      "2024-05-06 08:44:31 Hail: INFO: Coerced sorted dataset\n",
      "2024-05-06 08:44:59 Hail: INFO: Reading table without type imputation\n",
      "  Loading field 'f0' as type str (user-supplied)\n",
      "  Loading field 'f1' as type int32 (user-supplied)\n",
      "  Loading field 'f2' as type int32 (user-supplied)\n",
      "2024-05-06 08:45:08 Hail: INFO: Coerced sorted dataset\n",
      "2024-05-06 08:45:15 Hail: INFO: Coerced sorted dataset\n",
      "2024-05-06 08:45:16 Hail: INFO: Coerced sorted dataset"
     ]
    }
   ],
   "source": [
    "print(mt.count()) ## \n",
    "\n",
    "\n",
    "## load the predefine whitlist region (ie not low-cpmplexity, telemore, centromere, ...) \n",
    "whitelist_region= hl.import_bed(whiltelist_region_bed_uri, reference_genome='GRCh38')\n",
    "\n",
    "## filter relevant variant\n",
    "mt = mt.filter_rows(\n",
    "    True\n",
    "    & ((~hl.is_defined(mt.info.SVSIZE))                         ## We only carry fwd entries with INFO/SVSIZE undefined \n",
    "       | (mt.info.SVSIZE >= 50)                                 ##                            or  INFO/SVSIZE > 50bp\n",
    "       | (mt.info.SVSIZE <= 10000000))                          ##                            or INFO/SVSIZE < 10,000,000bp \n",
    "    & (hl.is_defined(whitelist_region[mt.locus]))               ## We only carry fwd  whitelist region contained SV \n",
    "    , keep=True)\n",
    "\n",
    "print(mt.count()) "
   ]
  },
  {
   "cell_type": "code",
   "execution_count": 15,
   "id": "08849bab-4f49-4d02-8025-0d06180ee666",
   "metadata": {},
   "outputs": [
    {
     "data": {
      "application/vnd.jupyter.widget-view+json": {
       "model_id": "",
       "version_major": 2,
       "version_minor": 0
      },
      "text/plain": [
       "FloatProgress(value=0.0, bar_style='info', description='Progress:', layout=Layout(height='25px', width='50%'),…"
      ]
     },
     "metadata": {},
     "output_type": "display_data"
    },
    {
     "name": "stdout",
     "output_type": "stream",
     "text": [
      "2024-05-06 08:48:00 Hail: INFO: Coerced sorted dataset\n",
      "2024-05-06 08:48:09 Hail: INFO: Coerced sorted dataset\n",
      "2024-05-06 08:48:10 Hail: INFO: Coerced sorted dataset\n",
      "2024-05-06 08:49:30 Hail: INFO: wrote matrix table with 17036 rows and 1523 columns in 5 partitions to SG10K_SV_SURVINDEL2.n1523.m17036.15xvalidation.mt\n",
      "    Total size: 374.22 MiB\n",
      "    * Rows/entries: 374.21 MiB\n",
      "    * Columns: 5.53 KiB\n",
      "    * Globals: 11.00 B\n",
      "    * Smallest partition: 2724 rows (60.54 MiB)\n",
      "    * Largest partition:  3618 rows (79.80 MiB)"
     ]
    }
   ],
   "source": [
    "## write the resulting mt\n",
    "release14_surv_mt_uri =   \"SG10K_SV_SURVINDEL2.n1523.m17036.15xvalidation.mt\"\n",
    "\n",
    "mt.write(release14_surv_mt_uri, overwrite=False)"
   ]
  },
  {
   "cell_type": "code",
   "execution_count": null,
   "id": "86e998f7-6b50-45e4-9d16-9e8decef71e2",
   "metadata": {},
   "outputs": [],
   "source": []
  }
 ],
 "metadata": {
  "kernelspec": {
   "display_name": "PySpark",
   "language": "python",
   "name": "pysparkkernel"
  },
  "language_info": {
   "codemirror_mode": {
    "name": "python",
    "version": 3
   },
   "file_extension": ".py",
   "mimetype": "text/x-python",
   "name": "pyspark",
   "pygments_lexer": "python3"
  }
 },
 "nbformat": 4,
 "nbformat_minor": 5
}

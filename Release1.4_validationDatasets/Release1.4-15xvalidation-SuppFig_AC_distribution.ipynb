{
 "cells": [
  {
   "cell_type": "code",
   "execution_count": 1,
   "id": "fccea51c-7bcb-4913-a6fd-e7a8383528e4",
   "metadata": {},
   "outputs": [
    {
     "data": {
      "text/html": [
       "Current session configs: <tt>{'driverMemory': '6000M', 'proxyUser': 'jovyan', 'kind': 'pyspark'}</tt><br>"
      ],
      "text/plain": [
       "<IPython.core.display.HTML object>"
      ]
     },
     "metadata": {},
     "output_type": "display_data"
    },
    {
     "data": {
      "text/html": [
       "No active sessions."
      ],
      "text/plain": [
       "<IPython.core.display.HTML object>"
      ]
     },
     "metadata": {},
     "output_type": "display_data"
    }
   ],
   "source": [
    "%%configure -f\n",
    "{\"driverMemory\": \"6000M\"}"
   ]
  },
  {
   "cell_type": "code",
   "execution_count": 2,
   "id": "2564c61c-fc59-4564-a7e3-ade8903ddab9",
   "metadata": {},
   "outputs": [
    {
     "name": "stdout",
     "output_type": "stream",
     "text": [
      "Starting Spark application\n"
     ]
    },
    {
     "data": {
      "text/html": [
   ],
      "text/plain": [
       "<IPython.core.display.HTML object>"
      ]
     },
     "metadata": {},
     "output_type": "display_data"
    },
    {
     "data": {
      "application/vnd.jupyter.widget-view+json": {
       "model_id": "",
       "version_major": 2,
       "version_minor": 0
      },
      "text/plain": [
       "FloatProgress(value=0.0, bar_style='info', description='Progress:', layout=Layout(height='25px', width='50%'),…"
      ]
     },
     "metadata": {},
     "output_type": "display_data"
    },
    {
     "name": "stdout",
     "output_type": "stream",
     "text": [
      "SparkSession available as 'spark'.\n"
     ]
    },
    {
     "data": {
      "application/vnd.jupyter.widget-view+json": {
       "model_id": "",
       "version_major": 2,
       "version_minor": 0
      },
      "text/plain": [
       "FloatProgress(value=0.0, bar_style='info', description='Progress:', layout=Layout(height='25px', width='50%'),…"
      ]
     },
     "metadata": {},
     "output_type": "display_data"
    },
    {
     "name": "stdout",
     "output_type": "stream",
     "text": [
      "pip-installed Hail requires additional configuration options in Spark referring\n",
      "  to the path to the Hail Python module directory HAIL_DIR,\n",
      "  e.g. /path/to/python/site-packages/hail:\n",
      "    spark.jars=HAIL_DIR/hail-all-spark.jar\n",
      "    spark.driver.extraClassPath=HAIL_DIR/hail-all-spark.jar\n",
      "    spark.executor.extraClassPath=./hail-all-spark.jarRunning on Apache Spark version 3.1.2-amzn-0\n",
      "SparkUI available at\n",
      "Welcome to\n",
      "     __  __     <>__\n",
      "    / /_/ /__  __/ /\n",
      "   / __  / _ `/ / /\n",
      "  /_/ /_/\\_,_/_/_/   version 0.2.80-4ccfae1ff293\n",
      "LOGGING: writing to"
     ]
    }
   ],
   "source": [
    "import hail as hl\n",
    "hl.init(sc)"
   ]
  },
  {
   "cell_type": "code",
   "execution_count": 3,
   "id": "f1f61a33-ebc3-4eb3-8d55-e62b4d3de8d0",
   "metadata": {},
   "outputs": [
    {
     "data": {
      "application/vnd.jupyter.widget-view+json": {
       "model_id": "",
       "version_major": 2,
       "version_minor": 0
      },
      "text/plain": [
       "FloatProgress(value=0.0, bar_style='info', description='Progress:', layout=Layout(height='25px', width='50%'),…"
      ]
     },
     "metadata": {},
     "output_type": "display_data"
    }
   ],
   "source": [
    "validation_15x_uri= \"SG10K-SV-Release-1.4-15x-validation.mt\""
   ]
  },
  {
   "cell_type": "code",
   "execution_count": 4,
   "id": "bb99e907-0a2e-44c7-837f-5ce549f9af4f",
   "metadata": {},
   "outputs": [
    {
     "data": {
      "application/vnd.jupyter.widget-view+json": {
       "model_id": "",
       "version_major": 2,
       "version_minor": 0
      },
      "text/plain": [
       "FloatProgress(value=0.0, bar_style='info', description='Progress:', layout=Layout(height='25px', width='50%'),…"
      ]
     },
     "metadata": {},
     "output_type": "display_data"
    },
    {
     "name": "stdout",
     "output_type": "stream",
     "text": [
      "----------------------------------------\n",
      "Global fields:\n",
      "    None\n",
      "----------------------------------------\n",
      "Column fields:\n",
      "    's': str\n",
      "----------------------------------------\n",
      "Row fields:\n",
      "    'locus': locus<GRCh38>\n",
      "    'alleles': array<str>\n",
      "    '_old_sv_id': str\n",
      "    'qual': float64\n",
      "    'filters': set<str>\n",
      "    'callers_info': struct {\n",
      "        manta: struct {\n",
      "            ABHet: float64, \n",
      "            ABHom: float64, \n",
      "            ABHetMulti: array<float64>, \n",
      "            ABHomMulti: array<float64>, \n",
      "            AC: array<int32>, \n",
      "            AF: array<float64>, \n",
      "            AN: int32, \n",
      "            CR: int32, \n",
      "            END: int32, \n",
      "            HOMSEQ: array<str>, \n",
      "            INV3: bool, \n",
      "            INV5: bool, \n",
      "            LEFT_SVINSSEQ: array<str>, \n",
      "            LOGF: float64, \n",
      "            MaxAAS: array<int32>, \n",
      "            MaxAASR: array<float64>, \n",
      "            MaxAltPP: int32, \n",
      "            MQ: int32, \n",
      "            MQsquared: int32, \n",
      "            NCLUSTERS: int32, \n",
      "            NGT: array<int32>, \n",
      "            NHet: int32, \n",
      "            NHomRef: int32, \n",
      "            NHomAlt: int32, \n",
      "            NUM_MERGED_SVS: int32, \n",
      "            OLD_VARIANT_ID: str, \n",
      "            ORSTART: int32, \n",
      "            OREND: int32, \n",
      "            QD: float64, \n",
      "            PASS_AC: array<int32>, \n",
      "            PASS_AN: int32, \n",
      "            PASS_ratio: float64, \n",
      "            PS: int32, \n",
      "            RefLen: int32, \n",
      "            RELATED_SV_ID: int32, \n",
      "            RIGHT_SVINSSEQ: array<str>, \n",
      "            SB: float64, \n",
      "            SBAlt: float64, \n",
      "            SBF: array<int32>, \n",
      "            SBF1: array<int32>, \n",
      "            SBF2: array<int32>, \n",
      "            SBR: array<int32>, \n",
      "            SBR1: array<int32>, \n",
      "            SBR2: array<int32>, \n",
      "            SEQ: str, \n",
      "            SeqDepth: int32, \n",
      "            SV_ID: int32, \n",
      "            SVINSSEQ: array<str>, \n",
      "            SVLEN: int32, \n",
      "            SVMODEL: str, \n",
      "            SVSIZE: int32, \n",
      "            SVTYPE: str, \n",
      "            VarType: str, \n",
      "            PASS_GT2_filter: str, \n",
      "            alleles: array<str>, \n",
      "            rsid: str\n",
      "        }, \n",
      "        melt: struct {\n",
      "            ASSESS: int32, \n",
      "            TSD: str, \n",
      "            INTERNAL: array<str>, \n",
      "            SVTYPE: str, \n",
      "            SVLEN: int32, \n",
      "            MEINFO: array<str>, \n",
      "            DIFF: array<str>, \n",
      "            LP: int32, \n",
      "            RP: int32, \n",
      "            RA: float64, \n",
      "            PRIOR: str, \n",
      "            SR: int32, \n",
      "            alleles: array<str>, \n",
      "            rsid: str\n",
      "        }, \n",
      "        survindel2: struct {\n",
      "            SVTYPE: str, \n",
      "            END: int32, \n",
      "            N_SAMPLES: int32, \n",
      "            N_SVS: int32, \n",
      "            GCF: float64, \n",
      "            SVSIZE: int32, \n",
      "            alleles: array<str>, \n",
      "            rsid: str\n",
      "        }, \n",
      "        SVTYPE: str, \n",
      "        SVSIZE: int32, \n",
      "        END: int32\n",
      "    }\n",
      "    'sv_id': str\n",
      "----------------------------------------\n",
      "Entry fields:\n",
      "    'manta': struct {\n",
      "        GT: call, \n",
      "        FT: str, \n",
      "        AD: array<int32>, \n",
      "        MD: int32, \n",
      "        DP: int32, \n",
      "        RA: array<int32>, \n",
      "        PP: int32, \n",
      "        GQ: int32, \n",
      "        PL: array<int32>\n",
      "    }\n",
      "    'melt': struct {\n",
      "        GT: call, \n",
      "        GL: array<float64>, \n",
      "        DP: int32, \n",
      "        AD: int32, \n",
      "        PL: array<int32>\n",
      "    }\n",
      "    'survindel2': struct {\n",
      "        GT: call, \n",
      "        FT: str, \n",
      "        AR: int32, \n",
      "        SR: int32, \n",
      "        RR: int32, \n",
      "        RS: int32, \n",
      "        RE: int32, \n",
      "        CN: int32, \n",
      "        IL: int32, \n",
      "        WR: int32, \n",
      "        DFL: int32, \n",
      "        DDL: int32, \n",
      "        DDR: int32, \n",
      "        DFR: int32, \n",
      "        CID: int32, \n",
      "        OW: int32, \n",
      "        DHFC: float64, \n",
      "        DHBFC: float64, \n",
      "        DHFFC: float64, \n",
      "        DHSP: int32, \n",
      "        FS: str\n",
      "    }\n",
      "    'GT': call\n",
      "    'DP': int32\n",
      "    'PL': array<int32>\n",
      "----------------------------------------\n",
      "Column key: ['s']\n",
      "Row key: ['locus', 'alleles']\n",
      "----------------------------------------\n",
      "(40883, 1523)"
     ]
    }
   ],
   "source": [
    "mt = hl.read_matrix_table(validation_15x_uri)\n",
    "\n",
    "mt.describe()\n",
    "mt.count()"
   ]
  },
  {
   "cell_type": "code",
   "execution_count": 5,
   "id": "6a70b39c-effd-4c41-90d4-17d5514ac0d6",
   "metadata": {},
   "outputs": [
    {
     "data": {
      "application/vnd.jupyter.widget-view+json": {
       "model_id": "",
       "version_major": 2,
       "version_minor": 0
      },
      "text/plain": [
       "FloatProgress(value=0.0, bar_style='info', description='Progress:', layout=Layout(height='25px', width='50%'),…"
      ]
     },
     "metadata": {},
     "output_type": "display_data"
    }
   ],
   "source": [
    "# add metadata\n",
    "release14_sample_metadata_uri = \"2021_06_18_supplier_metadata.n10714_replacespace.txt\""
   ]
  },
  {
   "cell_type": "code",
   "execution_count": 6,
   "id": "bfe0b4c2-7860-4ea8-9496-2a3184f2e928",
   "metadata": {},
   "outputs": [
    {
     "data": {
      "application/vnd.jupyter.widget-view+json": {
       "model_id": "",
       "version_major": 2,
       "version_minor": 0
      },
      "text/plain": [
       "FloatProgress(value=0.0, bar_style='info', description='Progress:', layout=Layout(height='25px', width='50%'),…"
      ]
     },
     "metadata": {},
     "output_type": "display_data"
    },
    {
     "name": "stdout",
     "output_type": "stream",
     "text": [
      "----------------------------------------\n",
      "Global fields:\n",
      "    None\n",
      "----------------------------------------\n",
      "Column fields:\n",
      "    's': str\n",
      "    'metadata': struct {\n",
      "        Multiplex_Pool_ID: str, \n",
      "        Supplier_ID: str, \n",
      "        GIS_Internal_Sample_ID: str, \n",
      "        Site_Supplying_Sample: str, \n",
      "        Year_Of_Birth: int32, \n",
      "        Supplied_Gender: str, \n",
      "        Self_Reported_Ethnicity: str, \n",
      "        Extraction_Kit: str, \n",
      "        Date_Of_DNA_Extraction: str, \n",
      "        Plate_Position: str, \n",
      "        Plate_Name: str, \n",
      "        Version_Of_Consent_Form_Signed: str, \n",
      "        Sequencing_Depth: str, \n",
      "        NPM_Research_ID_Created_By_Username: str, \n",
      "        NPM_Research_ID_Creation_Date: str, \n",
      "        Comments_Entered_When_NPM_Research_ID_Created: str, \n",
      "        Description_Entered_When_NPM_Research_ID_Created: str, \n",
      "        ELM_Project_ID: str, \n",
      "        ELM_Project_Title: str, \n",
      "        ELM_Project_PI: str, \n",
      "        Species_Of_Sample_Sequenced: str, \n",
      "        Tehcnique_For_Sequencing: str, \n",
      "        Tissue_Type_Sequenced: str, \n",
      "        Library_Found_In_Sequencing_Run_ID: str, \n",
      "        Library_Found_In_Passed_Sequencing_Run_ID: str, \n",
      "        Vendor_Sequencing_Centre: str, \n",
      "        DNA_Sample_Passed_QC: str, \n",
      "        Library_Prep_Kit: str, \n",
      "        Run_ID: str, \n",
      "        Instrument_ID: str, \n",
      "        Instrument_Serial_Number: str, \n",
      "        `Hiseq_XTM_SBS_Kit_300_Cycles_V2_(box_1of_2)_Lot`: str, \n",
      "        `Hiseq_XTM_SBS_Kit_300_Cycles_V2_(box_2_Of_2)_Lot`: str, \n",
      "        `Hiseq_XTM_PE_Cluster_Kit_Cbottm_V2_(box_1_Of_2)_Lot`: str, \n",
      "        `Hiseq_XTM_PE_Cluster_Kit_Cbottm_V2_(box_2_Of_2)_Lot`: str, \n",
      "        `Hiseq_XTM_Flow_Cell_V2.5_Lot`: str, \n",
      "        `Hiseq_XTM_Flow_Cell_V2.5_ID`: str, \n",
      "        `Sequence-based_Gender`: str, \n",
      "        CRAM_Files_Location: str, \n",
      "        Estimate_Of_Sequence_Coverage: str, \n",
      "        Contamination_Rate_Of_Chinese_Genome: str, \n",
      "        Contamination_Rate_Of_Indian_Genome: str, \n",
      "        Contamination_Rate_Of_Malaysian_Genome: str, \n",
      "        Average_Coverage_Depth: str, \n",
      "        FB_Variants: str, \n",
      "        `CRAM_Filesize_(mb)`: str, \n",
      "        Error_Rate: str, \n",
      "        `FB-VCF_Filesize_(mb)`: str, \n",
      "        `GVCF_Filesize_(mb)`: str, \n",
      "        Insert_Size_Average: str, \n",
      "        Insert_Size_Standard_Deviation: str, \n",
      "        Raw_Total_Sequences: str, \n",
      "        `Reads_Duplicated_(%)`: str, \n",
      "        `Reads_Properly_Paired_(%)`: str, \n",
      "        Cohort_JVCF_Data_Capacity: str, \n",
      "        FASTQ_File_Size: str, \n",
      "        JVCF_Size: str, \n",
      "        Data_Timestamp_For_FASTQ_File: str, \n",
      "        Sequencing_Analysis_Pipeline: str, \n",
      "        `Cohorts_Joint-called_Together`: str, \n",
      "        Library_Archived_At_NSCC: str, \n",
      "        GVCF_File_Available: str, \n",
      "        Sequencing_Complete: str, \n",
      "        Supplied_And_Computed_Gender_Match: str, \n",
      "        Supplied_And_Computed_Ethinicity_Match: str, \n",
      "        `SOP_Agreement_For_Coverage_<14/<28_For_15x/30x`: str, \n",
      "        Sample_Life_Cycle: str, \n",
      "        Current: str, \n",
      "        Source_Cohort: str, \n",
      "        Original_supplier_ID: str, \n",
      "        duplicate_info: str, \n",
      "        duplicate: str, \n",
      "        duplicate_pair: str, \n",
      "        `removal-requested-by-supplier`: str, \n",
      "        KGp3_IBS_top20: str, \n",
      "        SGVP_IBS_top20: str, \n",
      "        pop_structure: str, \n",
      "        genetic_ancestry: str, \n",
      "        sex_qc: str, \n",
      "        genetic_sex: str\n",
      "    }\n",
      "----------------------------------------\n",
      "Row fields:\n",
      "    'locus': locus<GRCh38>\n",
      "    'alleles': array<str>\n",
      "    '_old_sv_id': str\n",
      "    'qual': float64\n",
      "    'filters': set<str>\n",
      "    'callers_info': struct {\n",
      "        manta: struct {\n",
      "            ABHet: float64, \n",
      "            ABHom: float64, \n",
      "            ABHetMulti: array<float64>, \n",
      "            ABHomMulti: array<float64>, \n",
      "            AC: array<int32>, \n",
      "            AF: array<float64>, \n",
      "            AN: int32, \n",
      "            CR: int32, \n",
      "            END: int32, \n",
      "            HOMSEQ: array<str>, \n",
      "            INV3: bool, \n",
      "            INV5: bool, \n",
      "            LEFT_SVINSSEQ: array<str>, \n",
      "            LOGF: float64, \n",
      "            MaxAAS: array<int32>, \n",
      "            MaxAASR: array<float64>, \n",
      "            MaxAltPP: int32, \n",
      "            MQ: int32, \n",
      "            MQsquared: int32, \n",
      "            NCLUSTERS: int32, \n",
      "            NGT: array<int32>, \n",
      "            NHet: int32, \n",
      "            NHomRef: int32, \n",
      "            NHomAlt: int32, \n",
      "            NUM_MERGED_SVS: int32, \n",
      "            OLD_VARIANT_ID: str, \n",
      "            ORSTART: int32, \n",
      "            OREND: int32, \n",
      "            QD: float64, \n",
      "            PASS_AC: array<int32>, \n",
      "            PASS_AN: int32, \n",
      "            PASS_ratio: float64, \n",
      "            PS: int32, \n",
      "            RefLen: int32, \n",
      "            RELATED_SV_ID: int32, \n",
      "            RIGHT_SVINSSEQ: array<str>, \n",
      "            SB: float64, \n",
      "            SBAlt: float64, \n",
      "            SBF: array<int32>, \n",
      "            SBF1: array<int32>, \n",
      "            SBF2: array<int32>, \n",
      "            SBR: array<int32>, \n",
      "            SBR1: array<int32>, \n",
      "            SBR2: array<int32>, \n",
      "            SEQ: str, \n",
      "            SeqDepth: int32, \n",
      "            SV_ID: int32, \n",
      "            SVINSSEQ: array<str>, \n",
      "            SVLEN: int32, \n",
      "            SVMODEL: str, \n",
      "            SVSIZE: int32, \n",
      "            SVTYPE: str, \n",
      "            VarType: str, \n",
      "            PASS_GT2_filter: str, \n",
      "            alleles: array<str>, \n",
      "            rsid: str\n",
      "        }, \n",
      "        melt: struct {\n",
      "            ASSESS: int32, \n",
      "            TSD: str, \n",
      "            INTERNAL: array<str>, \n",
      "            SVTYPE: str, \n",
      "            SVLEN: int32, \n",
      "            MEINFO: array<str>, \n",
      "            DIFF: array<str>, \n",
      "            LP: int32, \n",
      "            RP: int32, \n",
      "            RA: float64, \n",
      "            PRIOR: str, \n",
      "            SR: int32, \n",
      "            alleles: array<str>, \n",
      "            rsid: str\n",
      "        }, \n",
      "        survindel2: struct {\n",
      "            SVTYPE: str, \n",
      "            END: int32, \n",
      "            N_SAMPLES: int32, \n",
      "            N_SVS: int32, \n",
      "            GCF: float64, \n",
      "            SVSIZE: int32, \n",
      "            alleles: array<str>, \n",
      "            rsid: str\n",
      "        }, \n",
      "        SVTYPE: str, \n",
      "        SVSIZE: int32, \n",
      "        END: int32\n",
      "    }\n",
      "    'sv_id': str\n",
      "----------------------------------------\n",
      "Entry fields:\n",
      "    'manta': struct {\n",
      "        GT: call, \n",
      "        FT: str, \n",
      "        AD: array<int32>, \n",
      "        MD: int32, \n",
      "        DP: int32, \n",
      "        RA: array<int32>, \n",
      "        PP: int32, \n",
      "        GQ: int32, \n",
      "        PL: array<int32>\n",
      "    }\n",
      "    'melt': struct {\n",
      "        GT: call, \n",
      "        GL: array<float64>, \n",
      "        DP: int32, \n",
      "        AD: int32, \n",
      "        PL: array<int32>\n",
      "    }\n",
      "    'survindel2': struct {\n",
      "        GT: call, \n",
      "        FT: str, \n",
      "        AR: int32, \n",
      "        SR: int32, \n",
      "        RR: int32, \n",
      "        RS: int32, \n",
      "        RE: int32, \n",
      "        CN: int32, \n",
      "        IL: int32, \n",
      "        WR: int32, \n",
      "        DFL: int32, \n",
      "        DDL: int32, \n",
      "        DDR: int32, \n",
      "        DFR: int32, \n",
      "        CID: int32, \n",
      "        OW: int32, \n",
      "        DHFC: float64, \n",
      "        DHBFC: float64, \n",
      "        DHFFC: float64, \n",
      "        DHSP: int32, \n",
      "        FS: str\n",
      "    }\n",
      "    'GT': call\n",
      "    'DP': int32\n",
      "    'PL': array<int32>\n",
      "----------------------------------------\n",
      "Column key: ['s']\n",
      "Row key: ['locus', 'alleles']\n",
      "----------------------------------------\n",
      "2024-05-26 04:45:10 Hail: INFO: Reading table to impute column types\n",
      "2024-05-26 04:45:21 Hail: INFO: Loading 81 fields. Counts by type:\n",
      "  str: 80\n",
      "  int32: 1"
     ]
    }
   ],
   "source": [
    "### import metadata\n",
    "t = hl.import_table(release14_sample_metadata_uri, delimiter=\"\\t\", quote=\"\\\"\", impute=True)\n",
    "#t.describe()\n",
    "\n",
    "## annotate the hail mt with metadata\n",
    "t = t.rename({\"NPM_Research_ID\" : \"s\"})\n",
    "t = t.key_by(t.s)\n",
    "mt = mt.annotate_cols(metadata = t[mt.s])\n",
    "mt.describe()"
   ]
  },
  {
   "cell_type": "code",
   "execution_count": 7,
   "id": "423946da-8471-4280-89b0-945ecf32dced",
   "metadata": {},
   "outputs": [
    {
     "data": {
      "application/vnd.jupyter.widget-view+json": {
       "model_id": "",
       "version_major": 2,
       "version_minor": 0
      },
      "text/plain": [
       "FloatProgress(value=0.0, bar_style='info', description='Progress:', layout=Layout(height='25px', width='50%'),…"
      ]
     },
     "metadata": {},
     "output_type": "display_data"
    }
   ],
   "source": [
    "mt = hl.variant_qc(mt)"
   ]
  },
  {
   "cell_type": "code",
   "execution_count": 8,
   "id": "5f131274-45e5-4c56-94e3-d7fe5c7de684",
   "metadata": {},
   "outputs": [
    {
     "data": {
      "application/vnd.jupyter.widget-view+json": {
       "model_id": "",
       "version_major": 2,
       "version_minor": 0
      },
      "text/plain": [
       "FloatProgress(value=0.0, bar_style='info', description='Progress:', layout=Layout(height='25px', width='50%'),…"
      ]
     },
     "metadata": {},
     "output_type": "display_data"
    }
   ],
   "source": [
    "df = mt.select_rows(\n",
    "    svtype = mt.callers_info.SVTYPE,\n",
    "    ac = mt.variant_qc.AC[1]\n",
    ").rows().select('svtype', 'ac').to_pandas()"
   ]
  },
  {
   "cell_type": "code",
   "execution_count": 9,
   "id": "85803a50-6321-4a7e-9c32-da0207bd382a",
   "metadata": {},
   "outputs": [
    {
     "data": {
      "application/vnd.jupyter.widget-view+json": {
       "model_id": "",
       "version_major": 2,
       "version_minor": 0
      },
      "text/plain": [
       "FloatProgress(value=0.0, bar_style='info', description='Progress:', layout=Layout(height='25px', width='50%'),…"
      ]
     },
     "metadata": {},
     "output_type": "display_data"
    },
    {
     "name": "stdout",
     "output_type": "stream",
     "text": [
      "      svtype  ac\n",
      "0        DEL   1\n",
      "1        DUP  24\n",
      "2        DUP   1\n",
      "3        DUP  10\n",
      "4        INS   2\n",
      "...      ...  ..\n",
      "40878    DUP   2\n",
      "40879    DUP   1\n",
      "40880    DUP   2\n",
      "40881    DUP  58\n",
      "40882    DUP   2\n",
      "\n",
      "[40883 rows x 2 columns]"
     ]
    }
   ],
   "source": [
    "df2 = df.drop(['locus.contig', 'locus.position', 'alleles'], axis=1)\n",
    "df2"
   ]
  },
  {
   "cell_type": "code",
   "execution_count": 10,
   "id": "6b8bd4da-70d7-4664-81ae-10592766e44a",
   "metadata": {},
   "outputs": [
    {
     "name": "stdout",
     "output_type": "stream",
     "text": [
      "Requirement already satisfied: boto3 in /opt/conda/lib/python3.9/site-packages (1.17.106)\n",
      "Requirement already satisfied: jmespath<1.0.0,>=0.7.1 in /opt/conda/lib/python3.9/site-packages (from boto3) (0.10.0)\n",
      "Requirement already satisfied: s3transfer<0.5.0,>=0.4.0 in /opt/conda/lib/python3.9/site-packages (from boto3) (0.4.2)\n",
      "Requirement already satisfied: botocore<1.21.0,>=1.20.106 in /opt/conda/lib/python3.9/site-packages (from boto3) (1.20.106)\n",
      "Requirement already satisfied: urllib3<1.27,>=1.25.4 in /opt/conda/lib/python3.9/site-packages (from botocore<1.21.0,>=1.20.106->boto3) (1.26.6)\n",
      "Requirement already satisfied: python-dateutil<3.0.0,>=2.1 in /opt/conda/lib/python3.9/site-packages (from botocore<1.21.0,>=1.20.106->boto3) (2.8.2)\n",
      "Requirement already satisfied: six>=1.5 in /opt/conda/lib/python3.9/site-packages (from python-dateutil<3.0.0,>=2.1->botocore<1.21.0,>=1.20.106->boto3) (1.16.0)\n"
     ]
    }
   ],
   "source": [
    "%%sh\n",
    "pip install boto3"
   ]
  },
  {
   "cell_type": "code",
   "execution_count": 11,
   "id": "ac0c6794-0d22-443a-95fa-6c481450b3c7",
   "metadata": {},
   "outputs": [
    {
     "data": {
      "application/vnd.jupyter.widget-view+json": {
       "model_id": "",
       "version_major": 2,
       "version_minor": 0
      },
      "text/plain": [
       "FloatProgress(value=0.0, bar_style='info', description='Progress:', layout=Layout(height='25px', width='50%'),…"
      ]
     },
     "metadata": {},
     "output_type": "display_data"
    }
   ],
   "source": [
    "import boto3\n",
    "import io\n",
    "import matplotlib.pyplot as plt\n",
    "import seaborn as sns\n",
    "\n",
    "def save_fig_to_s3(fig, bucket, key):\n",
    "    img_data = io.BytesIO()\n",
    "    fig.savefig(img_data, format='svg', dpi=300)\n",
    "    img_data.seek(0)\n",
    "\n",
    "    s3 = boto3.client('s3')\n",
    "    response = s3.put_object(Bucket=bucket, Key=key, Body=img_data, ContentType='image/svg')\n",
    "    print(response)"
   ]
  },
  {
   "cell_type": "code",
   "execution_count": 12,
   "id": "45707517-729e-4d5c-bdcf-fb867420740a",
   "metadata": {},
   "outputs": [
    {
     "data": {
      "application/vnd.jupyter.widget-view+json": {
       "model_id": "",
       "version_major": 2,
       "version_minor": 0
      },
      "text/plain": [
       "FloatProgress(value=0.0, bar_style='info', description='Progress:', layout=Layout(height='25px', width='50%'),…"
      ]
     },
     "metadata": {},
     "output_type": "display_data"
    }
   ],
   "source": [
    "import pandas as pd\n",
    "import matplotlib.pyplot as plt\n",
    "\n",
    "\n",
    "df = (mt\n",
    "      #.filter_rows((hl.is_missing(mt.info.manta.PASS_GT2_filter)) | (mt.info.manta.PASS_GT2_filter==\"PASS\"), keep=True)\n",
    "      .select_rows(svtype = mt.callers_info.SVTYPE, \n",
    "                   ac = mt.variant_qc.AC[1])\n",
    "      .rows()\n",
    "      .select('svtype', 'ac')\n",
    "      .to_pandas()\n",
    "     )\n",
    "\n",
    "# Separate 'ac' values for DEL and DUP SV types\n",
    "ac_del = df[df['svtype'] == 'DEL']['ac']\n",
    "ac_dup = df[df['svtype'] == 'DUP']['ac']\n",
    "ac_ins = df[df['svtype'] == 'INS']['ac']\n",
    "\n",
    "# Calculate cumulative distributions for DEL and DUP SV types\n",
    "ac_del_counts = ac_del.value_counts().sort_index()\n",
    "ac_dup_counts = ac_dup.value_counts().sort_index()\n",
    "ac_ins_counts = ac_ins.value_counts().sort_index()\n",
    "\n",
    "cum_dist_del = ac_del_counts.cumsum() / ac_del_counts.sum()\n",
    "cum_dist_dup = ac_dup_counts.cumsum() / ac_dup_counts.sum()\n",
    "cum_dist_ins = ac_ins_counts.cumsum() / ac_ins_counts.sum()\n",
    "\n",
    "\n",
    "# Plot cumulative distribution of allele counts (ac)\n",
    "plt.figure(figsize=(8, 6))\n",
    "plt.plot(cum_dist_del.index, cum_dist_del.values, label='DEL', marker='', linestyle='-')\n",
    "plt.plot(cum_dist_dup.index, cum_dist_dup.values, label='DUP', marker='', linestyle='-')\n",
    "plt.plot(cum_dist_ins.index, cum_dist_ins.values, label='INS', marker='', linestyle='-')\n",
    "\n",
    "plt.title('Cumulative Distribution Plot of Alt Allele Count (AC)')\n",
    "plt.xlabel('Alt Allele Count (AC)')\n",
    "plt.ylabel('Fraction of samples')\n",
    "plt.xscale('log')  # Set x-axis to log scale (base 10)\n",
    "#plt.yscale('log')  # Set x-axis to log scale (base 10)\n",
    "\n",
    "#plt.xlim(left=1)  # Ensure x-axis starts from 1 (log scale)\n",
    "#plt.xlim(left=0)  # Ensure x-axis starts from 0\n",
    "#plt.ylim(bottom=0, top=1)  # Set y-axis limits between 0 and 1\n",
    "plt.legend()\n",
    "\n",
    "plt.grid(True)\n",
    "plt.show()"
   ]
  },
  {
   "cell_type": "code",
   "execution_count": 13,
   "id": "742bfc2b-3095-4a90-9e29-a0798182c4b9",
   "metadata": {},
   "outputs": [
    {
     "data": {
      "application/vnd.jupyter.widget-view+json": {
       "model_id": "",
       "version_major": 2,
       "version_minor": 0
      },
      "text/plain": [
       "FloatProgress(value=0.0, bar_style='info', description='Progress:', layout=Layout(height='25px', width='50%'),…"
      ]
     },
     "metadata": {},
     "output_type": "display_data"
    },
    {
     "data": {
      "image/png": "[encoded data removed]",
      "text/plain": [
       "<IPython.core.display.Image object>"
      ]
     },
     "metadata": {},
     "output_type": "display_data"
    }
   ],
   "source": [
    "%matplot plt"
   ]
  },
  {
   "cell_type": "code",
   "execution_count": 14,
   "id": "0def838e-d3b7-405d-84b3-cd8d265ba4a3",
   "metadata": {},
   "outputs": [
    {
     "data": {
      "application/vnd.jupyter.widget-view+json": {
       "model_id": "",
       "version_major": 2,
       "version_minor": 0
      },
      "text/plain": [
       "FloatProgress(value=0.0, bar_style='info', description='Progress:', layout=Layout(height='25px', width='50%'),…"
      ]
     },
     "metadata": {},
     "output_type": "display_data"
    },
    {
     "name": "stdout",
     "output_type": "stream",
     "text": [
      ]
    }
   ],
   "source": [
    "save_fig_to_s3(plt, \"Figures\", \"SupplementaryFig/15x_validation_acdistribution.svg\")"
   ]
  },
  {
   "cell_type": "code",
   "execution_count": 15,
   "id": "62612c6d-b5fe-4e3e-9638-e66a1757ff67",
   "metadata": {
    "collapsed": true,
    "jupyter": {
     "outputs_hidden": true
    },
    "tags": []
   },
   "outputs": [
    {
     "data": {
      "application/vnd.jupyter.widget-view+json": {
       "model_id": "",
       "version_major": 2,
       "version_minor": 0
      },
      "text/plain": [
       "FloatProgress(value=0.0, bar_style='info', description='Progress:', layout=Layout(height='25px', width='50%'),…"
      ]
     },
     "metadata": {},
     "output_type": "display_data"
    },
    {
     "name": "stdout",
     "output_type": "stream",
     "text": [
      "----------------------------------------\n",
      "Global fields:\n",
      "    None\n",
      "----------------------------------------\n",
      "Column fields:\n",
      "    's': str\n",
      "    'metadata': struct {\n",
      "        Multiplex_Pool_ID: str, \n",
      "        Supplier_ID: str, \n",
      "        GIS_Internal_Sample_ID: str, \n",
      "        Site_Supplying_Sample: str, \n",
      "        Year_Of_Birth: int32, \n",
      "        Supplied_Gender: str, \n",
      "        Self_Reported_Ethnicity: str, \n",
      "        Extraction_Kit: str, \n",
      "        Date_Of_DNA_Extraction: str, \n",
      "        Plate_Position: str, \n",
      "        Plate_Name: str, \n",
      "        Version_Of_Consent_Form_Signed: str, \n",
      "        Sequencing_Depth: str, \n",
      "        NPM_Research_ID_Created_By_Username: str, \n",
      "        NPM_Research_ID_Creation_Date: str, \n",
      "        Comments_Entered_When_NPM_Research_ID_Created: str, \n",
      "        Description_Entered_When_NPM_Research_ID_Created: str, \n",
      "        ELM_Project_ID: str, \n",
      "        ELM_Project_Title: str, \n",
      "        ELM_Project_PI: str, \n",
      "        Species_Of_Sample_Sequenced: str, \n",
      "        Tehcnique_For_Sequencing: str, \n",
      "        Tissue_Type_Sequenced: str, \n",
      "        Library_Found_In_Sequencing_Run_ID: str, \n",
      "        Library_Found_In_Passed_Sequencing_Run_ID: str, \n",
      "        Vendor_Sequencing_Centre: str, \n",
      "        DNA_Sample_Passed_QC: str, \n",
      "        Library_Prep_Kit: str, \n",
      "        Run_ID: str, \n",
      "        Instrument_ID: str, \n",
      "        Instrument_Serial_Number: str, \n",
      "        `Hiseq_XTM_SBS_Kit_300_Cycles_V2_(box_1of_2)_Lot`: str, \n",
      "        `Hiseq_XTM_SBS_Kit_300_Cycles_V2_(box_2_Of_2)_Lot`: str, \n",
      "        `Hiseq_XTM_PE_Cluster_Kit_Cbottm_V2_(box_1_Of_2)_Lot`: str, \n",
      "        `Hiseq_XTM_PE_Cluster_Kit_Cbottm_V2_(box_2_Of_2)_Lot`: str, \n",
      "        `Hiseq_XTM_Flow_Cell_V2.5_Lot`: str, \n",
      "        `Hiseq_XTM_Flow_Cell_V2.5_ID`: str, \n",
      "        `Sequence-based_Gender`: str, \n",
      "        CRAM_Files_Location: str, \n",
      "        Estimate_Of_Sequence_Coverage: str, \n",
      "        Contamination_Rate_Of_Chinese_Genome: str, \n",
      "        Contamination_Rate_Of_Indian_Genome: str, \n",
      "        Contamination_Rate_Of_Malaysian_Genome: str, \n",
      "        Average_Coverage_Depth: str, \n",
      "        FB_Variants: str, \n",
      "        `CRAM_Filesize_(mb)`: str, \n",
      "        Error_Rate: str, \n",
      "        `FB-VCF_Filesize_(mb)`: str, \n",
      "        `GVCF_Filesize_(mb)`: str, \n",
      "        Insert_Size_Average: str, \n",
      "        Insert_Size_Standard_Deviation: str, \n",
      "        Raw_Total_Sequences: str, \n",
      "        `Reads_Duplicated_(%)`: str, \n",
      "        `Reads_Properly_Paired_(%)`: str, \n",
      "        Cohort_JVCF_Data_Capacity: str, \n",
      "        FASTQ_File_Size: str, \n",
      "        JVCF_Size: str, \n",
      "        Data_Timestamp_For_FASTQ_File: str, \n",
      "        Sequencing_Analysis_Pipeline: str, \n",
      "        `Cohorts_Joint-called_Together`: str, \n",
      "        Library_Archived_At_NSCC: str, \n",
      "        GVCF_File_Available: str, \n",
      "        Sequencing_Complete: str, \n",
      "        Supplied_And_Computed_Gender_Match: str, \n",
      "        Supplied_And_Computed_Ethinicity_Match: str, \n",
      "        `SOP_Agreement_For_Coverage_<14/<28_For_15x/30x`: str, \n",
      "        Sample_Life_Cycle: str, \n",
      "        Current: str, \n",
      "        Source_Cohort: str, \n",
      "        Original_supplier_ID: str, \n",
      "        duplicate_info: str, \n",
      "        duplicate: str, \n",
      "        duplicate_pair: str, \n",
      "        `removal-requested-by-supplier`: str, \n",
      "        KGp3_IBS_top20: str, \n",
      "        SGVP_IBS_top20: str, \n",
      "        pop_structure: str, \n",
      "        genetic_ancestry: str, \n",
      "        sex_qc: str, \n",
      "        genetic_sex: str\n",
      "    }\n",
      "----------------------------------------\n",
      "Row fields:\n",
      "    'locus': locus<GRCh38>\n",
      "    'alleles': array<str>\n",
      "    '_old_sv_id': str\n",
      "    'qual': float64\n",
      "    'filters': set<str>\n",
      "    'callers_info': struct {\n",
      "        manta: struct {\n",
      "            ABHet: float64, \n",
      "            ABHom: float64, \n",
      "            ABHetMulti: array<float64>, \n",
      "            ABHomMulti: array<float64>, \n",
      "            AC: array<int32>, \n",
      "            AF: array<float64>, \n",
      "            AN: int32, \n",
      "            CR: int32, \n",
      "            END: int32, \n",
      "            HOMSEQ: array<str>, \n",
      "            INV3: bool, \n",
      "            INV5: bool, \n",
      "            LEFT_SVINSSEQ: array<str>, \n",
      "            LOGF: float64, \n",
      "            MaxAAS: array<int32>, \n",
      "            MaxAASR: array<float64>, \n",
      "            MaxAltPP: int32, \n",
      "            MQ: int32, \n",
      "            MQsquared: int32, \n",
      "            NCLUSTERS: int32, \n",
      "            NGT: array<int32>, \n",
      "            NHet: int32, \n",
      "            NHomRef: int32, \n",
      "            NHomAlt: int32, \n",
      "            NUM_MERGED_SVS: int32, \n",
      "            OLD_VARIANT_ID: str, \n",
      "            ORSTART: int32, \n",
      "            OREND: int32, \n",
      "            QD: float64, \n",
      "            PASS_AC: array<int32>, \n",
      "            PASS_AN: int32, \n",
      "            PASS_ratio: float64, \n",
      "            PS: int32, \n",
      "            RefLen: int32, \n",
      "            RELATED_SV_ID: int32, \n",
      "            RIGHT_SVINSSEQ: array<str>, \n",
      "            SB: float64, \n",
      "            SBAlt: float64, \n",
      "            SBF: array<int32>, \n",
      "            SBF1: array<int32>, \n",
      "            SBF2: array<int32>, \n",
      "            SBR: array<int32>, \n",
      "            SBR1: array<int32>, \n",
      "            SBR2: array<int32>, \n",
      "            SEQ: str, \n",
      "            SeqDepth: int32, \n",
      "            SV_ID: int32, \n",
      "            SVINSSEQ: array<str>, \n",
      "            SVLEN: int32, \n",
      "            SVMODEL: str, \n",
      "            SVSIZE: int32, \n",
      "            SVTYPE: str, \n",
      "            VarType: str, \n",
      "            PASS_GT2_filter: str, \n",
      "            alleles: array<str>, \n",
      "            rsid: str\n",
      "        }, \n",
      "        melt: struct {\n",
      "            ASSESS: int32, \n",
      "            TSD: str, \n",
      "            INTERNAL: array<str>, \n",
      "            SVTYPE: str, \n",
      "            SVLEN: int32, \n",
      "            MEINFO: array<str>, \n",
      "            DIFF: array<str>, \n",
      "            LP: int32, \n",
      "            RP: int32, \n",
      "            RA: float64, \n",
      "            PRIOR: str, \n",
      "            SR: int32, \n",
      "            alleles: array<str>, \n",
      "            rsid: str\n",
      "        }, \n",
      "        survindel2: struct {\n",
      "            SVTYPE: str, \n",
      "            END: int32, \n",
      "            N_SAMPLES: int32, \n",
      "            N_SVS: int32, \n",
      "            GCF: float64, \n",
      "            SVSIZE: int32, \n",
      "            alleles: array<str>, \n",
      "            rsid: str\n",
      "        }, \n",
      "        SVTYPE: str, \n",
      "        SVSIZE: int32, \n",
      "        END: int32\n",
      "    }\n",
      "    'sv_id': str\n",
      "    'variant_qc': struct {\n",
      "        dp_stats: struct {\n",
      "            mean: float64, \n",
      "            stdev: float64, \n",
      "            min: float64, \n",
      "            max: float64\n",
      "        }, \n",
      "        AC: array<int32>, \n",
      "        AF: array<float64>, \n",
      "        AN: int32, \n",
      "        homozygote_count: array<int32>, \n",
      "        call_rate: float64, \n",
      "        n_called: int64, \n",
      "        n_not_called: int64, \n",
      "        n_filtered: int64, \n",
      "        n_het: int64, \n",
      "        n_non_ref: int64, \n",
      "        het_freq_hwe: float64, \n",
      "        p_value_hwe: float64, \n",
      "        p_value_excess_het: float64\n",
      "    }\n",
      "    'AF_class': str\n",
      "----------------------------------------\n",
      "Entry fields:\n",
      "    'manta': struct {\n",
      "        GT: call, \n",
      "        FT: str, \n",
      "        AD: array<int32>, \n",
      "        MD: int32, \n",
      "        DP: int32, \n",
      "        RA: array<int32>, \n",
      "        PP: int32, \n",
      "        GQ: int32, \n",
      "        PL: array<int32>\n",
      "    }\n",
      "    'melt': struct {\n",
      "        GT: call, \n",
      "        GL: array<float64>, \n",
      "        DP: int32, \n",
      "        AD: int32, \n",
      "        PL: array<int32>\n",
      "    }\n",
      "    'survindel2': struct {\n",
      "        GT: call, \n",
      "        FT: str, \n",
      "        AR: int32, \n",
      "        SR: int32, \n",
      "        RR: int32, \n",
      "        RS: int32, \n",
      "        RE: int32, \n",
      "        CN: int32, \n",
      "        IL: int32, \n",
      "        WR: int32, \n",
      "        DFL: int32, \n",
      "        DDL: int32, \n",
      "        DDR: int32, \n",
      "        DFR: int32, \n",
      "        CID: int32, \n",
      "        OW: int32, \n",
      "        DHFC: float64, \n",
      "        DHBFC: float64, \n",
      "        DHFFC: float64, \n",
      "        DHSP: int32, \n",
      "        FS: str\n",
      "    }\n",
      "    'GT': call\n",
      "    'DP': int32\n",
      "    'PL': array<int32>\n",
      "----------------------------------------\n",
      "Column key: ['s']\n",
      "Row key: ['locus', 'alleles']\n",
      "----------------------------------------"
     ]
    }
   ],
   "source": [
    "mt2 = mt.annotate_rows(\n",
    "    AF_class = hl.case()\n",
    "            .when((mt.variant_qc.AF[1] < 0.001),  \"Ultra-rare\")\n",
    "            .when((mt.variant_qc.AF[1] >= 0.001) & (mt.variant_qc.AF[1] < 0.01), \"Rare\")\n",
    "            .when((mt.variant_qc.AF[1] >= 0.01), \"Common\")\n",
    "            .default(\"NA\") \n",
    ")\n",
    "mt2.describe()"
   ]
  },
  {
   "cell_type": "code",
   "execution_count": 16,
   "id": "c92a6c98-885a-4079-b0db-fbe0c5f8b1b7",
   "metadata": {},
   "outputs": [
    {
     "data": {
      "application/vnd.jupyter.widget-view+json": {
       "model_id": "",
       "version_major": 2,
       "version_minor": 0
      },
      "text/plain": [
       "FloatProgress(value=0.0, bar_style='info', description='Progress:', layout=Layout(height='25px', width='50%'),…"
      ]
     },
     "metadata": {},
     "output_type": "display_data"
    },
    {
     "name": "stdout",
     "output_type": "stream",
     "text": [
      "      locus.contig  locus.position  ... svtype     afclass\n",
      "0             chr1           10546  ...    DEL  Ultra-rare\n",
      "1             chr1           54720  ...    DUP      Common\n",
      "2             chr1           66534  ...    DUP  Ultra-rare\n",
      "3             chr1           83963  ...    DUP        Rare\n",
      "4             chr1           91449  ...    INS  Ultra-rare\n",
      "...            ...             ...  ...    ...         ...\n",
      "40878        chr22        50643837  ...    DUP      Common\n",
      "40879        chr22        50643858  ...    DUP        Rare\n",
      "40880        chr22        50643941  ...    DUP        Rare\n",
      "40881        chr22        50644070  ...    DUP      Common\n",
      "40882        chr22        50644090  ...    DUP        Rare\n",
      "\n",
      "[40883 rows x 5 columns]"
     ]
    }
   ],
   "source": [
    "df = mt2.select_rows(\n",
    "    svtype = mt2.callers_info.SVTYPE,\n",
    "    afclass = mt2.AF_class,\n",
    ").rows().select('svtype', 'afclass').to_pandas()\n",
    "df"
   ]
  },
  {
   "cell_type": "code",
   "execution_count": 17,
   "id": "bcafc193-e74c-4f87-adde-0ab325e26993",
   "metadata": {},
   "outputs": [
    {
     "data": {
      "application/vnd.jupyter.widget-view+json": {
       "model_id": "",
       "version_major": 2,
       "version_minor": 0
      },
      "text/plain": [
       "FloatProgress(value=0.0, bar_style='info', description='Progress:', layout=Layout(height='25px', width='50%'),…"
      ]
     },
     "metadata": {},
     "output_type": "display_data"
    },
    {
     "name": "stdout",
     "output_type": "stream",
     "text": [
      "      svtype     afclass\n",
      "0        DEL  Ultra-rare\n",
      "1        DUP      Common\n",
      "2        DUP  Ultra-rare\n",
      "3        DUP        Rare\n",
      "4        INS  Ultra-rare\n",
      "...      ...         ...\n",
      "40878    DUP      Common\n",
      "40879    DUP        Rare\n",
      "40880    DUP        Rare\n",
      "40881    DUP      Common\n",
      "40882    DUP        Rare\n",
      "\n",
      "[40883 rows x 2 columns]"
     ]
    }
   ],
   "source": [
    "df2 = df.drop(['locus.contig', 'locus.position', 'alleles'], axis=1)\n",
    "df2"
   ]
  },
  {
   "cell_type": "code",
   "execution_count": 18,
   "id": "209369c2-fcdf-47ae-af3f-e1f6d551eebc",
   "metadata": {},
   "outputs": [
    {
     "data": {
      "application/vnd.jupyter.widget-view+json": {
       "model_id": "",
       "version_major": 2,
       "version_minor": 0
      },
      "text/plain": [
       "FloatProgress(value=0.0, bar_style='info', description='Progress:', layout=Layout(height='25px', width='50%'),…"
      ]
     },
     "metadata": {},
     "output_type": "display_data"
    },
    {
     "name": "stdout",
     "output_type": "stream",
     "text": [
      "  svtype     afclass  counts\n",
      "0    DEL      Common    4161\n",
      "1    DEL        Rare    1132\n",
      "2    DEL  Ultra-rare    1482\n",
      "3    DUP      Common    6652\n",
      "4    DUP        Rare    6235\n",
      "5    DUP  Ultra-rare    4149\n",
      "6    INS      Common    6670\n",
      "7    INS        Rare    3556\n",
      "8    INS  Ultra-rare    6846"
     ]
    }
   ],
   "source": [
    "counts_df2= df2.groupby(['svtype', 'afclass']).size().reset_index(name='counts')\n",
    "counts_df2"
   ]
  },
  {
   "cell_type": "code",
   "execution_count": 19,
   "id": "d02e58a3-aa29-416e-a6d3-0798da7d7795",
   "metadata": {},
   "outputs": [
    {
     "data": {
      "application/vnd.jupyter.widget-view+json": {
       "model_id": "",
       "version_major": 2,
       "version_minor": 0
      },
      "text/plain": [
       "FloatProgress(value=0.0, bar_style='info', description='Progress:', layout=Layout(height='25px', width='50%'),…"
      ]
     },
     "metadata": {},
     "output_type": "display_data"
    },
    {
     "name": "stdout",
     "output_type": "stream",
     "text": [
      "<AxesSubplot:xlabel='svtype', ylabel='counts'>"
     ]
    }
   ],
   "source": [
    "import matplotlib.pyplot as plt\n",
    "import seaborn as sns\n",
    "\n",
    "plt.clf()\n",
    "plt.cla()\n",
    "fig = plt.figure()\n",
    "\n",
    "palette=[  '#980043' , '#df65b0' , '#d4b9da']\n",
    "#set seaborn plotting aesthetics\n",
    "\n",
    "sns.set(rc={'figure.figsize':(15,15)})\n",
    "sns.set(style='whitegrid')\n",
    "\n",
    "#create grouped bar chart\n",
    "sns.barplot(x='svtype', y='counts', hue='afclass', data=counts_df2, palette = palette) "
   ]
  },
  {
   "cell_type": "code",
   "execution_count": 20,
   "id": "f867da0b-7bd2-404b-be0f-e7dd03fc6300",
   "metadata": {},
   "outputs": [
    {
     "data": {
      "application/vnd.jupyter.widget-view+json": {
       "model_id": "",
       "version_major": 2,
       "version_minor": 0
      },
      "text/plain": [
       "FloatProgress(value=0.0, bar_style='info', description='Progress:', layout=Layout(height='25px', width='50%'),…"
      ]
     },
     "metadata": {},
     "output_type": "display_data"
    },
    {
     "data": {
      "image/png": "[encoded data removed]",
      "text/plain": [
       "<IPython.core.display.Image object>"
      ]
     },
     "metadata": {},
     "output_type": "display_data"
    }
   ],
   "source": [
    "%matplot plt"
   ]
  },
  {
   "cell_type": "code",
   "execution_count": 21,
   "id": "04d944bd-31b1-4d88-894d-8885a9dac170",
   "metadata": {},
   "outputs": [
    {
     "data": {
      "application/vnd.jupyter.widget-view+json": {
       "model_id": "",
       "version_major": 2,
       "version_minor": 0
      },
      "text/plain": [
       "FloatProgress(value=0.0, bar_style='info', description='Progress:', layout=Layout(height='25px', width='50%'),…"
      ]
     },
     "metadata": {},
     "output_type": "display_data"
    },
    {
     "name": "stdout",
     "output_type": "stream",
     "text": [
     
     ]
    }
   ],
   "source": [
    "save_fig_to_s3(plt, \"Figures\", \"SupplementaryFig/15xvalidation_AFcounts_byAFclass_whitegrid.svg\")"
   ]
  },
  {
   "cell_type": "code",
   "execution_count": null,
   "id": "ebf86973-32f3-4500-8457-67e668994300",
   "metadata": {},
   "outputs": [],
   "source": []
  }
 ],
 "metadata": {
  "kernelspec": {
   "display_name": "PySpark",
   "language": "python",
   "name": "pysparkkernel"
  },
  "language_info": {
   "codemirror_mode": {
    "name": "python",
    "version": 3
   },
   "file_extension": ".py",
   "mimetype": "text/x-python",
   "name": "pyspark",
   "pygments_lexer": "python3"
  }
 },
 "nbformat": 4,
 "nbformat_minor": 5
}

{
 "cells": [
  {
   "cell_type": "markdown",
   "id": "62e255b8-8cfa-4d79-982b-05d10f6c8a92",
   "metadata": {},
   "source": [
    "### This notebook focus on generating a manta-SVimmer-Graphtyper matrix table release from Manta-SVimmer-GT2 VCFrelease 1.4 Validataion Manta dataset\n",
    "- contains \"AGGREGATE\", \"BERAKPOINT\", ... SVMODEL entries. We only carry fwd \"INFO/SVMODEL=AGGREGATE\" entries\n",
    "- contains \"PASS\", \"{fail}\" FILTER entries We only carry fwd \"FILTER=PASS\" entries\n",
    "- contains INS, DEL and DUP SVTYPE entries. We only carry fwd \"SVTYOE={INS, DEL}\" entries\n",
    "- contains samples that arew not in the \"discovery\" set\n",
    "- contains monomorphic entries. We only carry fwd entries wit at least one hom-ref and drop monomorphic entries\n",
    "- contains SV with lenght < 50bp & > 10,000,000bp (10Mb). We only carry fwd entries with INFO/SVSIZE > 50bp or INFO/SVSIZE < 10,000,000bp\n",
    "- contains SV outside of our predefied whieloist region (ie not low-cpmplexity, telemore, centromere, ...) "
   ]
  },
  {
   "cell_type": "code",
   "execution_count": 1,
   "id": "b2725857-e9ba-4540-94ec-bf23602da750",
   "metadata": {},
   "outputs": [
    {
     "data": {
      "text/html": [
       "Current session configs: <tt>{'driverMemory': '6000M', 'proxyUser': 'jovyan', 'kind': 'pyspark'}</tt><br>"
      ],
      "text/plain": [
       "<IPython.core.display.HTML object>"
      ]
     },
     "metadata": {},
     "output_type": "display_data"
    },
    {
     "data": {
      "text/html": [
  ],
      "text/plain": [
       "<IPython.core.display.HTML object>"
      ]
     },
     "metadata": {},
     "output_type": "display_data"
    }
   ],
   "source": [
    "%%configure -f\n",
    "{\"driverMemory\": \"6000M\"}"
   ]
  },
  {
   "cell_type": "code",
   "execution_count": 2,
   "id": "d5590c14-7bca-48fb-975c-d32b84c6da5e",
   "metadata": {},
   "outputs": [
    {
     "name": "stdout",
     "output_type": "stream",
     "text": [
      "Starting Spark application\n"
     ]
    },
    {
     "data": {
      "text/html": [
   ],
      "text/plain": [
       "<IPython.core.display.HTML object>"
      ]
     },
     "metadata": {},
     "output_type": "display_data"
    },
    {
     "data": {
      "application/vnd.jupyter.widget-view+json": {
       "model_id": "",
       "version_major": 2,
       "version_minor": 0
      },
      "text/plain": [
       "FloatProgress(value=0.0, bar_style='info', description='Progress:', layout=Layout(height='25px', width='50%'),…"
      ]
     },
     "metadata": {},
     "output_type": "display_data"
    },
    {
     "name": "stdout",
     "output_type": "stream",
     "text": [
      "SparkSession available as 'spark'.\n"
     ]
    },
    {
     "data": {
      "application/vnd.jupyter.widget-view+json": {
       "model_id": "",
       "version_major": 2,
       "version_minor": 0
      },
      "text/plain": [
       "FloatProgress(value=0.0, bar_style='info', description='Progress:', layout=Layout(height='25px', width='50%'),…"
      ]
     },
     "metadata": {},
     "output_type": "display_data"
    },
    {
     "name": "stdout",
     "output_type": "stream",
     "text": [
      "pip-installed Hail requires additional configuration options in Spark referring\n",
      "  to the path to the Hail Python module directory HAIL_DIR,\n",
      "  e.g. /path/to/python/site-packages/hail:\n",
      "    spark.jars=HAIL_DIR/hail-all-spark.jar\n",
      "    spark.driver.extraClassPath=HAIL_DIR/hail-all-spark.jar\n",
      "    spark.executor.extraClassPath=./hail-all-spark.jarRunning on Apache Spark version 3.1.2-amzn-0\n",
      "SparkUI available at\n",
      "Welcome to\n",
      "     __  __     <>__\n",
      "    / /_/ /__  __/ /\n",
      "   / __  / _ `/ / /\n",
      "  /_/ /_/\\_,_/_/_/   version 0.2.80-4ccfae1ff293\n",
      "LOGGING: writing to"
     ]
    }
   ],
   "source": [
    "import hail as hl\n",
    "hl.init(sc)"
   ]
  },
  {
   "cell_type": "code",
   "execution_count": 3,
   "id": "1e24dcc3-142c-4ac7-8dda-e3a257f7d2d2",
   "metadata": {},
   "outputs": [
    {
     "data": {
      "application/vnd.jupyter.widget-view+json": {
       "model_id": "",
       "version_major": 2,
       "version_minor": 0
      },
      "text/plain": [
       "FloatProgress(value=0.0, bar_style='info', description='Progress:', layout=Layout(height='25px', width='50%'),…"
      ]
     },
     "metadata": {},
     "output_type": "display_data"
    },
    {
     "name": "stdout",
     "output_type": "stream",
     "text": [
      "2024-05-06 05:42:40 Hail: WARN: cols(): Resulting column table is sorted by 'col_key'.\n",
      "    To preserve matrix table column order, first unkey columns with 'key_cols_by()'\n",
      "2024-05-06 05:42:44 Hail: INFO: Coerced sorted dataset\n",
      "2024-05-06 05:42:46 Hail: INFO: merging 16 files totalling 11.4K...\n",
      "2024-05-06 05:42:47 Hail: INFO: while writing:\n",
      "    SG10K-SV-Release-1.3_15xValidation.samples.txt\n",
      "  merge time: 372.385ms"
     ]
    }
   ],
   "source": [
    "## list of validatoin 15x samples  ... run once\n",
    "\n",
    "## load release 1.3 to extract the samples\n",
    "release_13_mt_uri = \"SG10K-SV-Release-1.3-Validation15x_final.mt\"\n",
    "release_13_sample_txt_uri = \"SG10K-SV-Release-1.3_15xValidation.samples.txt\"\n",
    "\n",
    "mt = hl.read_matrix_table(release_13_mt_uri)\n",
    "#mt.cols().s.describe()\n",
    "#mt.cols().s.show()\n",
    "mt.cols().s.export(release_13_sample_txt_uri)"
   ]
  },
  {
   "cell_type": "code",
   "execution_count": 4,
   "id": "ce9dc304-7f06-4b35-a5b6-6e4885ed1dcb",
   "metadata": {},
   "outputs": [
    {
     "data": {
      "application/vnd.jupyter.widget-view+json": {
       "model_id": "",
       "version_major": 2,
       "version_minor": 0
      },
      "text/plain": [
       "FloatProgress(value=0.0, bar_style='info', description='Progress:', layout=Layout(height='25px', width='50%'),…"
      ]
     },
     "metadata": {},
     "output_type": "display_data"
    }
   ],
   "source": [
    "## list all resources  used in this notebook \n",
    "\n",
    "release14_manta_svimmer_gt2_vcf_uri = \"SG10K_SV_MantaSVimmerGraphtyper.n1523.15xvalidation.mergevcf.vcf.gz\"\n",
    "release14_sample_txt_uri = \"SG10K-SV-Release-1.3_15xValidation.samples.txt\"\n",
    "release14_sample_metadata_uri = \"2021_06_18_supplier_metadata.n10714_replacespace.txt\"\n",
    "whiltelist_region_bed_uri = \"resources_broad_hg38_v0_wgs_calling_regions.hg38.merged.autosome_only-minus_excl_regions.bed\"\n",
    "\n"
   ]
  },
  {
   "cell_type": "code",
   "execution_count": 5,
   "id": "a15ec258-0a9f-4088-afa7-2ec48423d854",
   "metadata": {},
   "outputs": [
    {
     "data": {
      "application/vnd.jupyter.widget-view+json": {
       "model_id": "",
       "version_major": 2,
       "version_minor": 0
      },
      "text/plain": [
       "FloatProgress(value=0.0, bar_style='info', description='Progress:', layout=Layout(height='25px', width='50%'),…"
      ]
     },
     "metadata": {},
     "output_type": "display_data"
    },
    {
     "name": "stdout",
     "output_type": "stream",
     "text": [
      "----------------------------------------\n",
      "Global fields:\n",
      "    None\n",
      "----------------------------------------\n",
      "Column fields:\n",
      "    's': str\n",
      "----------------------------------------\n",
      "Row fields:\n",
      "    'locus': locus<GRCh38>\n",
      "    'alleles': array<str>\n",
      "    'rsid': str\n",
      "    'qual': float64\n",
      "    'filters': set<str>\n",
      "    'info': struct {\n",
      "        ABHet: float64, \n",
      "        ABHom: float64, \n",
      "        ABHetMulti: array<float64>, \n",
      "        ABHomMulti: array<float64>, \n",
      "        AC: array<int32>, \n",
      "        AF: array<float64>, \n",
      "        AN: int32, \n",
      "        CR: int32, \n",
      "        END: int32, \n",
      "        HOMSEQ: array<str>, \n",
      "        INV3: bool, \n",
      "        INV5: bool, \n",
      "        LEFT_SVINSSEQ: array<str>, \n",
      "        LOGF: float64, \n",
      "        MaxAAS: array<int32>, \n",
      "        MaxAASR: array<float64>, \n",
      "        MaxAltPP: int32, \n",
      "        MQ: int32, \n",
      "        MQsquared: int32, \n",
      "        NCLUSTERS: int32, \n",
      "        NGT: array<int32>, \n",
      "        NHet: int32, \n",
      "        NHomRef: int32, \n",
      "        NHomAlt: int32, \n",
      "        NUM_MERGED_SVS: int32, \n",
      "        OLD_VARIANT_ID: str, \n",
      "        ORSTART: int32, \n",
      "        OREND: int32, \n",
      "        QD: float64, \n",
      "        PASS_AC: array<int32>, \n",
      "        PASS_AN: int32, \n",
      "        PASS_ratio: float64, \n",
      "        PS: int32, \n",
      "        RefLen: int32, \n",
      "        RELATED_SV_ID: int32, \n",
      "        RIGHT_SVINSSEQ: array<str>, \n",
      "        SB: float64, \n",
      "        SBAlt: float64, \n",
      "        SBF: array<int32>, \n",
      "        SBF1: array<int32>, \n",
      "        SBF2: array<int32>, \n",
      "        SBR: array<int32>, \n",
      "        SBR1: array<int32>, \n",
      "        SBR2: array<int32>, \n",
      "        SEQ: str, \n",
      "        SeqDepth: int32, \n",
      "        SV_ID: int32, \n",
      "        SVINSSEQ: array<str>, \n",
      "        SVLEN: int32, \n",
      "        SVMODEL: str, \n",
      "        SVSIZE: int32, \n",
      "        SVTYPE: str, \n",
      "        VarType: str\n",
      "    }\n",
      "----------------------------------------\n",
      "Entry fields:\n",
      "    'GT': call\n",
      "    'FT': str\n",
      "    'AD': array<int32>\n",
      "    'MD': int32\n",
      "    'DP': int32\n",
      "    'RA': array<int32>\n",
      "    'PP': int32\n",
      "    'GQ': int32\n",
      "    'PL': array<int32>\n",
      "----------------------------------------\n",
      "Column key: ['s']\n",
      "Row key: ['locus', 'alleles']\n",
      "----------------------------------------\n",
      "Samples: 1523; Variants: 423803; Entries: 645451969\n",
      "2024-05-06 06:01:50 Hail: INFO: Coerced sorted dataset\n",
      "2024-05-06 06:02:03 Hail: WARN: entries(): Resulting entries table is sorted by '(row_key, col_key)'.\n",
      "    To preserve row-major matrix table order, first unkey columns with 'key_cols_by()'\n",
      "2024-05-06 06:02:16 Hail: INFO: Coerced sorted dataset"
     ]
    }
   ],
   "source": [
    "## load the entire release14_manta_svimmer_gt2_vcf\n",
    "\n",
    "mt = hl.import_vcf(release14_manta_svimmer_gt2_vcf_uri,\n",
    "                   reference_genome=\"GRCh38\",\n",
    "                   force_bgz=True)\n",
    "\n",
    "mt.describe()\n",
    "print(\"Samples: %d; Variants: %d; Entries: %d\" % (mt.count_cols(), mt.count_rows(), mt.entries().count()))"
   ]
  },
  {
   "cell_type": "code",
   "execution_count": 6,
   "id": "9799e5f9-96be-4261-a824-19350cb7e1a2",
   "metadata": {},
   "outputs": [
    {
     "data": {
      "application/vnd.jupyter.widget-view+json": {
       "model_id": "",
       "version_major": 2,
       "version_minor": 0
      },
      "text/plain": [
       "FloatProgress(value=0.0, bar_style='info', description='Progress:', layout=Layout(height='25px', width='50%'),…"
      ]
     },
     "metadata": {},
     "output_type": "display_data"
    },
    {
     "name": "stdout",
     "output_type": "stream",
     "text": [
      "1523\n",
      "(423803, 1523)\n",
      "(423803, 1523)\n",
      "2024-05-06 06:28:57 Hail: INFO: Reading table without type imputation\n",
      "  Loading field 's' as type str (not specified)\n",
      "2024-05-06 06:29:29 Hail: INFO: Coerced sorted dataset\n",
      "2024-05-06 06:29:55 Hail: INFO: Coerced sorted dataset"
     ]
    }
   ],
   "source": [
    "##\n",
    "## filter out relevant samples\n",
    "##\n",
    "\n",
    "sample_ht = hl.import_table(release14_sample_txt_uri).key_by('s')\n",
    "\n",
    "print(sample_ht.count()) ## \n",
    "print(mt.count()) ## \n",
    "\n",
    "mt = mt.filter_cols(hl.is_defined(sample_ht[mt.col_key]))\n",
    "\n",
    "print(mt.count()) ## "
   ]
  },
  {
   "cell_type": "code",
   "execution_count": 7,
   "id": "89d7c2e2-9a37-4f6c-8106-cb65432c4ae7",
   "metadata": {},
   "outputs": [
    {
     "data": {
      "application/vnd.jupyter.widget-view+json": {
       "model_id": "",
       "version_major": 2,
       "version_minor": 0
      },
      "text/plain": [
       "FloatProgress(value=0.0, bar_style='info', description='Progress:', layout=Layout(height='25px', width='50%'),…"
      ]
     },
     "metadata": {},
     "output_type": "display_data"
    },
    {
     "name": "stdout",
     "output_type": "stream",
     "text": [
      "(22446, 1523)\n",
      "2024-05-06 06:31:37 Hail: INFO: Reading table without type imputation\n",
      "  Loading field 'f0' as type str (user-supplied)\n",
      "  Loading field 'f1' as type int32 (user-supplied)\n",
      "  Loading field 'f2' as type int32 (user-supplied)\n",
      "2024-05-06 06:32:04 Hail: INFO: Coerced sorted dataset\n",
      "2024-05-06 06:32:05 Hail: INFO: Coerced sorted dataset"
     ]
    }
   ],
   "source": [
    "##\n",
    "## filter relevant variant\n",
    "##\n",
    "\n",
    "## 1- contains \"AGGREGATE\", \"BERAKPOINT\", ... SVMODEL entries. We only carry fwd \"INFO/SVMODEL=AGGREGATE\" entries \n",
    "## 2- contains \"PASS\", \"{fail}\" FILTER entries We only carry fwd \"FILTER=PASS\" entries \n",
    "## 3- contains INS, DEL and DUP SVTYPE entries. We only carry fwd \"SVTYOE={INS, DEL}\" entries \n",
    "## 5- contains monomorphic entries. We only carry fwd entries wit at least one hom-ref and drop monomorphic entries\n",
    "## 6- contains SV with lenght < 50bp & > 10,000,000bp (10Mb).  We only carry fwd entries with INFO/SVSIZE > 50bp or INFO/SVSIZE < 10,000,000bp \n",
    "## 7- contains SV outside of our predefind whitlist region (ie not low-cpmplexity, telemore, centromere, ...) \n",
    "# print(mt.count()) \n",
    "\n",
    "##  because we want to only carry fwd entries wit at least one hom-ref and drop monomorphic entries\n",
    "##   and there is a need to put all genotypes that fail FORMAT/FT to fORMAT/GT = `./.`\n",
    "##   we first update GT from which vairant where least one hom-ref and not monomorphic entries\n",
    "mt = mt.annotate_entries(\n",
    "    GT = hl.case()\n",
    "            .when((mt.FT == \"PASS\"), mt.GT)\n",
    "            .default( hl.null(hl.tcall) ))\n",
    "\n",
    "## load the predefine whitlist region (ie not low-cpmplexity, telemore, centromere, ...) \n",
    "whitelist_region= hl.import_bed(whiltelist_region_bed_uri, reference_genome='GRCh38')\n",
    "\n",
    "## filter relevant variant\n",
    "mt = mt.filter_rows(\n",
    "    True\n",
    "    & (mt.info.SVMODEL == \"AGGREGATED\")                         ## We only carry fwd \"INFO/SVMODEL=AGGREGATE\" entries \n",
    "    & (mt.filters.length() == 0)                                ## We only carry fwd \"FILTER=PASS\" entries \n",
    "    & ((mt.info.SVTYPE == \"INS\") | (mt.info.SVTYPE == \"DEL\"))   ## We only carry fwd \"SVTYOE={INS, DEL}\" entries \n",
    "    & (hl.agg.any(mt.GT.is_hom_ref()))                          ## We only carry fwd entries with at least one hom-ref\n",
    "    & (hl.if_else(hl.agg.any(hl.is_missing(mt.GT)),             ## We only carry fwd polumorphic entries \n",
    "                  hl.agg.counter(mt.GT).size() > 2,             ##       that is GT contain NA + at least 2 of 0/0, 0/1, 1/1  \n",
    "                  hl.agg.counter(mt.GT).size() > 1 ))           ##       that is GT contain at least 2 of 0/0, 0/1, 1/1  \n",
    "    & ((~hl.is_defined(mt.info.SVSIZE))                         ## We only carry fwd entries with INFO/SVSIZE undefined \n",
    "       | (mt.info.SVSIZE >= 50)                                 ##                            or  INFO/SVSIZE > 50bp\n",
    "       | (mt.info.SVSIZE <= 10000000))                          ##                            or INFO/SVSIZE < 10,000,000bp \n",
    "    & (hl.is_defined(whitelist_region[mt.locus]))               ## We only carry fwd  whitelist region contained SV \n",
    "    , keep=True)\n",
    "\n",
    "print(mt.count()) \n",
    "\n"
   ]
  },
  {
   "cell_type": "code",
   "execution_count": 8,
   "id": "612d45e9-9864-48d2-b108-f1494608b7f4",
   "metadata": {},
   "outputs": [
    {
     "data": {
      "application/vnd.jupyter.widget-view+json": {
       "model_id": "",
       "version_major": 2,
       "version_minor": 0
      },
      "text/plain": [
       "FloatProgress(value=0.0, bar_style='info', description='Progress:', layout=Layout(height='25px', width='50%'),…"
      ]
     },
     "metadata": {},
     "output_type": "display_data"
    },
    {
     "name": "stdout",
     "output_type": "stream",
     "text": [
      "frozendict({'FAIL': 11155, 'PASS': 11291})\n",
      "+--------+---------------------------+---------------------------+\n",
      "| SVTYPE | 'WHH2410'.sv_stat         | 'WHH2381'.sv_stat         |\n",
      "+--------+---------------------------+---------------------------+\n",
      "| str    | dict<str, int64>          | dict<str, int64>          |\n",
      "+--------+---------------------------+---------------------------+\n",
      "| \"DEL\"  | {\"FAIL\":7221,\"PASS\":6775} | {\"FAIL\":7221,\"PASS\":6775} |\n",
      "| \"INS\"  | {\"FAIL\":3934,\"PASS\":4516} | {\"FAIL\":3934,\"PASS\":4516} |\n",
      "+--------+---------------------------+---------------------------+\n",
      "showing the first 2 of 1523 columns\n",
      "2024-05-06 06:36:33 Hail: INFO: Coerced sorted dataset\n",
      "2024-05-06 06:36:34 Hail: INFO: Coerced sorted dataset\n",
      "2024-05-06 06:37:41 Hail: INFO: Coerced sorted dataset\n",
      "2024-05-06 06:37:54 Hail: INFO: Coerced sorted dataset\n",
      "2024-05-06 06:38:07 Hail: INFO: Coerced sorted dataset\n",
      "2024-05-06 06:38:07 Hail: INFO: Coerced sorted dataset\n",
      "2024-05-06 06:39:00 Hail: INFO: Coerced sorted dataset"
     ]
    }
   ],
   "source": [
    "## Enventual additional GT2 recommended filtering (optional)\n",
    "mt = mt.annotate_rows( info = mt.info.annotate(\n",
    "    PASS_GT2_filter = hl.case()\n",
    "            .when((  (mt.info.SVTYPE == \"DEL\")\n",
    "                   & ( (mt.info.ABHet > 0.30) | (mt.info.ABHet < 0) ) \n",
    "                   & ( (mt.info.AC[0] / mt.info.NUM_MERGED_SVS) < 25 ) \n",
    "                   & (mt.info.PASS_AC[0] > 0)\n",
    "                   & (mt.info.PASS_ratio > 0.1)\n",
    "                   & (mt.info.QD > 12) \n",
    "                  ), \"PASS\")\n",
    "            .when((  (mt.info.SVTYPE == \"INS\")\n",
    "                   & ( (mt.info.ABHet > 0.25) | (mt.info.ABHet < 0) ) \n",
    "                   & ( (mt.info.AC[0] / mt.info.NUM_MERGED_SVS) < 25 ) \n",
    "                   & (mt.info.PASS_AC[0] > 0)\n",
    "                   & (mt.info.PASS_ratio > 0.1) \n",
    "                   & (mt.info.MaxAAS[0] > 4) \n",
    "                  ), \"PASS\")\n",
    "            .default(\"FAIL\")            \n",
    "    )\n",
    ")\n",
    "\n",
    "\n",
    "svpass_stats = mt.aggregate_rows(hl.struct( sv_stat = hl.agg.counter(mt.info.PASS_GT2_filter)))\n",
    "print(svpass_stats.sv_stat)\n",
    "\n",
    "\n",
    "svtypepass_stats = mt.group_rows_by(mt.info.SVTYPE).aggregate(sv_stat = hl.agg.counter(mt.info.PASS_GT2_filter))\n",
    "svtypepass_stats.show()\n"
   ]
  },
  {
   "cell_type": "code",
   "execution_count": 10,
   "id": "01b4c439-5a08-4524-adbf-85d1276d3100",
   "metadata": {},
   "outputs": [
    {
     "data": {
      "application/vnd.jupyter.widget-view+json": {
       "model_id": "",
       "version_major": 2,
       "version_minor": 0
      },
      "text/plain": [
       "FloatProgress(value=0.0, bar_style='info', description='Progress:', layout=Layout(height='25px', width='50%'),…"
      ]
     },
     "metadata": {},
     "output_type": "display_data"
    },
    {
     "name": "stdout",
     "output_type": "stream",
     "text": [
      "----------------------------------------\n",
      "Global fields:\n",
      "    None\n",
      "----------------------------------------\n",
      "Column fields:\n",
      "    's': str\n",
      "----------------------------------------\n",
      "Row fields:\n",
      "    'locus': locus<GRCh38>\n",
      "    'alleles': array<str>\n",
      "    'rsid': str\n",
      "    'qual': float64\n",
      "    'filters': set<str>\n",
      "    'info': struct {\n",
      "        ABHet: float64, \n",
      "        ABHom: float64, \n",
      "        ABHetMulti: array<float64>, \n",
      "        ABHomMulti: array<float64>, \n",
      "        AC: array<int32>, \n",
      "        AF: array<float64>, \n",
      "        AN: int32, \n",
      "        CR: int32, \n",
      "        END: int32, \n",
      "        HOMSEQ: array<str>, \n",
      "        INV3: bool, \n",
      "        INV5: bool, \n",
      "        LEFT_SVINSSEQ: array<str>, \n",
      "        LOGF: float64, \n",
      "        MaxAAS: array<int32>, \n",
      "        MaxAASR: array<float64>, \n",
      "        MaxAltPP: int32, \n",
      "        MQ: int32, \n",
      "        MQsquared: int32, \n",
      "        NCLUSTERS: int32, \n",
      "        NGT: array<int32>, \n",
      "        NHet: int32, \n",
      "        NHomRef: int32, \n",
      "        NHomAlt: int32, \n",
      "        NUM_MERGED_SVS: int32, \n",
      "        OLD_VARIANT_ID: str, \n",
      "        ORSTART: int32, \n",
      "        OREND: int32, \n",
      "        QD: float64, \n",
      "        PASS_AC: array<int32>, \n",
      "        PASS_AN: int32, \n",
      "        PASS_ratio: float64, \n",
      "        PS: int32, \n",
      "        RefLen: int32, \n",
      "        RELATED_SV_ID: int32, \n",
      "        RIGHT_SVINSSEQ: array<str>, \n",
      "        SB: float64, \n",
      "        SBAlt: float64, \n",
      "        SBF: array<int32>, \n",
      "        SBF1: array<int32>, \n",
      "        SBF2: array<int32>, \n",
      "        SBR: array<int32>, \n",
      "        SBR1: array<int32>, \n",
      "        SBR2: array<int32>, \n",
      "        SEQ: str, \n",
      "        SeqDepth: int32, \n",
      "        SV_ID: int32, \n",
      "        SVINSSEQ: array<str>, \n",
      "        SVLEN: int32, \n",
      "        SVMODEL: str, \n",
      "        SVSIZE: int32, \n",
      "        SVTYPE: str, \n",
      "        VarType: str, \n",
      "        PASS_GT2_filter: str\n",
      "    }\n",
      "----------------------------------------\n",
      "Entry fields:\n",
      "    'GT': call\n",
      "    'FT': str\n",
      "    'AD': array<int32>\n",
      "    'MD': int32\n",
      "    'DP': int32\n",
      "    'RA': array<int32>\n",
      "    'PP': int32\n",
      "    'GQ': int32\n",
      "    'PL': array<int32>\n",
      "----------------------------------------\n",
      "Column key: ['s']\n",
      "Row key: ['locus', 'alleles']\n",
      "----------------------------------------"
     ]
    }
   ],
   "source": [
    "mt.describe()"
   ]
  },
  {
   "cell_type": "code",
   "execution_count": 11,
   "id": "b61b51ed-cec6-4c8c-8e18-31fd413d5e85",
   "metadata": {},
   "outputs": [
    {
     "data": {
      "application/vnd.jupyter.widget-view+json": {
       "model_id": "",
       "version_major": 2,
       "version_minor": 0
      },
      "text/plain": [
       "FloatProgress(value=0.0, bar_style='info', description='Progress:', layout=Layout(height='25px', width='50%'),…"
      ]
     },
     "metadata": {},
     "output_type": "display_data"
    },
    {
     "name": "stdout",
     "output_type": "stream",
     "text": [
      "Samples: 1523; Variants: 11291; Entries: 17196193\n",
      "2024-05-06 06:42:02 Hail: INFO: Coerced sorted dataset\n",
      "2024-05-06 06:42:16 Hail: INFO: Coerced sorted dataset\n",
      "2024-05-06 06:42:16 Hail: INFO: Coerced sorted dataset\n",
      "2024-05-06 06:43:20 Hail: INFO: Coerced sorted dataset\n",
      "2024-05-06 06:43:21 Hail: INFO: Coerced sorted dataset"
     ]
    }
   ],
   "source": [
    "# Extract Variants that PASS GT2 filters\n",
    "mt2 = mt.filter_rows(mt.info.PASS_GT2_filter==\"PASS\", keep=True)\n",
    "print(\"Samples: %d; Variants: %d; Entries: %d\" % (mt2.count_cols(), mt2.count_rows(), mt2.entries().count()))"
   ]
  },
  {
   "cell_type": "code",
   "execution_count": 12,
   "id": "b67df669-557c-4965-947c-e9acc04a56d1",
   "metadata": {},
   "outputs": [
    {
     "data": {
      "application/vnd.jupyter.widget-view+json": {
       "model_id": "",
       "version_major": 2,
       "version_minor": 0
      },
      "text/plain": [
       "FloatProgress(value=0.0, bar_style='info', description='Progress:', layout=Layout(height='25px', width='50%'),…"
      ]
     },
     "metadata": {},
     "output_type": "display_data"
    },
    {
     "name": "stdout",
     "output_type": "stream",
     "text": [
      "2024-05-06 06:51:25 Hail: INFO: Coerced sorted dataset\n",
      "2024-05-06 06:51:26 Hail: INFO: Coerced sorted dataset\n",
      "2024-05-06 06:53:10 Hail: INFO: wrote matrix table with 11291 rows and 1523 columns in 15 partitions to SG10K_SV_MantaSVimmerGraphtyper_15x.n1523.m11291.discovery.DEL-INS-only.mt\n",
      "    Total size: 80.34 MiB\n",
      "    * Rows/entries: 80.33 MiB\n",
      "    * Columns: 5.53 KiB\n",
      "    * Globals: 11.00 B\n",
      "    * Smallest partition: 589 rows (4.19 MiB)\n",
      "    * Largest partition:  913 rows (6.41 MiB)"
     ]
    }
   ],
   "source": [
    "release14_manta_svimmer_gt2_mt_uri =   \"SG10K_SV_MantaSVimmerGraphtyper_15x.n1523.m11291.discovery.DEL-INS-only.mt\"\n",
    "mt2.write(release14_manta_svimmer_gt2_mt_uri, overwrite=False)"
   ]
  },
  {
   "cell_type": "code",
   "execution_count": null,
   "id": "1d7e256e-e143-41a6-bf75-dc39e5c52cb7",
   "metadata": {},
   "outputs": [],
   "source": []
  }
 ],
 "metadata": {
  "kernelspec": {
   "display_name": "PySpark",
   "language": "python",
   "name": "pysparkkernel"
  },
  "language_info": {
   "codemirror_mode": {
    "name": "python",
    "version": 3
   },
   "file_extension": ".py",
   "mimetype": "text/x-python",
   "name": "pyspark",
   "pygments_lexer": "python3"
  }
 },
 "nbformat": 4,
 "nbformat_minor": 5
}

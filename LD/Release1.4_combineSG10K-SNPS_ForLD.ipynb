{
 "cells": [
  {
   "cell_type": "markdown",
   "id": "cf263ddb-a600-4c5c-83b9-d8154c510e5f",
   "metadata": {},
   "source": [
    "## This notebook focus on combining the SV and SNP data to calcualte LD"
   ]
  },
  {
   "cell_type": "code",
   "execution_count": 1,
   "id": "0caac274-ce23-4e49-ae9d-9fe7e35899fe",
   "metadata": {},
   "outputs": [
    {
     "data": {
      "text/html": [
       "Current session configs: <tt>{'driverMemory': '30G', 'conf': {'spark.driver.maxResultSize': '0'}, 'proxyUser': 'jovyan', 'kind': 'pyspark'}</tt><br>"
      ],
      "text/plain": [
       "<IPython.core.display.HTML object>"
      ]
     },
     "metadata": {},
     "output_type": "display_data"
    },
    {
     "data": {
      "text/html": [
       "No active sessions."
      ],
      "text/plain": [
       "<IPython.core.display.HTML object>"
      ]
     },
     "metadata": {},
     "output_type": "display_data"
    }
   ],
   "source": [
    "%%configure -f\n",
    "{\n",
    "    \"driverMemory\": \"30G\",\n",
    "    \"conf\":{\"spark.driver.maxResultSize\":\"0\"}\n",
    "}"
   ]
  },
  {
   "cell_type": "code",
   "execution_count": 2,
   "id": "b8cf1185-ec64-4af0-8b65-115f973eba8b",
   "metadata": {},
   "outputs": [
    {
     "name": "stdout",
     "output_type": "stream",
     "text": [
      "Starting Spark application\n"
     ]
    },
    {
     "data": {
      "text/html": [
 "<tr><th>ID</th><th>YARN Application ID</th><th>Kind</th><th>State</th><th>Spark UI</th><th>Driver log</th><th>User</th><th>Current session?</th></tr><tr><td>0</td><td>application_1715822609653_0001</td><td>pyspark</td><td>idle</td><td><a target=\"_blank\" href=\"http://ip-192-168-64-101.ap-southeast-1.compute.internal:20888/proxy/application_1715822609653_0001/\">Link</a></td><td><a target=\"_blank\" href=\"http://ip-192-168-100-145.ap-southeast-1.compute.internal:8042/node/containerlogs/container_1715822609653_0001_01_000001/livy\">Link</a></td><td>None</td><td>✔</td></tr></table>"
      ],
      "text/plain": [
       "<IPython.core.display.HTML object>"
      ]
     },
     "metadata": {},
     "output_type": "display_data"
    },
    {
     "data": {
      "application/vnd.jupyter.widget-view+json": {
       "model_id": "",
       "version_major": 2,
       "version_minor": 0
      },
      "text/plain": [
       "FloatProgress(value=0.0, bar_style='info', description='Progress:', layout=Layout(height='25px', width='50%'),…"
      ]
     },
     "metadata": {},
     "output_type": "display_data"
    },
    {
     "name": "stdout",
     "output_type": "stream",
     "text": [
      "SparkSession available as 'spark'.\n"
     ]
    },
    {
     "data": {
      "application/vnd.jupyter.widget-view+json": {
       "model_id": "",
       "version_major": 2,
       "version_minor": 0
      },
      "text/plain": [
       "FloatProgress(value=0.0, bar_style='info', description='Progress:', layout=Layout(height='25px', width='50%'),…"
      ]
     },
     "metadata": {},
     "output_type": "display_data"
    },
    {
     "name": "stdout",
     "output_type": "stream",
     "text": [
      "pip-installed Hail requires additional configuration options in Spark referring\n",
      "  to the path to the Hail Python module directory HAIL_DIR,\n",
      "  e.g. /path/to/python/site-packages/hail:\n",
      "    spark.jars=HAIL_DIR/hail-all-spark.jar\n",
      "    spark.driver.extraClassPath=HAIL_DIR/hail-all-spark.jar\n",
      "    spark.executor.extraClassPath=./hail-all-spark.jarRunning on Apache Spark version 3.1.2-amzn-0\n",
      "SparkUI available \n",
      "Welcome to\n",
      "     __  __     <>__\n",
      "    / /_/ /__  __/ /\n",
      "   / __  / _ `/ / /\n",
      "  /_/ /_/\\_,_/_/_/   version 0.2.80-4ccfae1ff293\n",
      "LOGGING: writing to"
     ]
    }
   ],
   "source": [
    "import hail as hl\n",
    "hl.init(sc)"
   ]
  },
  {
   "cell_type": "markdown",
   "id": "7984a574-72e7-4ae9-acb2-59b2aff8c8c4",
   "metadata": {},
   "source": [
    "# merging of SNP and SV schema for ld_score computation"
   ]
  },
  {
   "cell_type": "code",
   "execution_count": 23,
   "id": "cdca6594-79f0-4ef2-af0e-c0af5c699a05",
   "metadata": {},
   "outputs": [
    {
     "data": {
      "application/vnd.jupyter.widget-view+json": {
       "model_id": "",
       "version_major": 2,
       "version_minor": 0
      },
      "text/plain": [
       "FloatProgress(value=0.0, bar_style='info', description='Progress:', layout=Layout(height='25px', width='50%'),…"
      ]
     },
     "metadata": {},
     "output_type": "display_data"
    }
   ],
   "source": [
    "sg10k_health_mt_uri = \"SG10K_Health_r5.3.0.n9770.genotypes.mt\"\n",
    "release14_hc_meta_mt_uri =   \"SG10K-SV-Release-1.4-HighConfidenceSV-WithMetadata-correctrsid.mt\"\n"
   ]
  },
  {
   "cell_type": "code",
   "execution_count": 25,
   "id": "e81ff6de-ea46-49fb-a16f-cd9a328004a3",
   "metadata": {},
   "outputs": [
    {
     "data": {
      "application/vnd.jupyter.widget-view+json": {
       "model_id": "",
       "version_major": 2,
       "version_minor": 0
      },
      "text/plain": [
       "FloatProgress(value=0.0, bar_style='info', description='Progress:', layout=Layout(height='25px', width='50%'),…"
      ]
     },
     "metadata": {},
     "output_type": "display_data"
    },
    {
     "name": "stdout",
     "output_type": "stream",
     "text": [
      "----------------------------------------\n",
      "Global fields:\n",
      "    None\n",
      "----------------------------------------\n",
      "Column fields:\n",
      "    's': str\n",
      "----------------------------------------\n",
      "Row fields:\n",
      "    'locus': locus<GRCh38>\n",
      "    'alleles': array<str>\n",
      "    'callers_info': struct {\n",
      "        SVTYPE: str, \n",
      "        varid: str\n",
      "    }\n",
      "----------------------------------------\n",
      "Entry fields:\n",
      "    'GT': call\n",
      "----------------------------------------\n",
      "Column key: ['s']\n",
      "Row key: ['locus', 'alleles']\n",
      "----------------------------------------"
     ]
    }
   ],
   "source": [
    "# read the snv table\n",
    "snv_mt = hl.read_matrix_table(sg10k_health_mt_uri)\n",
    "\n",
    "# annotate svtype as SNP\n",
    "snv_mt = snv_mt.annotate_rows(callers_info = hl.struct())\n",
    "snv_mt = snv_mt.annotate_rows(\n",
    "        callers_info = snv_mt.callers_info.annotate(\n",
    "            SVTYPE = \"SNP\" ,\n",
    "            varid = hl.delimit([snv_mt.locus.contig, hl.str(snv_mt.locus.position), snv_mt.alleles[0], snv_mt.alleles[1]], ':')\n",
    "))\n",
    "\n",
    "snv_mt = snv_mt.select_entries(snv_mt.GT)\n",
    "\n",
    "snv_mt.describe()"
   ]
  },
  {
   "cell_type": "code",
   "execution_count": 26,
   "id": "e3e14239-d7d1-4e99-b345-b115cce8c02f",
   "metadata": {},
   "outputs": [
    {
     "data": {
      "application/vnd.jupyter.widget-view+json": {
       "model_id": "",
       "version_major": 2,
       "version_minor": 0
      },
      "text/plain": [
       "FloatProgress(value=0.0, bar_style='info', description='Progress:', layout=Layout(height='25px', width='50%'),…"
      ]
     },
     "metadata": {},
     "output_type": "display_data"
    }
   ],
   "source": [
    "sv_mt = hl.read_matrix_table(release14_hc_meta_mt_uri)\n",
    "sv_mt = sv_mt.annotate_rows(callers_info = sv_mt.callers_info.annotate(\n",
    "            varid = sv_mt.sv_id))\n",
    "sv_mt = sv_mt.select_entries(sv_mt.GT).select_rows('callers_info').drop('metadata')"
   ]
  },
  {
   "cell_type": "code",
   "execution_count": 27,
   "id": "50faeae1-03ea-4568-b4b4-dbde2a3b06dd",
   "metadata": {},
   "outputs": [
    {
     "data": {
      "application/vnd.jupyter.widget-view+json": {
       "model_id": "",
       "version_major": 2,
       "version_minor": 0
      },
      "text/plain": [
       "FloatProgress(value=0.0, bar_style='info', description='Progress:', layout=Layout(height='25px', width='50%'),…"
      ]
     },
     "metadata": {},
     "output_type": "display_data"
    },
    {
     "name": "stdout",
     "output_type": "stream",
     "text": [
      "----------------------------------------\n",
      "Global fields:\n",
      "    None\n",
      "----------------------------------------\n",
      "Column fields:\n",
      "    's': str\n",
      "----------------------------------------\n",
      "Row fields:\n",
      "    'locus': locus<GRCh38>\n",
      "    'alleles': array<str>\n",
      "    'callers_info': struct {\n",
      "        SVTYPE: str, \n",
      "        varid: str\n",
      "    }\n",
      "----------------------------------------\n",
      "Entry fields:\n",
      "    'GT': call\n",
      "----------------------------------------\n",
      "Column key: ['s']\n",
      "Row key: ['locus', 'alleles']\n",
      "----------------------------------------"
     ]
    }
   ],
   "source": [
    "sv_mt = sv_mt.annotate_rows(callers_info = sv_mt.callers_info.drop('manta', 'melt', 'survindel2', 'AC_CHINESE', 'AN_CHINESE', 'AF_CHINESE', 'AC_MALAY', 'AF_MALAY', 'AN_MALAY', 'AC_INDIAN', 'AF_INDIAN', 'AN_INDIAN', 'SVSIZE', 'END'))\n",
    "sv_mt.describe()"
   ]
  },
  {
   "cell_type": "code",
   "execution_count": 28,
   "id": "5aaae3c5-93da-4f06-8322-ea063f42c8f1",
   "metadata": {},
   "outputs": [
    {
     "data": {
      "application/vnd.jupyter.widget-view+json": {
       "model_id": "",
       "version_major": 2,
       "version_minor": 0
      },
      "text/plain": [
       "FloatProgress(value=0.0, bar_style='info', description='Progress:', layout=Layout(height='25px', width='50%'),…"
      ]
     },
     "metadata": {},
     "output_type": "display_data"
    },
    {
     "name": "stdout",
     "output_type": "stream",
     "text": [
      "----------------------------------------\n",
      "Global fields:\n",
      "    None\n",
      "----------------------------------------\n",
      "Column fields:\n",
      "    's': str\n",
      "----------------------------------------\n",
      "Row fields:\n",
      "    'locus': locus<GRCh38>\n",
      "    'alleles': array<str>\n",
      "    'callers_info': struct {\n",
      "        SVTYPE: str, \n",
      "        varid: str\n",
      "    }\n",
      "----------------------------------------\n",
      "Entry fields:\n",
      "    'GT': call\n",
      "----------------------------------------\n",
      "Column key: ['s']\n",
      "Row key: ['locus', 'alleles']\n",
      "----------------------------------------\n",
      "----------------------------------------\n",
      "Global fields:\n",
      "    None\n",
      "----------------------------------------\n",
      "Column fields:\n",
      "    's': str\n",
      "----------------------------------------\n",
      "Row fields:\n",
      "    'locus': locus<GRCh38>\n",
      "    'alleles': array<str>\n",
      "    'callers_info': struct {\n",
      "        SVTYPE: str, \n",
      "        varid: str\n",
      "    }\n",
      "----------------------------------------\n",
      "Entry fields:\n",
      "    'GT': call\n",
      "----------------------------------------\n",
      "Column key: ['s']\n",
      "Row key: ['locus', 'alleles']\n",
      "----------------------------------------"
     ]
    }
   ],
   "source": [
    "# now we need to rearrange the columns\n",
    "def align_mt2_cols_to_mt1(mt1, mt2):\n",
    "    mt1 = mt1.add_col_index()\n",
    "    mt2 = mt2.add_col_index()\n",
    "    new_col_order = mt2.index_cols(mt1.col_key).col_idx.collect()\n",
    "    new_mt = mt2.choose_cols(new_col_order)\n",
    "    new_mt = new_mt.drop('col_idx')\n",
    "    return new_mt\n",
    "\n",
    "\n",
    "snv_mt = snv_mt.filter_cols(hl.is_defined(sv_mt.cols()[snv_mt.col_key]))\n",
    "snv_mt = align_mt2_cols_to_mt1(sv_mt, snv_mt)\n",
    "\n",
    "\n",
    "sv_mt.describe()\n",
    "snv_mt.describe()\n"
   ]
  },
  {
   "cell_type": "code",
   "execution_count": 29,
   "id": "14122057-4317-463c-8e5f-51f4572bb61c",
   "metadata": {},
   "outputs": [
    {
     "data": {
      "application/vnd.jupyter.widget-view+json": {
       "model_id": "",
       "version_major": 2,
       "version_minor": 0
      },
      "text/plain": [
       "FloatProgress(value=0.0, bar_style='info', description='Progress:', layout=Layout(height='25px', width='50%'),…"
      ]
     },
     "metadata": {},
     "output_type": "display_data"
    },
    {
     "name": "stdout",
     "output_type": "stream",
     "text": [
      "----------------------------------------\n",
      "Global fields:\n",
      "    None\n",
      "----------------------------------------\n",
      "Column fields:\n",
      "    's': str\n",
      "----------------------------------------\n",
      "Row fields:\n",
      "    'locus': locus<GRCh38>\n",
      "    'alleles': array<str>\n",
      "    'callers_info': struct {\n",
      "        SVTYPE: str, \n",
      "        varid: str\n",
      "    }\n",
      "----------------------------------------\n",
      "Entry fields:\n",
      "    'GT': call\n",
      "----------------------------------------\n",
      "Column key: ['s']\n",
      "Row key: ['locus', 'alleles']\n",
      "----------------------------------------\n",
      "2024-05-14 04:17:30 Hail: INFO: wrote matrix table with 179491952 rows and 5487 columns in 55371 partitions to test_joined_SG10K-SV_SG10K_Health.GT-only-varid.mt"
     ]
    }
   ],
   "source": [
    "mt = snv_mt.union_rows(sv_mt).checkpoint(\"test_joined_SG10K-SV_SG10K_Health.GT-only-varid.mt\")\n",
    "mt.describe()"
   ]
  },
  {
   "cell_type": "markdown",
   "id": "aa3e7a8f-d689-475d-9dd4-507697e25d1b",
   "metadata": {},
   "source": [
    "## Compute genotypes\n",
    "### Set the haploid genotypes to diploid\n",
    "- if haploid, if 0 -> 0/0\n",
    "- if haploid, if 1 -> 0/1\n",
    "- if diploid, keep it the same"
   ]
  },
  {
   "cell_type": "code",
   "execution_count": 30,
   "id": "19a85d43-fec9-4a31-8076-0c2fc5a36e68",
   "metadata": {},
   "outputs": [
    {
     "data": {
      "application/vnd.jupyter.widget-view+json": {
       "model_id": "",
       "version_major": 2,
       "version_minor": 0
      },
      "text/plain": [
       "FloatProgress(value=0.0, bar_style='info', description='Progress:', layout=Layout(height='25px', width='50%'),…"
      ]
     },
     "metadata": {},
     "output_type": "display_data"
    },
    {
     "name": "stdout",
     "output_type": "stream",
     "text": [
      "----------------------------------------\n",
      "Global fields:\n",
      "    None\n",
      "----------------------------------------\n",
      "Column fields:\n",
      "    's': str\n",
      "----------------------------------------\n",
      "Row fields:\n",
      "    'locus': locus<GRCh38>\n",
      "    'alleles': array<str>\n",
      "    'callers_info': struct {\n",
      "        SVTYPE: str, \n",
      "        varid: str\n",
      "    }\n",
      "----------------------------------------\n",
      "Entry fields:\n",
      "    'GT': call\n",
      "----------------------------------------\n",
      "Column key: ['s']\n",
      "Row key: ['locus', 'alleles']\n",
      "----------------------------------------"
     ]
    }
   ],
   "source": [
    "## load the full matrix table\n",
    "mt = hl.read_matrix_table(\"test_joined_SG10K-SV_SG10K_Health.GT-only-varid.mt\")\n",
    "mt.describe()"
   ]
  },
  {
   "cell_type": "code",
   "execution_count": 31,
   "id": "3e140688-7091-4701-923b-7270771bff7c",
   "metadata": {},
   "outputs": [
    {
     "data": {
      "application/vnd.jupyter.widget-view+json": {
       "model_id": "",
       "version_major": 2,
       "version_minor": 0
      },
      "text/plain": [
       "FloatProgress(value=0.0, bar_style='info', description='Progress:', layout=Layout(height='25px', width='50%'),…"
      ]
     },
     "metadata": {},
     "output_type": "display_data"
    },
    {
     "name": "stdout",
     "output_type": "stream",
     "text": [
      "2024-05-14 04:27:03 Hail: INFO: wrote matrix table with 179491952 rows and 5487 columns in 55371 partitions to test_joined_SG10K-SV_SG10K_Health.GT-only-varid-recode_genotypes.mt"
     ]
    }
   ],
   "source": [
    "# recode to diploid\n",
    "mt2 = mt.annotate_entries(\n",
    "    GT = hl.if_else(\n",
    "             mt.GT.ploidy == 1, \n",
    "             hl.call(0, mt.GT[0]),\n",
    "             mt.GT)\n",
    ").checkpoint(\"test_joined_SG10K-SV_SG10K_Health.GT-only-varid-recode_genotypes.mt\", overwrite = True)"
   ]
  },
  {
   "cell_type": "code",
   "execution_count": 32,
   "id": "ba50150c-356d-4c89-956d-f36b3a339735",
   "metadata": {},
   "outputs": [
    {
     "data": {
      "application/vnd.jupyter.widget-view+json": {
       "model_id": "",
       "version_major": 2,
       "version_minor": 0
      },
      "text/plain": [
       "FloatProgress(value=0.0, bar_style='info', description='Progress:', layout=Layout(height='25px', width='50%'),…"
      ]
     },
     "metadata": {},
     "output_type": "display_data"
    },
    {
     "name": "stdout",
     "output_type": "stream",
     "text": [
      "2024-05-14 04:37:10 Hail: INFO: merging 4484 files totalling 18.5G...\n",
      "2024-05-14 04:39:12 Hail: INFO: while writing:\n",
      "    SG10K_SV_SG10K_Health_.chr1.plink.bed\n",
      "  merge time: 2m2.2s\n",
      "2024-05-14 04:39:13 Hail: INFO: merging 4483 files totalling 586.0M...\n",
      "2024-05-14 04:39:28 Hail: INFO: while writing:\n",
      "    SG10K_SV_SG10K_Health_.chr1.plink.bim\n",
      "  merge time: 14.171s\n",
      "2024-05-14 04:39:37 Hail: INFO: merging 960 files totalling 102.0K...\n",
      "2024-05-14 04:39:39 Hail: INFO: while writing:\n",
      "    SG10K_SV_SG10K_Health_.chr1.plink.fam\n",
      "  merge time: 1.645s\n",
      "2024-05-14 04:39:39 Hail: INFO: wrote 14497866 variants and 5487 samples to 'SG10K_SV_SG10K_Health_.chr1.plink'\n",
      "2024-05-14 04:40:19 Hail: INFO: merging 4557 files totalling 19.1G...\n",
      "2024-05-14 04:42:23 Hail: INFO: while writing:\n",
      "    SG10K_SV_SG10K_Health_.chr2.plink.bed\n",
      "  merge time: 2m3.6s\n",
      "2024-05-14 04:42:24 Hail: INFO: merging 4556 files totalling 601.3M...\n",
      "2024-05-14 04:42:37 Hail: INFO: while writing:\n",
      "    SG10K_SV_SG10K_Health_.chr2.plink.bim\n",
      "  merge time: 13.286s\n",
      "2024-05-14 04:42:46 Hail: INFO: merging 960 files totalling 102.0K...\n",
      "2024-05-14 04:42:48 Hail: INFO: while writing:\n",
      "    SG10K_SV_SG10K_Health_.chr2.plink.fam\n",
      "  merge time: 1.914s\n",
      "2024-05-14 04:42:48 Hail: INFO: wrote 14910857 variants and 5487 samples to 'SG10K_SV_SG10K_Health_.chr2.plink'\n",
      "2024-05-14 04:43:23 Hail: INFO: merging 3700 files totalling 15.6G...\n",
      "2024-05-14 04:45:02 Hail: INFO: while writing:\n",
      "    SG10K_SV_SG10K_Health_.chr3.plink.bed\n",
      "  merge time: 1m39.5s\n",
      "2024-05-14 04:45:03 Hail: INFO: merging 3699 files totalling 488.5M...\n",
      "2024-05-14 04:45:14 Hail: INFO: while writing:\n",
      "    SG10K_SV_SG10K_Health_.chr3.plink.bim\n",
      "  merge time: 10.897s\n",
      "2024-05-14 04:45:23 Hail: INFO: merging 960 files totalling 102.0K...\n",
      "2024-05-14 04:45:25 Hail: INFO: while writing:\n",
      "    SG10K_SV_SG10K_Health_.chr3.plink.fam\n",
      "  merge time: 1.717s\n",
      "2024-05-14 04:45:25 Hail: INFO: wrote 12189186 variants and 5487 samples to 'SG10K_SV_SG10K_Health_.chr3.plink'\n",
      "2024-05-14 04:45:58 Hail: INFO: merging 3500 files totalling 14.7G...\n",
      "2024-05-14 04:47:33 Hail: INFO: while writing:\n",
      "    SG10K_SV_SG10K_Health_.chr4.plink.bed\n",
      "  merge time: 1m35.0s\n",
      "2024-05-14 04:47:34 Hail: INFO: merging 3499 files totalling 461.4M...\n",
      "2024-05-14 04:47:44 Hail: INFO: while writing:\n",
      "    SG10K_SV_SG10K_Health_.chr4.plink.bim\n",
      "  merge time: 10.429s\n",
      "2024-05-14 04:47:54 Hail: INFO: merging 960 files totalling 102.0K...\n",
      "2024-05-14 04:47:56 Hail: INFO: while writing:\n",
      "    SG10K_SV_SG10K_Health_.chr4.plink.fam\n",
      "  merge time: 1.635s\n",
      "2024-05-14 04:47:56 Hail: INFO: wrote 11531541 variants and 5487 samples to 'SG10K_SV_SG10K_Health_.chr4.plink'\n",
      "2024-05-14 04:48:27 Hail: INFO: merging 3310 files totalling 13.9G...\n",
      "2024-05-14 04:49:56 Hail: INFO: while writing:\n",
      "    SG10K_SV_SG10K_Health_.chr5.plink.bed\n",
      "  merge time: 1m28.8s\n",
      "2024-05-14 04:49:57 Hail: INFO: merging 3309 files totalling 436.0M...\n",
      "2024-05-14 04:50:06 Hail: INFO: while writing:\n",
      "    SG10K_SV_SG10K_Health_.chr5.plink.bim\n",
      "  merge time: 9.791s\n",
      "2024-05-14 04:50:16 Hail: INFO: merging 960 files totalling 102.0K...\n",
      "2024-05-14 04:50:18 Hail: INFO: while writing:\n",
      "    SG10K_SV_SG10K_Health_.chr5.plink.fam\n",
      "  merge time: 1.819s\n",
      "2024-05-14 04:50:18 Hail: INFO: wrote 10888863 variants and 5487 samples to 'SG10K_SV_SG10K_Health_.chr5.plink'\n",
      "2024-05-14 04:50:48 Hail: INFO: merging 3144 files totalling 13.1G...\n",
      "2024-05-14 04:52:16 Hail: INFO: while writing:\n",
      "    SG10K_SV_SG10K_Health_.chr6.plink.bed\n",
      "  merge time: 1m27.7s\n",
      "2024-05-14 04:52:17 Hail: INFO: merging 3143 files totalling 411.5M...\n",
      "2024-05-14 04:52:26 Hail: INFO: while writing:\n",
      "    SG10K_SV_SG10K_Health_.chr6.plink.bim\n",
      "  merge time: 9.383s\n",
      "2024-05-14 04:52:36 Hail: INFO: merging 960 files totalling 102.0K...\n",
      "2024-05-14 04:52:37 Hail: INFO: while writing:\n",
      "     SG10K_SV_SG10K_Health_.chr6.plink.fam\n",
      "  merge time: 1.652s\n",
      "2024-05-14 04:52:37 Hail: INFO: wrote 10286644 variants and 5487 samples to 'SG10K_SV_SG10K_Health_.chr6.plink'\n",
      "2024-05-14 04:53:07 Hail: INFO: merging 3111 files totalling 12.8G...\n",
      "2024-05-14 04:54:37 Hail: INFO: while writing:\n",
      "    SG10K_SV_SG10K_Health_.chr7.plink.bed\n",
      "  merge time: 1m30.0s\n",
      "2024-05-14 04:54:38 Hail: INFO: merging 3110 files totalling 401.9M...\n",
      "2024-05-14 04:54:47 Hail: INFO: while writing:\n",
      "    SG10K_SV_SG10K_Health_.chr7.plink.bim\n",
      "  merge time: 9.401s\n",
      "2024-05-14 04:54:57 Hail: INFO: merging 960 files totalling 102.0K...\n",
      "2024-05-14 04:54:58 Hail: INFO: while writing:\n",
      "    SG10K_SV_SG10K_Health_.chr7.plink.fam\n",
      "  merge time: 1.625s\n",
      "2024-05-14 04:54:58 Hail: INFO: wrote 10020510 variants and 5487 samples to 'SG10K_SV_SG10K_Health_.chr7.plink'\n",
      "2024-05-14 04:55:26 Hail: INFO: merging 2830 files totalling 11.9G...\n",
      "2024-05-14 04:56:43 Hail: INFO: while writing:\n",
      "    SG10K_SV_SG10K_Health_.chr8.plink.bed\n",
      "  merge time: 1m16.6s\n",
      "2024-05-14 04:56:44 Hail: INFO: merging 2829 files totalling 369.3M...\n",
      "2024-05-14 04:56:53 Hail: INFO: while writing:\n",
      "    SG10K_SV_SG10K_Health_.chr8.plink.bim\n",
      "  merge time: 9.005s\n",
      "2024-05-14 04:57:02 Hail: INFO: merging 960 files totalling 102.0K...\n",
      "2024-05-14 04:57:04 Hail: INFO: while writing:\n",
      "    SG10K_SV_SG10K_Health_.chr8.plink.fam\n",
      "  merge time: 1.619s\n",
      "2024-05-14 04:57:04 Hail: INFO: wrote 9309713 variants and 5487 samples to 'SG10K_SV_SG10K_Health_.chr8.plink'\n",
      "2024-05-14 04:57:29 Hail: INFO: merging 2397 files totalling 10.0G...\n",
      "2024-05-14 04:58:34 Hail: INFO: while writing:\n",
      "    SG10K_SV_SG10K_Health_.chr9.plink.bed\n",
      "  merge time: 1m5.3s\n",
      "2024-05-14 04:58:35 Hail: INFO: merging 2396 files totalling 310.2M...\n",
      "2024-05-14 04:58:42 Hail: INFO: while writing:\n",
      "    SG10K_SV_SG10K_Health_.chr9.plink.bim\n",
      "  merge time: 7.409s\n",
      "2024-05-14 04:58:52 Hail: INFO: merging 960 files totalling 102.0K...\n",
      "2024-05-14 04:58:54 Hail: INFO: while writing:\n",
      "    SG10K_SV_SG10K_Health_.chr9.plink.fam\n",
      "  merge time: 1.772s\n",
      "2024-05-14 04:58:54 Hail: INFO: wrote 7802621 variants and 5487 samples to 'SG10K_SV_SG10K_Health_.chr9.plink'\n",
      "2024-05-14 04:59:21 Hail: INFO: merging 2597 files totalling 10.7G...\n",
      "2024-05-14 05:00:27 Hail: INFO: while writing:\n",
      "    SG10K_SV_SG10K_Health_.chr10.plink.bed\n",
      "  merge time: 1m6.7s\n",
      "2024-05-14 05:00:28 Hail: INFO: merging 2596 files totalling 350.4M...\n",
      "2024-05-14 05:00:36 Hail: INFO: while writing:\n",
      "    SG10K_SV_SG10K_Health_.chr10.plink.bim\n",
      "  merge time: 8.014s\n",
      "2024-05-14 05:00:45 Hail: INFO: merging 960 files totalling 102.0K...\n",
      "2024-05-14 05:00:47 Hail: INFO: while writing:\n",
      "    SG10K_SV_SG10K_Health_.chr10.plink.fam\n",
      "  merge time: 1.794s\n",
      "2024-05-14 05:00:47 Hail: INFO: wrote 8392745 variants and 5487 samples to 'SG10K_SV_SG10K_Health_.chr10.plink'\n",
      "2024-05-14 05:01:14 Hail: INFO: merging 2555 files totalling 10.8G...\n",
      "2024-05-14 05:02:25 Hail: INFO: while writing:\n",
      "    SG10K_SV_SG10K_Health_.chr11.plink.bed\n",
      "  merge time: 1m11.0s\n",
      "2024-05-14 05:02:25 Hail: INFO: merging 2554 files totalling 350.1M...\n",
      "2024-05-14 05:02:33 Hail: INFO: while writing:\n",
      "    SG10K_SV_SG10K_Health_.chr11.plink.bim\n",
      "  merge time: 7.758s\n",
      "2024-05-14 05:02:42 Hail: INFO: merging 960 files totalling 102.0K...\n",
      "2024-05-14 05:02:44 Hail: INFO: while writing:\n",
      "    SG10K_SV_SG10K_Health_.chr11.plink.fam\n",
      "  merge time: 1.623s\n",
      "2024-05-14 05:02:44 Hail: INFO: wrote 8436156 variants and 5487 samples to 'SG10K_SV_SG10K_Health_.chr11.plink'\n",
      "2024-05-14 05:03:10 Hail: INFO: merging 2532 files totalling 10.5G...\n",
      "2024-05-14 05:04:20 Hail: INFO: while writing:\n",
      "    SG10K_SV_SG10K_Health_.chr12.plink.bed\n",
      "  merge time: 1m9.5s\n",
      "2024-05-14 05:04:20 Hail: INFO: merging 2531 files totalling 343.0M...\n",
      "2024-05-14 05:04:28 Hail: INFO: while writing:\n",
      "    SG10K_SV_SG10K_Health_.chr12.plink.bim\n",
      "  merge time: 7.887s\n",
      "2024-05-14 05:04:37 Hail: INFO: merging 960 files totalling 102.0K...\n",
      "2024-05-14 05:04:39 Hail: INFO: while writing:\n",
      "    SG10K_SV_SG10K_Health_.chr12.plink.fam\n",
      "  merge time: 1.643s\n",
      "2024-05-14 05:04:39 Hail: INFO: wrote 8238875 variants and 5487 samples to 'SG10K_SV_SG10K_Health_.chr12.plink'\n",
      "2024-05-14 05:05:02 Hail: INFO: merging 1959 files totalling 8.1G...\n",
      "2024-05-14 05:05:59 Hail: INFO: while writing:\n",
      "    SG10K_SV_SG10K_Health_.chr13.plink.bed\n",
      "  merge time: 56.940s\n",
      "2024-05-14 05:05:59 Hail: INFO: merging 1958 files totalling 265.1M...\n",
      "2024-05-14 05:06:05 Hail: INFO: while writing:\n",
      "    SG10K_SV_SG10K_Health_.chr13.plink.bim\n",
      "  merge time: 6.413s\n",
      "2024-05-14 05:06:15 Hail: INFO: merging 960 files totalling 102.0K...\n",
      "2024-05-14 05:06:17 Hail: INFO: while writing:\n",
      "    SG10K_SV_SG10K_Health_.chr13.plink.fam\n",
      "  merge time: 1.675s\n",
      "2024-05-14 05:06:17 Hail: INFO: wrote 6367591 variants and 5487 samples to 'SG10K_SV_SG10K_Health_.chr13.plink'\n",
      "2024-05-14 05:06:38 Hail: INFO: merging 1676 files totalling 7.0G...\n",
      "2024-05-14 05:07:21 Hail: INFO: while writing:\n",
      "    SG10K_SV_SG10K_Health_.chr14.plink.bed\n",
      "  merge time: 43.095s\n",
      "2024-05-14 05:07:21 Hail: INFO: merging 1675 files totalling 226.3M...\n",
      "2024-05-14 05:07:27 Hail: INFO: while writing:\n",
      "    SG10K_SV_SG10K_Health_.chr14.plink.bim\n",
      "  merge time: 5.513s\n",
      "2024-05-14 05:07:28 Hail: INFO: merging 960 files totalling 102.0K...\n",
      "2024-05-14 05:07:30 Hail: INFO: while writing:\n",
      "    SG10K_SV_SG10K_Health_.chr14.plink.fam\n",
      "  merge time: 1.665s\n",
      "2024-05-14 05:07:30 Hail: INFO: wrote 5452859 variants and 5487 samples to 'SG10K_SV_SG10K_Health_.chr14.plink'\n",
      "2024-05-14 05:07:48 Hail: INFO: merging 1582 files totalling 6.6G...\n",
      "2024-05-14 05:08:35 Hail: INFO: while writing:\n",
      "    SG10K_SV_SG10K_Health_.chr15.plink.bed\n",
      "  merge time: 47.042s\n",
      "2024-05-14 05:08:35 Hail: INFO: merging 1581 files totalling 212.2M...\n",
      "2024-05-14 05:08:40 Hail: INFO: while writing:\n",
      "    SG10K_SV_SG10K_Health_.chr15.plink.bim\n",
      "  merge time: 5.331s\n",
      "2024-05-14 05:08:42 Hail: INFO: merging 960 files totalling 102.0K...\n",
      "2024-05-14 05:08:43 Hail: INFO: while writing:\n",
      "    SG10K_SV_SG10K_Health_.chr15.plink.fam\n",
      "  merge time: 1.668s\n",
      "2024-05-14 05:08:43 Hail: INFO: wrote 5132087 variants and 5487 samples to 'SG10K_SV_SG10K_Health_.chr15.plink'\n",
      "2024-05-14 05:09:02 Hail: INFO: merging 1824 files totalling 7.4G...\n",
      "2024-05-14 05:09:49 Hail: INFO: while writing:\n",
      "    SG10K_SV_SG10K_Health_.chr16.plink.bed\n",
      "  merge time: 46.831s\n",
      "2024-05-14 05:09:49 Hail: INFO: merging 1823 files totalling 239.7M...\n",
      "2024-05-14 05:09:55 Hail: INFO: while writing:\n",
      "    SG10K_SV_SG10K_Health_.chr16.plink.bim\n",
      "  merge time: 5.816s\n",
      "2024-05-14 05:09:57 Hail: INFO: merging 960 files totalling 102.0K...\n",
      "2024-05-14 05:09:58 Hail: INFO: while writing:\n",
      "    SG10K_SV_SG10K_Health_.chr16.plink.fam\n",
      "  merge time: 1.681s\n",
      "2024-05-14 05:09:58 Hail: INFO: wrote 5829150 variants and 5487 samples to 'SG10K_SV_SG10K_Health_.chr16.plink'\n",
      "2024-05-14 05:10:15 Hail: INFO: merging 1613 files totalling 6.5G...\n",
      "2024-05-14 05:10:58 Hail: INFO: while writing:\n",
      "    SG10K_SV_SG10K_Health_.chr17.plink.bed\n",
      "  merge time: 43.769s\n",
      "2024-05-14 05:10:59 Hail: INFO: merging 1612 files totalling 211.3M...\n",
      "2024-05-14 05:11:06 Hail: INFO: while writing:\n",
      "    SG10K_SV_SG10K_Health_.chr17.plink.bim\n",
      "  merge time: 7.367s\n",
      "2024-05-14 05:11:08 Hail: INFO: merging 960 files totalling 102.0K...\n",
      "2024-05-14 05:11:10 Hail: INFO: while writing:\n",
      "    SG10K_SV_SG10K_Health_.chr17.plink.fam\n",
      "  merge time: 1.656s\n",
      "2024-05-14 05:11:10 Hail: INFO: wrote 5114420 variants and 5487 samples to 'SG10K_SV_SG10K_Health_.chr17.plink'\n",
      "2024-05-14 05:11:25 Hail: INFO: merging 1507 files totalling 6.3G...\n",
      "2024-05-14 05:12:07 Hail: INFO: while writing:\n",
      "    SG10K_SV_SG10K_Health_.chr18.plink.bed\n",
      "  merge time: 41.768s\n",
      "2024-05-14 05:12:07 Hail: INFO: merging 1506 files totalling 202.3M...\n",
      "2024-05-14 05:12:12 Hail: INFO: while writing:\n",
      "    SG10K_SV_SG10K_Health_.chr18.plink.bim\n",
      "  merge time: 5.020s\n",
      "2024-05-14 05:12:14 Hail: INFO: merging 960 files totalling 102.0K...\n",
      "2024-05-14 05:12:16 Hail: INFO: while writing:\n",
      "    SG10K_SV_SG10K_Health_.chr18.plink.fam\n",
      "  merge time: 1.664s\n",
      "2024-05-14 05:12:16 Hail: INFO: wrote 4922000 variants and 5487 samples to 'SG10K_SV_SG10K_Health_.chr18.plink'\n",
      "2024-05-14 05:12:31 Hail: INFO: merging 1303 files totalling 5.1G...\n",
      "2024-05-14 05:13:07 Hail: INFO: while writing:\n",
      "    SG10K_SV_SG10K_Health_.chr19.plink.bed\n",
      "  merge time: 36.069s\n",
      "2024-05-14 05:13:07 Hail: INFO: merging 1302 files totalling 165.7M...\n",
      "2024-05-14 05:13:12 Hail: INFO: while writing:\n",
      "    SG10K_SV_SG10K_Health_.chr19.plink.bim\n",
      "  merge time: 4.432s\n",
      "2024-05-14 05:13:13 Hail: INFO: merging 960 files totalling 102.0K...\n",
      "2024-05-14 05:13:15 Hail: INFO: while writing:\n",
      "    SG10K_SV_SG10K_Health_.chr19.plink.fam\n",
      "  merge time: 1.646s\n",
      "2024-05-14 05:13:15 Hail: INFO: wrote 3997277 variants and 5487 samples to 'SG10K_SV_SG10K_Health_.chr19.plink'\n",
      "2024-05-14 05:13:30 Hail: INFO: merging 1244 files totalling 5.1G...\n",
      "2024-05-14 05:14:04 Hail: INFO: while writing:\n",
      "    SG10K_SV_SG10K_Health_.chr20.plink.bed\n",
      "  merge time: 34.389s\n",
      "2024-05-14 05:14:04 Hail: INFO: merging 1243 files totalling 164.0M...\n",
      "2024-05-14 05:14:09 Hail: INFO: while writing:\n",
      "    SG10K_SV_SG10K_Health_.chr20.plink.bim\n",
      "  merge time: 4.320s\n",
      "2024-05-14 05:14:12 Hail: INFO: merging 960 files totalling 102.0K...\n",
      "2024-05-14 05:14:13 Hail: INFO: while writing:\n",
      "    SG10K_SV_SG10K_Health_.chr20.plink.fam\n",
      "  merge time: 1.659s\n",
      "2024-05-14 05:14:13 Hail: INFO: wrote 3989089 variants and 5487 samples to 'SG10K_SV_SG10K_Health_.chr20.plink'\n",
      "2024-05-14 05:14:29 Hail: INFO: merging 794 files totalling 3.1G...\n",
      "2024-05-14 05:14:49 Hail: INFO: while writing:\n",
      "    SG10K_SV_SG10K_Health_.chr21.plink.bed\n",
      "  merge time: 20.115s\n",
      "2024-05-14 05:14:49 Hail: INFO: merging 793 files totalling 100.5M...\n",
      "2024-05-14 05:14:52 Hail: INFO: while writing:\n",
      "    SG10K_SV_SG10K_Health_.chr21.plink.bim\n",
      "  merge time: 2.747s\n",
      "2024-05-14 05:14:53 Hail: INFO: merging 960 files totalling 102.0K...\n",
      "2024-05-14 05:14:55 Hail: INFO: while writing:\n",
      "    SG10K_SV_SG10K_Health_.chr21.plink.fam\n",
      "  merge time: 1.685s\n",
      "2024-05-14 05:14:55 Hail: INFO: wrote 2422523 variants and 5487 samples to 'SG10K_SV_SG10K_Health_.chr21.plink'\n",
      "2024-05-14 05:15:06 Hail: INFO: merging 853 files totalling 3.3G...\n",
      "2024-05-14 05:15:29 Hail: INFO: while writing:\n",
      "    SG10K_SV_SG10K_Health_.chr22.plink.bed\n",
      "  merge time: 22.318s\n",
      "2024-05-14 05:15:29 Hail: INFO: merging 852 files totalling 109.5M...\n",
      "2024-05-14 05:15:32 Hail: INFO: while writing:\n",
      "    SG10K_SV_SG10K_Health_.chr22.plink.bim\n",
      "  merge time: 2.988s\n",
      "2024-05-14 05:15:34 Hail: INFO: merging 960 files totalling 102.0K...\n",
      "2024-05-14 05:15:36 Hail: INFO: while writing:\n",
      "    SG10K_SV_SG10K_Health_.chr22.plink.fam\n",
      "  merge time: 1.709s\n",
      "2024-05-14 05:15:36 Hail: INFO: wrote 2615405 variants and 5487 samples to 'SG10K_SV_SG10K_Health_.chr22.plink'\n",
      "2024-05-14 05:15:56 Hail: INFO: merging 2224 files totalling 8.9G...\n",
      "2024-05-14 05:16:55 Hail: INFO: while writing:\n",
      "    SG10K_SV_SG10K_Health_.chrX.plink.bed\n",
      "  merge time: 59.258s\n",
      "2024-05-14 05:16:56 Hail: INFO: merging 2223 files totalling 277.0M...\n",
      "2024-05-14 05:17:03 Hail: INFO: while writing:\n",
      "    SG10K_SV_SG10K_Health_.chrX.plink.bim\n",
      "  merge time: 6.868s\n",
      "2024-05-14 05:17:12 Hail: INFO: merging 960 files totalling 102.0K...\n",
      "2024-05-14 05:17:14 Hail: INFO: while writing:\n",
      "    SG10K_SV_SG10K_Health_.chrX.plink.fam\n",
      "  merge time: 1.601s\n",
      "2024-05-14 05:17:14 Hail: INFO: wrote 6931481 variants and 5487 samples to 'SG10K_SV_SG10K_Health_.chrX.plink'\n",
      "2024-05-14 05:17:22 Hail: INFO: merging 120 files totalling 278.0M...\n",
      "2024-05-14 05:17:25 Hail: INFO: while writing:\n",
      "    SG10K_SV_SG10K_Health_.chrY.plink.bed\n",
      "  merge time: 2.841s\n",
      "2024-05-14 05:17:25 Hail: INFO: merging 119 files totalling 8.3M...\n",
      "2024-05-14 05:17:25 Hail: INFO: while writing:\n",
      "    SG10K_SV_SG10K_Health_.chrY.plink.bim\n",
      "  merge time: 383.010ms\n",
      "2024-05-14 05:17:27 Hail: INFO: merging 960 files totalling 102.0K...\n",
      "2024-05-14 05:17:28 Hail: INFO: while writing:\n",
      "    SG10K_SV_SG10K_Health_.chrY.plink.fam\n",
      "  merge time: 1.630s\n",
      "2024-05-14 05:17:28 Hail: INFO: wrote 212493 variants and 5487 samples to 'SG10K_SV_SG10K_Health_.chrY.plink'"
     ]
    }
   ],
   "source": [
    "## export to plink\n",
    "## export 1 chr 1 plinnk file\n",
    "\n",
    "# Chromosome list\n",
    "chroms = ['chr1', 'chr2', 'chr3', 'chr4', 'chr5', 'chr6', 'chr7', 'chr8', 'chr9', 'chr10', 'chr11', 'chr12', 'chr13', 'chr14', 'chr15', 'chr16', 'chr17', 'chr18', 'chr19', 'chr20', 'chr21', 'chr22', 'chrX', 'chrY']\n",
    "# Export plink for each chrom\n",
    "for chr in chroms:\n",
    "    # Extract chrom from mt\n",
    "    mt_sub = hl.filter_intervals(mt2, [hl.parse_locus_interval(chr, reference_genome='GRCh38')])\n",
    "    # Export plink\n",
    "    hl.export_plink(mt_sub, 'SG10K_SV_SG10K_Health_.' + chr + '.plink', varid=mt_sub.callers_info.varid)\n",
    "\n",
    "\n"
   ]
  },
  {
   "cell_type": "markdown",
   "id": "9716b69a-cd9e-490e-b635-4c0e529b5fa0",
   "metadata": {},
   "source": [
    "### Filter for high confidence (call rate >= 0.8) and common (MAF >= 1%) variants"
   ]
  },
  {
   "cell_type": "code",
   "execution_count": 3,
   "id": "80a06768-6c42-4732-b13b-4aec771e0437",
   "metadata": {},
   "outputs": [
    {
     "data": {
      "application/vnd.jupyter.widget-view+json": {
       "model_id": "",
       "version_major": 2,
       "version_minor": 0
      },
      "text/plain": [
       "FloatProgress(value=0.0, bar_style='info', description='Progress:', layout=Layout(height='25px', width='50%'),…"
      ]
     },
     "metadata": {},
     "output_type": "display_data"
    },
    {
     "name": "stdout",
     "output_type": "stream",
     "text": [
      "----------------------------------------\n",
      "Global fields:\n",
      "    None\n",
      "----------------------------------------\n",
      "Column fields:\n",
      "    's': str\n",
      "----------------------------------------\n",
      "Row fields:\n",
      "    'locus': locus<GRCh38>\n",
      "    'alleles': array<str>\n",
      "    'callers_info': struct {\n",
      "        SVTYPE: str, \n",
      "        varid: str\n",
      "    }\n",
      "----------------------------------------\n",
      "Entry fields:\n",
      "    'GT': call\n",
      "----------------------------------------\n",
      "Column key: ['s']\n",
      "Row key: ['locus', 'alleles']\n",
      "----------------------------------------"
     ]
    }
   ],
   "source": [
    "mt = hl.read_matrix_table(\"test_joined_SG10K-SV_SG10K_Health.GT-only-varid-recode_genotypes.mt\")\n",
    "mt.describe()"
   ]
  },
  {
   "cell_type": "code",
   "execution_count": 4,
   "id": "fcf39951-6652-4cc9-9a8c-3bf2e93bd893",
   "metadata": {},
   "outputs": [
    {
     "data": {
      "application/vnd.jupyter.widget-view+json": {
       "model_id": "",
       "version_major": 2,
       "version_minor": 0
      },
      "text/plain": [
       "FloatProgress(value=0.0, bar_style='info', description='Progress:', layout=Layout(height='25px', width='50%'),…"
      ]
     },
     "metadata": {},
     "output_type": "display_data"
    },
    {
     "name": "stdout",
     "output_type": "stream",
     "text": [
      "----------------------------------------\n",
      "Global fields:\n",
      "    None\n",
      "----------------------------------------\n",
      "Column fields:\n",
      "    's': str\n",
      "----------------------------------------\n",
      "Row fields:\n",
      "    'locus': locus<GRCh38>\n",
      "    'alleles': array<str>\n",
      "    'callers_info': struct {\n",
      "        SVTYPE: str, \n",
      "        varid: str\n",
      "    }\n",
      "    'variant_qc': struct {\n",
      "        AC: array<int32>, \n",
      "        AF: array<float64>, \n",
      "        AN: int32, \n",
      "        homozygote_count: array<int32>, \n",
      "        call_rate: float64, \n",
      "        n_called: int64, \n",
      "        n_not_called: int64, \n",
      "        n_filtered: int64, \n",
      "        n_het: int64, \n",
      "        n_non_ref: int64, \n",
      "        het_freq_hwe: float64, \n",
      "        p_value_hwe: float64, \n",
      "        p_value_excess_het: float64\n",
      "    }\n",
      "----------------------------------------\n",
      "Entry fields:\n",
      "    'GT': call\n",
      "----------------------------------------\n",
      "Column key: ['s']\n",
      "Row key: ['locus', 'alleles']\n",
      "----------------------------------------"
     ]
    }
   ],
   "source": [
    "# to get AF and call rate\n",
    "mt = hl.variant_qc(mt)\n",
    "mt.describe()"
   ]
  },
  {
   "cell_type": "code",
   "execution_count": 6,
   "id": "0f309cfe-755b-41fb-a36a-444abb9b81f1",
   "metadata": {},
   "outputs": [
    {
     "data": {
      "application/vnd.jupyter.widget-view+json": {
       "model_id": "",
       "version_major": 2,
       "version_minor": 0
      },
      "text/plain": [
       "FloatProgress(value=0.0, bar_style='info', description='Progress:', layout=Layout(height='25px', width='50%'),…"
      ]
     },
     "metadata": {},
     "output_type": "display_data"
    },
    {
     "name": "stdout",
     "output_type": "stream",
     "text": [
      "(158394558, 5487)"
     ]
    }
   ],
   "source": [
    "# Filter those with call rate \n",
    "mt_filtered = mt.filter_rows((mt.variant_qc.call_rate >= 0.8), keep=True)\n",
    "mt_filtered.count()"
   ]
  },
  {
   "cell_type": "code",
   "execution_count": 7,
   "id": "d1dfd98f-409b-45b2-a95a-14bc61abc772",
   "metadata": {},
   "outputs": [
    {
     "data": {
      "application/vnd.jupyter.widget-view+json": {
       "model_id": "",
       "version_major": 2,
       "version_minor": 0
      },
      "text/plain": [
       "FloatProgress(value=0.0, bar_style='info', description='Progress:', layout=Layout(height='25px', width='50%'),…"
      ]
     },
     "metadata": {},
     "output_type": "display_data"
    },
    {
     "name": "stdout",
     "output_type": "stream",
     "text": [
      "Struct(svtype_count=frozendict({'DEL': 11560, 'DUP': 32464, 'INS': 29011, 'SNP': 179418917}))"
     ]
    }
   ],
   "source": [
    "mt.aggregate_rows(hl.struct( svtype_count = hl.agg.counter(mt.callers_info.SVTYPE)))"
   ]
  },
  {
   "cell_type": "code",
   "execution_count": 8,
   "id": "17e78bc5-b2a5-497b-9b0e-4bdf3808c073",
   "metadata": {},
   "outputs": [
    {
     "data": {
      "application/vnd.jupyter.widget-view+json": {
       "model_id": "",
       "version_major": 2,
       "version_minor": 0
      },
      "text/plain": [
       "FloatProgress(value=0.0, bar_style='info', description='Progress:', layout=Layout(height='25px', width='50%'),…"
      ]
     },
     "metadata": {},
     "output_type": "display_data"
    },
    {
     "name": "stdout",
     "output_type": "stream",
     "text": [
      "Struct(svtype_count=frozendict({'DEL': 8296, 'DUP': 20579, 'INS': 24778, 'SNP': 158340905}))"
     ]
    }
   ],
   "source": [
    "mt_filtered.aggregate_rows(hl.struct( svtype_count = hl.agg.counter(mt_filtered.callers_info.SVTYPE)))"
   ]
  },
  {
   "cell_type": "code",
   "execution_count": 9,
   "id": "220827ad-9e87-4b24-94bd-431a80cccf9e",
   "metadata": {},
   "outputs": [
    {
     "data": {
      "application/vnd.jupyter.widget-view+json": {
       "model_id": "",
       "version_major": 2,
       "version_minor": 0
      },
      "text/plain": [
       "FloatProgress(value=0.0, bar_style='info', description='Progress:', layout=Layout(height='25px', width='50%'),…"
      ]
     },
     "metadata": {},
     "output_type": "display_data"
    },
    {
     "name": "stdout",
     "output_type": "stream",
     "text": [
      "(9456956, 5487)"
     ]
    }
   ],
   "source": [
    "# Filter for common variants\n",
    "mt_filtered = mt_filtered.filter_rows(mt_filtered.variant_qc.AF[1] >= 0.01, keep=True)\n",
    "mt_filtered.count()"
   ]
  },
  {
   "cell_type": "code",
   "execution_count": 10,
   "id": "f58a5bc4-5616-4b90-9c97-b0bd1ecb7f45",
   "metadata": {},
   "outputs": [
    {
     "data": {
      "application/vnd.jupyter.widget-view+json": {
       "model_id": "",
       "version_major": 2,
       "version_minor": 0
      },
      "text/plain": [
       "FloatProgress(value=0.0, bar_style='info', description='Progress:', layout=Layout(height='25px', width='50%'),…"
      ]
     },
     "metadata": {},
     "output_type": "display_data"
    },
    {
     "name": "stdout",
     "output_type": "stream",
     "text": [
      "Struct(svtype_count=frozendict({'DEL': 1516, 'DUP': 2078, 'INS': 3178, 'SNP': 9450184}))"
     ]
    }
   ],
   "source": [
    "mt_filtered.aggregate_rows(hl.struct( svtype_count = hl.agg.counter(mt_filtered.callers_info.SVTYPE)))"
   ]
  },
  {
   "cell_type": "code",
   "execution_count": 11,
   "id": "1cf5efa2-63b6-48ec-b5a1-7f5de7315091",
   "metadata": {},
   "outputs": [
    {
     "data": {
      "application/vnd.jupyter.widget-view+json": {
       "model_id": "",
       "version_major": 2,
       "version_minor": 0
      },
      "text/plain": [
       "FloatProgress(value=0.0, bar_style='info', description='Progress:', layout=Layout(height='25px', width='50%'),…"
      ]
     },
     "metadata": {},
     "output_type": "display_data"
    },
    {
     "name": "stdout",
     "output_type": "stream",
     "text": [
      "2024-05-16 03:33:28 Hail: INFO: merging 4484 files totalling 942.0M...\n",
      "2024-05-16 03:33:44 Hail: INFO: while writing:\n",
      "    SG10K_SV_SG10K_Health_filtered.chr1.plink.bed\n",
      "  merge time: 15.933s\n",
      "2024-05-16 03:33:45 Hail: INFO: merging 4483 files totalling 28.8M...\n",
      "2024-05-16 03:33:54 Hail: INFO: while writing:\n",
      "    SG10K_SV_SG10K_Health_filtered.chr1.plink.bim\n",
      "  merge time: 9.004s\n",
      "2024-05-16 03:33:56 Hail: INFO: merging 960 files totalling 102.0K...\n",
      "2024-05-16 03:33:58 Hail: INFO: while writing:\n",
      "    SG10K_SV_SG10K_Health_filtered.chr1.plink.fam\n",
      "  merge time: 1.651s\n",
      "2024-05-16 03:33:58 Hail: INFO: wrote 719975 variants and 5487 samples to 'SG10K_SV_SG10K_Health_filtered.chr1.plink'\n",
      "2024-05-16 03:34:41 Hail: INFO: merging 4557 files totalling 1002.7M...\n",
      "2024-05-16 03:34:57 Hail: INFO: while writing:\n",
      "   SG10K_SV_SG10K_Health_filtered.chr2.plink.bed\n",
      "  merge time: 15.831s\n",
      "2024-05-16 03:34:58 Hail: INFO: merging 4556 files totalling 30.7M...\n",
      "2024-05-16 03:35:06 Hail: INFO: while writing:\n",
      "    SG10K_SV_SG10K_Health_filtered.chr2.plink.bim\n",
      "  merge time: 8.285s\n",
      "2024-05-16 03:35:08 Hail: INFO: merging 960 files totalling 102.0K...\n",
      "2024-05-16 03:35:09 Hail: INFO: while writing:\n",
      "    SG10K_SV_SG10K_Health_filtered.chr2.plink.fam\n",
      "  merge time: 1.629s\n",
      "2024-05-16 03:35:09 Hail: INFO: wrote 766301 variants and 5487 samples to 'Filtered_callrate0.8_AF0.01/SG10K_SV_SG10K_Health_filtered.chr2.plink'\n",
      "2024-05-16 03:35:34 Hail: INFO: merging 3700 files totalling 871.7M...\n",
      "2024-05-16 03:35:47 Hail: INFO: while writing:\n",
      "    SG10K_SV_SG10K_Health_filtered.chr3.plink.bed\n",
      "  merge time: 12.802s\n",
      "2024-05-16 03:35:48 Hail: INFO: merging 3699 files totalling 26.5M...\n",
      "2024-05-16 03:35:55 Hail: INFO: while writing:\n",
      "    SG10K_SV_SG10K_Health_filtered.chr3.plink.bim\n",
      "  merge time: 6.874s\n",
      "2024-05-16 03:35:57 Hail: INFO: merging 960 files totalling 102.0K...\n",
      "2024-05-16 03:35:59 Hail: INFO: while writing:\n",
      "    SG10K_SV_SG10K_Health_filtered.chr3.plink.fam\n",
      "  merge time: 1.660s\n",
      "2024-05-16 03:35:59 Hail: INFO: wrote 666175 variants and 5487 samples to 'SG10K_SV_SG10K_Health_filtered.chr3.plink'\n",
      "2024-05-16 03:36:23 Hail: INFO: merging 3500 files totalling 897.3M...\n",
      "2024-05-16 03:36:36 Hail: INFO: while writing:\n",
      "    SG10K_SV_SG10K_Health_filtered.chr4.plink.bed\n",
      "  merge time: 12.335s\n",
      "2024-05-16 03:36:36 Hail: INFO: merging 3499 files totalling 27.3M...\n",
      "2024-05-16 03:36:43 Hail: INFO: while writing:\n",
      "    SG10K_SV_SG10K_Health_filtered.chr4.plink.bim\n",
      "  merge time: 6.315s\n",
      "2024-05-16 03:36:50 Hail: INFO: merging 960 files totalling 102.0K...\n",
      "2024-05-16 03:36:52 Hail: INFO: while writing:\n",
      "    SG10K_SV_SG10K_Health_filtered.chr4.plink.fam\n",
      "  merge time: 1.668s\n",
      "2024-05-16 03:36:52 Hail: INFO: wrote 685757 variants and 5487 samples to 'SG10K_SV_SG10K_Health_filtered.chr4.plink'\n",
      "2024-05-16 03:37:15 Hail: INFO: merging 3310 files totalling 766.2M...\n",
      "2024-05-16 03:37:26 Hail: INFO: while writing:\n",
      "    SG10K_SV_SG10K_Health_filtered.chr5.plink.bed\n",
      "  merge time: 11.356s\n",
      "2024-05-16 03:37:27 Hail: INFO: merging 3309 files totalling 23.3M...\n",
      "2024-05-16 03:37:32 Hail: INFO: while writing:\n",
      "    SG10K_SV_SG10K_Health_filtered.chr5.plink.bim\n",
      "  merge time: 5.980s\n",
      "2024-05-16 03:37:34 Hail: INFO: merging 960 files totalling 102.0K...\n",
      "2024-05-16 03:37:36 Hail: INFO: while writing:\n",
      "    SG10K_SV_SG10K_Health_filtered.chr5.plink.fam\n",
      "  merge time: 1.709s\n",
      "2024-05-16 03:37:36 Hail: INFO: wrote 585577 variants and 5487 samples to 'SG10K_SV_SG10K_Health_filtered.chr5.plink'\n",
      "2024-05-16 03:37:55 Hail: INFO: merging 3144 files totalling 811.4M...\n",
      "2024-05-16 03:38:07 Hail: INFO: while writing:\n",
      "    SG10K_SV_SG10K_Health_filtered.chr6.plink.bed\n",
      "  merge time: 11.597s\n",
      "2024-05-16 03:38:07 Hail: INFO: merging 3143 files totalling 24.6M...\n",
      "2024-05-16 03:38:13 Hail: INFO: while writing:\n",
      "    SG10K_SV_SG10K_Health_filtered.chr6.plink.bim\n",
      "  merge time: 5.655s\n",
      "2024-05-16 03:38:15 Hail: INFO: merging 960 files totalling 102.0K...\n",
      "2024-05-16 03:38:16 Hail: INFO: while writing:\n",
      "    SG10K_SV_SG10K_Health_filtered.chr6.plink.fam\n",
      "  merge time: 1.616s\n",
      "2024-05-16 03:38:16 Hail: INFO: wrote 620143 variants and 5487 samples to 'SG10K_SV_SG10K_Health_filtered.chr6.plink'\n",
      "2024-05-16 03:38:38 Hail: INFO: merging 3111 files totalling 706.7M...\n",
      "2024-05-16 03:38:49 Hail: INFO: while writing:\n",
      "    SG10K_SV_SG10K_Health_filtered.chr7.plink.bed\n",
      "  merge time: 10.824s\n",
      "2024-05-16 03:38:50 Hail: INFO: merging 3110 files totalling 21.4M...\n",
      "2024-05-16 03:38:56 Hail: INFO: while writing:\n",
      "    SG10K_SV_SG10K_Health_filtered.chr7.plink.bim\n",
      "  merge time: 6.199s\n",
      "2024-05-16 03:38:57 Hail: INFO: merging 960 files totalling 102.0K...\n",
      "2024-05-16 03:38:59 Hail: INFO: while writing:\n",
      "    SG10K_SV_SG10K_Health_filtered.chr7.plink.fam\n",
      "  merge time: 1.651s\n",
      "2024-05-16 03:38:59 Hail: INFO: wrote 540105 variants and 5487 samples to 'SG10K_SV_SG10K_Health_filtered.chr7.plink'\n",
      "2024-05-16 03:39:18 Hail: INFO: merging 2830 files totalling 648.2M...\n",
      "2024-05-16 03:39:29 Hail: INFO: while writing:\n",
      "    SG10K_SV_SG10K_Health_filtered.chr8.plink.bed\n",
      "  merge time: 10.255s\n",
      "2024-05-16 03:39:29 Hail: INFO: merging 2829 files totalling 19.5M...\n",
      "2024-05-16 03:39:34 Hail: INFO: while writing:\n",
      "    SG10K_SV_SG10K_Health_filtered.chr8.plink.bim\n",
      "  merge time: 5.137s\n",
      "2024-05-16 03:39:36 Hail: INFO: merging 960 files totalling 102.0K...\n",
      "2024-05-16 03:39:37 Hail: INFO: while writing:\n",
      "    SG10K_SV_SG10K_Health_filtered.chr8.plink.fam\n",
      "  merge time: 1.608s\n",
      "2024-05-16 03:39:37 Hail: INFO: wrote 495372 variants and 5487 samples to 'SG10K_SV_SG10K_Health_filtered.chr8.plink'\n",
      "2024-05-16 03:39:57 Hail: INFO: merging 2397 files totalling 527.8M...\n",
      "2024-05-16 03:40:06 Hail: INFO: while writing:\n",
      "    SG10K_SV_SG10K_Health_filtered.chr9.plink.bed\n",
      "  merge time: 8.374s\n",
      "2024-05-16 03:40:06 Hail: INFO: merging 2396 files totalling 15.9M...\n",
      "2024-05-16 03:40:10 Hail: INFO: while writing:\n",
      "    SG10K_SV_SG10K_Health_filtered.chr9.plink.bim\n",
      "  merge time: 4.183s\n",
      "2024-05-16 03:40:11 Hail: INFO: merging 960 files totalling 102.0K...\n",
      "2024-05-16 03:40:13 Hail: INFO: while writing:\n",
      "    SG10K_SV_SG10K_Health_filtered.chr9.plink.fam\n",
      "  merge time: 1.604s\n",
      "2024-05-16 03:40:13 Hail: INFO: wrote 403345 variants and 5487 samples to 'SG10K_SV_SG10K_Health_filtered.chr9.plink'\n",
      "2024-05-16 03:40:31 Hail: INFO: merging 2597 files totalling 623.3M...\n",
      "2024-05-16 03:40:41 Hail: INFO: while writing:\n",
      "    SG10K_SV_SG10K_Health_filtered.chr10.plink.bed\n",
      "  merge time: 10.078s\n",
      "2024-05-16 03:40:42 Hail: INFO: merging 2596 files totalling 19.6M...\n",
      "2024-05-16 03:40:46 Hail: INFO: while writing:\n",
      "    SG10K_SV_SG10K_Health_filtered.chr10.plink.bim\n",
      "  merge time: 4.693s\n",
      "2024-05-16 03:40:51 Hail: INFO: merging 960 files totalling 102.0K...\n",
      "2024-05-16 03:40:53 Hail: INFO: while writing:\n",
      "    SG10K_SV_SG10K_Health_filtered.chr10.plink.fam\n",
      "  merge time: 2.030s\n",
      "2024-05-16 03:40:53 Hail: INFO: wrote 476331 variants and 5487 samples to 'SG10K_SV_SG10K_Health_filtered.chr10.plink'\n",
      "2024-05-16 03:41:09 Hail: INFO: merging 2555 files totalling 593.5M...\n",
      "2024-05-16 03:41:18 Hail: INFO: while writing:\n",
      "    SG10K_SV_SG10K_Health_filtered.chr11.plink.bed\n",
      "  merge time: 8.756s\n",
      "2024-05-16 03:41:18 Hail: INFO: merging 2554 files totalling 18.7M...\n",
      "2024-05-16 03:41:23 Hail: INFO: while writing:\n",
      "    SG10K_SV_SG10K_Health_filtered.chr11.plink.bim\n",
      "  merge time: 4.705s\n",
      "2024-05-16 03:41:24 Hail: INFO: merging 960 files totalling 102.0K...\n",
      "2024-05-16 03:41:26 Hail: INFO: while writing:\n",
      "    SG10K_SV_SG10K_Health_filtered.chr11.plink.fam\n",
      "  merge time: 1.571s\n",
      "2024-05-16 03:41:26 Hail: INFO: wrote 453625 variants and 5487 samples to 'SG10K_SV_SG10K_Health_filtered.chr11.plink'\n",
      "2024-05-16 03:41:47 Hail: INFO: merging 2532 files totalling 587.8M...\n",
      "2024-05-16 03:41:56 Hail: INFO: while writing:\n",
      "    SG10K_SV_SG10K_Health_filtered.chr12.plink.bed\n",
      "  merge time: 9.586s\n",
      "2024-05-16 03:41:57 Hail: INFO: merging 2531 files totalling 18.5M...\n",
      "2024-05-16 03:42:01 Hail: INFO: while writing:\n",
      "    SG10K_SV_SG10K_Health_filtered.chr12.plink.bim\n",
      "  merge time: 4.646s\n",
      "2024-05-16 03:42:03 Hail: INFO: merging 960 files totalling 102.0K...\n",
      "2024-05-16 03:42:04 Hail: INFO: while writing:\n",
      "    SG10K_SV_SG10K_Health_filtered.chr12.plink.fam\n",
      "  merge time: 1.665s\n",
      "2024-05-16 03:42:04 Hail: INFO: wrote 449272 variants and 5487 samples to 'SG10K_SV_SG10K_Health_filtered.chr12.plink'\n",
      "2024-05-16 03:42:20 Hail: INFO: merging 1959 files totalling 455.7M...\n",
      "2024-05-16 03:42:27 Hail: INFO: while writing:\n",
      "    SG10K_SV_SG10K_Health_filtered.chr13.plink.bed\n",
      "  merge time: 7.627s\n",
      "2024-05-16 03:42:28 Hail: INFO: merging 1958 files totalling 14.4M...\n",
      "2024-05-16 03:42:31 Hail: INFO: while writing:\n",
      "    SG10K_SV_SG10K_Health_filtered.chr13.plink.bim\n",
      "  merge time: 3.578s\n",
      "2024-05-16 03:42:36 Hail: INFO: merging 960 files totalling 102.0K...\n",
      "2024-05-16 03:42:38 Hail: INFO: while writing:\n",
      "    SG10K_SV_SG10K_Health_filtered.chr13.plink.fam\n",
      "  merge time: 1.745s\n",
      "2024-05-16 03:42:38 Hail: INFO: wrote 348304 variants and 5487 samples to 'SG10K_SV_SG10K_Health_filtered.chr13.plink'\n",
      "2024-05-16 03:42:51 Hail: INFO: merging 1676 files totalling 396.7M...\n",
      "2024-05-16 03:42:58 Hail: INFO: while writing:\n",
      "    SG10K_SV_SG10K_Health_filtered.chr14.plink.bed\n",
      "  merge time: 7.108s\n",
      "2024-05-16 03:42:59 Hail: INFO: merging 1675 files totalling 12.5M...\n",
      "2024-05-16 03:43:02 Hail: INFO: while writing:\n",
      "    SG10K_SV_SG10K_Health_filtered.chr14.plink.bim\n",
      "  merge time: 3.056s\n",
      "2024-05-16 03:43:03 Hail: INFO: merging 960 files totalling 102.0K...\n",
      "2024-05-16 03:43:05 Hail: INFO: while writing:\n",
      "    SG10K_SV_SG10K_Health_filtered.chr14.plink.fam\n",
      "  merge time: 1.630s\n",
      "2024-05-16 03:43:05 Hail: INFO: wrote 303190 variants and 5487 samples to 'SG10K_SV_SG10K_Health_filtered.chr14.plink'\n",
      "2024-05-16 03:43:20 Hail: INFO: merging 1582 files totalling 352.9M...\n",
      "2024-05-16 03:43:26 Hail: INFO: while writing:\n",
      "    SG10K_SV_SG10K_Health_filtered.chr15.plink.bed\n",
      "  merge time: 6.431s\n",
      "2024-05-16 03:43:26 Hail: INFO: merging 1581 files totalling 11.0M...\n",
      "2024-05-16 03:43:29 Hail: INFO: while writing:\n",
      "    SG10K_SV_SG10K_Health_filtered.chr15.plink.bim\n",
      "  merge time: 2.811s\n",
      "2024-05-16 03:43:35 Hail: INFO: merging 960 files totalling 102.0K...\n",
      "2024-05-16 03:43:36 Hail: INFO: while writing:\n",
      "    SG10K_SV_SG10K_Health_filtered.chr15.plink.fam\n",
      "  merge time: 1.520s\n",
      "2024-05-16 03:43:36 Hail: INFO: wrote 269708 variants and 5487 samples to 'SG10K_SV_SG10K_Health_filtered.chr15.plink'\n",
      "2024-05-16 03:43:51 Hail: INFO: merging 1824 files totalling 357.0M...\n",
      "2024-05-16 03:43:58 Hail: INFO: while writing:\n",
      "    SG10K_SV_SG10K_Health_filtered.chr16.plink.bed\n",
      "  merge time: 6.854s\n",
      "2024-05-16 03:43:58 Hail: INFO: merging 1823 files totalling 11.1M...\n",
      "2024-05-16 03:44:02 Hail: INFO: while writing:\n",
      "    SG10K_SV_SG10K_Health_filtered.chr16.plink.bim\n",
      "  merge time: 3.287s\n",
      "2024-05-16 03:44:03 Hail: INFO: merging 960 files totalling 102.0K...\n",
      "2024-05-16 03:44:05 Hail: INFO: while writing:\n",
      "    SG10K_SV_SG10K_Health_filtered.chr16.plink.fam\n",
      "  merge time: 1.584s\n",
      "2024-05-16 03:44:05 Hail: INFO: wrote 272820 variants and 5487 samples to 'SG10K_SV_SG10K_Health_filtered.chr16.plink'\n",
      "2024-05-16 03:44:19 Hail: INFO: merging 1613 files totalling 317.2M...\n",
      "2024-05-16 03:44:26 Hail: INFO: while writing:\n",
      "    SG10K_SV_SG10K_Health_filtered.chr17.plink.bed\n",
      "  merge time: 6.729s\n",
      "2024-05-16 03:44:26 Hail: INFO: merging 1612 files totalling 9.9M...\n",
      "2024-05-16 03:44:29 Hail: INFO: while writing:\n",
      "    SG10K_SV_SG10K_Health_filtered.chr17.plink.bim\n",
      "  merge time: 2.790s\n",
      "2024-05-16 03:44:34 Hail: INFO: merging 960 files totalling 102.0K...\n",
      "2024-05-16 03:44:35 Hail: INFO: while writing:\n",
      "    SG10K_SV_SG10K_Health_filtered.chr17.plink.fam\n",
      "  merge time: 1.566s\n",
      "2024-05-16 03:44:35 Hail: INFO: wrote 242396 variants and 5487 samples to 'SG10K_SV_SG10K_Health_filtered.chr17.plink'\n",
      "2024-05-16 03:44:51 Hail: INFO: merging 1507 files totalling 351.4M...\n",
      "2024-05-16 03:44:57 Hail: INFO: while writing:\n",
      "    SG10K_SV_SG10K_Health_filtered.chr18.plink.bed\n",
      "  merge time: 6.223s\n",
      "2024-05-16 03:44:58 Hail: INFO: merging 1506 files totalling 10.9M...\n",
      "2024-05-16 03:45:00 Hail: INFO: while writing:\n",
      "    SG10K_SV_SG10K_Health_filtered.chr18.plink.bim\n",
      "  merge time: 2.731s\n",
      "2024-05-16 03:45:02 Hail: INFO: merging 960 files totalling 102.0K...\n",
      "2024-05-16 03:45:03 Hail: INFO: while writing:\n",
      "    SG10K_SV_SG10K_Health_filtered.chr18.plink.fam\n",
      "  merge time: 1.646s\n",
      "2024-05-16 03:45:03 Hail: INFO: wrote 268573 variants and 5487 samples to 'SG10K_SV_SG10K_Health_filtered.chr18.plink'\n",
      "2024-05-16 03:45:14 Hail: INFO: merging 1303 files totalling 265.6M...\n",
      "2024-05-16 03:45:20 Hail: INFO: while writing:\n",
      "    SG10K_SV_SG10K_Health_filtered.chr19.plink.bed\n",
      "  merge time: 5.924s\n",
      "2024-05-16 03:45:20 Hail: INFO: merging 1302 files totalling 8.3M...\n",
      "2024-05-16 03:45:23 Hail: INFO: while writing:\n",
      "    SG10K_SV_SG10K_Health_filtered.chr19.plink.bim\n",
      "  merge time: 2.472s\n",
      "2024-05-16 03:45:24 Hail: INFO: merging 960 files totalling 102.0K...\n",
      "2024-05-16 03:45:25 Hail: INFO: while writing:\n",
      "    SG10K_SV_SG10K_Health_filtered.chr19.plink.fam\n",
      "  merge time: 1.589s\n",
      "2024-05-16 03:45:25 Hail: INFO: wrote 203008 variants and 5487 samples to 'SG10K_SV_SG10K_Health_filtered.chr19.plink'\n",
      "2024-05-16 03:45:42 Hail: INFO: merging 1244 files totalling 263.2M...\n",
      "2024-05-16 03:45:47 Hail: INFO: while writing:\n",
      "    SG10K_SV_SG10K_Health_filtered.chr20.plink.bed\n",
      "  merge time: 4.789s\n",
      "2024-05-16 03:45:47 Hail: INFO: merging 1243 files totalling 8.2M...\n",
      "2024-05-16 03:45:50 Hail: INFO: while writing:\n",
      "    SG10K_SV_SG10K_Health_filtered.chr20.plink.bim\n",
      "  merge time: 2.185s\n",
      "2024-05-16 03:45:51 Hail: INFO: merging 960 files totalling 102.0K...\n",
      "2024-05-16 03:45:53 Hail: INFO: while writing:\n",
      "    SG10K_SV_SG10K_Health_filtered.chr20.plink.fam\n",
      "  merge time: 1.792s\n",
      "2024-05-16 03:45:53 Hail: INFO: wrote 201173 variants and 5487 samples to 'SG10K_SV_SG10K_Health_filtered.chr20.plink'\n",
      "2024-05-16 03:46:05 Hail: INFO: merging 794 files totalling 166.9M...\n",
      "2024-05-16 03:46:08 Hail: INFO: while writing:\n",
      "    SG10K_SV_SG10K_Health_filtered.chr21.plink.bed\n",
      "  merge time: 3.416s\n",
      "2024-05-16 03:46:08 Hail: INFO: merging 793 files totalling 5.2M...\n",
      "2024-05-16 03:46:10 Hail: INFO: while writing:\n",
      "    SG10K_SV_SG10K_Health_filtered.chr21.plink.bim\n",
      "  merge time: 1.453s\n",
      "2024-05-16 03:46:11 Hail: INFO: merging 960 files totalling 102.0K...\n",
      "2024-05-16 03:46:12 Hail: INFO: while writing:\n",
      "    SG10K_SV_SG10K_Health_filtered.chr21.plink.fam\n",
      "  merge time: 1.564s\n",
      "2024-05-16 03:46:12 Hail: INFO: wrote 127542 variants and 5487 samples to 'SG10K_SV_SG10K_Health_filtered.chr21.plink'\n",
      "2024-05-16 03:46:23 Hail: INFO: merging 853 files totalling 165.5M...\n",
      "2024-05-16 03:46:29 Hail: INFO: while writing:\n",
      "    SG10K_SV_SG10K_Health_filtered.chr22.plink.bed\n",
      "  merge time: 6.218s\n",
      "2024-05-16 03:46:29 Hail: INFO: merging 852 files totalling 5.2M...\n",
      "2024-05-16 03:46:31 Hail: INFO: while writing:\n",
      "    SG10K_SV_SG10K_Health_filtered.chr22.plink.bim\n",
      "  merge time: 1.593s\n",
      "2024-05-16 03:46:32 Hail: INFO: merging 960 files totalling 102.0K...\n",
      "2024-05-16 03:46:34 Hail: INFO: while writing:\n",
      "    SG10K_SV_SG10K_Health_filtered.chr22.plink.fam\n",
      "  merge time: 1.669s\n",
      "2024-05-16 03:46:34 Hail: INFO: wrote 126505 variants and 5487 samples to 'SG10K_SV_SG10K_Health_filtered.chr22.plink'"
     ]
    }
   ],
   "source": [
    "## export to plink\n",
    "## export 1 chr 1 plinnk file\n",
    "\n",
    "# Chromosome list\n",
    "chroms = ['chr1', 'chr2', 'chr3', 'chr4', 'chr5', 'chr6', 'chr7', 'chr8', 'chr9', 'chr10', 'chr11', 'chr12', 'chr13', 'chr14', 'chr15', 'chr16', 'chr17', 'chr18', 'chr19', 'chr20', 'chr21', 'chr22']\n",
    "# Export plink for each chrom\n",
    "for chr in chroms:\n",
    "    # Extract chrom from mt\n",
    "    mt_sub = hl.filter_intervals(mt_filtered, [hl.parse_locus_interval(chr, reference_genome='GRCh38')])\n",
    "    # Export plink\n",
    "    hl.export_plink(mt_sub, 'SG10K_SV_SG10K_Health_filtered.' + chr + '.plink', varid=mt_sub.callers_info.varid)\n",
    "\n",
    "\n"
   ]
  },
  {
   "cell_type": "code",
   "execution_count": null,
   "id": "6fec6d99-0460-4bbd-8611-00ab6af0225f",
   "metadata": {},
   "outputs": [],
   "source": []
  }
 ],
 "metadata": {
  "kernelspec": {
   "display_name": "PySpark",
   "language": "python",
   "name": "pysparkkernel"
  },
  "language_info": {
   "codemirror_mode": {
    "name": "python",
    "version": 3
   },
   "file_extension": ".py",
   "mimetype": "text/x-python",
   "name": "pyspark",
   "pygments_lexer": "python3"
  }
 },
 "nbformat": 4,
 "nbformat_minor": 5
}

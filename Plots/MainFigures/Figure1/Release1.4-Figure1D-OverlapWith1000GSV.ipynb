{
 "cells": [
  {
   "cell_type": "markdown",
   "id": "f493eee1-fd5d-4684-acd0-60db38881f4f",
   "metadata": {},
   "source": [
    "### This notebook focus on plotting the number of SVs which overlaps with 1000G"
   ]
  },
  {
   "cell_type": "code",
   "execution_count": 1,
   "id": "2d867b22-8aa6-44eb-9672-2d1b2fbb0655",
   "metadata": {},
   "outputs": [
    {
     "name": "stdout",
     "output_type": "stream",
     "text": [
      "Starting Spark application\n"
     ]
    },
    {
     "data": {
      "text/html": [],
      "text/plain": [
       "<IPython.core.display.HTML object>"
      ]
     },
     "metadata": {},
     "output_type": "display_data"
    },
    {
     "data": {
      "application/vnd.jupyter.widget-view+json": {
       "model_id": "",
       "version_major": 2,
       "version_minor": 0
      },
      "text/plain": [
       "FloatProgress(value=0.0, bar_style='info', description='Progress:', layout=Layout(height='25px', width='50%'),…"
      ]
     },
     "metadata": {},
     "output_type": "display_data"
    },
    {
     "name": "stdout",
     "output_type": "stream",
     "text": [
      "SparkSession available as 'spark'.\n"
     ]
    },
    {
     "data": {
      "application/vnd.jupyter.widget-view+json": {
       "model_id": "",
       "version_major": 2,
       "version_minor": 0
      },
      "text/plain": [
       "FloatProgress(value=0.0, bar_style='info', description='Progress:', layout=Layout(height='25px', width='50%'),…"
      ]
     },
     "metadata": {},
     "output_type": "display_data"
    }
   ],
   "source": [
    "import pandas as pd\n",
    "import seaborn as sns\n",
    "import matplotlib.pyplot as plt\n",
    "import matplotlib.patches as mpatches"
   ]
  },
  {
   "cell_type": "code",
   "execution_count": 2,
   "id": "65314dca-7d72-4bb3-9a7e-e2d2bcf36a79",
   "metadata": {},
   "outputs": [
    {
     "data": {
      "application/vnd.jupyter.widget-view+json": {
       "model_id": "",
       "version_major": 2,
       "version_minor": 0
      },
      "text/plain": [
       "FloatProgress(value=0.0, bar_style='info', description='Progress:', layout=Layout(height='25px', width='50%'),…"
      ]
     },
     "metadata": {},
     "output_type": "display_data"
    }
   ],
   "source": [
    "# SG10K-SV Release1.4 overlap 1000G\n",
    "df = pd.DataFrame({\n",
    "    'SVTYPE': [\"DEL\", \"DUP\", \"INS\"],\n",
    "    'SG10K-SV r1.4': [11560, 32465, 29011],\n",
    "    '1000G-SV': [3105, 284, 6279]\n",
    "})\n"
   ]
  },
  {
   "cell_type": "code",
   "execution_count": 3,
   "id": "ce77ab5a-6186-41f2-87ef-03d59ad87f3e",
   "metadata": {},
   "outputs": [
    {
     "data": {
      "application/vnd.jupyter.widget-view+json": {
       "model_id": "",
       "version_major": 2,
       "version_minor": 0
      },
      "text/plain": [
       "FloatProgress(value=0.0, bar_style='info', description='Progress:', layout=Layout(height='25px', width='50%'),…"
      ]
     },
     "metadata": {},
     "output_type": "display_data"
    }
   ],
   "source": [
    "## Colour code plan\n",
    "## sg10ksv_palette = c(\n",
    "#    \"#D62628\",    # SG-Chinese\n",
    "#    \"#9467BD\",    # SG-Indian\n",
    "#    \"#2EA02B\",    # SG-Malay\n",
    "#    \"#4DBBD5FF\",  # DEL\n",
    "#    \"#DE8F44\",    # INS\n",
    "##    \"#00A087FF\"   # DUP\n",
    "##)\n",
    "onekg_color = ['#4DBBD5FF','#00A087FF', '#DE8F44']\n",
    "\n",
    "sg10k_color = ['#97FFFF','#C1FFC1', '#FFEC8B']\n",
    "\n",
    "# Control legend color\n",
    "del_Gnomad_patch = mpatches.Patch(color= onekg_color[0] )\n",
    "dup_Gnomad_patch = mpatches.Patch(color= onekg_color[1] )\n",
    "ins_Gnomad_patch = mpatches.Patch(color= onekg_color[2] )\n",
    "\n",
    "del_SG10K_patch = mpatches.Patch(color= sg10k_color[0] )\n",
    "dup_SG10K_patch = mpatches.Patch(color= sg10k_color[1] )\n",
    "ins_SG10K_patch = mpatches.Patch(color= sg10k_color[2] )"
   ]
  },
  {
   "cell_type": "code",
   "execution_count": 4,
   "id": "a42ce988-b168-456f-9236-0a2ff3c16d81",
   "metadata": {},
   "outputs": [
    {
     "name": "stdout",
     "output_type": "stream",
     "text": [
      "Requirement already satisfied: boto3 in /opt/conda/lib/python3.9/site-packages (1.17.106)\n",
      "Requirement already satisfied: s3transfer<0.5.0,>=0.4.0 in /opt/conda/lib/python3.9/site-packages (from boto3) (0.4.2)\n",
      "Requirement already satisfied: jmespath<1.0.0,>=0.7.1 in /opt/conda/lib/python3.9/site-packages (from boto3) (0.10.0)\n",
      "Requirement already satisfied: botocore<1.21.0,>=1.20.106 in /opt/conda/lib/python3.9/site-packages (from boto3) (1.20.106)\n",
      "Requirement already satisfied: urllib3<1.27,>=1.25.4 in /opt/conda/lib/python3.9/site-packages (from botocore<1.21.0,>=1.20.106->boto3) (1.26.6)\n",
      "Requirement already satisfied: python-dateutil<3.0.0,>=2.1 in /opt/conda/lib/python3.9/site-packages (from botocore<1.21.0,>=1.20.106->boto3) (2.8.2)\n",
      "Requirement already satisfied: six>=1.5 in /opt/conda/lib/python3.9/site-packages (from python-dateutil<3.0.0,>=2.1->botocore<1.21.0,>=1.20.106->boto3) (1.16.0)\n"
     ]
    }
   ],
   "source": [
    "%%sh\n",
    "pip install boto3"
   ]
  },
  {
   "cell_type": "code",
   "execution_count": 5,
   "id": "3d431b9e-de96-4839-92b5-73fd32991c63",
   "metadata": {},
   "outputs": [
    {
     "data": {
      "application/vnd.jupyter.widget-view+json": {
       "model_id": "",
       "version_major": 2,
       "version_minor": 0
      },
      "text/plain": [
       "FloatProgress(value=0.0, bar_style='info', description='Progress:', layout=Layout(height='25px', width='50%'),…"
      ]
     },
     "metadata": {},
     "output_type": "display_data"
    }
   ],
   "source": [
    "import boto3\n",
    "import io\n",
    "import matplotlib.pyplot as plt\n",
    "import seaborn as sns\n",
    "\n",
    "def save_fig_to_s3(fig, bucket, key):\n",
    "    img_data = io.BytesIO()\n",
    "    fig.savefig(img_data, format='svg', dpi=300)\n",
    "    img_data.seek(0)\n",
    "\n",
    "    s3 = boto3.client('s3')\n",
    "    response = s3.put_object(Bucket=bucket, Key=key, Body=img_data, ContentType='image/svg')\n",
    "    print(response)"
   ]
  },
  {
   "cell_type": "code",
   "execution_count": 6,
   "id": "a812f969-0f78-4e15-bcbe-a660d7cff5df",
   "metadata": {},
   "outputs": [
    {
     "data": {
      "application/vnd.jupyter.widget-view+json": {
       "model_id": "",
       "version_major": 2,
       "version_minor": 0
      },
      "text/plain": [
       "FloatProgress(value=0.0, bar_style='info', description='Progress:', layout=Layout(height='25px', width='50%'),…"
      ]
     },
     "metadata": {},
     "output_type": "display_data"
    }
   ],
   "source": [
    "ax = plt.subplots(figsize=(10,10))\n",
    "ax = plt.subplots()\n",
    "\n",
    "# plotting columns\n",
    "ax = sns.barplot(x=df[\"SVTYPE\"], y=df[\"SG10K-SV r1.4\"],  palette = sg10k_color , label=\"SG10K-SV r1.4\" )\n",
    "ax = sns.barplot(x=df[\"SVTYPE\"], y=df[\"1000G-SV\"],  palette = onekg_color , label= \"1000G-SV\")\n",
    " \n",
    "# renaming the axes\n",
    "ax.set(xlabel=\"SVTYPE\", ylabel=\"Count\")\n",
    "# ax.set_title(\"SG10K-SV r1.3 overlap Gnomad-SV\")\n",
    "\n",
    "\n",
    "plt.legend(loc=0, \\\n",
    "           labels=['DEL (SG10K-SV)', 'DEL (1000G-SV)', 'DUP (SG10K-SV)', 'DUP (1000G-SV)',   'INS (SG10K-SV)', 'INS (1000G-SV)'] , \\\n",
    "           handles= [del_SG10K_patch, del_Gnomad_patch, dup_SG10K_patch, dup_Gnomad_patch, ins_SG10K_patch, ins_Gnomad_patch])\n",
    "\n",
    "ax.grid(axis=\"y\" , linewidth=0.4)\n",
    "ax.set_axisbelow(True)"
   ]
  },
  {
   "cell_type": "code",
   "execution_count": 7,
   "id": "e2dd7e6a-f00f-4fa8-b693-71b0134b2bc3",
   "metadata": {},
   "outputs": [
    {
     "data": {
      "application/vnd.jupyter.widget-view+json": {
       "model_id": "",
       "version_major": 2,
       "version_minor": 0
      },
      "text/plain": [
       "FloatProgress(value=0.0, bar_style='info', description='Progress:', layout=Layout(height='25px', width='50%'),…"
      ]
     },
     "metadata": {},
     "output_type": "display_data"
    },
    {
     "data": {
      "image/png": "[encoded data removed]",
      "text/plain": [
       "<IPython.core.display.Image object>"
      ]
     },
     "metadata": {},
     "output_type": "display_data"
    }
   ],
   "source": [
    "%matplot plt"
   ]
  },
  {
   "cell_type": "code",
   "execution_count": 8,
   "id": "c28e9883-98d7-4178-ac2d-953c4228e6a7",
   "metadata": {},
   "outputs": [
    {
     "data": {
      "application/vnd.jupyter.widget-view+json": {
       "model_id": "",
       "version_major": 2,
       "version_minor": 0
      },
      "text/plain": [
       "FloatProgress(value=0.0, bar_style='info', description='Progress:', layout=Layout(height='25px', width='50%'),…"
      ]
     },
     "metadata": {},
     "output_type": "display_data"
    },
    {
     "name": "stdout",
     "output_type": "stream",
     "text": []
    }
   ],
   "source": [
    "save_fig_to_s3(plt, \"Figures\", \"Figure1/Fig1D_Overlapwith1000G.svg\")"
   ]
  },
  {
   "cell_type": "code",
   "execution_count": null,
   "id": "c90e7cc2-0e43-44d4-9745-12889205249f",
   "metadata": {},
   "outputs": [],
   "source": []
  }
 ],
 "metadata": {
  "kernelspec": {
   "display_name": "PySpark",
   "language": "python",
   "name": "pysparkkernel"
  },
  "language_info": {
   "codemirror_mode": {
    "name": "python",
    "version": 3
   },
   "file_extension": ".py",
   "mimetype": "text/x-python",
   "name": "pyspark",
   "pygments_lexer": "python3"
  }
 },
 "nbformat": 4,
 "nbformat_minor": 5
}

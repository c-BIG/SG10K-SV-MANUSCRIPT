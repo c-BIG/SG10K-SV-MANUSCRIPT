{
 "cells": [
  {
   "cell_type": "code",
   "execution_count": 1,
   "id": "73c287e7-ff74-4cbf-9ff2-111d2b6ba4c0",
   "metadata": {},
   "outputs": [
    {
     "data": {
      "text/html": [
       "Current session configs: <tt>{'driverMemory': '6000M', 'proxyUser': 'jovyan', 'kind': 'pyspark'}</tt><br>"
      ],
      "text/plain": [
       "<IPython.core.display.HTML object>"
      ]
     },
     "metadata": {},
     "output_type": "display_data"
    },
    {
     "data": {
      "text/html": [],
      "text/plain": [
       "<IPython.core.display.HTML object>"
      ]
     },
     "metadata": {},
     "output_type": "display_data"
    }
   ],
   "source": [
    "%%configure -f\n",
    "{\"driverMemory\": \"6000M\"}"
   ]
  },
  {
   "cell_type": "code",
   "execution_count": 2,
   "id": "9ee03c1d-55ca-4f5c-815f-e1ce21139a8d",
   "metadata": {},
   "outputs": [
    {
     "name": "stdout",
     "output_type": "stream",
     "text": [
      "Starting Spark application\n"
     ]
    },
    {
     "data": {
      "text/html": [],
      "text/plain": [
       "<IPython.core.display.HTML object>"
      ]
     },
     "metadata": {},
     "output_type": "display_data"
    },
    {
     "data": {
      "application/vnd.jupyter.widget-view+json": {
       "model_id": "",
       "version_major": 2,
       "version_minor": 0
      },
      "text/plain": [
       "FloatProgress(value=0.0, bar_style='info', description='Progress:', layout=Layout(height='25px', width='50%'),…"
      ]
     },
     "metadata": {},
     "output_type": "display_data"
    },
    {
     "name": "stdout",
     "output_type": "stream",
     "text": [
      "SparkSession available as 'spark'.\n"
     ]
    },
    {
     "data": {
      "application/vnd.jupyter.widget-view+json": {
       "model_id": "",
       "version_major": 2,
       "version_minor": 0
      },
      "text/plain": [
       "FloatProgress(value=0.0, bar_style='info', description='Progress:', layout=Layout(height='25px', width='50%'),…"
      ]
     },
     "metadata": {},
     "output_type": "display_data"
    },
    {
     "name": "stdout",
     "output_type": "stream",
     "text": [
      "pip-installed Hail requires additional configuration options in Spark referring\n",
      "  to the path to the Hail Python module directory HAIL_DIR,\n",
      "  e.g. /path/to/python/site-packages/hail:\n",
      "    spark.jars=HAIL_DIR/hail-all-spark.jar\n",
      "    spark.driver.extraClassPath=HAIL_DIR/hail-all-spark.jar\n",
      "    spark.executor.extraClassPath=./hail-all-spark.jarRunning on Apache Spark version 3.1.2-amzn-0\n",
      "SparkUI available at\n",
      "Welcome to\n",
      "     __  __     <>__\n",
      "    / /_/ /__  __/ /\n",
      "   / __  / _ `/ / /\n",
      "  /_/ /_/\\_,_/_/_/   version 0.2.80-4ccfae1ff293\n",
      "LOGGING: writing to "
     ]
    }
   ],
   "source": [
    "import hail as hl\n",
    "hl.init(sc)"
   ]
  },
  {
   "cell_type": "code",
   "execution_count": 3,
   "id": "d5ab9b23-c741-4289-8d76-6f11dc385cf1",
   "metadata": {},
   "outputs": [
    {
     "data": {
      "application/vnd.jupyter.widget-view+json": {
       "model_id": "",
       "version_major": 2,
       "version_minor": 0
      },
      "text/plain": [
       "FloatProgress(value=0.0, bar_style='info', description='Progress:', layout=Layout(height='25px', width='50%'),…"
      ]
     },
     "metadata": {},
     "output_type": "display_data"
    }
   ],
   "source": [
    "release14_hc_meta_mt_uri =   \"SG10K-SV-Release-1.4-HighConfidenceSV-WithMetadata-correctrsid.mt\""
   ]
  },
  {
   "cell_type": "code",
   "execution_count": 4,
   "id": "2032a6b5-16cd-474a-92bb-d64bc772f1ef",
   "metadata": {},
   "outputs": [
    {
     "data": {
      "application/vnd.jupyter.widget-view+json": {
       "model_id": "",
       "version_major": 2,
       "version_minor": 0
      },
      "text/plain": [
       "FloatProgress(value=0.0, bar_style='info', description='Progress:', layout=Layout(height='25px', width='50%'),…"
      ]
     },
     "metadata": {},
     "output_type": "display_data"
    },
    {
     "name": "stdout",
     "output_type": "stream",
     "text": [
      "----------------------------------------\n",
      "Global fields:\n",
      "    None\n",
      "----------------------------------------\n",
      "Column fields:\n",
      "    's': str\n",
      "    'metadata': struct {\n",
      "        Multiplex_Pool_ID: str, \n",
      "        Supplier_ID: str, \n",
      "        GIS_Internal_Sample_ID: str, \n",
      "        Site_Supplying_Sample: str, \n",
      "        Year_Of_Birth: int32, \n",
      "        Supplied_Gender: str, \n",
      "        Self_Reported_Ethnicity: str, \n",
      "        Extraction_Kit: str, \n",
      "        Date_Of_DNA_Extraction: str, \n",
      "        Plate_Position: str, \n",
      "        Plate_Name: str, \n",
      "        Version_Of_Consent_Form_Signed: str, \n",
      "        Sequencing_Depth: str, \n",
      "        NPM_Research_ID_Created_By_Username: str, \n",
      "        NPM_Research_ID_Creation_Date: str, \n",
      "        Comments_Entered_When_NPM_Research_ID_Created: str, \n",
      "        Description_Entered_When_NPM_Research_ID_Created: str, \n",
      "        ELM_Project_ID: str, \n",
      "        ELM_Project_Title: str, \n",
      "        ELM_Project_PI: str, \n",
      "        Species_Of_Sample_Sequenced: str, \n",
      "        Tehcnique_For_Sequencing: str, \n",
      "        Tissue_Type_Sequenced: str, \n",
      "        Library_Found_In_Sequencing_Run_ID: str, \n",
      "        Library_Found_In_Passed_Sequencing_Run_ID: str, \n",
      "        Vendor_Sequencing_Centre: str, \n",
      "        DNA_Sample_Passed_QC: str, \n",
      "        Library_Prep_Kit: str, \n",
      "        Run_ID: str, \n",
      "        Instrument_ID: str, \n",
      "        Instrument_Serial_Number: str, \n",
      "        `Hiseq_XTM_SBS_Kit_300_Cycles_V2_(box_1of_2)_Lot`: str, \n",
      "        `Hiseq_XTM_SBS_Kit_300_Cycles_V2_(box_2_Of_2)_Lot`: str, \n",
      "        `Hiseq_XTM_PE_Cluster_Kit_Cbottm_V2_(box_1_Of_2)_Lot`: str, \n",
      "        `Hiseq_XTM_PE_Cluster_Kit_Cbottm_V2_(box_2_Of_2)_Lot`: str, \n",
      "        `Hiseq_XTM_Flow_Cell_V2.5_Lot`: str, \n",
      "        `Hiseq_XTM_Flow_Cell_V2.5_ID`: str, \n",
      "        `Sequence-based_Gender`: str, \n",
      "        CRAM_Files_Location: str, \n",
      "        Estimate_Of_Sequence_Coverage: str, \n",
      "        Contamination_Rate_Of_Chinese_Genome: str, \n",
      "        Contamination_Rate_Of_Indian_Genome: str, \n",
      "        Contamination_Rate_Of_Malaysian_Genome: str, \n",
      "        Average_Coverage_Depth: str, \n",
      "        FB_Variants: str, \n",
      "        `CRAM_Filesize_(mb)`: str, \n",
      "        Error_Rate: str, \n",
      "        `FB-VCF_Filesize_(mb)`: str, \n",
      "        `GVCF_Filesize_(mb)`: str, \n",
      "        Insert_Size_Average: str, \n",
      "        Insert_Size_Standard_Deviation: str, \n",
      "        Raw_Total_Sequences: str, \n",
      "        `Reads_Duplicated_(%)`: str, \n",
      "        `Reads_Properly_Paired_(%)`: str, \n",
      "        Cohort_JVCF_Data_Capacity: str, \n",
      "        FASTQ_File_Size: str, \n",
      "        JVCF_Size: str, \n",
      "        Data_Timestamp_For_FASTQ_File: str, \n",
      "        Sequencing_Analysis_Pipeline: str, \n",
      "        `Cohorts_Joint-called_Together`: str, \n",
      "        Library_Archived_At_NSCC: str, \n",
      "        GVCF_File_Available: str, \n",
      "        Sequencing_Complete: str, \n",
      "        Supplied_And_Computed_Gender_Match: str, \n",
      "        Supplied_And_Computed_Ethinicity_Match: str, \n",
      "        `SOP_Agreement_For_Coverage_<14/<28_For_15x/30x`: str, \n",
      "        Sample_Life_Cycle: str, \n",
      "        Current: str, \n",
      "        Source_Cohort: str, \n",
      "        Original_supplier_ID: str, \n",
      "        duplicate_info: str, \n",
      "        duplicate: str, \n",
      "        duplicate_pair: str, \n",
      "        `removal-requested-by-supplier`: str, \n",
      "        KGp3_IBS_top20: str, \n",
      "        SGVP_IBS_top20: str, \n",
      "        pop_structure: str, \n",
      "        genetic_ancestry: str, \n",
      "        sex_qc: str, \n",
      "        genetic_sex: str\n",
      "    }\n",
      "----------------------------------------\n",
      "Row fields:\n",
      "    'locus': locus<GRCh38>\n",
      "    'alleles': array<str>\n",
      "    '_old_sv_id': str\n",
      "    'qual': float64\n",
      "    'filters': set<str>\n",
      "    'callers_info': struct {\n",
      "        manta: struct {\n",
      "            ABHet: float64, \n",
      "            ABHom: float64, \n",
      "            ABHetMulti: array<float64>, \n",
      "            ABHomMulti: array<float64>, \n",
      "            AC: array<int32>, \n",
      "            AF: array<float64>, \n",
      "            AN: int32, \n",
      "            CR: int32, \n",
      "            END: int32, \n",
      "            HOMSEQ: array<str>, \n",
      "            INV3: bool, \n",
      "            INV5: bool, \n",
      "            LEFT_SVINSSEQ: array<str>, \n",
      "            LOGF: float64, \n",
      "            MaxAAS: array<int32>, \n",
      "            MaxAASR: array<float64>, \n",
      "            MaxAltPP: int32, \n",
      "            MQ: int32, \n",
      "            MQsquared: int32, \n",
      "            NCLUSTERS: int32, \n",
      "            NGT: array<int32>, \n",
      "            NHet: int32, \n",
      "            NHomRef: int32, \n",
      "            NHomAlt: int32, \n",
      "            NUM_MERGED_SVS: int32, \n",
      "            OLD_VARIANT_ID: str, \n",
      "            ORSTART: int32, \n",
      "            OREND: int32, \n",
      "            QD: float64, \n",
      "            PASS_AC: array<int32>, \n",
      "            PASS_AN: int32, \n",
      "            PASS_ratio: float64, \n",
      "            PS: int32, \n",
      "            RefLen: int32, \n",
      "            RELATED_SV_ID: int32, \n",
      "            RIGHT_SVINSSEQ: array<str>, \n",
      "            SB: float64, \n",
      "            SBAlt: float64, \n",
      "            SBF: array<int32>, \n",
      "            SBF1: array<int32>, \n",
      "            SBF2: array<int32>, \n",
      "            SBR: array<int32>, \n",
      "            SBR1: array<int32>, \n",
      "            SBR2: array<int32>, \n",
      "            SEQ: str, \n",
      "            SeqDepth: int32, \n",
      "            SV_ID: int32, \n",
      "            SVINSSEQ: array<str>, \n",
      "            SVLEN: int32, \n",
      "            SVMODEL: str, \n",
      "            SVSIZE: int32, \n",
      "            SVTYPE: str, \n",
      "            VarType: str, \n",
      "            PASS_GT2_filter: str, \n",
      "            alleles: array<str>, \n",
      "            rsid: str\n",
      "        }, \n",
      "        melt: struct {\n",
      "            ASSESS: int32, \n",
      "            TSD: str, \n",
      "            INTERNAL: array<str>, \n",
      "            SVTYPE: str, \n",
      "            SVLEN: int32, \n",
      "            MEINFO: array<str>, \n",
      "            DIFF: array<str>, \n",
      "            LP: int32, \n",
      "            RP: int32, \n",
      "            RA: float64, \n",
      "            PRIOR: str, \n",
      "            SR: int32, \n",
      "            alleles: array<str>, \n",
      "            rsid: str\n",
      "        }, \n",
      "        survindel2: struct {\n",
      "            SVTYPE: str, \n",
      "            END: int32, \n",
      "            N_SAMPLES: int32, \n",
      "            N_SVS: int32, \n",
      "            GCF: float64, \n",
      "            SVSIZE: int32, \n",
      "            alleles: array<str>, \n",
      "            rsid: str\n",
      "        }, \n",
      "        SVTYPE: str, \n",
      "        SVSIZE: int32, \n",
      "        END: int32, \n",
      "        AC_CHINESE: int32, \n",
      "        AN_CHINESE: int32, \n",
      "        AF_CHINESE: float64, \n",
      "        AC_MALAY: int32, \n",
      "        AN_MALAY: int32, \n",
      "        AF_MALAY: float64, \n",
      "        AC_INDIAN: int32, \n",
      "        AN_INDIAN: int32, \n",
      "        AF_INDIAN: float64\n",
      "    }\n",
      "    'sv_id': str\n",
      "----------------------------------------\n",
      "Entry fields:\n",
      "    'manta': struct {\n",
      "        GT: call, \n",
      "        FT: str, \n",
      "        AD: array<int32>, \n",
      "        MD: int32, \n",
      "        DP: int32, \n",
      "        RA: array<int32>, \n",
      "        PP: int32, \n",
      "        GQ: int32, \n",
      "        PL: array<int32>\n",
      "    }\n",
      "    'melt': struct {\n",
      "        GT: call, \n",
      "        GL: array<float64>, \n",
      "        DP: int32, \n",
      "        AD: int32, \n",
      "        PL: array<int32>\n",
      "    }\n",
      "    'survindel2': struct {\n",
      "        GT: call, \n",
      "        FT: str, \n",
      "        AR: int32, \n",
      "        SR: int32, \n",
      "        RR: int32, \n",
      "        RS: int32, \n",
      "        RE: int32, \n",
      "        CN: int32, \n",
      "        IL: int32, \n",
      "        WR: int32, \n",
      "        DFL: int32, \n",
      "        DDL: int32, \n",
      "        DDR: int32, \n",
      "        DFR: int32, \n",
      "        CID: int32, \n",
      "        OW: int32, \n",
      "        DHFC: float64, \n",
      "        DHBFC: float64, \n",
      "        DHFFC: float64, \n",
      "        DHSP: int32, \n",
      "        FS: str\n",
      "    }\n",
      "    'GT': call\n",
      "    'DP': int32\n",
      "    'PL': array<int32>\n",
      "----------------------------------------\n",
      "Column key: ['s']\n",
      "Row key: ['locus', 'alleles']\n",
      "----------------------------------------\n",
      "Samples: 5487; Variants: 73035; Entries: 400743045\n",
      "2024-05-28 05:42:13 Hail: WARN: entries(): Resulting entries table is sorted by '(row_key, col_key)'.\n",
      "    To preserve row-major matrix table order, first unkey columns with 'key_cols_by()'"
     ]
    }
   ],
   "source": [
    "mt = hl.read_matrix_table(release14_hc_meta_mt_uri)\n",
    "mt.describe()\n",
    "print(\"Samples: %d; Variants: %d; Entries: %d\" % (mt.count_cols(), mt.count_rows(), mt.entries().count()))"
   ]
  },
  {
   "cell_type": "code",
   "execution_count": 5,
   "id": "b2244c89-d60d-445c-a9a6-35c7112da97d",
   "metadata": {},
   "outputs": [
    {
     "data": {
      "application/vnd.jupyter.widget-view+json": {
       "model_id": "",
       "version_major": 2,
       "version_minor": 0
      },
      "text/plain": [
       "FloatProgress(value=0.0, bar_style='info', description='Progress:', layout=Layout(height='25px', width='50%'),…"
      ]
     },
     "metadata": {},
     "output_type": "display_data"
    },
    {
     "name": "stdout",
     "output_type": "stream",
     "text": [
      "N variants - original: 73035\n",
      "N variants - PASS variants: 73035"
     ]
    }
   ],
   "source": [
    "print(\"N variants - original: %d\" % mt.count_rows())\n",
    "mt = mt.filter_rows(mt.filters.length() == 0)\n",
    "print(\"N variants - PASS variants: %d\" % mt.count_rows())"
   ]
  },
  {
   "cell_type": "code",
   "execution_count": 6,
   "id": "51859f3b-780a-4d48-bdcd-f63957c02f6b",
   "metadata": {
    "tags": []
   },
   "outputs": [
    {
     "data": {
      "application/vnd.jupyter.widget-view+json": {
       "model_id": "",
       "version_major": 2,
       "version_minor": 0
      },
      "text/plain": [
       "FloatProgress(value=0.0, bar_style='info', description='Progress:', layout=Layout(height='25px', width='50%'),…"
      ]
     },
     "metadata": {},
     "output_type": "display_data"
    },
    {
     "name": "stdout",
     "output_type": "stream",
     "text": [
      "----------------------------------------\n",
      "Global fields:\n",
      "    None\n",
      "----------------------------------------\n",
      "Column fields:\n",
      "    's': str\n",
      "    'metadata': struct {\n",
      "        Multiplex_Pool_ID: str, \n",
      "        Supplier_ID: str, \n",
      "        GIS_Internal_Sample_ID: str, \n",
      "        Site_Supplying_Sample: str, \n",
      "        Year_Of_Birth: int32, \n",
      "        Supplied_Gender: str, \n",
      "        Self_Reported_Ethnicity: str, \n",
      "        Extraction_Kit: str, \n",
      "        Date_Of_DNA_Extraction: str, \n",
      "        Plate_Position: str, \n",
      "        Plate_Name: str, \n",
      "        Version_Of_Consent_Form_Signed: str, \n",
      "        Sequencing_Depth: str, \n",
      "        NPM_Research_ID_Created_By_Username: str, \n",
      "        NPM_Research_ID_Creation_Date: str, \n",
      "        Comments_Entered_When_NPM_Research_ID_Created: str, \n",
      "        Description_Entered_When_NPM_Research_ID_Created: str, \n",
      "        ELM_Project_ID: str, \n",
      "        ELM_Project_Title: str, \n",
      "        ELM_Project_PI: str, \n",
      "        Species_Of_Sample_Sequenced: str, \n",
      "        Tehcnique_For_Sequencing: str, \n",
      "        Tissue_Type_Sequenced: str, \n",
      "        Library_Found_In_Sequencing_Run_ID: str, \n",
      "        Library_Found_In_Passed_Sequencing_Run_ID: str, \n",
      "        Vendor_Sequencing_Centre: str, \n",
      "        DNA_Sample_Passed_QC: str, \n",
      "        Library_Prep_Kit: str, \n",
      "        Run_ID: str, \n",
      "        Instrument_ID: str, \n",
      "        Instrument_Serial_Number: str, \n",
      "        `Hiseq_XTM_SBS_Kit_300_Cycles_V2_(box_1of_2)_Lot`: str, \n",
      "        `Hiseq_XTM_SBS_Kit_300_Cycles_V2_(box_2_Of_2)_Lot`: str, \n",
      "        `Hiseq_XTM_PE_Cluster_Kit_Cbottm_V2_(box_1_Of_2)_Lot`: str, \n",
      "        `Hiseq_XTM_PE_Cluster_Kit_Cbottm_V2_(box_2_Of_2)_Lot`: str, \n",
      "        `Hiseq_XTM_Flow_Cell_V2.5_Lot`: str, \n",
      "        `Hiseq_XTM_Flow_Cell_V2.5_ID`: str, \n",
      "        `Sequence-based_Gender`: str, \n",
      "        CRAM_Files_Location: str, \n",
      "        Estimate_Of_Sequence_Coverage: str, \n",
      "        Contamination_Rate_Of_Chinese_Genome: str, \n",
      "        Contamination_Rate_Of_Indian_Genome: str, \n",
      "        Contamination_Rate_Of_Malaysian_Genome: str, \n",
      "        Average_Coverage_Depth: str, \n",
      "        FB_Variants: str, \n",
      "        `CRAM_Filesize_(mb)`: str, \n",
      "        Error_Rate: str, \n",
      "        `FB-VCF_Filesize_(mb)`: str, \n",
      "        `GVCF_Filesize_(mb)`: str, \n",
      "        Insert_Size_Average: str, \n",
      "        Insert_Size_Standard_Deviation: str, \n",
      "        Raw_Total_Sequences: str, \n",
      "        `Reads_Duplicated_(%)`: str, \n",
      "        `Reads_Properly_Paired_(%)`: str, \n",
      "        Cohort_JVCF_Data_Capacity: str, \n",
      "        FASTQ_File_Size: str, \n",
      "        JVCF_Size: str, \n",
      "        Data_Timestamp_For_FASTQ_File: str, \n",
      "        Sequencing_Analysis_Pipeline: str, \n",
      "        `Cohorts_Joint-called_Together`: str, \n",
      "        Library_Archived_At_NSCC: str, \n",
      "        GVCF_File_Available: str, \n",
      "        Sequencing_Complete: str, \n",
      "        Supplied_And_Computed_Gender_Match: str, \n",
      "        Supplied_And_Computed_Ethinicity_Match: str, \n",
      "        `SOP_Agreement_For_Coverage_<14/<28_For_15x/30x`: str, \n",
      "        Sample_Life_Cycle: str, \n",
      "        Current: str, \n",
      "        Source_Cohort: str, \n",
      "        Original_supplier_ID: str, \n",
      "        duplicate_info: str, \n",
      "        duplicate: str, \n",
      "        duplicate_pair: str, \n",
      "        `removal-requested-by-supplier`: str, \n",
      "        KGp3_IBS_top20: str, \n",
      "        SGVP_IBS_top20: str, \n",
      "        pop_structure: str, \n",
      "        genetic_ancestry: str, \n",
      "        sex_qc: str, \n",
      "        genetic_sex: str\n",
      "    }\n",
      "----------------------------------------\n",
      "Row fields:\n",
      "    'locus': locus<GRCh38>\n",
      "    'alleles': array<str>\n",
      "    '_old_sv_id': str\n",
      "    'qual': float64\n",
      "    'filters': set<str>\n",
      "    'callers_info': struct {\n",
      "        manta: struct {\n",
      "            ABHet: float64, \n",
      "            ABHom: float64, \n",
      "            ABHetMulti: array<float64>, \n",
      "            ABHomMulti: array<float64>, \n",
      "            AC: array<int32>, \n",
      "            AF: array<float64>, \n",
      "            AN: int32, \n",
      "            CR: int32, \n",
      "            END: int32, \n",
      "            HOMSEQ: array<str>, \n",
      "            INV3: bool, \n",
      "            INV5: bool, \n",
      "            LEFT_SVINSSEQ: array<str>, \n",
      "            LOGF: float64, \n",
      "            MaxAAS: array<int32>, \n",
      "            MaxAASR: array<float64>, \n",
      "            MaxAltPP: int32, \n",
      "            MQ: int32, \n",
      "            MQsquared: int32, \n",
      "            NCLUSTERS: int32, \n",
      "            NGT: array<int32>, \n",
      "            NHet: int32, \n",
      "            NHomRef: int32, \n",
      "            NHomAlt: int32, \n",
      "            NUM_MERGED_SVS: int32, \n",
      "            OLD_VARIANT_ID: str, \n",
      "            ORSTART: int32, \n",
      "            OREND: int32, \n",
      "            QD: float64, \n",
      "            PASS_AC: array<int32>, \n",
      "            PASS_AN: int32, \n",
      "            PASS_ratio: float64, \n",
      "            PS: int32, \n",
      "            RefLen: int32, \n",
      "            RELATED_SV_ID: int32, \n",
      "            RIGHT_SVINSSEQ: array<str>, \n",
      "            SB: float64, \n",
      "            SBAlt: float64, \n",
      "            SBF: array<int32>, \n",
      "            SBF1: array<int32>, \n",
      "            SBF2: array<int32>, \n",
      "            SBR: array<int32>, \n",
      "            SBR1: array<int32>, \n",
      "            SBR2: array<int32>, \n",
      "            SEQ: str, \n",
      "            SeqDepth: int32, \n",
      "            SV_ID: int32, \n",
      "            SVINSSEQ: array<str>, \n",
      "            SVLEN: int32, \n",
      "            SVMODEL: str, \n",
      "            SVSIZE: int32, \n",
      "            SVTYPE: str, \n",
      "            VarType: str, \n",
      "            PASS_GT2_filter: str, \n",
      "            alleles: array<str>, \n",
      "            rsid: str\n",
      "        }, \n",
      "        melt: struct {\n",
      "            ASSESS: int32, \n",
      "            TSD: str, \n",
      "            INTERNAL: array<str>, \n",
      "            SVTYPE: str, \n",
      "            SVLEN: int32, \n",
      "            MEINFO: array<str>, \n",
      "            DIFF: array<str>, \n",
      "            LP: int32, \n",
      "            RP: int32, \n",
      "            RA: float64, \n",
      "            PRIOR: str, \n",
      "            SR: int32, \n",
      "            alleles: array<str>, \n",
      "            rsid: str\n",
      "        }, \n",
      "        survindel2: struct {\n",
      "            SVTYPE: str, \n",
      "            END: int32, \n",
      "            N_SAMPLES: int32, \n",
      "            N_SVS: int32, \n",
      "            GCF: float64, \n",
      "            SVSIZE: int32, \n",
      "            alleles: array<str>, \n",
      "            rsid: str\n",
      "        }, \n",
      "        SVTYPE: str, \n",
      "        SVSIZE: int32, \n",
      "        END: int32, \n",
      "        AC_CHINESE: int32, \n",
      "        AN_CHINESE: int32, \n",
      "        AF_CHINESE: float64, \n",
      "        AC_MALAY: int32, \n",
      "        AN_MALAY: int32, \n",
      "        AF_MALAY: float64, \n",
      "        AC_INDIAN: int32, \n",
      "        AN_INDIAN: int32, \n",
      "        AF_INDIAN: float64\n",
      "    }\n",
      "    'sv_id': str\n",
      "----------------------------------------\n",
      "Entry fields:\n",
      "    'manta': struct {\n",
      "        GT: call, \n",
      "        FT: str, \n",
      "        AD: array<int32>, \n",
      "        MD: int32, \n",
      "        DP: int32, \n",
      "        RA: array<int32>, \n",
      "        PP: int32, \n",
      "        GQ: int32, \n",
      "        PL: array<int32>\n",
      "    }\n",
      "    'melt': struct {\n",
      "        GT: call, \n",
      "        GL: array<float64>, \n",
      "        DP: int32, \n",
      "        AD: int32, \n",
      "        PL: array<int32>\n",
      "    }\n",
      "    'survindel2': struct {\n",
      "        GT: call, \n",
      "        FT: str, \n",
      "        AR: int32, \n",
      "        SR: int32, \n",
      "        RR: int32, \n",
      "        RS: int32, \n",
      "        RE: int32, \n",
      "        CN: int32, \n",
      "        IL: int32, \n",
      "        WR: int32, \n",
      "        DFL: int32, \n",
      "        DDL: int32, \n",
      "        DDR: int32, \n",
      "        DFR: int32, \n",
      "        CID: int32, \n",
      "        OW: int32, \n",
      "        DHFC: float64, \n",
      "        DHBFC: float64, \n",
      "        DHFFC: float64, \n",
      "        DHSP: int32, \n",
      "        FS: str\n",
      "    }\n",
      "    'GT': call\n",
      "    'DP': int32\n",
      "    'PL': array<int32>\n",
      "----------------------------------------\n",
      "Column key: ['s']\n",
      "Row key: ['locus', 'alleles']\n",
      "----------------------------------------"
     ]
    }
   ],
   "source": [
    "mt.describe()"
   ]
  },
  {
   "cell_type": "code",
   "execution_count": 7,
   "id": "532b1677-1389-4efb-9d0a-6d50cc11182e",
   "metadata": {},
   "outputs": [
    {
     "data": {
      "application/vnd.jupyter.widget-view+json": {
       "model_id": "",
       "version_major": 2,
       "version_minor": 0
      },
      "text/plain": [
       "FloatProgress(value=0.0, bar_style='info', description='Progress:', layout=Layout(height='25px', width='50%'),…"
      ]
     },
     "metadata": {},
     "output_type": "display_data"
    },
    {
     "name": "stdout",
     "output_type": "stream",
     "text": [
      "(4743, 5487)"
     ]
    }
   ],
   "source": [
    "## Check the sizes of SV\n",
    "mt_size = mt.filter_rows(mt.callers_info.SVSIZE >= 10000, keep=True)\n",
    "mt_size.count()"
   ]
  },
  {
   "cell_type": "code",
   "execution_count": 8,
   "id": "f9214a0d-cd83-4a17-b37c-ceb16801b73d",
   "metadata": {},
   "outputs": [
    {
     "data": {
      "application/vnd.jupyter.widget-view+json": {
       "model_id": "",
       "version_major": 2,
       "version_minor": 0
      },
      "text/plain": [
       "FloatProgress(value=0.0, bar_style='info', description='Progress:', layout=Layout(height='25px', width='50%'),…"
      ]
     },
     "metadata": {},
     "output_type": "display_data"
    },
    {
     "name": "stdout",
     "output_type": "stream",
     "text": [
      "frozendict({'DEL': 2678, 'DUP': 2065})"
     ]
    }
   ],
   "source": [
    "svtype_stats = mt_size.aggregate_rows(hl.struct( svtype_stat = hl.agg.counter(mt_size.callers_info.SVTYPE)))\n",
    "print(svtype_stats.svtype_stat)"
   ]
  },
  {
   "cell_type": "code",
   "execution_count": 7,
   "id": "da988d6c-ff52-4d5d-bcd6-5a46b827fdc8",
   "metadata": {},
   "outputs": [
    {
     "data": {
      "application/vnd.jupyter.widget-view+json": {
       "model_id": "",
       "version_major": 2,
       "version_minor": 0
      },
      "text/plain": [
       "FloatProgress(value=0.0, bar_style='info', description='Progress:', layout=Layout(height='25px', width='50%'),…"
      ]
     },
     "metadata": {},
     "output_type": "display_data"
    },
    {
     "name": "stdout",
     "output_type": "stream",
     "text": [
      "frozendict({'Chinese': 3088, 'Indian': 1237, 'Malay': 1144, 'Others': 18})"
     ]
    }
   ],
   "source": [
    "population_counts = mt.aggregate_cols(hl.agg.counter(mt.metadata.Self_Reported_Ethnicity))\n",
    "population_counts"
   ]
  },
  {
   "cell_type": "code",
   "execution_count": 8,
   "id": "926d7bd4-758e-4655-9450-924123fac4b2",
   "metadata": {},
   "outputs": [
    {
     "data": {
      "application/vnd.jupyter.widget-view+json": {
       "model_id": "",
       "version_major": 2,
       "version_minor": 0
      },
      "text/plain": [
       "FloatProgress(value=0.0, bar_style='info', description='Progress:', layout=Layout(height='25px', width='50%'),…"
      ]
     },
     "metadata": {},
     "output_type": "display_data"
    }
   ],
   "source": [
    "import pandas as pd\n",
    "from pathlib import Path"
   ]
  },
  {
   "cell_type": "code",
   "execution_count": 20,
   "id": "7d7da0b4-a6bb-49b1-941c-361cce039db5",
   "metadata": {},
   "outputs": [
    {
     "data": {
      "application/vnd.jupyter.widget-view+json": {
       "model_id": "",
       "version_major": 2,
       "version_minor": 0
      },
      "text/plain": [
       "FloatProgress(value=0.0, bar_style='info', description='Progress:', layout=Layout(height='25px', width='50%'),…"
      ]
     },
     "metadata": {},
     "output_type": "display_data"
    },
    {
     "name": "stdout",
     "output_type": "stream",
     "text": [
      "2024-05-24 06:49:44 Hail: WARN: cols(): Resulting column table is sorted by 'col_key'.\n",
      "    To preserve matrix table column order, first unkey columns with 'key_cols_by()'\n",
      "2024-05-24 06:49:54 Hail: INFO: Coerced sorted dataset\n",
      "2024-05-24 06:50:07 Hail: INFO: Coerced sorted dataset\n",
      "2024-05-24 06:50:18 Hail: INFO: Coerced sorted dataset"
     ]
    }
   ],
   "source": [
    "svtypes = mt.aggregate_rows(hl.agg.counter(mt.callers_info.SVTYPE))\n",
    "for svtype in svtypes:\n",
    "    svtype_mt = mt.filter_rows(mt.callers_info.SVTYPE == svtype)\n",
    "    svtype_mt = hl.sample_qc(svtype_mt)\n",
    "    svtype_cols = svtype_mt.cols()\n",
    "    svtype_ethn_sample_qc_df = svtype_cols.select(svtype_cols.metadata.Self_Reported_Ethnicity, svtype_cols.sample_qc).to_pandas()"
   ]
  },
  {
   "cell_type": "code",
   "execution_count": 21,
   "id": "520950f9-3074-49ef-997a-4264f654df9a",
   "metadata": {},
   "outputs": [
    {
     "data": {
      "application/vnd.jupyter.widget-view+json": {
       "model_id": "",
       "version_major": 2,
       "version_minor": 0
      },
      "text/plain": [
       "FloatProgress(value=0.0, bar_style='info', description='Progress:', layout=Layout(height='25px', width='50%'),…"
      ]
     },
     "metadata": {},
     "output_type": "display_data"
    }
   ],
   "source": [
    "# Get SVsize\n",
    "variants = mt.rows()\n",
    "svsize_df = variants.select(variants.callers_info.SVTYPE, variants.callers_info.SVSIZE).to_pandas()"
   ]
  },
  {
   "cell_type": "code",
   "execution_count": 22,
   "id": "523ecd16-3521-408f-a07b-917e74a36f91",
   "metadata": {},
   "outputs": [
    {
     "data": {
      "application/vnd.jupyter.widget-view+json": {
       "model_id": "",
       "version_major": 2,
       "version_minor": 0
      },
      "text/plain": [
       "FloatProgress(value=0.0, bar_style='info', description='Progress:', layout=Layout(height='25px', width='50%'),…"
      ]
     },
     "metadata": {},
     "output_type": "display_data"
    }
   ],
   "source": [
    "mt = hl.sample_qc(mt)\n",
    "mt = hl.variant_qc(mt)"
   ]
  },
  {
   "cell_type": "code",
   "execution_count": 23,
   "id": "a1b85eba-f8b4-421b-9f11-74dd0707a100",
   "metadata": {
    "collapsed": true,
    "jupyter": {
     "outputs_hidden": true
    },
    "tags": []
   },
   "outputs": [
    {
     "data": {
      "application/vnd.jupyter.widget-view+json": {
       "model_id": "",
       "version_major": 2,
       "version_minor": 0
      },
      "text/plain": [
       "FloatProgress(value=0.0, bar_style='info', description='Progress:', layout=Layout(height='25px', width='50%'),…"
      ]
     },
     "metadata": {},
     "output_type": "display_data"
    },
    {
     "name": "stdout",
     "output_type": "stream",
     "text": [
      "----------------------------------------\n",
      "Global fields:\n",
      "    None\n",
      "----------------------------------------\n",
      "Column fields:\n",
      "    's': str\n",
      "    'metadata': struct {\n",
      "        Multiplex_Pool_ID: str, \n",
      "        Supplier_ID: str, \n",
      "        GIS_Internal_Sample_ID: str, \n",
      "        Site_Supplying_Sample: str, \n",
      "        Year_Of_Birth: int32, \n",
      "        Supplied_Gender: str, \n",
      "        Self_Reported_Ethnicity: str, \n",
      "        Extraction_Kit: str, \n",
      "        Date_Of_DNA_Extraction: str, \n",
      "        Plate_Position: str, \n",
      "        Plate_Name: str, \n",
      "        Version_Of_Consent_Form_Signed: str, \n",
      "        Sequencing_Depth: str, \n",
      "        NPM_Research_ID_Created_By_Username: str, \n",
      "        NPM_Research_ID_Creation_Date: str, \n",
      "        Comments_Entered_When_NPM_Research_ID_Created: str, \n",
      "        Description_Entered_When_NPM_Research_ID_Created: str, \n",
      "        ELM_Project_ID: str, \n",
      "        ELM_Project_Title: str, \n",
      "        ELM_Project_PI: str, \n",
      "        Species_Of_Sample_Sequenced: str, \n",
      "        Tehcnique_For_Sequencing: str, \n",
      "        Tissue_Type_Sequenced: str, \n",
      "        Library_Found_In_Sequencing_Run_ID: str, \n",
      "        Library_Found_In_Passed_Sequencing_Run_ID: str, \n",
      "        Vendor_Sequencing_Centre: str, \n",
      "        DNA_Sample_Passed_QC: str, \n",
      "        Library_Prep_Kit: str, \n",
      "        Run_ID: str, \n",
      "        Instrument_ID: str, \n",
      "        Instrument_Serial_Number: str, \n",
      "        `Hiseq_XTM_SBS_Kit_300_Cycles_V2_(box_1of_2)_Lot`: str, \n",
      "        `Hiseq_XTM_SBS_Kit_300_Cycles_V2_(box_2_Of_2)_Lot`: str, \n",
      "        `Hiseq_XTM_PE_Cluster_Kit_Cbottm_V2_(box_1_Of_2)_Lot`: str, \n",
      "        `Hiseq_XTM_PE_Cluster_Kit_Cbottm_V2_(box_2_Of_2)_Lot`: str, \n",
      "        `Hiseq_XTM_Flow_Cell_V2.5_Lot`: str, \n",
      "        `Hiseq_XTM_Flow_Cell_V2.5_ID`: str, \n",
      "        `Sequence-based_Gender`: str, \n",
      "        CRAM_Files_Location: str, \n",
      "        Estimate_Of_Sequence_Coverage: str, \n",
      "        Contamination_Rate_Of_Chinese_Genome: str, \n",
      "        Contamination_Rate_Of_Indian_Genome: str, \n",
      "        Contamination_Rate_Of_Malaysian_Genome: str, \n",
      "        Average_Coverage_Depth: str, \n",
      "        FB_Variants: str, \n",
      "        `CRAM_Filesize_(mb)`: str, \n",
      "        Error_Rate: str, \n",
      "        `FB-VCF_Filesize_(mb)`: str, \n",
      "        `GVCF_Filesize_(mb)`: str, \n",
      "        Insert_Size_Average: str, \n",
      "        Insert_Size_Standard_Deviation: str, \n",
      "        Raw_Total_Sequences: str, \n",
      "        `Reads_Duplicated_(%)`: str, \n",
      "        `Reads_Properly_Paired_(%)`: str, \n",
      "        Cohort_JVCF_Data_Capacity: str, \n",
      "        FASTQ_File_Size: str, \n",
      "        JVCF_Size: str, \n",
      "        Data_Timestamp_For_FASTQ_File: str, \n",
      "        Sequencing_Analysis_Pipeline: str, \n",
      "        `Cohorts_Joint-called_Together`: str, \n",
      "        Library_Archived_At_NSCC: str, \n",
      "        GVCF_File_Available: str, \n",
      "        Sequencing_Complete: str, \n",
      "        Supplied_And_Computed_Gender_Match: str, \n",
      "        Supplied_And_Computed_Ethinicity_Match: str, \n",
      "        `SOP_Agreement_For_Coverage_<14/<28_For_15x/30x`: str, \n",
      "        Sample_Life_Cycle: str, \n",
      "        Current: str, \n",
      "        Source_Cohort: str, \n",
      "        Original_supplier_ID: str, \n",
      "        duplicate_info: str, \n",
      "        duplicate: str, \n",
      "        duplicate_pair: str, \n",
      "        `removal-requested-by-supplier`: str, \n",
      "        KGp3_IBS_top20: str, \n",
      "        SGVP_IBS_top20: str, \n",
      "        pop_structure: str, \n",
      "        genetic_ancestry: str, \n",
      "        sex_qc: str, \n",
      "        genetic_sex: str\n",
      "    }\n",
      "    'sample_qc': struct {\n",
      "        dp_stats: struct {\n",
      "            mean: float64, \n",
      "            stdev: float64, \n",
      "            min: float64, \n",
      "            max: float64\n",
      "        }, \n",
      "        call_rate: float64, \n",
      "        n_called: int64, \n",
      "        n_not_called: int64, \n",
      "        n_filtered: int64, \n",
      "        n_hom_ref: int64, \n",
      "        n_het: int64, \n",
      "        n_hom_var: int64, \n",
      "        n_non_ref: int64, \n",
      "        n_singleton: int64, \n",
      "        n_snp: int64, \n",
      "        n_insertion: int64, \n",
      "        n_deletion: int64, \n",
      "        n_transition: int64, \n",
      "        n_transversion: int64, \n",
      "        n_star: int64, \n",
      "        r_ti_tv: float64, \n",
      "        r_het_hom_var: float64, \n",
      "        r_insertion_deletion: float64\n",
      "    }\n",
      "----------------------------------------\n",
      "Row fields:\n",
      "    'locus': locus<GRCh38>\n",
      "    'alleles': array<str>\n",
      "    '_old_sv_id': str\n",
      "    'qual': float64\n",
      "    'filters': set<str>\n",
      "    'callers_info': struct {\n",
      "        manta: struct {\n",
      "            ABHet: float64, \n",
      "            ABHom: float64, \n",
      "            ABHetMulti: array<float64>, \n",
      "            ABHomMulti: array<float64>, \n",
      "            AC: array<int32>, \n",
      "            AF: array<float64>, \n",
      "            AN: int32, \n",
      "            CR: int32, \n",
      "            END: int32, \n",
      "            HOMSEQ: array<str>, \n",
      "            INV3: bool, \n",
      "            INV5: bool, \n",
      "            LEFT_SVINSSEQ: array<str>, \n",
      "            LOGF: float64, \n",
      "            MaxAAS: array<int32>, \n",
      "            MaxAASR: array<float64>, \n",
      "            MaxAltPP: int32, \n",
      "            MQ: int32, \n",
      "            MQsquared: int32, \n",
      "            NCLUSTERS: int32, \n",
      "            NGT: array<int32>, \n",
      "            NHet: int32, \n",
      "            NHomRef: int32, \n",
      "            NHomAlt: int32, \n",
      "            NUM_MERGED_SVS: int32, \n",
      "            OLD_VARIANT_ID: str, \n",
      "            ORSTART: int32, \n",
      "            OREND: int32, \n",
      "            QD: float64, \n",
      "            PASS_AC: array<int32>, \n",
      "            PASS_AN: int32, \n",
      "            PASS_ratio: float64, \n",
      "            PS: int32, \n",
      "            RefLen: int32, \n",
      "            RELATED_SV_ID: int32, \n",
      "            RIGHT_SVINSSEQ: array<str>, \n",
      "            SB: float64, \n",
      "            SBAlt: float64, \n",
      "            SBF: array<int32>, \n",
      "            SBF1: array<int32>, \n",
      "            SBF2: array<int32>, \n",
      "            SBR: array<int32>, \n",
      "            SBR1: array<int32>, \n",
      "            SBR2: array<int32>, \n",
      "            SEQ: str, \n",
      "            SeqDepth: int32, \n",
      "            SV_ID: int32, \n",
      "            SVINSSEQ: array<str>, \n",
      "            SVLEN: int32, \n",
      "            SVMODEL: str, \n",
      "            SVSIZE: int32, \n",
      "            SVTYPE: str, \n",
      "            VarType: str, \n",
      "            PASS_GT2_filter: str, \n",
      "            alleles: array<str>, \n",
      "            rsid: str\n",
      "        }, \n",
      "        melt: struct {\n",
      "            ASSESS: int32, \n",
      "            TSD: str, \n",
      "            INTERNAL: array<str>, \n",
      "            SVTYPE: str, \n",
      "            SVLEN: int32, \n",
      "            MEINFO: array<str>, \n",
      "            DIFF: array<str>, \n",
      "            LP: int32, \n",
      "            RP: int32, \n",
      "            RA: float64, \n",
      "            PRIOR: str, \n",
      "            SR: int32, \n",
      "            alleles: array<str>, \n",
      "            rsid: str\n",
      "        }, \n",
      "        survindel2: struct {\n",
      "            SVTYPE: str, \n",
      "            END: int32, \n",
      "            N_SAMPLES: int32, \n",
      "            N_SVS: int32, \n",
      "            GCF: float64, \n",
      "            SVSIZE: int32, \n",
      "            alleles: array<str>, \n",
      "            rsid: str\n",
      "        }, \n",
      "        SVTYPE: str, \n",
      "        SVSIZE: int32, \n",
      "        END: int32, \n",
      "        AC_CHINESE: int32, \n",
      "        AN_CHINESE: int32, \n",
      "        AF_CHINESE: float64, \n",
      "        AC_MALAY: int32, \n",
      "        AN_MALAY: int32, \n",
      "        AF_MALAY: float64, \n",
      "        AC_INDIAN: int32, \n",
      "        AN_INDIAN: int32, \n",
      "        AF_INDIAN: float64\n",
      "    }\n",
      "    'sv_id': str\n",
      "    'variant_qc': struct {\n",
      "        dp_stats: struct {\n",
      "            mean: float64, \n",
      "            stdev: float64, \n",
      "            min: float64, \n",
      "            max: float64\n",
      "        }, \n",
      "        AC: array<int32>, \n",
      "        AF: array<float64>, \n",
      "        AN: int32, \n",
      "        homozygote_count: array<int32>, \n",
      "        call_rate: float64, \n",
      "        n_called: int64, \n",
      "        n_not_called: int64, \n",
      "        n_filtered: int64, \n",
      "        n_het: int64, \n",
      "        n_non_ref: int64, \n",
      "        het_freq_hwe: float64, \n",
      "        p_value_hwe: float64, \n",
      "        p_value_excess_het: float64\n",
      "    }\n",
      "    'n_called': int64\n",
      "    'n_hom_ref': int64\n",
      "    'n_het': int64\n",
      "    'n_hom_alt': int64\n",
      "    'n_non_ref': int64\n",
      "----------------------------------------\n",
      "Entry fields:\n",
      "    'manta': struct {\n",
      "        GT: call, \n",
      "        FT: str, \n",
      "        AD: array<int32>, \n",
      "        MD: int32, \n",
      "        DP: int32, \n",
      "        RA: array<int32>, \n",
      "        PP: int32, \n",
      "        GQ: int32, \n",
      "        PL: array<int32>\n",
      "    }\n",
      "    'melt': struct {\n",
      "        GT: call, \n",
      "        GL: array<float64>, \n",
      "        DP: int32, \n",
      "        AD: int32, \n",
      "        PL: array<int32>\n",
      "    }\n",
      "    'survindel2': struct {\n",
      "        GT: call, \n",
      "        FT: str, \n",
      "        AR: int32, \n",
      "        SR: int32, \n",
      "        RR: int32, \n",
      "        RS: int32, \n",
      "        RE: int32, \n",
      "        CN: int32, \n",
      "        IL: int32, \n",
      "        WR: int32, \n",
      "        DFL: int32, \n",
      "        DDL: int32, \n",
      "        DDR: int32, \n",
      "        DFR: int32, \n",
      "        CID: int32, \n",
      "        OW: int32, \n",
      "        DHFC: float64, \n",
      "        DHBFC: float64, \n",
      "        DHFFC: float64, \n",
      "        DHSP: int32, \n",
      "        FS: str\n",
      "    }\n",
      "    'GT': call\n",
      "    'DP': int32\n",
      "    'PL': array<int32>\n",
      "----------------------------------------\n",
      "Column key: ['s']\n",
      "Row key: ['locus', 'alleles']\n",
      "----------------------------------------"
     ]
    }
   ],
   "source": [
    "mt = mt.annotate_rows(\n",
    "    n_called = mt.variant_qc.n_called,\n",
    "    n_hom_ref = hl.agg.count_where(mt.GT.is_hom_ref()),\n",
    "    n_het = hl.agg.count_where(mt.GT.is_het()),\n",
    "    n_hom_alt = hl.agg.count_where(mt.GT.is_hom_var())\n",
    ")\n",
    "mt = mt.annotate_rows(\n",
    "   n_non_ref = mt.n_hom_alt + mt.n_het \n",
    ")\n",
    "mt.describe()"
   ]
  },
  {
   "cell_type": "code",
   "execution_count": 25,
   "id": "35a3401e-bfcb-49c3-94e4-6b07f183c2f6",
   "metadata": {},
   "outputs": [
    {
     "data": {
      "application/vnd.jupyter.widget-view+json": {
       "model_id": "",
       "version_major": 2,
       "version_minor": 0
      },
      "text/plain": [
       "FloatProgress(value=0.0, bar_style='info', description='Progress:', layout=Layout(height='25px', width='50%'),…"
      ]
     },
     "metadata": {},
     "output_type": "display_data"
    }
   ],
   "source": [
    "variants = mt.rows()\n",
    "variants = variants.annotate(AF_category = hl.if_else((variants.n_het + variants.n_hom_alt == 1) | ((variants.n_hom_alt == 2) & (variants.n_het == 0)), \"singleton\", hl.if_else(variants.variant_qc.AF[1] < 0.01, \"rare\", \"common\")))\n",
    "af_category_counts = variants.aggregate(hl.agg.group_by(variants.callers_info.SVTYPE, hl.agg.counter(variants.AF_category)))\n",
    "af_category_counts_df = pd.DataFrame.from_dict(af_category_counts, orient=\"index\")"
   ]
  },
  {
   "cell_type": "code",
   "execution_count": 26,
   "id": "3f53aa0c-1be8-431c-9d03-220579de2206",
   "metadata": {},
   "outputs": [
    {
     "data": {
      "application/vnd.jupyter.widget-view+json": {
       "model_id": "",
       "version_major": 2,
       "version_minor": 0
      },
      "text/plain": [
       "FloatProgress(value=0.0, bar_style='info', description='Progress:', layout=Layout(height='25px', width='50%'),…"
      ]
     },
     "metadata": {},
     "output_type": "display_data"
    }
   ],
   "source": [
    "import json\n",
    "import pandas as pd\n",
    "import numpy as np\n",
    "import matplotlib.pyplot as plt\n",
    "import matplotlib as mpl\n",
    "from pathlib import Path"
   ]
  },
  {
   "cell_type": "code",
   "execution_count": 27,
   "id": "eb6c3986-9318-4b07-ad79-b86c5ad5c90d",
   "metadata": {},
   "outputs": [
    {
     "name": "stdout",
     "output_type": "stream",
     "text": [
      "Requirement already satisfied: boto3 in /opt/conda/lib/python3.9/site-packages (1.17.106)\n",
      "Requirement already satisfied: s3transfer<0.5.0,>=0.4.0 in /opt/conda/lib/python3.9/site-packages (from boto3) (0.4.2)\n",
      "Requirement already satisfied: jmespath<1.0.0,>=0.7.1 in /opt/conda/lib/python3.9/site-packages (from boto3) (0.10.0)\n",
      "Requirement already satisfied: botocore<1.21.0,>=1.20.106 in /opt/conda/lib/python3.9/site-packages (from boto3) (1.20.106)\n",
      "Requirement already satisfied: python-dateutil<3.0.0,>=2.1 in /opt/conda/lib/python3.9/site-packages (from botocore<1.21.0,>=1.20.106->boto3) (2.8.2)\n",
      "Requirement already satisfied: urllib3<1.27,>=1.25.4 in /opt/conda/lib/python3.9/site-packages (from botocore<1.21.0,>=1.20.106->boto3) (1.26.6)\n",
      "Requirement already satisfied: six>=1.5 in /opt/conda/lib/python3.9/site-packages (from python-dateutil<3.0.0,>=2.1->botocore<1.21.0,>=1.20.106->boto3) (1.16.0)\n"
     ]
    }
   ],
   "source": [
    "%%sh\n",
    "pip install boto3"
   ]
  },
  {
   "cell_type": "code",
   "execution_count": 28,
   "id": "8b6d57c0-24a6-4bf8-9290-ddaae138b01c",
   "metadata": {},
   "outputs": [
    {
     "data": {
      "application/vnd.jupyter.widget-view+json": {
       "model_id": "",
       "version_major": 2,
       "version_minor": 0
      },
      "text/plain": [
       "FloatProgress(value=0.0, bar_style='info', description='Progress:', layout=Layout(height='25px', width='50%'),…"
      ]
     },
     "metadata": {},
     "output_type": "display_data"
    }
   ],
   "source": [
    "import boto3\n",
    "import io\n",
    "import matplotlib.pyplot as plt\n",
    "import seaborn as sns\n",
    "\n",
    "def save_fig_to_s3(fig, bucket, key):\n",
    "    img_data = io.BytesIO()\n",
    "    fig.savefig(img_data, format='svg', dpi=300)\n",
    "    img_data.seek(0)\n",
    "\n",
    "    s3 = boto3.client('s3')\n",
    "    response = s3.put_object(Bucket=bucket, Key=key, Body=img_data, ContentType='image/svg')\n",
    "    print(response)"
   ]
  },
  {
   "cell_type": "code",
   "execution_count": 29,
   "id": "9fb3c4f4-f01e-4493-a537-21a32e7a46db",
   "metadata": {},
   "outputs": [
    {
     "data": {
      "application/vnd.jupyter.widget-view+json": {
       "model_id": "",
       "version_major": 2,
       "version_minor": 0
      },
      "text/plain": [
       "FloatProgress(value=0.0, bar_style='info', description='Progress:', layout=Layout(height='25px', width='50%'),…"
      ]
     },
     "metadata": {},
     "output_type": "display_data"
    }
   ],
   "source": [
    "palette = {\n",
    "    \"population\": {\n",
    "        \"CHI\": \"#D62628\",\n",
    "        \"IND\": \"#9467BD\",\n",
    "        \"MAL\": \"#2EA02B\"\n",
    "    },\n",
    "    \"variantType\": {\n",
    "        \"DEL\": \"#4DBBD5FF\",\n",
    "        \"INS\": \"#DE8F44\",\n",
    "        \"DUP\": \"#00A087FF\"\n",
    "    },\n",
    "    \"extra\": [\n",
    "        \"#1E90FF\",\n",
    "        \"#FFA500\",\n",
    "        \"#EA5F5F\"\n",
    "    ]\n",
    "}"
   ]
  },
  {
   "cell_type": "code",
   "execution_count": 30,
   "id": "9dd040a1-5895-4ed8-9ca6-549ae2a884f0",
   "metadata": {},
   "outputs": [
    {
     "data": {
      "application/vnd.jupyter.widget-view+json": {
       "model_id": "",
       "version_major": 2,
       "version_minor": 0
      },
      "text/plain": [
       "FloatProgress(value=0.0, bar_style='info', description='Progress:', layout=Layout(height='25px', width='50%'),…"
      ]
     },
     "metadata": {},
     "output_type": "display_data"
    }
   ],
   "source": [
    "import json\n",
    "import pandas as pd\n",
    "import numpy as np\n",
    "import matplotlib.pyplot as plt\n",
    "import matplotlib as mpl\n",
    "from pathlib import Path\n",
    "\n",
    "# Clear plt\n",
    "plt.clf()\n",
    "plt.cla()\n",
    "fig, ax = plt.subplots(figsize=(10,5))\n",
    "bins = np.logspace(1, 7, 300)\n",
    "linewidth = 1.2\n",
    "for svtype, data in svsize_df.groupby(\"SVTYPE\"):\n",
    "    hist = np.histogram(data[\"SVSIZE\"], bins=bins)\n",
    "    ax.plot(hist[1][1:], hist[0], linewidth=linewidth, color=palette[\"variantType\"].get(svtype), label=f\"{svtype} ({hist[0].sum():,})\")\n",
    "ax.semilogx()\n",
    "ax.semilogy()\n",
    "ax.legend()\n",
    "ax.set_xlabel(\"Variant Size (Bp)\")\n",
    "ax.set_ylabel(\"Number of Variants\")\n",
    "ax.grid(axis=\"both\")"
   ]
  },
  {
   "cell_type": "code",
   "execution_count": 31,
   "id": "6440eaaf-9bdd-4b23-9b99-4704944a2010",
   "metadata": {},
   "outputs": [
    {
     "data": {
      "application/vnd.jupyter.widget-view+json": {
       "model_id": "",
       "version_major": 2,
       "version_minor": 0
      },
      "text/plain": [
       "FloatProgress(value=0.0, bar_style='info', description='Progress:', layout=Layout(height='25px', width='50%'),…"
      ]
     },
     "metadata": {},
     "output_type": "display_data"
    },
    {
     "data": {
      "image/png": "[encoded data removed]",
      "text/plain": [
       "<IPython.core.display.Image object>"
      ]
     },
     "metadata": {},
     "output_type": "display_data"
    }
   ],
   "source": [
    "%matplot plt"
   ]
  },
  {
   "cell_type": "code",
   "execution_count": 32,
   "id": "548ce577-42a6-440f-9065-993742a00e40",
   "metadata": {},
   "outputs": [
    {
     "data": {
      "application/vnd.jupyter.widget-view+json": {
       "model_id": "",
       "version_major": 2,
       "version_minor": 0
      },
      "text/plain": [
       "FloatProgress(value=0.0, bar_style='info', description='Progress:', layout=Layout(height='25px', width='50%'),…"
      ]
     },
     "metadata": {},
     "output_type": "display_data"
    },
    {
     "name": "stdout",
     "output_type": "stream",
     "text": []
    }
   ],
   "source": [
    "save_fig_to_s3(plt, \"Figures\", \"Figure2/Fig2b_sizedistribution.svg\")"
   ]
  },
  {
   "cell_type": "code",
   "execution_count": null,
   "id": "dcaef85d-25b9-4cb2-a188-b7390e08dd3f",
   "metadata": {},
   "outputs": [],
   "source": []
  }
 ],
 "metadata": {
  "kernelspec": {
   "display_name": "PySpark",
   "language": "python",
   "name": "pysparkkernel"
  },
  "language_info": {
   "codemirror_mode": {
    "name": "python",
    "version": 3
   },
   "file_extension": ".py",
   "mimetype": "text/x-python",
   "name": "pyspark",
   "pygments_lexer": "python3"
  }
 },
 "nbformat": 4,
 "nbformat_minor": 5
}

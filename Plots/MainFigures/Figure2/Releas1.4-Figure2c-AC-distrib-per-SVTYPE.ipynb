{
 "cells": [
  {
   "cell_type": "code",
   "execution_count": 1,
   "id": "ac110019-b732-4549-afa9-0f307a1ca8ab",
   "metadata": {},
   "outputs": [
    {
     "data": {
      "text/html": [
       "Current session configs: <tt>{'driverMemory': '6000M', 'proxyUser': 'jovyan', 'kind': 'pyspark'}</tt><br>"
      ],
      "text/plain": [
       "<IPython.core.display.HTML object>"
      ]
     },
     "metadata": {},
     "output_type": "display_data"
    },
    {
     "data": {
      "text/html": [
],
      "text/plain": [
       "<IPython.core.display.HTML object>"
      ]
     },
     "metadata": {},
     "output_type": "display_data"
    }
   ],
   "source": [
    "%%configure -f\n",
    "{\"driverMemory\": \"6000M\"}"
   ]
  },
  {
   "cell_type": "code",
   "execution_count": 2,
   "id": "ffbd9811-1cd6-4e44-b6d4-04be98abee61",
   "metadata": {},
   "outputs": [
    {
     "name": "stdout",
     "output_type": "stream",
     "text": [
      "Starting Spark application\n"
     ]
    },
    {
     "data": {
      "text/html": [
  ],
      "text/plain": [
       "<IPython.core.display.HTML object>"
      ]
     },
     "metadata": {},
     "output_type": "display_data"
    },
    {
     "data": {
      "application/vnd.jupyter.widget-view+json": {
       "model_id": "",
       "version_major": 2,
       "version_minor": 0
      },
      "text/plain": [
       "FloatProgress(value=0.0, bar_style='info', description='Progress:', layout=Layout(height='25px', width='50%'),…"
      ]
     },
     "metadata": {},
     "output_type": "display_data"
    },
    {
     "name": "stdout",
     "output_type": "stream",
     "text": [
      "SparkSession available as 'spark'.\n"
     ]
    },
    {
     "data": {
      "application/vnd.jupyter.widget-view+json": {
       "model_id": "",
       "version_major": 2,
       "version_minor": 0
      },
      "text/plain": [
       "FloatProgress(value=0.0, bar_style='info', description='Progress:', layout=Layout(height='25px', width='50%'),…"
      ]
     },
     "metadata": {},
     "output_type": "display_data"
    },
    {
     "name": "stdout",
     "output_type": "stream",
     "text": [
      "pip-installed Hail requires additional configuration options in Spark referring\n",
      "  to the path to the Hail Python module directory HAIL_DIR,\n",
      "  e.g. /path/to/python/site-packages/hail:\n",
      "    spark.jars=HAIL_DIR/hail-all-spark.jar\n",
      "    spark.driver.extraClassPath=HAIL_DIR/hail-all-spark.jar\n",
      "    spark.executor.extraClassPath=./hail-all-spark.jarRunning on Apache Spark version 3.1.2-amzn-0\n",
      "SparkUI available at\n",
      "Welcome to\n",
      "     __  __     <>__\n",
      "    / /_/ /__  __/ /\n",
      "   / __  / _ `/ / /\n",
      "  /_/ /_/\\_,_/_/_/   version 0.2.80-4ccfae1ff293\n",
      "LOGGING: writing to"
     ]
    }
   ],
   "source": [
    "import hail as hl\n",
    "hl.init(sc)"
   ]
  },
  {
   "cell_type": "code",
   "execution_count": 3,
   "id": "b131c285-a0e3-4154-94b8-f57bd2e98de0",
   "metadata": {},
   "outputs": [
    {
     "data": {
      "application/vnd.jupyter.widget-view+json": {
       "model_id": "",
       "version_major": 2,
       "version_minor": 0
      },
      "text/plain": [
       "FloatProgress(value=0.0, bar_style='info', description='Progress:', layout=Layout(height='25px', width='50%'),…"
      ]
     },
     "metadata": {},
     "output_type": "display_data"
    }
   ],
   "source": [
    "release14_hc_meta_mt_uri =   \"SG10K-SV-Release-1.4-HighConfidenceSV-WithMetadata-correctrsid.mt\""
   ]
  },
  {
   "cell_type": "code",
   "execution_count": 4,
   "id": "1416688d-9cbf-4239-8191-75c85e68b283",
   "metadata": {},
   "outputs": [
    {
     "data": {
      "application/vnd.jupyter.widget-view+json": {
       "model_id": "",
       "version_major": 2,
       "version_minor": 0
      },
      "text/plain": [
       "FloatProgress(value=0.0, bar_style='info', description='Progress:', layout=Layout(height='25px', width='50%'),…"
      ]
     },
     "metadata": {},
     "output_type": "display_data"
    },
    {
     "name": "stdout",
     "output_type": "stream",
     "text": [
      "----------------------------------------\n",
      "Global fields:\n",
      "    None\n",
      "----------------------------------------\n",
      "Column fields:\n",
      "    's': str\n",
      "    'metadata': struct {\n",
      "        Multiplex_Pool_ID: str, \n",
      "        Supplier_ID: str, \n",
      "        GIS_Internal_Sample_ID: str, \n",
      "        Site_Supplying_Sample: str, \n",
      "        Year_Of_Birth: int32, \n",
      "        Supplied_Gender: str, \n",
      "        Self_Reported_Ethnicity: str, \n",
      "        Extraction_Kit: str, \n",
      "        Date_Of_DNA_Extraction: str, \n",
      "        Plate_Position: str, \n",
      "        Plate_Name: str, \n",
      "        Version_Of_Consent_Form_Signed: str, \n",
      "        Sequencing_Depth: str, \n",
      "        NPM_Research_ID_Created_By_Username: str, \n",
      "        NPM_Research_ID_Creation_Date: str, \n",
      "        Comments_Entered_When_NPM_Research_ID_Created: str, \n",
      "        Description_Entered_When_NPM_Research_ID_Created: str, \n",
      "        ELM_Project_ID: str, \n",
      "        ELM_Project_Title: str, \n",
      "        ELM_Project_PI: str, \n",
      "        Species_Of_Sample_Sequenced: str, \n",
      "        Tehcnique_For_Sequencing: str, \n",
      "        Tissue_Type_Sequenced: str, \n",
      "        Library_Found_In_Sequencing_Run_ID: str, \n",
      "        Library_Found_In_Passed_Sequencing_Run_ID: str, \n",
      "        Vendor_Sequencing_Centre: str, \n",
      "        DNA_Sample_Passed_QC: str, \n",
      "        Library_Prep_Kit: str, \n",
      "        Run_ID: str, \n",
      "        Instrument_ID: str, \n",
      "        Instrument_Serial_Number: str, \n",
      "        `Hiseq_XTM_SBS_Kit_300_Cycles_V2_(box_1of_2)_Lot`: str, \n",
      "        `Hiseq_XTM_SBS_Kit_300_Cycles_V2_(box_2_Of_2)_Lot`: str, \n",
      "        `Hiseq_XTM_PE_Cluster_Kit_Cbottm_V2_(box_1_Of_2)_Lot`: str, \n",
      "        `Hiseq_XTM_PE_Cluster_Kit_Cbottm_V2_(box_2_Of_2)_Lot`: str, \n",
      "        `Hiseq_XTM_Flow_Cell_V2.5_Lot`: str, \n",
      "        `Hiseq_XTM_Flow_Cell_V2.5_ID`: str, \n",
      "        `Sequence-based_Gender`: str, \n",
      "        CRAM_Files_Location: str, \n",
      "        Estimate_Of_Sequence_Coverage: str, \n",
      "        Contamination_Rate_Of_Chinese_Genome: str, \n",
      "        Contamination_Rate_Of_Indian_Genome: str, \n",
      "        Contamination_Rate_Of_Malaysian_Genome: str, \n",
      "        Average_Coverage_Depth: str, \n",
      "        FB_Variants: str, \n",
      "        `CRAM_Filesize_(mb)`: str, \n",
      "        Error_Rate: str, \n",
      "        `FB-VCF_Filesize_(mb)`: str, \n",
      "        `GVCF_Filesize_(mb)`: str, \n",
      "        Insert_Size_Average: str, \n",
      "        Insert_Size_Standard_Deviation: str, \n",
      "        Raw_Total_Sequences: str, \n",
      "        `Reads_Duplicated_(%)`: str, \n",
      "        `Reads_Properly_Paired_(%)`: str, \n",
      "        Cohort_JVCF_Data_Capacity: str, \n",
      "        FASTQ_File_Size: str, \n",
      "        JVCF_Size: str, \n",
      "        Data_Timestamp_For_FASTQ_File: str, \n",
      "        Sequencing_Analysis_Pipeline: str, \n",
      "        `Cohorts_Joint-called_Together`: str, \n",
      "        Library_Archived_At_NSCC: str, \n",
      "        GVCF_File_Available: str, \n",
      "        Sequencing_Complete: str, \n",
      "        Supplied_And_Computed_Gender_Match: str, \n",
      "        Supplied_And_Computed_Ethinicity_Match: str, \n",
      "        `SOP_Agreement_For_Coverage_<14/<28_For_15x/30x`: str, \n",
      "        Sample_Life_Cycle: str, \n",
      "        Current: str, \n",
      "        Source_Cohort: str, \n",
      "        Original_supplier_ID: str, \n",
      "        duplicate_info: str, \n",
      "        duplicate: str, \n",
      "        duplicate_pair: str, \n",
      "        `removal-requested-by-supplier`: str, \n",
      "        KGp3_IBS_top20: str, \n",
      "        SGVP_IBS_top20: str, \n",
      "        pop_structure: str, \n",
      "        genetic_ancestry: str, \n",
      "        sex_qc: str, \n",
      "        genetic_sex: str\n",
      "    }\n",
      "----------------------------------------\n",
      "Row fields:\n",
      "    'locus': locus<GRCh38>\n",
      "    'alleles': array<str>\n",
      "    '_old_sv_id': str\n",
      "    'qual': float64\n",
      "    'filters': set<str>\n",
      "    'callers_info': struct {\n",
      "        manta: struct {\n",
      "            ABHet: float64, \n",
      "            ABHom: float64, \n",
      "            ABHetMulti: array<float64>, \n",
      "            ABHomMulti: array<float64>, \n",
      "            AC: array<int32>, \n",
      "            AF: array<float64>, \n",
      "            AN: int32, \n",
      "            CR: int32, \n",
      "            END: int32, \n",
      "            HOMSEQ: array<str>, \n",
      "            INV3: bool, \n",
      "            INV5: bool, \n",
      "            LEFT_SVINSSEQ: array<str>, \n",
      "            LOGF: float64, \n",
      "            MaxAAS: array<int32>, \n",
      "            MaxAASR: array<float64>, \n",
      "            MaxAltPP: int32, \n",
      "            MQ: int32, \n",
      "            MQsquared: int32, \n",
      "            NCLUSTERS: int32, \n",
      "            NGT: array<int32>, \n",
      "            NHet: int32, \n",
      "            NHomRef: int32, \n",
      "            NHomAlt: int32, \n",
      "            NUM_MERGED_SVS: int32, \n",
      "            OLD_VARIANT_ID: str, \n",
      "            ORSTART: int32, \n",
      "            OREND: int32, \n",
      "            QD: float64, \n",
      "            PASS_AC: array<int32>, \n",
      "            PASS_AN: int32, \n",
      "            PASS_ratio: float64, \n",
      "            PS: int32, \n",
      "            RefLen: int32, \n",
      "            RELATED_SV_ID: int32, \n",
      "            RIGHT_SVINSSEQ: array<str>, \n",
      "            SB: float64, \n",
      "            SBAlt: float64, \n",
      "            SBF: array<int32>, \n",
      "            SBF1: array<int32>, \n",
      "            SBF2: array<int32>, \n",
      "            SBR: array<int32>, \n",
      "            SBR1: array<int32>, \n",
      "            SBR2: array<int32>, \n",
      "            SEQ: str, \n",
      "            SeqDepth: int32, \n",
      "            SV_ID: int32, \n",
      "            SVINSSEQ: array<str>, \n",
      "            SVLEN: int32, \n",
      "            SVMODEL: str, \n",
      "            SVSIZE: int32, \n",
      "            SVTYPE: str, \n",
      "            VarType: str, \n",
      "            PASS_GT2_filter: str, \n",
      "            alleles: array<str>, \n",
      "            rsid: str\n",
      "        }, \n",
      "        melt: struct {\n",
      "            ASSESS: int32, \n",
      "            TSD: str, \n",
      "            INTERNAL: array<str>, \n",
      "            SVTYPE: str, \n",
      "            SVLEN: int32, \n",
      "            MEINFO: array<str>, \n",
      "            DIFF: array<str>, \n",
      "            LP: int32, \n",
      "            RP: int32, \n",
      "            RA: float64, \n",
      "            PRIOR: str, \n",
      "            SR: int32, \n",
      "            alleles: array<str>, \n",
      "            rsid: str\n",
      "        }, \n",
      "        survindel2: struct {\n",
      "            SVTYPE: str, \n",
      "            END: int32, \n",
      "            N_SAMPLES: int32, \n",
      "            N_SVS: int32, \n",
      "            GCF: float64, \n",
      "            SVSIZE: int32, \n",
      "            alleles: array<str>, \n",
      "            rsid: str\n",
      "        }, \n",
      "        SVTYPE: str, \n",
      "        SVSIZE: int32, \n",
      "        END: int32, \n",
      "        AC_CHINESE: int32, \n",
      "        AN_CHINESE: int32, \n",
      "        AF_CHINESE: float64, \n",
      "        AC_MALAY: int32, \n",
      "        AN_MALAY: int32, \n",
      "        AF_MALAY: float64, \n",
      "        AC_INDIAN: int32, \n",
      "        AN_INDIAN: int32, \n",
      "        AF_INDIAN: float64\n",
      "    }\n",
      "    'sv_id': str\n",
      "----------------------------------------\n",
      "Entry fields:\n",
      "    'manta': struct {\n",
      "        GT: call, \n",
      "        FT: str, \n",
      "        AD: array<int32>, \n",
      "        MD: int32, \n",
      "        DP: int32, \n",
      "        RA: array<int32>, \n",
      "        PP: int32, \n",
      "        GQ: int32, \n",
      "        PL: array<int32>\n",
      "    }\n",
      "    'melt': struct {\n",
      "        GT: call, \n",
      "        GL: array<float64>, \n",
      "        DP: int32, \n",
      "        AD: int32, \n",
      "        PL: array<int32>\n",
      "    }\n",
      "    'survindel2': struct {\n",
      "        GT: call, \n",
      "        FT: str, \n",
      "        AR: int32, \n",
      "        SR: int32, \n",
      "        RR: int32, \n",
      "        RS: int32, \n",
      "        RE: int32, \n",
      "        CN: int32, \n",
      "        IL: int32, \n",
      "        WR: int32, \n",
      "        DFL: int32, \n",
      "        DDL: int32, \n",
      "        DDR: int32, \n",
      "        DFR: int32, \n",
      "        CID: int32, \n",
      "        OW: int32, \n",
      "        DHFC: float64, \n",
      "        DHBFC: float64, \n",
      "        DHFFC: float64, \n",
      "        DHSP: int32, \n",
      "        FS: str\n",
      "    }\n",
      "    'GT': call\n",
      "    'DP': int32\n",
      "    'PL': array<int32>\n",
      "----------------------------------------\n",
      "Column key: ['s']\n",
      "Row key: ['locus', 'alleles']\n",
      "----------------------------------------\n",
      "(73035, 5487)"
     ]
    }
   ],
   "source": [
    "mt = hl.read_matrix_table(release14_hc_meta_mt_uri)\n",
    "\n",
    "mt.describe()\n",
    "mt.count()"
   ]
  },
  {
   "cell_type": "code",
   "execution_count": 5,
   "id": "754f8951-3e3e-4c74-a728-cc9a7d0fcf29",
   "metadata": {},
   "outputs": [
    {
     "data": {
      "application/vnd.jupyter.widget-view+json": {
       "model_id": "",
       "version_major": 2,
       "version_minor": 0
      },
      "text/plain": [
       "FloatProgress(value=0.0, bar_style='info', description='Progress:', layout=Layout(height='25px', width='50%'),…"
      ]
     },
     "metadata": {},
     "output_type": "display_data"
    }
   ],
   "source": [
    "mt = hl.variant_qc(mt)"
   ]
  },
  {
   "cell_type": "code",
   "execution_count": 6,
   "id": "1c47af36-386c-4c39-a10b-711b1b13d041",
   "metadata": {},
   "outputs": [
    {
     "data": {
      "application/vnd.jupyter.widget-view+json": {
       "model_id": "",
       "version_major": 2,
       "version_minor": 0
      },
      "text/plain": [
       "FloatProgress(value=0.0, bar_style='info', description='Progress:', layout=Layout(height='25px', width='50%'),…"
      ]
     },
     "metadata": {},
     "output_type": "display_data"
    },
    {
     "name": "stdout",
     "output_type": "stream",
     "text": [
      "----------------------------------------\n",
      "Global fields:\n",
      "    None\n",
      "----------------------------------------\n",
      "Column fields:\n",
      "    's': str\n",
      "    'metadata': struct {\n",
      "        Multiplex_Pool_ID: str, \n",
      "        Supplier_ID: str, \n",
      "        GIS_Internal_Sample_ID: str, \n",
      "        Site_Supplying_Sample: str, \n",
      "        Year_Of_Birth: int32, \n",
      "        Supplied_Gender: str, \n",
      "        Self_Reported_Ethnicity: str, \n",
      "        Extraction_Kit: str, \n",
      "        Date_Of_DNA_Extraction: str, \n",
      "        Plate_Position: str, \n",
      "        Plate_Name: str, \n",
      "        Version_Of_Consent_Form_Signed: str, \n",
      "        Sequencing_Depth: str, \n",
      "        NPM_Research_ID_Created_By_Username: str, \n",
      "        NPM_Research_ID_Creation_Date: str, \n",
      "        Comments_Entered_When_NPM_Research_ID_Created: str, \n",
      "        Description_Entered_When_NPM_Research_ID_Created: str, \n",
      "        ELM_Project_ID: str, \n",
      "        ELM_Project_Title: str, \n",
      "        ELM_Project_PI: str, \n",
      "        Species_Of_Sample_Sequenced: str, \n",
      "        Tehcnique_For_Sequencing: str, \n",
      "        Tissue_Type_Sequenced: str, \n",
      "        Library_Found_In_Sequencing_Run_ID: str, \n",
      "        Library_Found_In_Passed_Sequencing_Run_ID: str, \n",
      "        Vendor_Sequencing_Centre: str, \n",
      "        DNA_Sample_Passed_QC: str, \n",
      "        Library_Prep_Kit: str, \n",
      "        Run_ID: str, \n",
      "        Instrument_ID: str, \n",
      "        Instrument_Serial_Number: str, \n",
      "        `Hiseq_XTM_SBS_Kit_300_Cycles_V2_(box_1of_2)_Lot`: str, \n",
      "        `Hiseq_XTM_SBS_Kit_300_Cycles_V2_(box_2_Of_2)_Lot`: str, \n",
      "        `Hiseq_XTM_PE_Cluster_Kit_Cbottm_V2_(box_1_Of_2)_Lot`: str, \n",
      "        `Hiseq_XTM_PE_Cluster_Kit_Cbottm_V2_(box_2_Of_2)_Lot`: str, \n",
      "        `Hiseq_XTM_Flow_Cell_V2.5_Lot`: str, \n",
      "        `Hiseq_XTM_Flow_Cell_V2.5_ID`: str, \n",
      "        `Sequence-based_Gender`: str, \n",
      "        CRAM_Files_Location: str, \n",
      "        Estimate_Of_Sequence_Coverage: str, \n",
      "        Contamination_Rate_Of_Chinese_Genome: str, \n",
      "        Contamination_Rate_Of_Indian_Genome: str, \n",
      "        Contamination_Rate_Of_Malaysian_Genome: str, \n",
      "        Average_Coverage_Depth: str, \n",
      "        FB_Variants: str, \n",
      "        `CRAM_Filesize_(mb)`: str, \n",
      "        Error_Rate: str, \n",
      "        `FB-VCF_Filesize_(mb)`: str, \n",
      "        `GVCF_Filesize_(mb)`: str, \n",
      "        Insert_Size_Average: str, \n",
      "        Insert_Size_Standard_Deviation: str, \n",
      "        Raw_Total_Sequences: str, \n",
      "        `Reads_Duplicated_(%)`: str, \n",
      "        `Reads_Properly_Paired_(%)`: str, \n",
      "        Cohort_JVCF_Data_Capacity: str, \n",
      "        FASTQ_File_Size: str, \n",
      "        JVCF_Size: str, \n",
      "        Data_Timestamp_For_FASTQ_File: str, \n",
      "        Sequencing_Analysis_Pipeline: str, \n",
      "        `Cohorts_Joint-called_Together`: str, \n",
      "        Library_Archived_At_NSCC: str, \n",
      "        GVCF_File_Available: str, \n",
      "        Sequencing_Complete: str, \n",
      "        Supplied_And_Computed_Gender_Match: str, \n",
      "        Supplied_And_Computed_Ethinicity_Match: str, \n",
      "        `SOP_Agreement_For_Coverage_<14/<28_For_15x/30x`: str, \n",
      "        Sample_Life_Cycle: str, \n",
      "        Current: str, \n",
      "        Source_Cohort: str, \n",
      "        Original_supplier_ID: str, \n",
      "        duplicate_info: str, \n",
      "        duplicate: str, \n",
      "        duplicate_pair: str, \n",
      "        `removal-requested-by-supplier`: str, \n",
      "        KGp3_IBS_top20: str, \n",
      "        SGVP_IBS_top20: str, \n",
      "        pop_structure: str, \n",
      "        genetic_ancestry: str, \n",
      "        sex_qc: str, \n",
      "        genetic_sex: str\n",
      "    }\n",
      "----------------------------------------\n",
      "Row fields:\n",
      "    'locus': locus<GRCh38>\n",
      "    'alleles': array<str>\n",
      "    '_old_sv_id': str\n",
      "    'qual': float64\n",
      "    'filters': set<str>\n",
      "    'callers_info': struct {\n",
      "        manta: struct {\n",
      "            ABHet: float64, \n",
      "            ABHom: float64, \n",
      "            ABHetMulti: array<float64>, \n",
      "            ABHomMulti: array<float64>, \n",
      "            AC: array<int32>, \n",
      "            AF: array<float64>, \n",
      "            AN: int32, \n",
      "            CR: int32, \n",
      "            END: int32, \n",
      "            HOMSEQ: array<str>, \n",
      "            INV3: bool, \n",
      "            INV5: bool, \n",
      "            LEFT_SVINSSEQ: array<str>, \n",
      "            LOGF: float64, \n",
      "            MaxAAS: array<int32>, \n",
      "            MaxAASR: array<float64>, \n",
      "            MaxAltPP: int32, \n",
      "            MQ: int32, \n",
      "            MQsquared: int32, \n",
      "            NCLUSTERS: int32, \n",
      "            NGT: array<int32>, \n",
      "            NHet: int32, \n",
      "            NHomRef: int32, \n",
      "            NHomAlt: int32, \n",
      "            NUM_MERGED_SVS: int32, \n",
      "            OLD_VARIANT_ID: str, \n",
      "            ORSTART: int32, \n",
      "            OREND: int32, \n",
      "            QD: float64, \n",
      "            PASS_AC: array<int32>, \n",
      "            PASS_AN: int32, \n",
      "            PASS_ratio: float64, \n",
      "            PS: int32, \n",
      "            RefLen: int32, \n",
      "            RELATED_SV_ID: int32, \n",
      "            RIGHT_SVINSSEQ: array<str>, \n",
      "            SB: float64, \n",
      "            SBAlt: float64, \n",
      "            SBF: array<int32>, \n",
      "            SBF1: array<int32>, \n",
      "            SBF2: array<int32>, \n",
      "            SBR: array<int32>, \n",
      "            SBR1: array<int32>, \n",
      "            SBR2: array<int32>, \n",
      "            SEQ: str, \n",
      "            SeqDepth: int32, \n",
      "            SV_ID: int32, \n",
      "            SVINSSEQ: array<str>, \n",
      "            SVLEN: int32, \n",
      "            SVMODEL: str, \n",
      "            SVSIZE: int32, \n",
      "            SVTYPE: str, \n",
      "            VarType: str, \n",
      "            PASS_GT2_filter: str, \n",
      "            alleles: array<str>, \n",
      "            rsid: str\n",
      "        }, \n",
      "        melt: struct {\n",
      "            ASSESS: int32, \n",
      "            TSD: str, \n",
      "            INTERNAL: array<str>, \n",
      "            SVTYPE: str, \n",
      "            SVLEN: int32, \n",
      "            MEINFO: array<str>, \n",
      "            DIFF: array<str>, \n",
      "            LP: int32, \n",
      "            RP: int32, \n",
      "            RA: float64, \n",
      "            PRIOR: str, \n",
      "            SR: int32, \n",
      "            alleles: array<str>, \n",
      "            rsid: str\n",
      "        }, \n",
      "        survindel2: struct {\n",
      "            SVTYPE: str, \n",
      "            END: int32, \n",
      "            N_SAMPLES: int32, \n",
      "            N_SVS: int32, \n",
      "            GCF: float64, \n",
      "            SVSIZE: int32, \n",
      "            alleles: array<str>, \n",
      "            rsid: str\n",
      "        }, \n",
      "        SVTYPE: str, \n",
      "        SVSIZE: int32, \n",
      "        END: int32, \n",
      "        AC_CHINESE: int32, \n",
      "        AN_CHINESE: int32, \n",
      "        AF_CHINESE: float64, \n",
      "        AC_MALAY: int32, \n",
      "        AN_MALAY: int32, \n",
      "        AF_MALAY: float64, \n",
      "        AC_INDIAN: int32, \n",
      "        AN_INDIAN: int32, \n",
      "        AF_INDIAN: float64\n",
      "    }\n",
      "    'sv_id': str\n",
      "    'variant_qc': struct {\n",
      "        dp_stats: struct {\n",
      "            mean: float64, \n",
      "            stdev: float64, \n",
      "            min: float64, \n",
      "            max: float64\n",
      "        }, \n",
      "        AC: array<int32>, \n",
      "        AF: array<float64>, \n",
      "        AN: int32, \n",
      "        homozygote_count: array<int32>, \n",
      "        call_rate: float64, \n",
      "        n_called: int64, \n",
      "        n_not_called: int64, \n",
      "        n_filtered: int64, \n",
      "        n_het: int64, \n",
      "        n_non_ref: int64, \n",
      "        het_freq_hwe: float64, \n",
      "        p_value_hwe: float64, \n",
      "        p_value_excess_het: float64\n",
      "    }\n",
      "----------------------------------------\n",
      "Entry fields:\n",
      "    'manta': struct {\n",
      "        GT: call, \n",
      "        FT: str, \n",
      "        AD: array<int32>, \n",
      "        MD: int32, \n",
      "        DP: int32, \n",
      "        RA: array<int32>, \n",
      "        PP: int32, \n",
      "        GQ: int32, \n",
      "        PL: array<int32>\n",
      "    }\n",
      "    'melt': struct {\n",
      "        GT: call, \n",
      "        GL: array<float64>, \n",
      "        DP: int32, \n",
      "        AD: int32, \n",
      "        PL: array<int32>\n",
      "    }\n",
      "    'survindel2': struct {\n",
      "        GT: call, \n",
      "        FT: str, \n",
      "        AR: int32, \n",
      "        SR: int32, \n",
      "        RR: int32, \n",
      "        RS: int32, \n",
      "        RE: int32, \n",
      "        CN: int32, \n",
      "        IL: int32, \n",
      "        WR: int32, \n",
      "        DFL: int32, \n",
      "        DDL: int32, \n",
      "        DDR: int32, \n",
      "        DFR: int32, \n",
      "        CID: int32, \n",
      "        OW: int32, \n",
      "        DHFC: float64, \n",
      "        DHBFC: float64, \n",
      "        DHFFC: float64, \n",
      "        DHSP: int32, \n",
      "        FS: str\n",
      "    }\n",
      "    'GT': call\n",
      "    'DP': int32\n",
      "    'PL': array<int32>\n",
      "----------------------------------------\n",
      "Column key: ['s']\n",
      "Row key: ['locus', 'alleles']\n",
      "----------------------------------------"
     ]
    }
   ],
   "source": [
    "mt.describe()"
   ]
  },
  {
   "cell_type": "code",
   "execution_count": 8,
   "id": "2ff2e05d-5320-4fd9-a878-2f0bff8b5065",
   "metadata": {},
   "outputs": [
    {
     "data": {
      "application/vnd.jupyter.widget-view+json": {
       "model_id": "",
       "version_major": 2,
       "version_minor": 0
      },
      "text/plain": [
       "FloatProgress(value=0.0, bar_style='info', description='Progress:', layout=Layout(height='25px', width='50%'),…"
      ]
     },
     "metadata": {},
     "output_type": "display_data"
    },
    {
     "name": "stdout",
     "output_type": "stream",
     "text": [
      "(465, 5487)"
     ]
    }
   ],
   "source": [
    "# find SVs with allele frequency greater than 0.95\n",
    "mt_large_af = mt.filter_rows(mt.variant_qc.AF[1]>=0.95, keep=True)\n",
    "mt_large_af.count()"
   ]
  },
  {
   "cell_type": "code",
   "execution_count": 7,
   "id": "24c4f29a-5ce7-43fc-9871-d2e2030aa1f6",
   "metadata": {},
   "outputs": [
    {
     "data": {
      "application/vnd.jupyter.widget-view+json": {
       "model_id": "",
       "version_major": 2,
       "version_minor": 0
      },
      "text/plain": [
       "FloatProgress(value=0.0, bar_style='info', description='Progress:', layout=Layout(height='25px', width='50%'),…"
      ]
     },
     "metadata": {},
     "output_type": "display_data"
    }
   ],
   "source": [
    "df = mt.select_rows(\n",
    "    svtype = mt.callers_info.SVTYPE,\n",
    "    ac = mt.variant_qc.AC[1]\n",
    ").rows().select('svtype', 'ac').to_pandas()"
   ]
  },
  {
   "cell_type": "code",
   "execution_count": 8,
   "id": "99f4abc9-1173-49c6-b098-0e089935e520",
   "metadata": {},
   "outputs": [
    {
     "data": {
      "application/vnd.jupyter.widget-view+json": {
       "model_id": "",
       "version_major": 2,
       "version_minor": 0
      },
      "text/plain": [
       "FloatProgress(value=0.0, bar_style='info', description='Progress:', layout=Layout(height='25px', width='50%'),…"
      ]
     },
     "metadata": {},
     "output_type": "display_data"
    },
    {
     "name": "stdout",
     "output_type": "stream",
     "text": [
      "      svtype    ac\n",
      "0        DUP    97\n",
      "1        DUP     2\n",
      "2        DUP    45\n",
      "3        DUP   312\n",
      "4        INS     1\n",
      "...      ...   ...\n",
      "73030    DUP  1433\n",
      "73031    DUP    10\n",
      "73032    DUP     1\n",
      "73033    DUP     2\n",
      "73034    DUP     2\n",
      "\n",
      "[73035 rows x 2 columns]"
     ]
    }
   ],
   "source": [
    "df2 = df.drop(['locus.contig', 'locus.position', 'alleles'], axis=1)\n",
    "df2"
   ]
  },
  {
   "cell_type": "code",
   "execution_count": 9,
   "id": "d5b46de6-9d1d-44b7-8d6e-6d742e4afd74",
   "metadata": {},
   "outputs": [
    {
     "name": "stdout",
     "output_type": "stream",
     "text": [
      "Requirement already satisfied: boto3 in /opt/conda/lib/python3.9/site-packages (1.17.106)\n",
      "Requirement already satisfied: jmespath<1.0.0,>=0.7.1 in /opt/conda/lib/python3.9/site-packages (from boto3) (0.10.0)\n",
      "Requirement already satisfied: s3transfer<0.5.0,>=0.4.0 in /opt/conda/lib/python3.9/site-packages (from boto3) (0.4.2)\n",
      "Requirement already satisfied: botocore<1.21.0,>=1.20.106 in /opt/conda/lib/python3.9/site-packages (from boto3) (1.20.106)\n",
      "Requirement already satisfied: python-dateutil<3.0.0,>=2.1 in /opt/conda/lib/python3.9/site-packages (from botocore<1.21.0,>=1.20.106->boto3) (2.8.2)\n",
      "Requirement already satisfied: urllib3<1.27,>=1.25.4 in /opt/conda/lib/python3.9/site-packages (from botocore<1.21.0,>=1.20.106->boto3) (1.26.6)\n",
      "Requirement already satisfied: six>=1.5 in /opt/conda/lib/python3.9/site-packages (from python-dateutil<3.0.0,>=2.1->botocore<1.21.0,>=1.20.106->boto3) (1.16.0)\n"
     ]
    }
   ],
   "source": [
    "%%sh\n",
    "pip install boto3"
   ]
  },
  {
   "cell_type": "code",
   "execution_count": 10,
   "id": "4b2f1cef-dcc8-4383-aadf-bdc6a048ddec",
   "metadata": {},
   "outputs": [
    {
     "data": {
      "application/vnd.jupyter.widget-view+json": {
       "model_id": "",
       "version_major": 2,
       "version_minor": 0
      },
      "text/plain": [
       "FloatProgress(value=0.0, bar_style='info', description='Progress:', layout=Layout(height='25px', width='50%'),…"
      ]
     },
     "metadata": {},
     "output_type": "display_data"
    }
   ],
   "source": [
    "import boto3\n",
    "import io\n",
    "import matplotlib.pyplot as plt\n",
    "import seaborn as sns\n",
    "\n",
    "def save_fig_to_s3(fig, bucket, key):\n",
    "    img_data = io.BytesIO()\n",
    "    fig.savefig(img_data, format='svg', dpi=300)\n",
    "    img_data.seek(0)\n",
    "\n",
    "    s3 = boto3.client('s3')\n",
    "    response = s3.put_object(Bucket=bucket, Key=key, Body=img_data, ContentType='image/svg')\n",
    "    print(response)"
   ]
  },
  {
   "cell_type": "code",
   "execution_count": 12,
   "id": "e45eef18-0450-4d0b-9599-01b6abe2672d",
   "metadata": {},
   "outputs": [
    {
     "data": {
      "application/vnd.jupyter.widget-view+json": {
       "model_id": "",
       "version_major": 2,
       "version_minor": 0
      },
      "text/plain": [
       "FloatProgress(value=0.0, bar_style='info', description='Progress:', layout=Layout(height='25px', width='50%'),…"
      ]
     },
     "metadata": {},
     "output_type": "display_data"
    }
   ],
   "source": [
    "import pandas as pd\n",
    "import matplotlib.pyplot as plt\n",
    "\n",
    "\n",
    "df = (mt\n",
    "      #.filter_rows((hl.is_missing(mt.info.manta.PASS_GT2_filter)) | (mt.info.manta.PASS_GT2_filter==\"PASS\"), keep=True)\n",
    "      .select_rows(svtype = mt.callers_info.SVTYPE, \n",
    "                   ac = mt.variant_qc.AC[1])\n",
    "      .rows()\n",
    "      .select('svtype', 'ac')\n",
    "      .to_pandas()\n",
    "     )\n",
    "\n",
    "# Separate 'ac' values for DEL and DUP SV types\n",
    "ac_del = df[df['svtype'] == 'DEL']['ac']\n",
    "ac_dup = df[df['svtype'] == 'DUP']['ac']\n",
    "ac_ins = df[df['svtype'] == 'INS']['ac']\n",
    "\n",
    "# Calculate cumulative distributions for DEL and DUP SV types\n",
    "ac_del_counts = ac_del.value_counts().sort_index()\n",
    "ac_dup_counts = ac_dup.value_counts().sort_index()\n",
    "ac_ins_counts = ac_ins.value_counts().sort_index()\n",
    "\n",
    "cum_dist_del = ac_del_counts.cumsum() / ac_del_counts.sum()\n",
    "cum_dist_dup = ac_dup_counts.cumsum() / ac_dup_counts.sum()\n",
    "cum_dist_ins = ac_ins_counts.cumsum() / ac_ins_counts.sum()\n",
    "\n",
    "\n",
    "# Plot cumulative distribution of allele counts (ac)\n",
    "plt.figure(figsize=(8, 6))\n",
    "plt.plot(cum_dist_del.index, cum_dist_del.values, label='DEL', marker='', linestyle='-')\n",
    "plt.plot(cum_dist_dup.index, cum_dist_dup.values, label='DUP', marker='', linestyle='-')\n",
    "plt.plot(cum_dist_ins.index, cum_dist_ins.values, label='INS', marker='', linestyle='-')\n",
    "\n",
    "plt.title('Cumulative Distribution Plot of Alt Allele Count (AC)')\n",
    "plt.xlabel('Alt Allele Count (AC)')\n",
    "plt.ylabel('Fraction of samples')\n",
    "plt.xscale('log')  # Set x-axis to log scale (base 10)\n",
    "#plt.yscale('log')  # Set x-axis to log scale (base 10)\n",
    "\n",
    "#plt.xlim(left=1)  # Ensure x-axis starts from 1 (log scale)\n",
    "#plt.xlim(left=0)  # Ensure x-axis starts from 0\n",
    "#plt.ylim(bottom=0, top=1)  # Set y-axis limits between 0 and 1\n",
    "plt.legend()\n",
    "\n",
    "plt.grid(True)\n",
    "plt.show()\n",
    "\n"
   ]
  },
  {
   "cell_type": "code",
   "execution_count": 13,
   "id": "e033fca1-5620-4eed-92e2-4f5954e6285e",
   "metadata": {},
   "outputs": [
    {
     "data": {
      "application/vnd.jupyter.widget-view+json": {
       "model_id": "",
       "version_major": 2,
       "version_minor": 0
      },
      "text/plain": [
       "FloatProgress(value=0.0, bar_style='info', description='Progress:', layout=Layout(height='25px', width='50%'),…"
      ]
     },
     "metadata": {},
     "output_type": "display_data"
    },
    {
     "data": {
      "image/png": "[encoded data removed]",
      "text/plain": [
       "<IPython.core.display.Image object>"
      ]
     },
     "metadata": {},
     "output_type": "display_data"
    }
   ],
   "source": [
    "%matplot plt"
   ]
  },
  {
   "cell_type": "code",
   "execution_count": 14,
   "id": "533c4c57-e3f7-41be-a3d7-5542b1c939af",
   "metadata": {},
   "outputs": [
    {
     "data": {
      "application/vnd.jupyter.widget-view+json": {
       "model_id": "",
       "version_major": 2,
       "version_minor": 0
      },
      "text/plain": [
       "FloatProgress(value=0.0, bar_style='info', description='Progress:', layout=Layout(height='25px', width='50%'),…"
      ]
     },
     "metadata": {},
     "output_type": "display_data"
    },
    {
     "name": "stdout",
     "output_type": "stream",
     "text": [

     ]
    }
   ],
   "source": [
    "save_fig_to_s3(plt, \"Figures\", \"Figure2/Fig2_supplementary_acdistribution.svg\")"
   ]
  },
  {
   "cell_type": "markdown",
   "id": "778ec4fb-2bfb-46da-b080-0b1e5a6cac9b",
   "metadata": {},
   "source": [
    "## Plot by common, rare, ultra-rare definition"
   ]
  },
  {
   "cell_type": "code",
   "execution_count": 11,
   "id": "f3649dac-4a6c-47c7-bc9c-d0af10e14010",
   "metadata": {
    "tags": []
   },
   "outputs": [
    {
     "data": {
      "application/vnd.jupyter.widget-view+json": {
       "model_id": "",
       "version_major": 2,
       "version_minor": 0
      },
      "text/plain": [
       "FloatProgress(value=0.0, bar_style='info', description='Progress:', layout=Layout(height='25px', width='50%'),…"
      ]
     },
     "metadata": {},
     "output_type": "display_data"
    },
    {
     "name": "stdout",
     "output_type": "stream",
     "text": [
      "----------------------------------------\n",
      "Global fields:\n",
      "    None\n",
      "----------------------------------------\n",
      "Column fields:\n",
      "    's': str\n",
      "    'metadata': struct {\n",
      "        Multiplex_Pool_ID: str, \n",
      "        Supplier_ID: str, \n",
      "        GIS_Internal_Sample_ID: str, \n",
      "        Site_Supplying_Sample: str, \n",
      "        Year_Of_Birth: int32, \n",
      "        Supplied_Gender: str, \n",
      "        Self_Reported_Ethnicity: str, \n",
      "        Extraction_Kit: str, \n",
      "        Date_Of_DNA_Extraction: str, \n",
      "        Plate_Position: str, \n",
      "        Plate_Name: str, \n",
      "        Version_Of_Consent_Form_Signed: str, \n",
      "        Sequencing_Depth: str, \n",
      "        NPM_Research_ID_Created_By_Username: str, \n",
      "        NPM_Research_ID_Creation_Date: str, \n",
      "        Comments_Entered_When_NPM_Research_ID_Created: str, \n",
      "        Description_Entered_When_NPM_Research_ID_Created: str, \n",
      "        ELM_Project_ID: str, \n",
      "        ELM_Project_Title: str, \n",
      "        ELM_Project_PI: str, \n",
      "        Species_Of_Sample_Sequenced: str, \n",
      "        Tehcnique_For_Sequencing: str, \n",
      "        Tissue_Type_Sequenced: str, \n",
      "        Library_Found_In_Sequencing_Run_ID: str, \n",
      "        Library_Found_In_Passed_Sequencing_Run_ID: str, \n",
      "        Vendor_Sequencing_Centre: str, \n",
      "        DNA_Sample_Passed_QC: str, \n",
      "        Library_Prep_Kit: str, \n",
      "        Run_ID: str, \n",
      "        Instrument_ID: str, \n",
      "        Instrument_Serial_Number: str, \n",
      "        `Hiseq_XTM_SBS_Kit_300_Cycles_V2_(box_1of_2)_Lot`: str, \n",
      "        `Hiseq_XTM_SBS_Kit_300_Cycles_V2_(box_2_Of_2)_Lot`: str, \n",
      "        `Hiseq_XTM_PE_Cluster_Kit_Cbottm_V2_(box_1_Of_2)_Lot`: str, \n",
      "        `Hiseq_XTM_PE_Cluster_Kit_Cbottm_V2_(box_2_Of_2)_Lot`: str, \n",
      "        `Hiseq_XTM_Flow_Cell_V2.5_Lot`: str, \n",
      "        `Hiseq_XTM_Flow_Cell_V2.5_ID`: str, \n",
      "        `Sequence-based_Gender`: str, \n",
      "        CRAM_Files_Location: str, \n",
      "        Estimate_Of_Sequence_Coverage: str, \n",
      "        Contamination_Rate_Of_Chinese_Genome: str, \n",
      "        Contamination_Rate_Of_Indian_Genome: str, \n",
      "        Contamination_Rate_Of_Malaysian_Genome: str, \n",
      "        Average_Coverage_Depth: str, \n",
      "        FB_Variants: str, \n",
      "        `CRAM_Filesize_(mb)`: str, \n",
      "        Error_Rate: str, \n",
      "        `FB-VCF_Filesize_(mb)`: str, \n",
      "        `GVCF_Filesize_(mb)`: str, \n",
      "        Insert_Size_Average: str, \n",
      "        Insert_Size_Standard_Deviation: str, \n",
      "        Raw_Total_Sequences: str, \n",
      "        `Reads_Duplicated_(%)`: str, \n",
      "        `Reads_Properly_Paired_(%)`: str, \n",
      "        Cohort_JVCF_Data_Capacity: str, \n",
      "        FASTQ_File_Size: str, \n",
      "        JVCF_Size: str, \n",
      "        Data_Timestamp_For_FASTQ_File: str, \n",
      "        Sequencing_Analysis_Pipeline: str, \n",
      "        `Cohorts_Joint-called_Together`: str, \n",
      "        Library_Archived_At_NSCC: str, \n",
      "        GVCF_File_Available: str, \n",
      "        Sequencing_Complete: str, \n",
      "        Supplied_And_Computed_Gender_Match: str, \n",
      "        Supplied_And_Computed_Ethinicity_Match: str, \n",
      "        `SOP_Agreement_For_Coverage_<14/<28_For_15x/30x`: str, \n",
      "        Sample_Life_Cycle: str, \n",
      "        Current: str, \n",
      "        Source_Cohort: str, \n",
      "        Original_supplier_ID: str, \n",
      "        duplicate_info: str, \n",
      "        duplicate: str, \n",
      "        duplicate_pair: str, \n",
      "        `removal-requested-by-supplier`: str, \n",
      "        KGp3_IBS_top20: str, \n",
      "        SGVP_IBS_top20: str, \n",
      "        pop_structure: str, \n",
      "        genetic_ancestry: str, \n",
      "        sex_qc: str, \n",
      "        genetic_sex: str\n",
      "    }\n",
      "----------------------------------------\n",
      "Row fields:\n",
      "    'locus': locus<GRCh38>\n",
      "    'alleles': array<str>\n",
      "    '_old_sv_id': str\n",
      "    'qual': float64\n",
      "    'filters': set<str>\n",
      "    'callers_info': struct {\n",
      "        manta: struct {\n",
      "            ABHet: float64, \n",
      "            ABHom: float64, \n",
      "            ABHetMulti: array<float64>, \n",
      "            ABHomMulti: array<float64>, \n",
      "            AC: array<int32>, \n",
      "            AF: array<float64>, \n",
      "            AN: int32, \n",
      "            CR: int32, \n",
      "            END: int32, \n",
      "            HOMSEQ: array<str>, \n",
      "            INV3: bool, \n",
      "            INV5: bool, \n",
      "            LEFT_SVINSSEQ: array<str>, \n",
      "            LOGF: float64, \n",
      "            MaxAAS: array<int32>, \n",
      "            MaxAASR: array<float64>, \n",
      "            MaxAltPP: int32, \n",
      "            MQ: int32, \n",
      "            MQsquared: int32, \n",
      "            NCLUSTERS: int32, \n",
      "            NGT: array<int32>, \n",
      "            NHet: int32, \n",
      "            NHomRef: int32, \n",
      "            NHomAlt: int32, \n",
      "            NUM_MERGED_SVS: int32, \n",
      "            OLD_VARIANT_ID: str, \n",
      "            ORSTART: int32, \n",
      "            OREND: int32, \n",
      "            QD: float64, \n",
      "            PASS_AC: array<int32>, \n",
      "            PASS_AN: int32, \n",
      "            PASS_ratio: float64, \n",
      "            PS: int32, \n",
      "            RefLen: int32, \n",
      "            RELATED_SV_ID: int32, \n",
      "            RIGHT_SVINSSEQ: array<str>, \n",
      "            SB: float64, \n",
      "            SBAlt: float64, \n",
      "            SBF: array<int32>, \n",
      "            SBF1: array<int32>, \n",
      "            SBF2: array<int32>, \n",
      "            SBR: array<int32>, \n",
      "            SBR1: array<int32>, \n",
      "            SBR2: array<int32>, \n",
      "            SEQ: str, \n",
      "            SeqDepth: int32, \n",
      "            SV_ID: int32, \n",
      "            SVINSSEQ: array<str>, \n",
      "            SVLEN: int32, \n",
      "            SVMODEL: str, \n",
      "            SVSIZE: int32, \n",
      "            SVTYPE: str, \n",
      "            VarType: str, \n",
      "            PASS_GT2_filter: str, \n",
      "            alleles: array<str>, \n",
      "            rsid: str\n",
      "        }, \n",
      "        melt: struct {\n",
      "            ASSESS: int32, \n",
      "            TSD: str, \n",
      "            INTERNAL: array<str>, \n",
      "            SVTYPE: str, \n",
      "            SVLEN: int32, \n",
      "            MEINFO: array<str>, \n",
      "            DIFF: array<str>, \n",
      "            LP: int32, \n",
      "            RP: int32, \n",
      "            RA: float64, \n",
      "            PRIOR: str, \n",
      "            SR: int32, \n",
      "            alleles: array<str>, \n",
      "            rsid: str\n",
      "        }, \n",
      "        survindel2: struct {\n",
      "            SVTYPE: str, \n",
      "            END: int32, \n",
      "            N_SAMPLES: int32, \n",
      "            N_SVS: int32, \n",
      "            GCF: float64, \n",
      "            SVSIZE: int32, \n",
      "            alleles: array<str>, \n",
      "            rsid: str\n",
      "        }, \n",
      "        SVTYPE: str, \n",
      "        SVSIZE: int32, \n",
      "        END: int32, \n",
      "        AC_CHINESE: int32, \n",
      "        AN_CHINESE: int32, \n",
      "        AF_CHINESE: float64, \n",
      "        AC_MALAY: int32, \n",
      "        AN_MALAY: int32, \n",
      "        AF_MALAY: float64, \n",
      "        AC_INDIAN: int32, \n",
      "        AN_INDIAN: int32, \n",
      "        AF_INDIAN: float64\n",
      "    }\n",
      "    'sv_id': str\n",
      "    'variant_qc': struct {\n",
      "        dp_stats: struct {\n",
      "            mean: float64, \n",
      "            stdev: float64, \n",
      "            min: float64, \n",
      "            max: float64\n",
      "        }, \n",
      "        AC: array<int32>, \n",
      "        AF: array<float64>, \n",
      "        AN: int32, \n",
      "        homozygote_count: array<int32>, \n",
      "        call_rate: float64, \n",
      "        n_called: int64, \n",
      "        n_not_called: int64, \n",
      "        n_filtered: int64, \n",
      "        n_het: int64, \n",
      "        n_non_ref: int64, \n",
      "        het_freq_hwe: float64, \n",
      "        p_value_hwe: float64, \n",
      "        p_value_excess_het: float64\n",
      "    }\n",
      "    'AF_class': str\n",
      "----------------------------------------\n",
      "Entry fields:\n",
      "    'manta': struct {\n",
      "        GT: call, \n",
      "        FT: str, \n",
      "        AD: array<int32>, \n",
      "        MD: int32, \n",
      "        DP: int32, \n",
      "        RA: array<int32>, \n",
      "        PP: int32, \n",
      "        GQ: int32, \n",
      "        PL: array<int32>\n",
      "    }\n",
      "    'melt': struct {\n",
      "        GT: call, \n",
      "        GL: array<float64>, \n",
      "        DP: int32, \n",
      "        AD: int32, \n",
      "        PL: array<int32>\n",
      "    }\n",
      "    'survindel2': struct {\n",
      "        GT: call, \n",
      "        FT: str, \n",
      "        AR: int32, \n",
      "        SR: int32, \n",
      "        RR: int32, \n",
      "        RS: int32, \n",
      "        RE: int32, \n",
      "        CN: int32, \n",
      "        IL: int32, \n",
      "        WR: int32, \n",
      "        DFL: int32, \n",
      "        DDL: int32, \n",
      "        DDR: int32, \n",
      "        DFR: int32, \n",
      "        CID: int32, \n",
      "        OW: int32, \n",
      "        DHFC: float64, \n",
      "        DHBFC: float64, \n",
      "        DHFFC: float64, \n",
      "        DHSP: int32, \n",
      "        FS: str\n",
      "    }\n",
      "    'GT': call\n",
      "    'DP': int32\n",
      "    'PL': array<int32>\n",
      "----------------------------------------\n",
      "Column key: ['s']\n",
      "Row key: ['locus', 'alleles']\n",
      "----------------------------------------"
     ]
    }
   ],
   "source": [
    "mt2 = mt.annotate_rows(\n",
    "    AF_class = hl.case()\n",
    "            .when((mt.variant_qc.AF[1] < 0.001),  \"Ultra-rare\")\n",
    "            .when((mt.variant_qc.AF[1] >= 0.001) & (mt.variant_qc.AF[1] < 0.01), \"Rare\")\n",
    "            .when((mt.variant_qc.AF[1] >= 0.01), \"Common\")\n",
    "            .default(\"NA\") \n",
    ")\n",
    "mt2.describe()"
   ]
  },
  {
   "cell_type": "code",
   "execution_count": 12,
   "id": "7c5c8891-15ec-4679-86fe-5fa05c8ea11c",
   "metadata": {},
   "outputs": [
    {
     "data": {
      "application/vnd.jupyter.widget-view+json": {
       "model_id": "",
       "version_major": 2,
       "version_minor": 0
      },
      "text/plain": [
       "FloatProgress(value=0.0, bar_style='info', description='Progress:', layout=Layout(height='25px', width='50%'),…"
      ]
     },
     "metadata": {},
     "output_type": "display_data"
    },
    {
     "name": "stdout",
     "output_type": "stream",
     "text": [
      "      locus.contig  locus.position              alleles svtype     afclass\n",
      "0             chr1           54720           [C, <DUP>]    DUP      Common\n",
      "1             chr1           66534           [T, <DUP>]    DUP  Ultra-rare\n",
      "2             chr1           83963           [A, <DUP>]    DUP        Rare\n",
      "3             chr1           99061           [C, <DUP>]    DUP      Common\n",
      "4             chr1          187139  [C, <INS:ME:LINE1>]    INS  Ultra-rare\n",
      "...            ...             ...                  ...    ...         ...\n",
      "73030        chr22        50644070           [A, <DUP>]    DUP      Common\n",
      "73031        chr22        50644090           [G, <DUP>]    DUP      Common\n",
      "73032        chr22        50645312           [T, <DUP>]    DUP  Ultra-rare\n",
      "73033        chr22        50685882           [A, <DUP>]    DUP      Common\n",
      "73034        chr22        50702186           [A, <DUP>]    DUP  Ultra-rare\n",
      "\n",
      "[73035 rows x 5 columns]"
     ]
    }
   ],
   "source": [
    "df = mt2.select_rows(\n",
    "    svtype = mt2.callers_info.SVTYPE,\n",
    "    afclass = mt2.AF_class,\n",
    ").rows().select('svtype', 'afclass').to_pandas()\n",
    "df"
   ]
  },
  {
   "cell_type": "code",
   "execution_count": 13,
   "id": "3436e071-57d6-4f86-a9b8-d6553b192b4f",
   "metadata": {},
   "outputs": [
    {
     "data": {
      "application/vnd.jupyter.widget-view+json": {
       "model_id": "",
       "version_major": 2,
       "version_minor": 0
      },
      "text/plain": [
       "FloatProgress(value=0.0, bar_style='info', description='Progress:', layout=Layout(height='25px', width='50%'),…"
      ]
     },
     "metadata": {},
     "output_type": "display_data"
    },
    {
     "name": "stdout",
     "output_type": "stream",
     "text": [
      "      svtype     afclass\n",
      "0        DUP      Common\n",
      "1        DUP  Ultra-rare\n",
      "2        DUP        Rare\n",
      "3        DUP      Common\n",
      "4        INS  Ultra-rare\n",
      "...      ...         ...\n",
      "73030    DUP      Common\n",
      "73031    DUP      Common\n",
      "73032    DUP  Ultra-rare\n",
      "73033    DUP      Common\n",
      "73034    DUP  Ultra-rare\n",
      "\n",
      "[73035 rows x 2 columns]"
     ]
    }
   ],
   "source": [
    "df2 = df.drop(['locus.contig', 'locus.position', 'alleles'], axis=1)\n",
    "df2"
   ]
  },
  {
   "cell_type": "code",
   "execution_count": 14,
   "id": "1b823f75-2542-4e05-8816-0d01ce1c027c",
   "metadata": {},
   "outputs": [
    {
     "data": {
      "application/vnd.jupyter.widget-view+json": {
       "model_id": "",
       "version_major": 2,
       "version_minor": 0
      },
      "text/plain": [
       "FloatProgress(value=0.0, bar_style='info', description='Progress:', layout=Layout(height='25px', width='50%'),…"
      ]
     },
     "metadata": {},
     "output_type": "display_data"
    },
    {
     "name": "stdout",
     "output_type": "stream",
     "text": [
      "  svtype     afclass  counts\n",
      "0    DEL      Common    4742\n",
      "1    DEL        Rare    1110\n",
      "2    DEL  Ultra-rare    5708\n",
      "3    DUP      Common    9329\n",
      "4    DUP        Rare    6949\n",
      "5    DUP  Ultra-rare   16186\n",
      "6    INS      Common    5205\n",
      "7    INS        Rare    3799\n",
      "8    INS  Ultra-rare   20007"
     ]
    }
   ],
   "source": [
    "counts_df2= df2.groupby(['svtype', 'afclass']).size().reset_index(name='counts')\n",
    "counts_df2"
   ]
  },
  {
   "cell_type": "code",
   "execution_count": 17,
   "id": "1f9eca5e-68e0-4c17-b850-6b94670e165b",
   "metadata": {},
   "outputs": [
    {
     "data": {
      "application/vnd.jupyter.widget-view+json": {
       "model_id": "",
       "version_major": 2,
       "version_minor": 0
      },
      "text/plain": [
       "FloatProgress(value=0.0, bar_style='info', description='Progress:', layout=Layout(height='25px', width='50%'),…"
      ]
     },
     "metadata": {},
     "output_type": "display_data"
    },
    {
     "name": "stdout",
     "output_type": "stream",
     "text": [
      "<AxesSubplot:xlabel='svtype', ylabel='counts'>"
     ]
    }
   ],
   "source": [
    "import matplotlib.pyplot as plt\n",
    "import seaborn as sns\n",
    "\n",
    "plt.clf()\n",
    "plt.cla()\n",
    "fig = plt.figure()\n",
    "\n",
    "palette=[  '#980043' , '#df65b0' , '#d4b9da']\n",
    "#set seaborn plotting aesthetics\n",
    "\n",
    "sns.set(rc={'figure.figsize':(15,15)})\n",
    "sns.set(style='whitegrid')\n",
    "\n",
    "#create grouped bar chart\n",
    "sns.barplot(x='svtype', y='counts', hue='afclass', data=counts_df2, palette = palette) "
   ]
  },
  {
   "cell_type": "code",
   "execution_count": 18,
   "id": "d7bf7689-a8a7-4ef2-9020-d664e332dfc9",
   "metadata": {},
   "outputs": [
    {
     "data": {
      "application/vnd.jupyter.widget-view+json": {
       "model_id": "",
       "version_major": 2,
       "version_minor": 0
      },
      "text/plain": [
       "FloatProgress(value=0.0, bar_style='info', description='Progress:', layout=Layout(height='25px', width='50%'),…"
      ]
     },
     "metadata": {},
     "output_type": "display_data"
    },
    {
     "data": {
      "image/png": "[encoded data removed]",
      "text/plain": [
       "<IPython.core.display.Image object>"
      ]
     },
     "metadata": {},
     "output_type": "display_data"
    }
   ],
   "source": [
    "%matplot plt"
   ]
  },
  {
   "cell_type": "code",
   "execution_count": 19,
   "id": "1f8c95dd-59c0-4331-937e-516c278a1131",
   "metadata": {},
   "outputs": [
    {
     "data": {
      "application/vnd.jupyter.widget-view+json": {
       "model_id": "",
       "version_major": 2,
       "version_minor": 0
      },
      "text/plain": [
       "FloatProgress(value=0.0, bar_style='info', description='Progress:', layout=Layout(height='25px', width='50%'),…"
      ]
     },
     "metadata": {},
     "output_type": "display_data"
    },
    {
     "name": "stdout",
     "output_type": "stream",
     "text": [
     ]
    }
   ],
   "source": [
    "save_fig_to_s3(plt, \"Figures\", \"Figure2/Fig2c_AFcounts_byAFclass_whitegrid.svg\")"
   ]
  },
  {
   "cell_type": "code",
   "execution_count": null,
   "id": "f33e8804-1497-4518-b6b9-0dd25c4e7a63",
   "metadata": {},
   "outputs": [],
   "source": []
  }
 ],
 "metadata": {
  "kernelspec": {
   "display_name": "PySpark",
   "language": "python",
   "name": "pysparkkernel"
  },
  "language_info": {
   "codemirror_mode": {
    "name": "python",
    "version": 3
   },
   "file_extension": ".py",
   "mimetype": "text/x-python",
   "name": "pyspark",
   "pygments_lexer": "python3"
  }
 },
 "nbformat": 4,
 "nbformat_minor": 5
}
